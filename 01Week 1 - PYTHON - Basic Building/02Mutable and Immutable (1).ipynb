{
 "cells": [
  {
   "cell_type": "code",
   "execution_count": 1,
   "id": "fccd0ab1-453d-4260-b5c8-dcf2fe2235ef",
   "metadata": {},
   "outputs": [],
   "source": [
    "a = 'narayan'"
   ]
  },
  {
   "cell_type": "code",
   "execution_count": 2,
   "id": "c2e2a16b-3493-4c4a-abf2-db8521c8e359",
   "metadata": {},
   "outputs": [],
   "source": [
    "a1 = 'hari narayana'"
   ]
  },
  {
   "cell_type": "code",
   "execution_count": 3,
   "id": "af71faec-d0be-4232-a420-3e3657c5b64f",
   "metadata": {},
   "outputs": [
    {
     "data": {
      "text/plain": [
       "str"
      ]
     },
     "execution_count": 3,
     "metadata": {},
     "output_type": "execute_result"
    }
   ],
   "source": [
    "type(a)"
   ]
  },
  {
   "cell_type": "code",
   "execution_count": 5,
   "id": "110489e8-fd78-4626-9d0a-8d6c6c7915b0",
   "metadata": {},
   "outputs": [
    {
     "data": {
      "text/plain": [
       "str"
      ]
     },
     "execution_count": 5,
     "metadata": {},
     "output_type": "execute_result"
    }
   ],
   "source": [
    "type(a1)"
   ]
  },
  {
   "cell_type": "code",
   "execution_count": 6,
   "id": "eda606ba-fbb3-45f6-8bca-92d417a73b2c",
   "metadata": {},
   "outputs": [],
   "source": [
    "l = [1,2,3,4, 4 + 5, 3 + 6j, 'jay shree hari vishnu' ]"
   ]
  },
  {
   "cell_type": "code",
   "execution_count": 7,
   "id": "3c206edb-9cc7-4de5-b665-159e77cef86a",
   "metadata": {},
   "outputs": [
    {
     "data": {
      "text/plain": [
       "[1, 2, 3, 4, 9, (3+6j), 'jay shree hari vishnu']"
      ]
     },
     "execution_count": 7,
     "metadata": {},
     "output_type": "execute_result"
    }
   ],
   "source": [
    "l"
   ]
  },
  {
   "cell_type": "code",
   "execution_count": 9,
   "id": "9c24331b-2e1d-453a-8c8d-fa62d607d6d8",
   "metadata": {},
   "outputs": [
    {
     "data": {
      "text/plain": [
       "list"
      ]
     },
     "execution_count": 9,
     "metadata": {},
     "output_type": "execute_result"
    }
   ],
   "source": [
    "type(l)"
   ]
  },
  {
   "cell_type": "code",
   "execution_count": 10,
   "id": "6b734207-e80d-4dd2-aed0-e9271af925bb",
   "metadata": {},
   "outputs": [
    {
     "data": {
      "text/plain": [
       "'narayan'"
      ]
     },
     "execution_count": 10,
     "metadata": {},
     "output_type": "execute_result"
    }
   ],
   "source": [
    "a"
   ]
  },
  {
   "cell_type": "code",
   "execution_count": 11,
   "id": "55f19aba-a95c-4817-a33b-6a8dd1474418",
   "metadata": {},
   "outputs": [
    {
     "data": {
      "text/plain": [
       "'n'"
      ]
     },
     "execution_count": 11,
     "metadata": {},
     "output_type": "execute_result"
    }
   ],
   "source": [
    "a[0]"
   ]
  },
  {
   "cell_type": "code",
   "execution_count": 12,
   "id": "eef8b788-7e63-4f6c-b430-0fd0f97acb39",
   "metadata": {},
   "outputs": [
    {
     "data": {
      "text/plain": [
       "'a'"
      ]
     },
     "execution_count": 12,
     "metadata": {},
     "output_type": "execute_result"
    }
   ],
   "source": [
    "a[3]"
   ]
  },
  {
   "cell_type": "code",
   "execution_count": 13,
   "id": "aaed11df-0c88-4ecb-8b86-128d1b0cab9e",
   "metadata": {},
   "outputs": [
    {
     "data": {
      "text/plain": [
       "'y'"
      ]
     },
     "execution_count": 13,
     "metadata": {},
     "output_type": "execute_result"
    }
   ],
   "source": [
    "a[-3]"
   ]
  },
  {
   "cell_type": "code",
   "execution_count": 14,
   "id": "33773bab-5b3f-4747-b2eb-7b8a278117c1",
   "metadata": {},
   "outputs": [
    {
     "data": {
      "text/plain": [
       "[1, 2, 3, 4, 9, (3+6j), 'jay shree hari vishnu']"
      ]
     },
     "execution_count": 14,
     "metadata": {},
     "output_type": "execute_result"
    }
   ],
   "source": [
    "l"
   ]
  },
  {
   "cell_type": "code",
   "execution_count": 15,
   "id": "463ed198-dff6-4f4a-b64c-dc595eb6c26d",
   "metadata": {},
   "outputs": [
    {
     "data": {
      "text/plain": [
       "1"
      ]
     },
     "execution_count": 15,
     "metadata": {},
     "output_type": "execute_result"
    }
   ],
   "source": [
    "l[0]"
   ]
  },
  {
   "cell_type": "code",
   "execution_count": 16,
   "id": "552b7e6a-2d05-422e-ae48-aafd39d29bb7",
   "metadata": {},
   "outputs": [
    {
     "data": {
      "text/plain": [
       "(3+6j)"
      ]
     },
     "execution_count": 16,
     "metadata": {},
     "output_type": "execute_result"
    }
   ],
   "source": [
    "l[5]"
   ]
  },
  {
   "cell_type": "code",
   "execution_count": 18,
   "id": "0a2156e6-1652-4338-b4bd-87d334891b70",
   "metadata": {},
   "outputs": [
    {
     "data": {
      "text/plain": [
       "'jay shree hari vishnu'"
      ]
     },
     "execution_count": 18,
     "metadata": {},
     "output_type": "execute_result"
    }
   ],
   "source": [
    "l[6]"
   ]
  },
  {
   "cell_type": "code",
   "execution_count": 19,
   "id": "e419a73f-2d77-42a2-ba70-124769e0527d",
   "metadata": {},
   "outputs": [
    {
     "data": {
      "text/plain": [
       "4"
      ]
     },
     "execution_count": 19,
     "metadata": {},
     "output_type": "execute_result"
    }
   ],
   "source": [
    "l[3]"
   ]
  },
  {
   "cell_type": "code",
   "execution_count": 22,
   "id": "57c90a11-e12e-4f63-af88-780cfb2a6a2b",
   "metadata": {},
   "outputs": [],
   "source": [
    "l[3] = 'jay bajrang bali'"
   ]
  },
  {
   "cell_type": "code",
   "execution_count": 23,
   "id": "3d4a87ae-d959-437f-b897-f85cad9b0480",
   "metadata": {},
   "outputs": [
    {
     "data": {
      "text/plain": [
       "[1, 2, 3, 'jay bajrang bali', 9, (3+6j), 'jay shree hari vishnu']"
      ]
     },
     "execution_count": 23,
     "metadata": {},
     "output_type": "execute_result"
    }
   ],
   "source": [
    "l"
   ]
  },
  {
   "cell_type": "code",
   "execution_count": 24,
   "id": "8cc070e1-9183-4212-ad24-3f4948bc8ec1",
   "metadata": {},
   "outputs": [
    {
     "data": {
      "text/plain": [
       "'narayan'"
      ]
     },
     "execution_count": 24,
     "metadata": {},
     "output_type": "execute_result"
    }
   ],
   "source": [
    "a"
   ]
  },
  {
   "cell_type": "code",
   "execution_count": 25,
   "id": "a5fcdf38-8e3c-4184-bb09-2be54a953cbb",
   "metadata": {},
   "outputs": [
    {
     "ename": "TypeError",
     "evalue": "'str' object does not support item assignment",
     "output_type": "error",
     "traceback": [
      "\u001b[0;31m---------------------------------------------------------------------------\u001b[0m",
      "\u001b[0;31mTypeError\u001b[0m                                 Traceback (most recent call last)",
      "Cell \u001b[0;32mIn[25], line 1\u001b[0m\n\u001b[0;32m----> 1\u001b[0m \u001b[43ma\u001b[49m\u001b[43m[\u001b[49m\u001b[38;5;241;43m0\u001b[39;49m\u001b[43m]\u001b[49m \u001b[38;5;241m=\u001b[39m \u001b[38;5;124m'\u001b[39m\u001b[38;5;124mu\u001b[39m\u001b[38;5;124m'\u001b[39m\n",
      "\u001b[0;31mTypeError\u001b[0m: 'str' object does not support item assignment"
     ]
    }
   ],
   "source": [
    "a[0] = 'u'"
   ]
  },
  {
   "cell_type": "code",
   "execution_count": null,
   "id": "2205a786-95c2-4efe-812a-8caa0cce764c",
   "metadata": {},
   "outputs": [],
   "source": []
  }
 ],
 "metadata": {
  "kernelspec": {
   "display_name": "Python 3 (ipykernel)",
   "language": "python",
   "name": "python3"
  },
  "language_info": {
   "codemirror_mode": {
    "name": "ipython",
    "version": 3
   },
   "file_extension": ".py",
   "mimetype": "text/x-python",
   "name": "python",
   "nbconvert_exporter": "python",
   "pygments_lexer": "ipython3",
   "version": "3.10.8"
  }
 },
 "nbformat": 4,
 "nbformat_minor": 5
}
