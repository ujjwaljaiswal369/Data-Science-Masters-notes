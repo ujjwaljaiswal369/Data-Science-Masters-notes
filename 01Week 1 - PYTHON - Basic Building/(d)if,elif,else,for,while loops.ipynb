{
 "cells": [
  {
   "cell_type": "code",
   "execution_count": 1,
   "id": "a9f95219-516c-4311-9aab-08d6ef19d222",
   "metadata": {},
   "outputs": [],
   "source": [
    "a = 10"
   ]
  },
  {
   "cell_type": "code",
   "execution_count": 2,
   "id": "d1a109e6-8182-4c8f-a3bd-45285f40ec51",
   "metadata": {},
   "outputs": [],
   "source": [
    "if a > 10:\n",
    "    print('a is greater than 10')"
   ]
  },
  {
   "cell_type": "code",
   "execution_count": 3,
   "id": "c77d44a0-9c65-4df9-b31b-60e116899b72",
   "metadata": {},
   "outputs": [
    {
     "data": {
      "text/plain": [
       "False"
      ]
     },
     "execution_count": 3,
     "metadata": {},
     "output_type": "execute_result"
    }
   ],
   "source": [
    "a > 10"
   ]
  },
  {
   "cell_type": "code",
   "execution_count": 5,
   "id": "9f442d26-a0c1-4fb2-a448-9c9124bc693d",
   "metadata": {},
   "outputs": [],
   "source": [
    "a = 10"
   ]
  },
  {
   "cell_type": "code",
   "execution_count": 6,
   "id": "fd21df97-3501-460f-94b2-fe9ba3c76a24",
   "metadata": {},
   "outputs": [
    {
     "name": "stdout",
     "output_type": "stream",
     "text": [
      "yes a is greater than 10\n"
     ]
    }
   ],
   "source": [
    "if a >= 10:\n",
    "    print('yes a is greater than 10')"
   ]
  },
  {
   "cell_type": "code",
   "execution_count": 7,
   "id": "f712fea6-2ccd-431f-8029-ce6ba03697ba",
   "metadata": {},
   "outputs": [
    {
     "data": {
      "text/plain": [
       "True"
      ]
     },
     "execution_count": 7,
     "metadata": {},
     "output_type": "execute_result"
    }
   ],
   "source": [
    "a >= 10"
   ]
  },
  {
   "cell_type": "code",
   "execution_count": 8,
   "id": "c645d0c4-6d33-432c-a0b8-255780e43675",
   "metadata": {},
   "outputs": [],
   "source": [
    "b = 20"
   ]
  },
  {
   "cell_type": "code",
   "execution_count": 13,
   "id": "2fdcc27a-4b60-453b-a967-8d24dbc92e6d",
   "metadata": {},
   "outputs": [
    {
     "name": "stdout",
     "output_type": "stream",
     "text": [
      "yes b is less than 40\n"
     ]
    }
   ],
   "source": [
    "if b > 30:\n",
    "    print('b is greater than 30')\n",
    "elif b < 40:\n",
    "    print('yes b is less than 40')\n",
    "else :\n",
    "    print('This is my default')"
   ]
  },
  {
   "cell_type": "code",
   "execution_count": 14,
   "id": "71ff2550-17dd-4fd7-a0e5-df66a507cf29",
   "metadata": {},
   "outputs": [
    {
     "data": {
      "text/plain": [
       "False"
      ]
     },
     "execution_count": 14,
     "metadata": {},
     "output_type": "execute_result"
    }
   ],
   "source": [
    "b > 30"
   ]
  },
  {
   "cell_type": "code",
   "execution_count": 15,
   "id": "000521d4-f84e-4780-b8d0-b72c23b61e19",
   "metadata": {},
   "outputs": [
    {
     "data": {
      "text/plain": [
       "True"
      ]
     },
     "execution_count": 15,
     "metadata": {},
     "output_type": "execute_result"
    }
   ],
   "source": [
    "b < 40"
   ]
  },
  {
   "cell_type": "code",
   "execution_count": 9,
   "id": "33d674d0-d987-41bc-a888-feda4dbc1f48",
   "metadata": {},
   "outputs": [
    {
     "name": "stdin",
     "output_type": "stream",
     "text": [
      " 23\n"
     ]
    },
    {
     "name": "stdout",
     "output_type": "stream",
     "text": [
      "yes b is less than 40\n"
     ]
    }
   ],
   "source": [
    "b = int(input())\n",
    "if b > 30:\n",
    "    print('b is greater than 30')\n",
    "elif b < 40:\n",
    "    print('yes b is less than 40')\n",
    "else :\n",
    "    print('This is my default')"
   ]
  },
  {
   "cell_type": "code",
   "execution_count": 4,
   "id": "03961e12-8c51-4e6a-8065-92944db83565",
   "metadata": {},
   "outputs": [
    {
     "data": {
      "text/plain": [
       "int"
      ]
     },
     "execution_count": 4,
     "metadata": {},
     "output_type": "execute_result"
    }
   ],
   "source": [
    "type(b)"
   ]
  },
  {
   "cell_type": "code",
   "execution_count": 5,
   "id": "79a0fc6c-66ec-4ad4-a3d6-67caeeecac80",
   "metadata": {},
   "outputs": [
    {
     "data": {
      "text/plain": [
       "369"
      ]
     },
     "execution_count": 5,
     "metadata": {},
     "output_type": "execute_result"
    }
   ],
   "source": [
    "b"
   ]
  },
  {
   "cell_type": "code",
   "execution_count": 15,
   "id": "285e2af5-95d9-4551-8a43-f8d22e87bdd1",
   "metadata": {},
   "outputs": [],
   "source": [
    "#while loop"
   ]
  },
  {
   "cell_type": "code",
   "execution_count": 12,
   "id": "cbc8f179-b2fb-4be0-bdd4-cf0279a99856",
   "metadata": {},
   "outputs": [
    {
     "name": "stdout",
     "output_type": "stream",
     "text": [
      "1\n",
      "2\n",
      "3\n"
     ]
    }
   ],
   "source": [
    "n = 4\n",
    "i = 1\n",
    "while i < n :\n",
    "    print(i)\n",
    "    i = i + 1"
   ]
  },
  {
   "cell_type": "code",
   "execution_count": 13,
   "id": "2188903b-52d4-4afd-a3f1-ee05ec301e11",
   "metadata": {},
   "outputs": [
    {
     "name": "stdout",
     "output_type": "stream",
     "text": [
      "1\n",
      "2\n",
      "3\n",
      "this is my else \n"
     ]
    }
   ],
   "source": [
    "n = 4\n",
    "i = 1\n",
    "while i < n :\n",
    "    print(i)\n",
    "    i = i + 1\n",
    "else : \n",
    "    print('this is my else ')"
   ]
  },
  {
   "cell_type": "code",
   "execution_count": 14,
   "id": "6060fc1f-2037-4734-923e-04d9b51e828a",
   "metadata": {},
   "outputs": [
    {
     "name": "stdout",
     "output_type": "stream",
     "text": [
      "1\n",
      "2\n"
     ]
    }
   ],
   "source": [
    "n = 4\n",
    "i = 1\n",
    "while i < n :\n",
    "    print(i)\n",
    "    i = i + 1\n",
    "    if i == 3 :\n",
    "        break\n",
    "        \n",
    "else : \n",
    "    print('this is my else ')"
   ]
  },
  {
   "cell_type": "code",
   "execution_count": 16,
   "id": "fb3b56e3-f6d2-4fd6-b6c8-a1161a236995",
   "metadata": {},
   "outputs": [],
   "source": [
    "#For loop"
   ]
  },
  {
   "cell_type": "code",
   "execution_count": 17,
   "id": "9bdf7673-0d84-4b2a-81d2-31b31e0edfec",
   "metadata": {},
   "outputs": [
    {
     "name": "stdout",
     "output_type": "stream",
     "text": [
      "u\n",
      "j\n",
      "j\n",
      "w\n",
      "a\n",
      "l\n"
     ]
    }
   ],
   "source": [
    "s = 'ujjwal'\n",
    "for i in s:\n",
    "    print(i)"
   ]
  },
  {
   "cell_type": "code",
   "execution_count": 18,
   "id": "0f4b02ad-a0b1-45f3-828b-8a8701bceb4b",
   "metadata": {},
   "outputs": [
    {
     "name": "stdout",
     "output_type": "stream",
     "text": [
      "n\n",
      "a\n",
      "r\n",
      "a\n",
      "y\n",
      "a\n",
      "n\n"
     ]
    }
   ],
   "source": [
    "s = 'narayan'\n",
    "for i in s :\n",
    "    print(i)"
   ]
  },
  {
   "cell_type": "code",
   "execution_count": 19,
   "id": "21dfaae5-19c8-474f-8314-0880de8e83c7",
   "metadata": {},
   "outputs": [],
   "source": [
    "l = [2,3,4,5,6, 'ujjwal', 'narayan', 23.485, True ]"
   ]
  },
  {
   "cell_type": "code",
   "execution_count": 20,
   "id": "e17bb296-196e-4462-9b94-c124b4395915",
   "metadata": {},
   "outputs": [
    {
     "name": "stdout",
     "output_type": "stream",
     "text": [
      "2\n",
      "3\n",
      "4\n",
      "5\n",
      "6\n",
      "ujjwal\n",
      "narayan\n",
      "23.485\n",
      "True\n"
     ]
    }
   ],
   "source": [
    "for i in l :\n",
    "    print(i)"
   ]
  },
  {
   "cell_type": "code",
   "execution_count": 21,
   "id": "c71f9e90-ec2c-42ea-a7da-b76ea277d6eb",
   "metadata": {},
   "outputs": [
    {
     "data": {
      "text/plain": [
       "[2, 3, 4, 5, 6, 'ujjwal', 'narayan', 23.485, True]"
      ]
     },
     "execution_count": 21,
     "metadata": {},
     "output_type": "execute_result"
    }
   ],
   "source": [
    "l"
   ]
  },
  {
   "cell_type": "code",
   "execution_count": 22,
   "id": "4360aa74-5cdf-4bc5-bcdd-e672b5528094",
   "metadata": {},
   "outputs": [
    {
     "name": "stdout",
     "output_type": "stream",
     "text": [
      "<class 'int'>\n",
      "<class 'int'>\n",
      "<class 'int'>\n",
      "<class 'int'>\n",
      "<class 'int'>\n",
      "<class 'str'>\n",
      "<class 'str'>\n",
      "<class 'float'>\n",
      "<class 'bool'>\n"
     ]
    }
   ],
   "source": [
    "for i in l :\n",
    "    print(type(i))"
   ]
  },
  {
   "cell_type": "code",
   "execution_count": 23,
   "id": "f6c7d4e2-a973-4fd2-933e-845e2bdd01a1",
   "metadata": {},
   "outputs": [
    {
     "name": "stdout",
     "output_type": "stream",
     "text": [
      "<class 'int'>\n",
      "<class 'int'>\n",
      "<class 'int'>\n",
      "<class 'int'>\n"
     ]
    }
   ],
   "source": [
    "for i in l :\n",
    "    if i == 6:\n",
    "        break\n",
    "    print(type(i))"
   ]
  },
  {
   "cell_type": "code",
   "execution_count": 26,
   "id": "4b8bdd61-019c-4ebc-8b6b-391e969252a0",
   "metadata": {},
   "outputs": [
    {
     "name": "stdout",
     "output_type": "stream",
     "text": [
      "<class 'int'>\n",
      "2\n",
      "<class 'int'>\n",
      "3\n",
      "<class 'int'>\n",
      "4\n",
      "<class 'int'>\n",
      "5\n",
      "<class 'int'>\n",
      "<class 'str'>\n",
      "ujjwal\n",
      "<class 'str'>\n",
      "narayan\n",
      "<class 'float'>\n",
      "23.485\n",
      "<class 'bool'>\n",
      "True\n",
      "this is result\n"
     ]
    }
   ],
   "source": [
    "for i in l :\n",
    "    print(type(i))\n",
    "    if i == 6:\n",
    "        continue\n",
    "    print(i)\n",
    "else:\n",
    "    print('this is result')"
   ]
  },
  {
   "cell_type": "code",
   "execution_count": 27,
   "id": "ca354594-d725-491d-a29f-84683b673f11",
   "metadata": {},
   "outputs": [],
   "source": [
    "#range"
   ]
  },
  {
   "cell_type": "code",
   "execution_count": 28,
   "id": "b62ca953-da6c-4977-8940-dbb0d432f5cf",
   "metadata": {},
   "outputs": [
    {
     "data": {
      "text/plain": [
       "range(0, 10)"
      ]
     },
     "execution_count": 28,
     "metadata": {},
     "output_type": "execute_result"
    }
   ],
   "source": [
    "range(10)"
   ]
  },
  {
   "cell_type": "code",
   "execution_count": 29,
   "id": "eec697c0-0ac0-4ad3-8ff1-eb35c234183a",
   "metadata": {},
   "outputs": [
    {
     "data": {
      "text/plain": [
       "[0, 1, 2, 3, 4, 5, 6, 7, 8, 9]"
      ]
     },
     "execution_count": 29,
     "metadata": {},
     "output_type": "execute_result"
    }
   ],
   "source": [
    "list(range(10))"
   ]
  },
  {
   "cell_type": "code",
   "execution_count": null,
   "id": "c51b035c-e47f-47f7-ab67-fa7cace68870",
   "metadata": {},
   "outputs": [],
   "source": []
  }
 ],
 "metadata": {
  "kernelspec": {
   "display_name": "Python 3 (ipykernel)",
   "language": "python",
   "name": "python3"
  },
  "language_info": {
   "codemirror_mode": {
    "name": "ipython",
    "version": 3
   },
   "file_extension": ".py",
   "mimetype": "text/x-python",
   "name": "python",
   "nbconvert_exporter": "python",
   "pygments_lexer": "ipython3",
   "version": "3.10.8"
  }
 },
 "nbformat": 4,
 "nbformat_minor": 5
}
