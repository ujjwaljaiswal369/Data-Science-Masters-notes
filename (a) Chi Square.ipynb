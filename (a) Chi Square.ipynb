{
 "cells": [
  {
   "cell_type": "markdown",
   "id": "7dac4f24-d76a-475d-b2a4-040a2209daf9",
   "metadata": {},
   "source": [
    "Chi Square "
   ]
  },
  {
   "cell_type": "code",
   "execution_count": 1,
   "id": "1d6b53ba-92c1-44e2-a57d-659e1900839a",
   "metadata": {},
   "outputs": [],
   "source": [
    "import scipy.stats as stat\n",
    "import numpy as np"
   ]
  },
  {
   "cell_type": "code",
   "execution_count": 2,
   "id": "2da9ac4f-d3bf-4b7d-bb7c-a14d3245fb1f",
   "metadata": {},
   "outputs": [],
   "source": [
    "# no. of hours studing by hostle\n",
    "# mon,tues,wed,thurs,fri,sat,sunday\n",
    "\n",
    "expected_value = [8,3,4,7,5,4,9]\n",
    "observed_value = [6,4,4,6,8,5,7]"
   ]
  },
  {
   "cell_type": "code",
   "execution_count": 3,
   "id": "a3d7cc74-581c-458f-a549-f705421a2efd",
   "metadata": {},
   "outputs": [
    {
     "data": {
      "text/plain": [
       "(40, 40)"
      ]
     },
     "execution_count": 3,
     "metadata": {},
     "output_type": "execute_result"
    }
   ],
   "source": [
    "sum(expected_value), sum(observed_value)"
   ]
  },
  {
   "cell_type": "code",
   "execution_count": 4,
   "id": "e2d794c8-2149-4975-8699-0875c3ecf1b2",
   "metadata": {},
   "outputs": [],
   "source": [
    "#Chi- Square Goodness of fit test\n",
    "chi_square_statistics , p_value = stat.chisquare(observed_value, expected_value)"
   ]
  },
  {
   "cell_type": "code",
   "execution_count": 5,
   "id": "5827b655-4182-428b-821c-0f9fdeb00633",
   "metadata": {},
   "outputs": [
    {
     "data": {
      "text/plain": [
       "(3.4706349206349207, 0.7478724057983751)"
      ]
     },
     "execution_count": 5,
     "metadata": {},
     "output_type": "execute_result"
    }
   ],
   "source": [
    "chi_square_statistics , p_value"
   ]
  },
  {
   "cell_type": "code",
   "execution_count": 6,
   "id": "f0728f91-cb82-4233-8e2d-d7109d80c991",
   "metadata": {},
   "outputs": [],
   "source": [
    "#find the critical test\n",
    "significance_value = 0.05\n",
    "dof = len(expected_value) - 1\n",
    "critical_value = stat.chi.ppf(1 - significance_value,dof)"
   ]
  },
  {
   "cell_type": "code",
   "execution_count": 7,
   "id": "7ba05d92-c246-49fb-9500-e3620c3a4d94",
   "metadata": {},
   "outputs": [
    {
     "data": {
      "text/plain": [
       "3.54846265920102"
      ]
     },
     "execution_count": 7,
     "metadata": {},
     "output_type": "execute_result"
    }
   ],
   "source": [
    "critical_value"
   ]
  },
  {
   "cell_type": "code",
   "execution_count": 8,
   "id": "c3b840bd-3862-40c9-9f60-2f9ff78a4e38",
   "metadata": {},
   "outputs": [
    {
     "name": "stdout",
     "output_type": "stream",
     "text": [
      "Accept the null hypothesis\n"
     ]
    }
   ],
   "source": [
    "if chi_square_statistics > critical_value :\n",
    "    print('Reject the null hypothesis')\n",
    "    \n",
    "else :\n",
    "    print('Accept the null hypothesis')"
   ]
  },
  {
   "cell_type": "code",
   "execution_count": null,
   "id": "36993248-4321-4cd2-8e37-d0b47dd84af9",
   "metadata": {},
   "outputs": [],
   "source": []
  }
 ],
 "metadata": {
  "kernelspec": {
   "display_name": "Python 3 (ipykernel)",
   "language": "python",
   "name": "python3"
  },
  "language_info": {
   "codemirror_mode": {
    "name": "ipython",
    "version": 3
   },
   "file_extension": ".py",
   "mimetype": "text/x-python",
   "name": "python",
   "nbconvert_exporter": "python",
   "pygments_lexer": "ipython3",
   "version": "3.10.8"
  }
 },
 "nbformat": 4,
 "nbformat_minor": 5
}
