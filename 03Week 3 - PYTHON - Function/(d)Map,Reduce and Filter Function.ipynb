{
 "cells": [
  {
   "cell_type": "code",
   "execution_count": 1,
   "id": "a5d65688-2cb7-4172-9227-3e772e53e224",
   "metadata": {},
   "outputs": [],
   "source": [
    "l = [2,3,4,5,6]"
   ]
  },
  {
   "cell_type": "code",
   "execution_count": 11,
   "id": "5c42972f-4dfb-4ab9-b97a-575cf70da177",
   "metadata": {},
   "outputs": [],
   "source": [
    "def test(l):\n",
    "    l1 = []\n",
    "    for i in l:\n",
    "        l1.append(i**2)\n",
    "    return l1"
   ]
  },
  {
   "cell_type": "code",
   "execution_count": 12,
   "id": "de24305b-5a90-4a5a-9cd1-290a9d4d4807",
   "metadata": {},
   "outputs": [
    {
     "data": {
      "text/plain": [
       "[4, 9, 16, 25, 36]"
      ]
     },
     "execution_count": 12,
     "metadata": {},
     "output_type": "execute_result"
    }
   ],
   "source": [
    "test(l)"
   ]
  },
  {
   "cell_type": "code",
   "execution_count": 13,
   "id": "d4a7e27b-809e-4763-849e-c9b27475e37e",
   "metadata": {},
   "outputs": [],
   "source": [
    "#Map function"
   ]
  },
  {
   "cell_type": "code",
   "execution_count": 14,
   "id": "6ffc0252-c163-45c0-a800-d9d90f6fa06a",
   "metadata": {},
   "outputs": [],
   "source": [
    "def sq(x):\n",
    "    return x**2"
   ]
  },
  {
   "cell_type": "code",
   "execution_count": 16,
   "id": "0c8ff763-0a15-4b62-aaa1-def4a5347a22",
   "metadata": {},
   "outputs": [
    {
     "data": {
      "text/plain": [
       "[4, 9, 16, 25, 36]"
      ]
     },
     "execution_count": 16,
     "metadata": {},
     "output_type": "execute_result"
    }
   ],
   "source": [
    "list(map(sq,l))"
   ]
  },
  {
   "cell_type": "code",
   "execution_count": 17,
   "id": "e6ee659e-fdbb-4acf-966f-27c9f6df991c",
   "metadata": {},
   "outputs": [],
   "source": [
    "l1 = [1,2,3,4,5,6]\n",
    "l2 = [7,8,9,0,3,6]"
   ]
  },
  {
   "cell_type": "code",
   "execution_count": 19,
   "id": "f94eeeaa-d516-42ed-a7d8-2d78adb52d2e",
   "metadata": {},
   "outputs": [
    {
     "data": {
      "text/plain": [
       "[8, 10, 12, 4, 8, 12]"
      ]
     },
     "execution_count": 19,
     "metadata": {},
     "output_type": "execute_result"
    }
   ],
   "source": [
    "list(map(lambda x,y : x+y, l1, l2))"
   ]
  },
  {
   "cell_type": "code",
   "execution_count": 20,
   "id": "44021245-1a2f-489e-8412-d2eafdf602f8",
   "metadata": {},
   "outputs": [],
   "source": [
    "def add(x,y):\n",
    "    return x+y"
   ]
  },
  {
   "cell_type": "code",
   "execution_count": 22,
   "id": "d178e9fe-7397-4f92-9494-3375bdc14065",
   "metadata": {},
   "outputs": [
    {
     "data": {
      "text/plain": [
       "[8, 10, 12, 4, 8, 12]"
      ]
     },
     "execution_count": 22,
     "metadata": {},
     "output_type": "execute_result"
    }
   ],
   "source": [
    "list(map(add, l1,l2))"
   ]
  },
  {
   "cell_type": "code",
   "execution_count": 23,
   "id": "63ea72cd-46a1-45fa-89c5-e19b641b7d52",
   "metadata": {},
   "outputs": [],
   "source": [
    "s = 'ujjwal'"
   ]
  },
  {
   "cell_type": "code",
   "execution_count": 24,
   "id": "189d72db-9dcf-4971-b1a9-13d5e36ccf5e",
   "metadata": {},
   "outputs": [
    {
     "data": {
      "text/plain": [
       "['U', 'J', 'J', 'W', 'A', 'L']"
      ]
     },
     "execution_count": 24,
     "metadata": {},
     "output_type": "execute_result"
    }
   ],
   "source": [
    "list(map(lambda s : s.upper(), s))"
   ]
  },
  {
   "cell_type": "code",
   "execution_count": 25,
   "id": "9f9da00d-c9fd-40f3-9f19-8e8bc8628c48",
   "metadata": {},
   "outputs": [],
   "source": [
    "#Reduce function"
   ]
  },
  {
   "cell_type": "code",
   "execution_count": 26,
   "id": "6f572dcf-2d05-470f-bc18-5d9c6873d28c",
   "metadata": {},
   "outputs": [],
   "source": [
    "from functools import reduce"
   ]
  },
  {
   "cell_type": "code",
   "execution_count": 27,
   "id": "7814a7e0-c806-47eb-8473-3a501e7ea6e8",
   "metadata": {},
   "outputs": [],
   "source": [
    "l = [1,2,3,3,4,5]"
   ]
  },
  {
   "cell_type": "code",
   "execution_count": 28,
   "id": "46aac4bf-9e96-4790-b6cb-28c0d50b9997",
   "metadata": {},
   "outputs": [
    {
     "data": {
      "text/plain": [
       "18"
      ]
     },
     "execution_count": 28,
     "metadata": {},
     "output_type": "execute_result"
    }
   ],
   "source": [
    "reduce(lambda x, y : x + y, l)"
   ]
  },
  {
   "cell_type": "code",
   "execution_count": 29,
   "id": "54e30273-82b2-416a-aeef-9ff9fe47c345",
   "metadata": {},
   "outputs": [
    {
     "ename": "TypeError",
     "evalue": "<lambda>() missing 1 required positional argument: 'z'",
     "output_type": "error",
     "traceback": [
      "\u001b[0;31m---------------------------------------------------------------------------\u001b[0m",
      "\u001b[0;31mTypeError\u001b[0m                                 Traceback (most recent call last)",
      "Cell \u001b[0;32mIn[29], line 1\u001b[0m\n\u001b[0;32m----> 1\u001b[0m \u001b[43mreduce\u001b[49m\u001b[43m(\u001b[49m\u001b[38;5;28;43;01mlambda\u001b[39;49;00m\u001b[43m \u001b[49m\u001b[43mx\u001b[49m\u001b[43m,\u001b[49m\u001b[43m \u001b[49m\u001b[43my\u001b[49m\u001b[43m,\u001b[49m\u001b[43m \u001b[49m\u001b[43mz\u001b[49m\u001b[43m \u001b[49m\u001b[43m:\u001b[49m\u001b[43m \u001b[49m\u001b[43mx\u001b[49m\u001b[43m \u001b[49m\u001b[38;5;241;43m+\u001b[39;49m\u001b[43m \u001b[49m\u001b[43my\u001b[49m\u001b[43m \u001b[49m\u001b[38;5;241;43m+\u001b[39;49m\u001b[43mz\u001b[49m\u001b[43m,\u001b[49m\u001b[43m \u001b[49m\u001b[43ml\u001b[49m\u001b[43m)\u001b[49m\n",
      "\u001b[0;31mTypeError\u001b[0m: <lambda>() missing 1 required positional argument: 'z'"
     ]
    }
   ],
   "source": [
    "reduce(lambda x, y, z : x + y +z, l)"
   ]
  },
  {
   "cell_type": "code",
   "execution_count": 31,
   "id": "b0d06a29-e497-42e8-8373-e63f1b340141",
   "metadata": {},
   "outputs": [
    {
     "ename": "TypeError",
     "evalue": "reduce() of empty iterable with no initial value",
     "output_type": "error",
     "traceback": [
      "\u001b[0;31m---------------------------------------------------------------------------\u001b[0m",
      "\u001b[0;31mTypeError\u001b[0m                                 Traceback (most recent call last)",
      "Cell \u001b[0;32mIn[31], line 1\u001b[0m\n\u001b[0;32m----> 1\u001b[0m \u001b[43mreduce\u001b[49m\u001b[43m(\u001b[49m\u001b[38;5;28;43;01mlambda\u001b[39;49;00m\u001b[43m \u001b[49m\u001b[43mx\u001b[49m\u001b[43m,\u001b[49m\u001b[43m \u001b[49m\u001b[43my\u001b[49m\u001b[43m \u001b[49m\u001b[43m:\u001b[49m\u001b[43m \u001b[49m\u001b[43mx\u001b[49m\u001b[43m \u001b[49m\u001b[38;5;241;43m+\u001b[39;49m\u001b[43m \u001b[49m\u001b[43my\u001b[49m\u001b[43m,\u001b[49m\u001b[43m \u001b[49m\u001b[43m[\u001b[49m\u001b[43m]\u001b[49m\u001b[43m)\u001b[49m\n",
      "\u001b[0;31mTypeError\u001b[0m: reduce() of empty iterable with no initial value"
     ]
    }
   ],
   "source": [
    "reduce(lambda x, y : x + y, [])"
   ]
  },
  {
   "cell_type": "code",
   "execution_count": 33,
   "id": "2f3e8023-3d8c-4cb7-a9e5-9994dbb96987",
   "metadata": {},
   "outputs": [
    {
     "data": {
      "text/plain": [
       "1"
      ]
     },
     "execution_count": 33,
     "metadata": {},
     "output_type": "execute_result"
    }
   ],
   "source": [
    "reduce(lambda x, y : x + y, [1])"
   ]
  },
  {
   "cell_type": "code",
   "execution_count": 34,
   "id": "56e71eee-0307-411e-b7a3-8f39f854b683",
   "metadata": {},
   "outputs": [
    {
     "data": {
      "text/plain": [
       "360"
      ]
     },
     "execution_count": 34,
     "metadata": {},
     "output_type": "execute_result"
    }
   ],
   "source": [
    "reduce(lambda x, y : x * y, l)"
   ]
  },
  {
   "cell_type": "code",
   "execution_count": 35,
   "id": "b88f0a5a-9ab8-4a6e-b19c-6431b583170a",
   "metadata": {},
   "outputs": [
    {
     "data": {
      "text/plain": [
       "[1, 2, 3, 3, 4, 5]"
      ]
     },
     "execution_count": 35,
     "metadata": {},
     "output_type": "execute_result"
    }
   ],
   "source": [
    "l"
   ]
  },
  {
   "cell_type": "code",
   "execution_count": 36,
   "id": "2641e47c-adb4-424b-8599-7dd64d3d4749",
   "metadata": {},
   "outputs": [
    {
     "data": {
      "text/plain": [
       "5"
      ]
     },
     "execution_count": 36,
     "metadata": {},
     "output_type": "execute_result"
    }
   ],
   "source": [
    "reduce(lambda x,y : x if x> y else y, l)"
   ]
  },
  {
   "cell_type": "code",
   "execution_count": 37,
   "id": "32a9774b-8e62-4b29-a3c5-66cb840c94bd",
   "metadata": {},
   "outputs": [],
   "source": [
    "#Filter finction"
   ]
  },
  {
   "cell_type": "code",
   "execution_count": 38,
   "id": "72dd15ce-8710-4805-93b2-c507cbcc3d4c",
   "metadata": {},
   "outputs": [
    {
     "data": {
      "text/plain": [
       "[1, 2, 3, 3, 4, 5]"
      ]
     },
     "execution_count": 38,
     "metadata": {},
     "output_type": "execute_result"
    }
   ],
   "source": [
    "l"
   ]
  },
  {
   "cell_type": "code",
   "execution_count": 39,
   "id": "22cf381c-5162-4c54-b2bf-6b1e363d04f2",
   "metadata": {},
   "outputs": [
    {
     "data": {
      "text/plain": [
       "[2, 4]"
      ]
     },
     "execution_count": 39,
     "metadata": {},
     "output_type": "execute_result"
    }
   ],
   "source": [
    "list(filter(lambda x : x%2 == 0, l))"
   ]
  },
  {
   "cell_type": "code",
   "execution_count": 40,
   "id": "0d395bcd-4651-4f00-bdc4-e0cfb3a6d324",
   "metadata": {},
   "outputs": [
    {
     "data": {
      "text/plain": [
       "[1, 3, 3, 5]"
      ]
     },
     "execution_count": 40,
     "metadata": {},
     "output_type": "execute_result"
    }
   ],
   "source": [
    "list(filter(lambda x : x % 2 != 0, l))"
   ]
  },
  {
   "cell_type": "code",
   "execution_count": 41,
   "id": "24443d35-e8b1-4698-81fd-d7defb19b155",
   "metadata": {},
   "outputs": [],
   "source": [
    "l1 = [-3, -4, 56, 7, -1, -2]"
   ]
  },
  {
   "cell_type": "code",
   "execution_count": 42,
   "id": "0144c932-ea9e-4386-a49e-21062cdcde3c",
   "metadata": {},
   "outputs": [
    {
     "data": {
      "text/plain": [
       "[-3, -4, -1, -2]"
      ]
     },
     "execution_count": 42,
     "metadata": {},
     "output_type": "execute_result"
    }
   ],
   "source": [
    "list(filter(lambda x : x < 0, l1))"
   ]
  },
  {
   "cell_type": "code",
   "execution_count": 44,
   "id": "e03c9ca8-207b-40f6-b21e-95ed8bc512e2",
   "metadata": {},
   "outputs": [
    {
     "data": {
      "text/plain": [
       "[56, 7]"
      ]
     },
     "execution_count": 44,
     "metadata": {},
     "output_type": "execute_result"
    }
   ],
   "source": [
    "list(filter(lambda x : x > 0 , l1))"
   ]
  },
  {
   "cell_type": "code",
   "execution_count": 45,
   "id": "42d3d8ee-23f7-4208-b5fc-f851f95c9783",
   "metadata": {},
   "outputs": [],
   "source": [
    "l2 = ['ujjwal', 'hari narayan', 'jai shree ram', 'hanuman', 'ujju', 'krishna']"
   ]
  },
  {
   "cell_type": "code",
   "execution_count": 46,
   "id": "3d3532ad-6242-4b2e-a46b-2d23295743f6",
   "metadata": {},
   "outputs": [
    {
     "data": {
      "text/plain": [
       "['ujjwal', 'hanuman', 'ujju', 'krishna']"
      ]
     },
     "execution_count": 46,
     "metadata": {},
     "output_type": "execute_result"
    }
   ],
   "source": [
    "list(filter(lambda x : len(x) < 8, l2))"
   ]
  },
  {
   "cell_type": "code",
   "execution_count": 47,
   "id": "21f8396c-8093-4621-b969-6065351f7c52",
   "metadata": {},
   "outputs": [
    {
     "data": {
      "text/plain": [
       "['ujjwal', 'hari narayan', 'jai shree ram', 'hanuman', 'krishna']"
      ]
     },
     "execution_count": 47,
     "metadata": {},
     "output_type": "execute_result"
    }
   ],
   "source": [
    "list(filter(lambda x : len(x) > 4, l2))"
   ]
  },
  {
   "cell_type": "code",
   "execution_count": null,
   "id": "e785f794-0afd-42ff-bab0-024f0a55afbd",
   "metadata": {},
   "outputs": [],
   "source": []
  }
 ],
 "metadata": {
  "kernelspec": {
   "display_name": "Python 3 (ipykernel)",
   "language": "python",
   "name": "python3"
  },
  "language_info": {
   "codemirror_mode": {
    "name": "ipython",
    "version": 3
   },
   "file_extension": ".py",
   "mimetype": "text/x-python",
   "name": "python",
   "nbconvert_exporter": "python",
   "pygments_lexer": "ipython3",
   "version": "3.10.8"
  }
 },
 "nbformat": 4,
 "nbformat_minor": 5
}
