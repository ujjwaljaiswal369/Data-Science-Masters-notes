{
 "cells": [
  {
   "cell_type": "code",
   "execution_count": 1,
   "id": "697b4933-fe3c-4c5b-ac7b-66df60ae3bf1",
   "metadata": {},
   "outputs": [
    {
     "name": "stdout",
     "output_type": "stream",
     "text": [
      "Hare Krishna Hare Rama\n"
     ]
    }
   ],
   "source": [
    "print('Hare Krishna Hare Rama')"
   ]
  },
  {
   "cell_type": "code",
   "execution_count": 2,
   "id": "b9234b17-918e-457d-aa43-8d3ea3109dff",
   "metadata": {},
   "outputs": [
    {
     "name": "stdout",
     "output_type": "stream",
     "text": [
      "\n"
     ]
    },
    {
     "data": {
      "text/plain": [
       "NoneType"
      ]
     },
     "execution_count": 2,
     "metadata": {},
     "output_type": "execute_result"
    }
   ],
   "source": [
    "type(print())"
   ]
  },
  {
   "cell_type": "code",
   "execution_count": 3,
   "id": "ae24f71f-311b-4eb1-a03f-a60a6293c710",
   "metadata": {},
   "outputs": [],
   "source": [
    "def test():\n",
    "    pass"
   ]
  },
  {
   "cell_type": "code",
   "execution_count": 4,
   "id": "83645fcc-0feb-474b-9af4-f61bc367d7f2",
   "metadata": {},
   "outputs": [],
   "source": [
    "def test1():\n",
    "    print('Hare krishna, hare rama')"
   ]
  },
  {
   "cell_type": "code",
   "execution_count": 5,
   "id": "6b5c7529-cf2f-4abd-bd91-746a78a78d64",
   "metadata": {},
   "outputs": [
    {
     "name": "stdout",
     "output_type": "stream",
     "text": [
      "Hare krishna, hare rama\n"
     ]
    }
   ],
   "source": [
    "test1()"
   ]
  },
  {
   "cell_type": "code",
   "execution_count": 6,
   "id": "35820a64-f958-4756-aeb9-071cbb27870b",
   "metadata": {},
   "outputs": [
    {
     "name": "stdout",
     "output_type": "stream",
     "text": [
      "Hare krishna, hare rama\n"
     ]
    },
    {
     "ename": "TypeError",
     "evalue": "unsupported operand type(s) for +: 'NoneType' and 'str'",
     "output_type": "error",
     "traceback": [
      "\u001b[0;31m---------------------------------------------------------------------------\u001b[0m",
      "\u001b[0;31mTypeError\u001b[0m                                 Traceback (most recent call last)",
      "Cell \u001b[0;32mIn[6], line 1\u001b[0m\n\u001b[0;32m----> 1\u001b[0m \u001b[43mtest1\u001b[49m\u001b[43m(\u001b[49m\u001b[43m)\u001b[49m\u001b[43m \u001b[49m\u001b[38;5;241;43m+\u001b[39;49m\u001b[43m \u001b[49m\u001b[38;5;124;43m'\u001b[39;49m\u001b[38;5;124;43mujjwal\u001b[39;49m\u001b[38;5;124;43m'\u001b[39;49m\n",
      "\u001b[0;31mTypeError\u001b[0m: unsupported operand type(s) for +: 'NoneType' and 'str'"
     ]
    }
   ],
   "source": [
    "test1() + 'ujjwal'"
   ]
  },
  {
   "cell_type": "code",
   "execution_count": 7,
   "id": "5d238c93-529d-4ba8-92af-1b3cdae2606e",
   "metadata": {},
   "outputs": [
    {
     "name": "stdout",
     "output_type": "stream",
     "text": [
      "Hare krishna, hare rama\n"
     ]
    },
    {
     "data": {
      "text/plain": [
       "'Noneujjwal'"
      ]
     },
     "execution_count": 7,
     "metadata": {},
     "output_type": "execute_result"
    }
   ],
   "source": [
    "str(test1()) + 'ujjwal'"
   ]
  },
  {
   "cell_type": "code",
   "execution_count": null,
   "id": "89308f9b-f964-4506-b06f-6e5f5111f3de",
   "metadata": {},
   "outputs": [],
   "source": []
  },
  {
   "cell_type": "code",
   "execution_count": 8,
   "id": "86bf9b7c-06c4-4938-9df7-7399b2cb133e",
   "metadata": {},
   "outputs": [],
   "source": [
    "def test2():\n",
    "    return 'Hare krishna, Hare Rama'"
   ]
  },
  {
   "cell_type": "code",
   "execution_count": 13,
   "id": "ec17515b-e7e6-43aa-971e-75d39db1f41c",
   "metadata": {},
   "outputs": [
    {
     "data": {
      "text/plain": [
       "'Hare krishna, Hare Rama, ujjwal'"
      ]
     },
     "execution_count": 13,
     "metadata": {},
     "output_type": "execute_result"
    }
   ],
   "source": [
    "test2() + ', ujjwal'"
   ]
  },
  {
   "cell_type": "code",
   "execution_count": 7,
   "id": "280d9374-69bf-4af9-bb55-0b7a0e5b8fda",
   "metadata": {},
   "outputs": [],
   "source": [
    "def test3():\n",
    "    return 45.32, 'ram ji', True, [1,2,3,4]"
   ]
  },
  {
   "cell_type": "code",
   "execution_count": 8,
   "id": "7de35401-facf-44e9-b00f-2974363797b3",
   "metadata": {},
   "outputs": [
    {
     "data": {
      "text/plain": [
       "(45.32, 'ram ji', True, [1, 2, 3, 4])"
      ]
     },
     "execution_count": 8,
     "metadata": {},
     "output_type": "execute_result"
    }
   ],
   "source": [
    "test3()"
   ]
  },
  {
   "cell_type": "code",
   "execution_count": 9,
   "id": "61a260e9-4626-4cef-948d-bd1cd522ee5d",
   "metadata": {},
   "outputs": [],
   "source": [
    "a,b,c,d = test3()"
   ]
  },
  {
   "cell_type": "code",
   "execution_count": 10,
   "id": "4dbbfc82-290f-47cf-9cb1-98965a1c8da4",
   "metadata": {},
   "outputs": [
    {
     "data": {
      "text/plain": [
       "45.32"
      ]
     },
     "execution_count": 10,
     "metadata": {},
     "output_type": "execute_result"
    }
   ],
   "source": [
    "a"
   ]
  },
  {
   "cell_type": "code",
   "execution_count": 11,
   "id": "ef96ca61-c54f-4300-ab16-2784fcde23cc",
   "metadata": {},
   "outputs": [
    {
     "data": {
      "text/plain": [
       "'ram ji'"
      ]
     },
     "execution_count": 11,
     "metadata": {},
     "output_type": "execute_result"
    }
   ],
   "source": [
    "b"
   ]
  },
  {
   "cell_type": "code",
   "execution_count": 12,
   "id": "762229aa-7871-45ed-acba-291ee7df7f0b",
   "metadata": {},
   "outputs": [
    {
     "data": {
      "text/plain": [
       "True"
      ]
     },
     "execution_count": 12,
     "metadata": {},
     "output_type": "execute_result"
    }
   ],
   "source": [
    "c"
   ]
  },
  {
   "cell_type": "code",
   "execution_count": 13,
   "id": "50dbe140-044e-4802-b180-f4a582c66139",
   "metadata": {},
   "outputs": [
    {
     "data": {
      "text/plain": [
       "[1, 2, 3, 4]"
      ]
     },
     "execution_count": 13,
     "metadata": {},
     "output_type": "execute_result"
    }
   ],
   "source": [
    "d"
   ]
  },
  {
   "cell_type": "code",
   "execution_count": 14,
   "id": "922f547f-9721-44b3-b05d-e94c7d563e62",
   "metadata": {},
   "outputs": [],
   "source": [
    "a = 1\n",
    "b = 2"
   ]
  },
  {
   "cell_type": "code",
   "execution_count": 15,
   "id": "a4abe02a-3332-4175-8c60-815418c9970f",
   "metadata": {},
   "outputs": [
    {
     "data": {
      "text/plain": [
       "(1, 2)"
      ]
     },
     "execution_count": 15,
     "metadata": {},
     "output_type": "execute_result"
    }
   ],
   "source": [
    "a,b"
   ]
  },
  {
   "cell_type": "code",
   "execution_count": 1,
   "id": "0748639f-7b97-4e76-b6b1-10033a17122c",
   "metadata": {},
   "outputs": [],
   "source": [
    "def test4():\n",
    "    a = 5+7/3\n",
    "    return a"
   ]
  },
  {
   "cell_type": "code",
   "execution_count": 2,
   "id": "e83ea916-6349-4e3d-81fb-ea333057f12a",
   "metadata": {},
   "outputs": [
    {
     "data": {
      "text/plain": [
       "7.333333333333334"
      ]
     },
     "execution_count": 2,
     "metadata": {},
     "output_type": "execute_result"
    }
   ],
   "source": [
    "test4()"
   ]
  },
  {
   "cell_type": "code",
   "execution_count": 3,
   "id": "100e3cf1-a03c-4d9e-8a0b-0593c02d544d",
   "metadata": {},
   "outputs": [],
   "source": [
    "def test5(a,b,c):\n",
    "    d = a+b/c\n",
    "    return d"
   ]
  },
  {
   "cell_type": "code",
   "execution_count": 4,
   "id": "f0ae4948-62bd-470d-aefe-db5c57e321ec",
   "metadata": {},
   "outputs": [
    {
     "data": {
      "text/plain": [
       "7.5"
      ]
     },
     "execution_count": 4,
     "metadata": {},
     "output_type": "execute_result"
    }
   ],
   "source": [
    "test5(5,5,2)"
   ]
  },
  {
   "cell_type": "code",
   "execution_count": 2,
   "id": "4a3367c1-09bf-4f9c-9e0e-2892badaacad",
   "metadata": {},
   "outputs": [],
   "source": [
    "def test6(a,b):\n",
    "    return a+b"
   ]
  },
  {
   "cell_type": "code",
   "execution_count": 7,
   "id": "334751ba-cd66-422e-87e8-77c1be819366",
   "metadata": {},
   "outputs": [
    {
     "data": {
      "text/plain": [
       "6"
      ]
     },
     "execution_count": 7,
     "metadata": {},
     "output_type": "execute_result"
    }
   ],
   "source": [
    "test6(3,3)"
   ]
  },
  {
   "cell_type": "code",
   "execution_count": 10,
   "id": "bfba26c6-c468-4c85-ba00-dfba273cf25f",
   "metadata": {},
   "outputs": [
    {
     "data": {
      "text/plain": [
       "'ujjwalhari'"
      ]
     },
     "execution_count": 10,
     "metadata": {},
     "output_type": "execute_result"
    }
   ],
   "source": [
    "test6('ujjwal', 'hari')"
   ]
  },
  {
   "cell_type": "code",
   "execution_count": 4,
   "id": "c21e7067-0b23-4b70-bf0d-5de468e77354",
   "metadata": {},
   "outputs": [
    {
     "data": {
      "text/plain": [
       "'HARE KRISHNA'"
      ]
     },
     "execution_count": 4,
     "metadata": {},
     "output_type": "execute_result"
    }
   ],
   "source": [
    "test6('HARE',' KRISHNA')"
   ]
  },
  {
   "cell_type": "code",
   "execution_count": 9,
   "id": "87599943-7133-41d8-835a-f43eb4772046",
   "metadata": {},
   "outputs": [],
   "source": [
    "l = [1,2,3,6.3,7,8,0, 'ujjwal', 'shree ram', 'hare krishna', True, [3,6,9]]"
   ]
  },
  {
   "cell_type": "code",
   "execution_count": 10,
   "id": "41f2f5f6-fe2b-489c-a92d-b1bf7cd86b73",
   "metadata": {},
   "outputs": [],
   "source": [
    "l1 = []\n",
    "for i in l :\n",
    "    if type(i) == int or type(i) == float:\n",
    "        l1.append(i)"
   ]
  },
  {
   "cell_type": "code",
   "execution_count": 11,
   "id": "5fee3d2c-8c22-42bd-98a8-a3b50cff025f",
   "metadata": {},
   "outputs": [
    {
     "data": {
      "text/plain": [
       "[1, 2, 3, 6.3, 7, 8, 0]"
      ]
     },
     "execution_count": 11,
     "metadata": {},
     "output_type": "execute_result"
    }
   ],
   "source": [
    "l1"
   ]
  },
  {
   "cell_type": "code",
   "execution_count": 12,
   "id": "5f7ec413-08e7-472b-b48b-1eae051f4127",
   "metadata": {},
   "outputs": [],
   "source": [
    "def test7(l):\n",
    "    l1 = []\n",
    "    for i in l :\n",
    "        if type(i) == int or type(i) == float:\n",
    "            l1.append(i)\n",
    "    return l1"
   ]
  },
  {
   "cell_type": "code",
   "execution_count": 13,
   "id": "7e8594da-cebf-4a92-94fb-3b7e5b2a9bbd",
   "metadata": {},
   "outputs": [
    {
     "data": {
      "text/plain": [
       "[1, 2, 3, 6.3, 7, 8, 0]"
      ]
     },
     "execution_count": 13,
     "metadata": {},
     "output_type": "execute_result"
    }
   ],
   "source": [
    "test7(l)"
   ]
  },
  {
   "cell_type": "code",
   "execution_count": 14,
   "id": "b0679cbb-84ab-41cb-9f13-072ab247b528",
   "metadata": {},
   "outputs": [
    {
     "data": {
      "text/plain": [
       "[1, 2, 3, 6.3, 7, 8, 0, 'ujjwal', 'shree ram', 'hare krishna', True, [3, 6, 9]]"
      ]
     },
     "execution_count": 14,
     "metadata": {},
     "output_type": "execute_result"
    }
   ],
   "source": [
    "l"
   ]
  },
  {
   "cell_type": "code",
   "execution_count": 32,
   "id": "3ce26735-30c5-4836-874a-2986c94bfc97",
   "metadata": {},
   "outputs": [],
   "source": [
    "def test8(a):\n",
    "    \"\"\"This function give you num. and float data by \n",
    "    extracing from list\"\"\"\n",
    "    l = []\n",
    "    for i in a:\n",
    "        if type(i) == list:\n",
    "            for j in i :\n",
    "                l.append(j)\n",
    "        else:\n",
    "            if type(i) == int or type(i) == float:\n",
    "                l.append(i)\n",
    "    return l      "
   ]
  },
  {
   "cell_type": "code",
   "execution_count": 30,
   "id": "73402d46-5063-4ea2-8378-35635c6fbc86",
   "metadata": {},
   "outputs": [
    {
     "data": {
      "text/plain": [
       "[1, 2, 3, 6.3, 7, 8, 0, 3, 6, 9]"
      ]
     },
     "execution_count": 30,
     "metadata": {},
     "output_type": "execute_result"
    }
   ],
   "source": [
    "test8(l)"
   ]
  },
  {
   "cell_type": "code",
   "execution_count": 27,
   "id": "083c92c3-7dbf-41e0-9ab2-fe9317987e66",
   "metadata": {},
   "outputs": [],
   "source": [
    "l3 = [2,56,34,34.5,5,2, [1,2,32,], 'ram']"
   ]
  },
  {
   "cell_type": "code",
   "execution_count": 31,
   "id": "7c6335bd-2473-4aac-95c5-e5b2a157cce7",
   "metadata": {},
   "outputs": [
    {
     "data": {
      "text/plain": [
       "[2, 56, 34, 34.5, 5, 2, 1, 2, 32]"
      ]
     },
     "execution_count": 31,
     "metadata": {},
     "output_type": "execute_result"
    }
   ],
   "source": [
    "test8(l3)"
   ]
  },
  {
   "cell_type": "code",
   "execution_count": 34,
   "id": "fca6cd64-46aa-4d33-bcba-ffa6b16f4cdf",
   "metadata": {},
   "outputs": [],
   "source": [
    "def test10(a,b):\n",
    "    return a+b"
   ]
  },
  {
   "cell_type": "code",
   "execution_count": 37,
   "id": "e3b3b3a5-9d00-4fae-a28d-b43471e88064",
   "metadata": {},
   "outputs": [],
   "source": [
    "def test11(*args):\n",
    "    return args"
   ]
  },
  {
   "cell_type": "code",
   "execution_count": 38,
   "id": "c9466f54-ebad-4f75-9721-9b75aad5110d",
   "metadata": {},
   "outputs": [
    {
     "data": {
      "text/plain": [
       "(12, 23)"
      ]
     },
     "execution_count": 38,
     "metadata": {},
     "output_type": "execute_result"
    }
   ],
   "source": [
    "test11(12,23)"
   ]
  },
  {
   "cell_type": "code",
   "execution_count": 40,
   "id": "59d84b19-06c0-453e-be8a-4fe87f42b814",
   "metadata": {},
   "outputs": [
    {
     "data": {
      "text/plain": [
       "('ujjwal', 'shree Ram')"
      ]
     },
     "execution_count": 40,
     "metadata": {},
     "output_type": "execute_result"
    }
   ],
   "source": [
    "test11('ujjwal', 'shree Ram')"
   ]
  },
  {
   "cell_type": "code",
   "execution_count": 41,
   "id": "a13aa676-1765-4def-b5ff-f824f748f641",
   "metadata": {},
   "outputs": [],
   "source": [
    "def test13(*args, a):\n",
    "    return args,a"
   ]
  },
  {
   "cell_type": "code",
   "execution_count": 42,
   "id": "348d7547-ec09-4e57-ab0e-10f3006ca9ff",
   "metadata": {},
   "outputs": [
    {
     "data": {
      "text/plain": [
       "function"
      ]
     },
     "execution_count": 42,
     "metadata": {},
     "output_type": "execute_result"
    }
   ],
   "source": [
    "type(test13)"
   ]
  },
  {
   "cell_type": "code",
   "execution_count": 43,
   "id": "f6d83fd7-2540-478d-bb22-8f65b2b4b745",
   "metadata": {},
   "outputs": [
    {
     "ename": "TypeError",
     "evalue": "test13() missing 1 required keyword-only argument: 'a'",
     "output_type": "error",
     "traceback": [
      "\u001b[0;31m---------------------------------------------------------------------------\u001b[0m",
      "\u001b[0;31mTypeError\u001b[0m                                 Traceback (most recent call last)",
      "Cell \u001b[0;32mIn[43], line 1\u001b[0m\n\u001b[0;32m----> 1\u001b[0m \u001b[43mtest13\u001b[49m\u001b[43m(\u001b[49m\u001b[38;5;241;43m1\u001b[39;49m\u001b[43m,\u001b[49m\u001b[38;5;241;43m2\u001b[39;49m\u001b[43m,\u001b[49m\u001b[38;5;241;43m34\u001b[39;49m\u001b[43m,\u001b[49m\u001b[38;5;241;43m4\u001b[39;49m\u001b[43m)\u001b[49m\n",
      "\u001b[0;31mTypeError\u001b[0m: test13() missing 1 required keyword-only argument: 'a'"
     ]
    }
   ],
   "source": [
    "test13(1,2,34,4)"
   ]
  },
  {
   "cell_type": "code",
   "execution_count": 44,
   "id": "cad411d2-06c7-4abb-ba38-e8f949c5651b",
   "metadata": {},
   "outputs": [
    {
     "data": {
      "text/plain": [
       "((1, 2, 34, 4), 0)"
      ]
     },
     "execution_count": 44,
     "metadata": {},
     "output_type": "execute_result"
    }
   ],
   "source": [
    "test13(1,2,34,4, a  = 0)"
   ]
  },
  {
   "cell_type": "code",
   "execution_count": 47,
   "id": "7475e105-8b6d-476c-91de-ed3b9b72bf87",
   "metadata": {},
   "outputs": [],
   "source": [
    "def test14(c,d,a= 13,b= 24):\n",
    "    return a,c,b,d"
   ]
  },
  {
   "cell_type": "code",
   "execution_count": 48,
   "id": "d097090d-f953-46a0-a0ab-867b90b3fb98",
   "metadata": {},
   "outputs": [
    {
     "data": {
      "text/plain": [
       "(13, 3, 24, 6)"
      ]
     },
     "execution_count": 48,
     "metadata": {},
     "output_type": "execute_result"
    }
   ],
   "source": [
    "test14(3,6)"
   ]
  },
  {
   "cell_type": "code",
   "execution_count": null,
   "id": "372ec55c-5d95-477f-bebb-3b33f518227d",
   "metadata": {},
   "outputs": [],
   "source": []
  }
 ],
 "metadata": {
  "kernelspec": {
   "display_name": "Python 3 (ipykernel)",
   "language": "python",
   "name": "python3"
  },
  "language_info": {
   "codemirror_mode": {
    "name": "ipython",
    "version": 3
   },
   "file_extension": ".py",
   "mimetype": "text/x-python",
   "name": "python",
   "nbconvert_exporter": "python",
   "pygments_lexer": "ipython3",
   "version": "3.10.8"
  }
 },
 "nbformat": 4,
 "nbformat_minor": 5
}
