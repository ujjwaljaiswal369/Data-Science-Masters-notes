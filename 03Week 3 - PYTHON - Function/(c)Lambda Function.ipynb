{
 "cells": [
  {
   "cell_type": "code",
   "execution_count": 4,
   "id": "0cc90579-a08a-44e7-b59b-ff98986acd36",
   "metadata": {},
   "outputs": [],
   "source": [
    "n = 4 \n",
    "p = 2"
   ]
  },
  {
   "cell_type": "code",
   "execution_count": 5,
   "id": "6575935e-0ccd-424c-9ca7-1a5dbd03a170",
   "metadata": {},
   "outputs": [],
   "source": [
    "def test(n,p):\n",
    "    return n**p"
   ]
  },
  {
   "cell_type": "code",
   "execution_count": 6,
   "id": "1ff2f9fa-1acb-4d64-8984-8d5bb1cb5376",
   "metadata": {},
   "outputs": [
    {
     "data": {
      "text/plain": [
       "8"
      ]
     },
     "execution_count": 6,
     "metadata": {},
     "output_type": "execute_result"
    }
   ],
   "source": [
    "test(2,3)"
   ]
  },
  {
   "cell_type": "code",
   "execution_count": 7,
   "id": "8df082e9-46e9-48fa-9b93-6fcf04074fa5",
   "metadata": {},
   "outputs": [
    {
     "data": {
      "text/plain": [
       "32"
      ]
     },
     "execution_count": 7,
     "metadata": {},
     "output_type": "execute_result"
    }
   ],
   "source": [
    "test(2,5)"
   ]
  },
  {
   "cell_type": "code",
   "execution_count": 8,
   "id": "29ba9fc5-da03-40a5-a3d3-055d4201afa3",
   "metadata": {},
   "outputs": [],
   "source": [
    "#Lambda Function"
   ]
  },
  {
   "cell_type": "code",
   "execution_count": 10,
   "id": "3be50e0b-44c6-4d83-bf42-db06fac0a12b",
   "metadata": {},
   "outputs": [],
   "source": [
    "d = lambda a,b : a**b"
   ]
  },
  {
   "cell_type": "code",
   "execution_count": 11,
   "id": "28d6782b-c54b-4f86-ad42-3c2cba352178",
   "metadata": {},
   "outputs": [
    {
     "data": {
      "text/plain": [
       "32"
      ]
     },
     "execution_count": 11,
     "metadata": {},
     "output_type": "execute_result"
    }
   ],
   "source": [
    "d(2,5\n",
    ")"
   ]
  },
  {
   "cell_type": "code",
   "execution_count": 12,
   "id": "693007f1-59bc-4a4a-bef3-8fb8c1d7c819",
   "metadata": {},
   "outputs": [
    {
     "data": {
      "text/plain": [
       "8"
      ]
     },
     "execution_count": 12,
     "metadata": {},
     "output_type": "execute_result"
    }
   ],
   "source": [
    "d(2,3)"
   ]
  },
  {
   "cell_type": "code",
   "execution_count": 13,
   "id": "80f36243-1882-477a-b231-5d8fe554f3c4",
   "metadata": {},
   "outputs": [],
   "source": [
    "x = lambda q,w : q/w"
   ]
  },
  {
   "cell_type": "code",
   "execution_count": 14,
   "id": "4baf10bb-fbdf-47a2-84e8-0650a6d90aa1",
   "metadata": {},
   "outputs": [
    {
     "data": {
      "text/plain": [
       "2.0"
      ]
     },
     "execution_count": 14,
     "metadata": {},
     "output_type": "execute_result"
    }
   ],
   "source": [
    "x(10,5)"
   ]
  },
  {
   "cell_type": "code",
   "execution_count": 15,
   "id": "b88c17f8-55a0-4df1-9bfa-2f40e9f896b5",
   "metadata": {},
   "outputs": [],
   "source": [
    "add = lambda x,y : x+y"
   ]
  },
  {
   "cell_type": "code",
   "execution_count": 16,
   "id": "2fdab0a2-faec-413f-88e3-ca38d259ef23",
   "metadata": {},
   "outputs": [
    {
     "data": {
      "text/plain": [
       "5"
      ]
     },
     "execution_count": 16,
     "metadata": {},
     "output_type": "execute_result"
    }
   ],
   "source": [
    "add(2,3)"
   ]
  },
  {
   "cell_type": "code",
   "execution_count": 17,
   "id": "c5f4a12e-ce33-458c-b202-ba51696807b8",
   "metadata": {},
   "outputs": [],
   "source": [
    "c_to_f = lambda c : (9/5)*c + 32"
   ]
  },
  {
   "cell_type": "code",
   "execution_count": 18,
   "id": "45e67e9f-e91f-4e13-be1a-44ea772645ea",
   "metadata": {},
   "outputs": [
    {
     "data": {
      "text/plain": [
       "111.2"
      ]
     },
     "execution_count": 18,
     "metadata": {},
     "output_type": "execute_result"
    }
   ],
   "source": [
    "c_to_f(44)"
   ]
  },
  {
   "cell_type": "code",
   "execution_count": 19,
   "id": "347d6aa4-135c-476f-bbed-7b9c7eda877e",
   "metadata": {},
   "outputs": [],
   "source": [
    "s = 'Krishna'"
   ]
  },
  {
   "cell_type": "code",
   "execution_count": 20,
   "id": "85b31806-7238-4cde-9a84-d65a0e024cff",
   "metadata": {},
   "outputs": [],
   "source": [
    "length = lambda s : len(s)"
   ]
  },
  {
   "cell_type": "code",
   "execution_count": 21,
   "id": "d1615241-c1c8-414a-9483-644087175cd3",
   "metadata": {},
   "outputs": [
    {
     "data": {
      "text/plain": [
       "7"
      ]
     },
     "execution_count": 21,
     "metadata": {},
     "output_type": "execute_result"
    }
   ],
   "source": [
    "length(s)"
   ]
  },
  {
   "cell_type": "code",
   "execution_count": 28,
   "id": "ab0bcc8a-d2b2-4100-9358-d179de7911c8",
   "metadata": {},
   "outputs": [],
   "source": [
    "m = 'ujjwal'"
   ]
  },
  {
   "cell_type": "code",
   "execution_count": 29,
   "id": "1d1b1264-f69c-4c4f-b47b-239c2787fdd5",
   "metadata": {},
   "outputs": [
    {
     "data": {
      "text/plain": [
       "6"
      ]
     },
     "execution_count": 29,
     "metadata": {},
     "output_type": "execute_result"
    }
   ],
   "source": [
    "length(m)"
   ]
  },
  {
   "cell_type": "code",
   "execution_count": 26,
   "id": "c1d7ab77-1d62-44e7-b838-7558fa3ce22f",
   "metadata": {},
   "outputs": [],
   "source": [
    "n = 'vishnu'"
   ]
  },
  {
   "cell_type": "code",
   "execution_count": 27,
   "id": "fdeb804e-304d-426a-b598-17a1e65ad2b8",
   "metadata": {},
   "outputs": [
    {
     "data": {
      "text/plain": [
       "6"
      ]
     },
     "execution_count": 27,
     "metadata": {},
     "output_type": "execute_result"
    }
   ],
   "source": [
    "length(n)"
   ]
  },
  {
   "cell_type": "code",
   "execution_count": 30,
   "id": "f57ae600-e9a5-42e0-b1fc-064f7664f959",
   "metadata": {},
   "outputs": [],
   "source": [
    "max = lambda x,y : x if x>y else y"
   ]
  },
  {
   "cell_type": "code",
   "execution_count": 31,
   "id": "5810ac5a-2495-44be-9716-eb0bbe64b2f4",
   "metadata": {},
   "outputs": [
    {
     "data": {
      "text/plain": [
       "23"
      ]
     },
     "execution_count": 31,
     "metadata": {},
     "output_type": "execute_result"
    }
   ],
   "source": [
    "max(12,23)"
   ]
  },
  {
   "cell_type": "code",
   "execution_count": null,
   "id": "dfdd649f-7184-4879-81b9-58451aecf5d2",
   "metadata": {},
   "outputs": [],
   "source": []
  }
 ],
 "metadata": {
  "kernelspec": {
   "display_name": "Python 3 (ipykernel)",
   "language": "python",
   "name": "python3"
  },
  "language_info": {
   "codemirror_mode": {
    "name": "ipython",
    "version": 3
   },
   "file_extension": ".py",
   "mimetype": "text/x-python",
   "name": "python",
   "nbconvert_exporter": "python",
   "pygments_lexer": "ipython3",
   "version": "3.10.8"
  }
 },
 "nbformat": 4,
 "nbformat_minor": 5
}
