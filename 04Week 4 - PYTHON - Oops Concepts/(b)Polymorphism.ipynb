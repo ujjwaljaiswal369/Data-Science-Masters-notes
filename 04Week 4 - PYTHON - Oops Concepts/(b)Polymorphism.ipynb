{
 "cells": [
  {
   "cell_type": "code",
   "execution_count": 2,
   "id": "8a4812b9-1f81-4808-915f-7e6d3bc42279",
   "metadata": {},
   "outputs": [],
   "source": [
    "def test(a,b):\n",
    "    return a + b"
   ]
  },
  {
   "cell_type": "code",
   "execution_count": 3,
   "id": "b0d3dc63-fcb8-4ff3-b84a-5e47873fad87",
   "metadata": {},
   "outputs": [
    {
     "data": {
      "text/plain": [
       "7"
      ]
     },
     "execution_count": 3,
     "metadata": {},
     "output_type": "execute_result"
    }
   ],
   "source": [
    "test(3,4)"
   ]
  },
  {
   "cell_type": "code",
   "execution_count": 5,
   "id": "c783570c-db2b-4b7e-ade6-8ee76eaaa7e2",
   "metadata": {},
   "outputs": [
    {
     "data": {
      "text/plain": [
       "'ujjwal Jaiswal'"
      ]
     },
     "execution_count": 5,
     "metadata": {},
     "output_type": "execute_result"
    }
   ],
   "source": [
    "test('ujjwal',' Jaiswal')"
   ]
  },
  {
   "cell_type": "code",
   "execution_count": 6,
   "id": "ee13d394-a2cf-4085-8b46-7becb31c5f37",
   "metadata": {},
   "outputs": [
    {
     "data": {
      "text/plain": [
       "[5, 6, 6, 7, 1, 2, 3, 4]"
      ]
     },
     "execution_count": 6,
     "metadata": {},
     "output_type": "execute_result"
    }
   ],
   "source": [
    "test([5,6,6,7,],[1,2,3,4])"
   ]
  },
  {
   "cell_type": "code",
   "execution_count": 7,
   "id": "71b3fd2e-2308-41f7-bb01-4ed3ef56da87",
   "metadata": {},
   "outputs": [],
   "source": [
    "class Data_science :\n",
    "    \n",
    "    def syllabus(self):\n",
    "        print('This is syllabus for data science master')"
   ]
  },
  {
   "cell_type": "code",
   "execution_count": 8,
   "id": "36df8899-d178-4d14-83ad-714ff2e6c948",
   "metadata": {},
   "outputs": [],
   "source": [
    "class Web_Dev :\n",
    "    \n",
    "    def syllabus(self):\n",
    "        print('This is also syllabus for web dev')"
   ]
  },
  {
   "cell_type": "code",
   "execution_count": 13,
   "id": "489b6b58-df49-4ad5-92e9-fb87d2ab12b5",
   "metadata": {},
   "outputs": [],
   "source": [
    "def class_parcer(class_obj):\n",
    "    for i in class_obj:\n",
    "        i.syllabus()"
   ]
  },
  {
   "cell_type": "code",
   "execution_count": 9,
   "id": "6a1b3454-2c15-47ac-9d8f-58246b4ebf77",
   "metadata": {},
   "outputs": [],
   "source": [
    "data_science = Data_science()"
   ]
  },
  {
   "cell_type": "code",
   "execution_count": 10,
   "id": "8babffc0-568e-41a6-81bc-5607a654481d",
   "metadata": {},
   "outputs": [],
   "source": [
    "web_dev = Web_Dev()"
   ]
  },
  {
   "cell_type": "code",
   "execution_count": 15,
   "id": "98da527f-a3ed-4e29-888d-f81e2cbe5d8b",
   "metadata": {},
   "outputs": [
    {
     "name": "stdout",
     "output_type": "stream",
     "text": [
      "This is syllabus for data science master\n",
      "This is also syllabus for web dev\n"
     ]
    }
   ],
   "source": [
    "class_parcer([data_science, web_dev])"
   ]
  },
  {
   "cell_type": "code",
   "execution_count": null,
   "id": "831dbd5d-7071-4dfb-b349-b9bdfc9db966",
   "metadata": {},
   "outputs": [],
   "source": []
  },
  {
   "cell_type": "code",
   "execution_count": null,
   "id": "d63819c9-02b7-484c-9bd4-f66dc16d2c86",
   "metadata": {},
   "outputs": [],
   "source": []
  },
  {
   "cell_type": "code",
   "execution_count": null,
   "id": "fb5c0851-7734-4757-ac0c-ce2d56af4cb2",
   "metadata": {},
   "outputs": [],
   "source": [
    "#my self"
   ]
  },
  {
   "cell_type": "code",
   "execution_count": 46,
   "id": "951520fd-1d0b-471c-acaa-e651b3a5428d",
   "metadata": {},
   "outputs": [],
   "source": [
    "class job_fair:\n",
    "    \n",
    "    def fair1(self):\n",
    "        print('this is part 1')"
   ]
  },
  {
   "cell_type": "code",
   "execution_count": 47,
   "id": "833a8b7c-32d5-429c-93a2-ca635ee168ac",
   "metadata": {},
   "outputs": [],
   "source": [
    "class job_interview:\n",
    "    \n",
    "    def fair1(self):\n",
    "        print('this is interviw 1')"
   ]
  },
  {
   "cell_type": "code",
   "execution_count": 48,
   "id": "9143e0db-84e9-4f43-bfb5-5d98835c89c2",
   "metadata": {},
   "outputs": [],
   "source": [
    "a = job_fair()"
   ]
  },
  {
   "cell_type": "code",
   "execution_count": 49,
   "id": "4c408fff-91c1-46dd-b85e-9bd657c7de6b",
   "metadata": {},
   "outputs": [],
   "source": [
    "b = job_interview()"
   ]
  },
  {
   "cell_type": "code",
   "execution_count": 50,
   "id": "3b81a70f-477e-41f4-8aaf-abcce78646a0",
   "metadata": {},
   "outputs": [],
   "source": [
    "def class_parcer(class_obj):\n",
    "    for i in class_obj:\n",
    "        i.fair1()"
   ]
  },
  {
   "cell_type": "code",
   "execution_count": 51,
   "id": "3703f9dd-d2a4-4ce8-a820-7c65481615c8",
   "metadata": {},
   "outputs": [
    {
     "name": "stdout",
     "output_type": "stream",
     "text": [
      "this is part 1\n",
      "this is interviw 1\n"
     ]
    }
   ],
   "source": [
    "class_parcer([a,b])"
   ]
  },
  {
   "cell_type": "code",
   "execution_count": null,
   "id": "cd1885c8-e069-4a4b-a8dd-5cc48beef2d4",
   "metadata": {},
   "outputs": [],
   "source": []
  }
 ],
 "metadata": {
  "kernelspec": {
   "display_name": "Python 3 (ipykernel)",
   "language": "python",
   "name": "python3"
  },
  "language_info": {
   "codemirror_mode": {
    "name": "ipython",
    "version": 3
   },
   "file_extension": ".py",
   "mimetype": "text/x-python",
   "name": "python",
   "nbconvert_exporter": "python",
   "pygments_lexer": "ipython3",
   "version": "3.10.8"
  }
 },
 "nbformat": 4,
 "nbformat_minor": 5
}
