{
 "cells": [
  {
   "cell_type": "code",
   "execution_count": 4,
   "id": "26671d37-b7d5-42a9-ade1-fd6329ae4981",
   "metadata": {},
   "outputs": [],
   "source": [
    "class test :\n",
    "    def __init__(self, a, b):\n",
    "        self.a = a\n",
    "        self.b = b"
   ]
  },
  {
   "cell_type": "code",
   "execution_count": 5,
   "id": "833b6f3b-f325-4c20-a826-d10b9dcd64df",
   "metadata": {},
   "outputs": [],
   "source": [
    "t = test(23,34)"
   ]
  },
  {
   "cell_type": "code",
   "execution_count": 6,
   "id": "2b325314-8f4d-4aaa-9cc1-0c36405b848c",
   "metadata": {},
   "outputs": [
    {
     "data": {
      "text/plain": [
       "23"
      ]
     },
     "execution_count": 6,
     "metadata": {},
     "output_type": "execute_result"
    }
   ],
   "source": [
    "t.a"
   ]
  },
  {
   "cell_type": "code",
   "execution_count": 7,
   "id": "583c2c67-8e34-4df2-9713-211fe5868f95",
   "metadata": {},
   "outputs": [],
   "source": [
    "t.a = 2356"
   ]
  },
  {
   "cell_type": "code",
   "execution_count": 8,
   "id": "759892a9-4d2c-4aa8-8745-96eacd6dca24",
   "metadata": {},
   "outputs": [
    {
     "data": {
      "text/plain": [
       "2356"
      ]
     },
     "execution_count": 8,
     "metadata": {},
     "output_type": "execute_result"
    }
   ],
   "source": [
    "t.a"
   ]
  },
  {
   "cell_type": "code",
   "execution_count": 44,
   "id": "3cf72d02-6b7d-41f2-b487-1ea4319329d0",
   "metadata": {},
   "outputs": [],
   "source": [
    "#1st example"
   ]
  },
  {
   "cell_type": "code",
   "execution_count": 16,
   "id": "97a95384-0367-4586-b5fc-7bb67a291d0b",
   "metadata": {},
   "outputs": [],
   "source": [
    "class car :\n",
    "    def __init__(self, year , make, model, speed):\n",
    "        \n",
    "        self.__year = year\n",
    "        self.__make = make\n",
    "        self.__model = model\n",
    "        self.__speed = 0\n",
    "        \n",
    "    def set_speed(self, speed):\n",
    "        self._speed = 0 if speed < 0 else speed\n",
    "        \n",
    "    def get_speed(self):\n",
    "        return self._speed"
   ]
  },
  {
   "cell_type": "code",
   "execution_count": 17,
   "id": "0ac41a0c-9ce8-45e5-b099-eaa140a8fcf8",
   "metadata": {},
   "outputs": [],
   "source": [
    "c = car(2022, 'hyundai', 'Verna', 120)"
   ]
  },
  {
   "cell_type": "code",
   "execution_count": 18,
   "id": "7cb99243-0f93-4329-bb94-72f244f2189d",
   "metadata": {},
   "outputs": [
    {
     "data": {
      "text/plain": [
       "2022"
      ]
     },
     "execution_count": 18,
     "metadata": {},
     "output_type": "execute_result"
    }
   ],
   "source": [
    "c._car__year"
   ]
  },
  {
   "cell_type": "code",
   "execution_count": 20,
   "id": "4774ff6d-4c44-4c23-94cf-41aa4d60ba43",
   "metadata": {},
   "outputs": [],
   "source": [
    "c.set_speed(-12)"
   ]
  },
  {
   "cell_type": "code",
   "execution_count": 23,
   "id": "bec3af27-ab18-4f96-bb29-f686593615e7",
   "metadata": {},
   "outputs": [
    {
     "data": {
      "text/plain": [
       "0"
      ]
     },
     "execution_count": 23,
     "metadata": {},
     "output_type": "execute_result"
    }
   ],
   "source": [
    "c.get_speed()"
   ]
  },
  {
   "cell_type": "code",
   "execution_count": 24,
   "id": "b44a0e20-6576-48f2-8e45-e1cc72fc1c95",
   "metadata": {},
   "outputs": [],
   "source": [
    "c.set_speed(120)"
   ]
  },
  {
   "cell_type": "code",
   "execution_count": 25,
   "id": "441c8622-db60-4931-800a-73392d94a747",
   "metadata": {},
   "outputs": [
    {
     "data": {
      "text/plain": [
       "120"
      ]
     },
     "execution_count": 25,
     "metadata": {},
     "output_type": "execute_result"
    }
   ],
   "source": [
    "c.get_speed()"
   ]
  },
  {
   "cell_type": "code",
   "execution_count": null,
   "id": "c5a54b37-5659-4696-bb95-ec15780ae382",
   "metadata": {},
   "outputs": [],
   "source": [
    "#2nd example"
   ]
  },
  {
   "cell_type": "code",
   "execution_count": 33,
   "id": "227db285-62ca-4d93-8f44-53a6a203df7f",
   "metadata": {},
   "outputs": [],
   "source": [
    "class bank_account :\n",
    "    \n",
    "    def __init__(self, balance):\n",
    "        self.__balance = balance\n",
    "        \n",
    "    def deposit(self, amount):\n",
    "        self.__balance = self.__balance + amount\n",
    "        \n",
    "    def withdraw(self, amount):\n",
    "        if self.__balance >= amount :\n",
    "            self.__balance = self.__balance - amount\n",
    "            return True\n",
    "        else :\n",
    "            return False\n",
    "        \n",
    "    def check_balance(self):\n",
    "        return self.__balance        "
   ]
  },
  {
   "cell_type": "code",
   "execution_count": 37,
   "id": "7129a396-89ea-4c43-9c13-3f82bd9a0f03",
   "metadata": {},
   "outputs": [],
   "source": [
    "ujju = bank_account(10000)"
   ]
  },
  {
   "cell_type": "code",
   "execution_count": 38,
   "id": "1017d3a3-971e-4f84-8fa9-4870edaad9f7",
   "metadata": {},
   "outputs": [
    {
     "data": {
      "text/plain": [
       "10000"
      ]
     },
     "execution_count": 38,
     "metadata": {},
     "output_type": "execute_result"
    }
   ],
   "source": [
    "ujju.check_balance()"
   ]
  },
  {
   "cell_type": "code",
   "execution_count": 39,
   "id": "ad9d7cef-78a0-400e-8d88-176e4da8ea47",
   "metadata": {},
   "outputs": [],
   "source": [
    "ujju.deposit(2000)"
   ]
  },
  {
   "cell_type": "code",
   "execution_count": 40,
   "id": "8e109327-4d79-48aa-bf14-ffc531c635a4",
   "metadata": {},
   "outputs": [
    {
     "data": {
      "text/plain": [
       "12000"
      ]
     },
     "execution_count": 40,
     "metadata": {},
     "output_type": "execute_result"
    }
   ],
   "source": [
    "ujju.check_balance()"
   ]
  },
  {
   "cell_type": "code",
   "execution_count": 41,
   "id": "ae7147b2-f4fc-4e1c-9708-2edb2b2b73c1",
   "metadata": {},
   "outputs": [
    {
     "data": {
      "text/plain": [
       "True"
      ]
     },
     "execution_count": 41,
     "metadata": {},
     "output_type": "execute_result"
    }
   ],
   "source": [
    "ujju.withdraw(1500)"
   ]
  },
  {
   "cell_type": "code",
   "execution_count": 43,
   "id": "ddf6e297-c7bf-4338-8ab1-74b8c7eca04b",
   "metadata": {},
   "outputs": [
    {
     "data": {
      "text/plain": [
       "10500"
      ]
     },
     "execution_count": 43,
     "metadata": {},
     "output_type": "execute_result"
    }
   ],
   "source": [
    "ujju.check_balance()"
   ]
  },
  {
   "cell_type": "code",
   "execution_count": null,
   "id": "afdbdda4-07ef-434c-b51d-adfa29b75a80",
   "metadata": {},
   "outputs": [],
   "source": []
  }
 ],
 "metadata": {
  "kernelspec": {
   "display_name": "Python 3 (ipykernel)",
   "language": "python",
   "name": "python3"
  },
  "language_info": {
   "codemirror_mode": {
    "name": "ipython",
    "version": 3
   },
   "file_extension": ".py",
   "mimetype": "text/x-python",
   "name": "python",
   "nbconvert_exporter": "python",
   "pygments_lexer": "ipython3",
   "version": "3.10.8"
  }
 },
 "nbformat": 4,
 "nbformat_minor": 5
}
