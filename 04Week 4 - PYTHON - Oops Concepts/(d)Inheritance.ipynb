{
 "cells": [
  {
   "cell_type": "code",
   "execution_count": 1,
   "id": "ed536e4d-8cf9-4fd4-9f8c-80d6848dc896",
   "metadata": {},
   "outputs": [],
   "source": [
    "class test :\n",
    "    \n",
    "    def test_meth(self):\n",
    "        return 'JAI SHREE RAM'"
   ]
  },
  {
   "cell_type": "code",
   "execution_count": 2,
   "id": "dd479c9a-6148-491a-9f0e-3682783deb0f",
   "metadata": {},
   "outputs": [],
   "source": [
    "class child_test(test):\n",
    "    pass"
   ]
  },
  {
   "cell_type": "code",
   "execution_count": 3,
   "id": "3478e912-ccd8-4680-9f4c-a873542f3c71",
   "metadata": {},
   "outputs": [],
   "source": [
    "child_test_obj = child_test()"
   ]
  },
  {
   "cell_type": "code",
   "execution_count": 5,
   "id": "672fdd37-1488-4835-b98e-1b00b5b128a3",
   "metadata": {},
   "outputs": [
    {
     "data": {
      "text/plain": [
       "'JAI SHREE RAM'"
      ]
     },
     "execution_count": 5,
     "metadata": {},
     "output_type": "execute_result"
    }
   ],
   "source": [
    "child_test_obj.test_meth()"
   ]
  },
  {
   "cell_type": "code",
   "execution_count": 1,
   "id": "10fed44f-4d89-42d5-b72a-4775d9e38260",
   "metadata": {},
   "outputs": [],
   "source": [
    "#Multi lable inheritance"
   ]
  },
  {
   "cell_type": "code",
   "execution_count": 3,
   "id": "e71e1d0a-11ef-42cb-aba6-fdc5ffabfd03",
   "metadata": {},
   "outputs": [],
   "source": [
    "class class1 :\n",
    "    \n",
    "    def test_class1(self):\n",
    "        return 'this is method of class1'"
   ]
  },
  {
   "cell_type": "code",
   "execution_count": 6,
   "id": "26b187d2-2f17-495b-815d-c407610f1644",
   "metadata": {},
   "outputs": [],
   "source": [
    "class class2(class1):\n",
    "    \n",
    "    def test_class2(self):\n",
    "        return 'this is method of class2'"
   ]
  },
  {
   "cell_type": "code",
   "execution_count": 7,
   "id": "3afc6b9b-6966-4d9a-9a14-6cae4b5c16e6",
   "metadata": {},
   "outputs": [],
   "source": [
    "class class3(class2):\n",
    "    pass"
   ]
  },
  {
   "cell_type": "code",
   "execution_count": 8,
   "id": "aa45dc67-4ae7-4c0b-9d89-f6f051f90c2b",
   "metadata": {},
   "outputs": [],
   "source": [
    "class_obj = class3()"
   ]
  },
  {
   "cell_type": "code",
   "execution_count": 10,
   "id": "18a34408-d1d1-4ef0-8516-6e3f7ace8449",
   "metadata": {},
   "outputs": [
    {
     "data": {
      "text/plain": [
       "'this is method of class1'"
      ]
     },
     "execution_count": 10,
     "metadata": {},
     "output_type": "execute_result"
    }
   ],
   "source": [
    "class_obj.test_class1()"
   ]
  },
  {
   "cell_type": "code",
   "execution_count": 11,
   "id": "49c8e076-5c5c-4213-b87f-ef4ff22915fe",
   "metadata": {},
   "outputs": [
    {
     "data": {
      "text/plain": [
       "'this is method of class2'"
      ]
     },
     "execution_count": 11,
     "metadata": {},
     "output_type": "execute_result"
    }
   ],
   "source": [
    "class_obj.test_class2()"
   ]
  },
  {
   "cell_type": "code",
   "execution_count": 12,
   "id": "07e6a9ee-01dd-4c61-bb5f-45d4538abdaa",
   "metadata": {},
   "outputs": [],
   "source": [
    "#Multi ple lines inheritance"
   ]
  },
  {
   "cell_type": "code",
   "execution_count": 13,
   "id": "8a42d2bd-6139-47a4-8560-e6367e478470",
   "metadata": {},
   "outputs": [],
   "source": [
    "class class1 :\n",
    "    def test_class1(self):\n",
    "        return 'this is class 1'"
   ]
  },
  {
   "cell_type": "code",
   "execution_count": 14,
   "id": "dd742be6-7fcb-43df-948d-fdadc89cd836",
   "metadata": {},
   "outputs": [],
   "source": [
    "class class2 :\n",
    "    def test_class2(self):\n",
    "        return 'this is class 2'"
   ]
  },
  {
   "cell_type": "code",
   "execution_count": 15,
   "id": "e54ee6da-2d13-43d8-b5cb-42fb29b62abe",
   "metadata": {},
   "outputs": [],
   "source": [
    "class class3(class1 , class2):\n",
    "    pass"
   ]
  },
  {
   "cell_type": "code",
   "execution_count": 16,
   "id": "cd304e10-e960-4df2-bc11-e400fe4ee5bd",
   "metadata": {},
   "outputs": [],
   "source": [
    "class3_obj = class3()"
   ]
  },
  {
   "cell_type": "code",
   "execution_count": 17,
   "id": "aa6017bd-6e2f-4995-ac93-594dcc8a4f72",
   "metadata": {},
   "outputs": [
    {
     "data": {
      "text/plain": [
       "'this is class 1'"
      ]
     },
     "execution_count": 17,
     "metadata": {},
     "output_type": "execute_result"
    }
   ],
   "source": [
    "class3_obj.test_class1()"
   ]
  },
  {
   "cell_type": "code",
   "execution_count": 18,
   "id": "a079b142-918d-4254-9791-dc0108b473eb",
   "metadata": {},
   "outputs": [
    {
     "data": {
      "text/plain": [
       "'this is class 2'"
      ]
     },
     "execution_count": 18,
     "metadata": {},
     "output_type": "execute_result"
    }
   ],
   "source": [
    "class3_obj.test_class2()"
   ]
  },
  {
   "cell_type": "code",
   "execution_count": null,
   "id": "0acf3a47-474c-4451-b68d-5ac3a5d29f7f",
   "metadata": {},
   "outputs": [],
   "source": []
  },
  {
   "cell_type": "code",
   "execution_count": 19,
   "id": "97de5cd7-ba2c-4c88-a9ac-9faf3de15544",
   "metadata": {},
   "outputs": [],
   "source": [
    "#more example"
   ]
  },
  {
   "cell_type": "code",
   "execution_count": 5,
   "id": "2116b334-e5f3-49c5-902f-e136e678811f",
   "metadata": {},
   "outputs": [],
   "source": [
    "class youtube :\n",
    "    \n",
    "    def test_youtube(self):\n",
    "        return 'ziba fact'"
   ]
  },
  {
   "cell_type": "code",
   "execution_count": 6,
   "id": "c01518b1-13c7-44a3-94fb-ac5761f19028",
   "metadata": {},
   "outputs": [],
   "source": [
    "class facebook :\n",
    "    \n",
    "    def test_fb(self):\n",
    "        return 'ziba fact fb'"
   ]
  },
  {
   "cell_type": "code",
   "execution_count": 7,
   "id": "9a54c697-33f8-4115-8270-7668ae7c6c04",
   "metadata": {},
   "outputs": [],
   "source": [
    "class class3(youtube, facebook):\n",
    "    pass"
   ]
  },
  {
   "cell_type": "code",
   "execution_count": 8,
   "id": "53769d34-3715-4864-a6f1-ab48347d2246",
   "metadata": {},
   "outputs": [],
   "source": [
    "obj = class3()"
   ]
  },
  {
   "cell_type": "code",
   "execution_count": 9,
   "id": "6ce01e1e-3013-4ae9-9934-ebdc2c495dee",
   "metadata": {},
   "outputs": [
    {
     "data": {
      "text/plain": [
       "'ziba fact'"
      ]
     },
     "execution_count": 9,
     "metadata": {},
     "output_type": "execute_result"
    }
   ],
   "source": [
    "obj.test_youtube()"
   ]
  },
  {
   "cell_type": "code",
   "execution_count": 10,
   "id": "af2e3ed8-f0e4-47fa-8472-4a55f1854bf8",
   "metadata": {},
   "outputs": [
    {
     "data": {
      "text/plain": [
       "'ziba fact fb'"
      ]
     },
     "execution_count": 10,
     "metadata": {},
     "output_type": "execute_result"
    }
   ],
   "source": [
    "obj.test_fb()"
   ]
  },
  {
   "cell_type": "code",
   "execution_count": null,
   "id": "cda3c192-7840-4bdb-917f-b5f94c80f933",
   "metadata": {},
   "outputs": [],
   "source": []
  },
  {
   "cell_type": "code",
   "execution_count": null,
   "id": "03407fa5-75c5-4522-b20d-8fbb16d647d0",
   "metadata": {},
   "outputs": [],
   "source": []
  }
 ],
 "metadata": {
  "kernelspec": {
   "display_name": "Python 3 (ipykernel)",
   "language": "python",
   "name": "python3"
  },
  "language_info": {
   "codemirror_mode": {
    "name": "ipython",
    "version": 3
   },
   "file_extension": ".py",
   "mimetype": "text/x-python",
   "name": "python",
   "nbconvert_exporter": "python",
   "pygments_lexer": "ipython3",
   "version": "3.10.8"
  }
 },
 "nbformat": 4,
 "nbformat_minor": 5
}
