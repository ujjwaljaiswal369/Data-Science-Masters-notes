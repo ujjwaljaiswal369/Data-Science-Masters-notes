{
 "cells": [
  {
   "cell_type": "code",
   "execution_count": 32,
   "id": "67f96f97-5c55-410e-8fe0-8cd0536be513",
   "metadata": {},
   "outputs": [],
   "source": [
    "class pwskills :\n",
    "    \n",
    "    def student_details(self, name, email, mob):\n",
    "        print(name, email, mob)"
   ]
  },
  {
   "cell_type": "code",
   "execution_count": 33,
   "id": "8a7861a3-7b0b-4f5b-9416-6262da332c43",
   "metadata": {},
   "outputs": [],
   "source": [
    "pw1 = pwskills()"
   ]
  },
  {
   "cell_type": "code",
   "execution_count": 34,
   "id": "cce6331c-f6a9-4d6c-a96e-46d0c85c2ae4",
   "metadata": {},
   "outputs": [
    {
     "name": "stdout",
     "output_type": "stream",
     "text": [
      "ujjwal ujju@gmail.com 987654321\n"
     ]
    }
   ],
   "source": [
    "pw1.student_details('ujjwal', 'ujju@gmail.com', 987654321)"
   ]
  },
  {
   "cell_type": "code",
   "execution_count": 14,
   "id": "780d964c-f115-4eeb-a2d9-9e6b93da9c44",
   "metadata": {},
   "outputs": [],
   "source": [
    " class pwskills1 :\n",
    "    \n",
    "    def student_details(self, name, email, mob):\n",
    "        print(name, email, mob)\n",
    "    \n",
    "    @staticmethod\n",
    "    def mentor_class(mentor_list):\n",
    "        print(mentor_list)\n",
    "        \n",
    "    def mentor(self, list_mentor):\n",
    "        print(list_mentor)"
   ]
  },
  {
   "cell_type": "code",
   "execution_count": 15,
   "id": "cc21eb97-1b34-4246-aea6-2862b1dd7572",
   "metadata": {},
   "outputs": [
    {
     "name": "stdout",
     "output_type": "stream",
     "text": [
      "['sudh', 'krish']\n"
     ]
    }
   ],
   "source": [
    "pwskills1.mentor_class(['sudh', 'krish'])"
   ]
  },
  {
   "cell_type": "code",
   "execution_count": 16,
   "id": "6a91bfe1-c7f3-4771-9e29-8d8795ada9ee",
   "metadata": {},
   "outputs": [],
   "source": [
    "stu1 = pwskills1()"
   ]
  },
  {
   "cell_type": "code",
   "execution_count": 17,
   "id": "b1bdce0c-b7b1-43a7-93b3-c77f6a0a5436",
   "metadata": {},
   "outputs": [
    {
     "name": "stdout",
     "output_type": "stream",
     "text": [
      "['sudh', 'krish']\n"
     ]
    }
   ],
   "source": [
    "stu1.mentor(['sudh','krish'] )"
   ]
  },
  {
   "cell_type": "code",
   "execution_count": 21,
   "id": "c647562c-22bd-4025-840c-cc6b659b29d2",
   "metadata": {},
   "outputs": [],
   "source": [
    " class pwskills2 :\n",
    "    \n",
    "    def student_details(self, name, email, mob):\n",
    "        print(name, email, mob)\n",
    "        \n",
    "    @staticmethod\n",
    "    def mentor_mail(list_mail):\n",
    "        print(list_mail)\n",
    "    \n",
    "    @staticmethod\n",
    "    def mentor_class(mentor_list):\n",
    "        pwskills2.mentor_mail(['sudh@gmail.com', 'krish@gmail.com'])\n",
    "        print(mentor_list)\n",
    "        \n",
    "    @classmethod\n",
    "    def class_name(cls):\n",
    "        cls.mentor_class(['sudh', 'krish'])\n",
    "        \n",
    "    def mentor(self, list_mentor):\n",
    "        print(list_mentor)"
   ]
  },
  {
   "cell_type": "code",
   "execution_count": 19,
   "id": "071a86a5-37dd-48a4-b103-ec5b51629e8b",
   "metadata": {},
   "outputs": [
    {
     "name": "stdout",
     "output_type": "stream",
     "text": [
      "['sudh', 'krish']\n"
     ]
    }
   ],
   "source": [
    "pwskills2.class_name()"
   ]
  },
  {
   "cell_type": "code",
   "execution_count": 23,
   "id": "eae46082-91e4-47ea-bb6e-d9d6243ff4aa",
   "metadata": {},
   "outputs": [
    {
     "name": "stdout",
     "output_type": "stream",
     "text": [
      "['sudh@gmail.com', 'krish@gmail.com']\n",
      "['sudh', 'krish']\n"
     ]
    }
   ],
   "source": [
    "pwskills2.mentor_class(['sudh', 'krish'])"
   ]
  },
  {
   "cell_type": "code",
   "execution_count": null,
   "id": "d9671257-40b4-4057-8169-a9c03eb55457",
   "metadata": {},
   "outputs": [],
   "source": []
  },
  {
   "cell_type": "code",
   "execution_count": 33,
   "id": "c0ca81f5-7ef6-4807-afb2-34628614d189",
   "metadata": {},
   "outputs": [],
   "source": [
    "class microsoft :\n",
    "    \n",
    "    def employer(self, salery, promotion):\n",
    "        print(salery, promotion)\n",
    "        \n",
    "    @staticmethod\n",
    "    def staff(work):\n",
    "        print(work)\n",
    "        \n",
    "    @classmethod\n",
    "    def class_mehtod(cls):\n",
    "        cls.staff('cleaning')\n",
    "        "
   ]
  },
  {
   "cell_type": "code",
   "execution_count": 26,
   "id": "d8dfe3c6-6a7b-4a2a-8653-f59cc3dd3fc2",
   "metadata": {},
   "outputs": [
    {
     "name": "stdout",
     "output_type": "stream",
     "text": [
      "cleaning\n"
     ]
    }
   ],
   "source": [
    "microsoft.staff('cleaning')"
   ]
  },
  {
   "cell_type": "code",
   "execution_count": 31,
   "id": "a931db1e-cdff-429b-b7d6-c22dc50a3a57",
   "metadata": {},
   "outputs": [],
   "source": [
    "m= microsoft()"
   ]
  },
  {
   "cell_type": "code",
   "execution_count": 32,
   "id": "091cdea5-0b74-4ff6-82d4-243748902f8a",
   "metadata": {},
   "outputs": [
    {
     "name": "stdout",
     "output_type": "stream",
     "text": [
      "12 23\n"
     ]
    }
   ],
   "source": [
    "m.employer(12,23)"
   ]
  },
  {
   "cell_type": "code",
   "execution_count": 34,
   "id": "1ba4df95-beff-426f-969b-bcaff20d049b",
   "metadata": {},
   "outputs": [
    {
     "name": "stdout",
     "output_type": "stream",
     "text": [
      "cleaning\n"
     ]
    }
   ],
   "source": [
    "microsoft.class_mehtod()"
   ]
  },
  {
   "cell_type": "code",
   "execution_count": null,
   "id": "92b4696f-3126-4634-9be0-909a617aeca6",
   "metadata": {},
   "outputs": [],
   "source": []
  }
 ],
 "metadata": {
  "kernelspec": {
   "display_name": "Python 3 (ipykernel)",
   "language": "python",
   "name": "python3"
  },
  "language_info": {
   "codemirror_mode": {
    "name": "ipython",
    "version": 3
   },
   "file_extension": ".py",
   "mimetype": "text/x-python",
   "name": "python",
   "nbconvert_exporter": "python",
   "pygments_lexer": "ipython3",
   "version": "3.10.8"
  }
 },
 "nbformat": 4,
 "nbformat_minor": 5
}
