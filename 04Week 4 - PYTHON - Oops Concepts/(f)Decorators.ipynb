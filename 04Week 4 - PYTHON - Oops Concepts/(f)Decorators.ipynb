{
 "cells": [
  {
   "cell_type": "code",
   "execution_count": 1,
   "id": "dd47450b-f4de-4f3d-bed1-898d20c2bef1",
   "metadata": {},
   "outputs": [],
   "source": [
    "def test():\n",
    "    print('this is staring of function')\n",
    "    print('hari narayan')\n",
    "    print(3+3)\n",
    "    print('this is ending of function')    "
   ]
  },
  {
   "cell_type": "code",
   "execution_count": 2,
   "id": "bb880748-f348-4293-ae12-1e3393c90057",
   "metadata": {},
   "outputs": [
    {
     "name": "stdout",
     "output_type": "stream",
     "text": [
      "this is staring of function\n",
      "hari narayan\n",
      "6\n",
      "this is ending of function\n"
     ]
    }
   ],
   "source": [
    "test()"
   ]
  },
  {
   "cell_type": "code",
   "execution_count": 10,
   "id": "de89456d-4e7d-48bc-8775-21d47e84946c",
   "metadata": {},
   "outputs": [],
   "source": [
    "def deco(func):\n",
    "    def inner_dec():\n",
    "        print('this is starting')\n",
    "        func()\n",
    "        print('this is ending')\n",
    "    return inner_dec"
   ]
  },
  {
   "cell_type": "code",
   "execution_count": 11,
   "id": "397211b2-66f5-4e3a-a912-43b3910571f5",
   "metadata": {},
   "outputs": [],
   "source": [
    "@deco\n",
    "def test1():\n",
    "    print(6+7)"
   ]
  },
  {
   "cell_type": "code",
   "execution_count": 12,
   "id": "ac758cad-38bc-4f12-bbc4-6dd8bec3f7ae",
   "metadata": {},
   "outputs": [
    {
     "name": "stdout",
     "output_type": "stream",
     "text": [
      "this is starting\n",
      "13\n",
      "this is ending\n"
     ]
    }
   ],
   "source": [
    "test1()"
   ]
  },
  {
   "cell_type": "code",
   "execution_count": 13,
   "id": "00cf8268-2562-4c77-9366-8fb367c1f0ad",
   "metadata": {},
   "outputs": [],
   "source": [
    "#Time calculating "
   ]
  },
  {
   "cell_type": "code",
   "execution_count": 2,
   "id": "4b1b2441-7114-4202-b94f-1b12e34b57c3",
   "metadata": {},
   "outputs": [],
   "source": [
    "import time\n",
    "\n",
    "def timer_test(func):\n",
    "    def timer_test_inner():\n",
    "        start = time.time()\n",
    "        func()\n",
    "        end = time.time()\n",
    "        print(end - start)    \n",
    "    return timer_test_inner"
   ]
  },
  {
   "cell_type": "code",
   "execution_count": 3,
   "id": "ceba3039-4986-4431-a771-6f616eb2e8b9",
   "metadata": {},
   "outputs": [],
   "source": [
    "@timer_test\n",
    "\n",
    "def test():\n",
    "    return 3+5"
   ]
  },
  {
   "cell_type": "code",
   "execution_count": 4,
   "id": "eb69f7e6-0602-4689-92be-571a3c70d4ee",
   "metadata": {},
   "outputs": [
    {
     "name": "stdout",
     "output_type": "stream",
     "text": [
      "9.5367431640625e-07\n"
     ]
    }
   ],
   "source": [
    "test()"
   ]
  },
  {
   "cell_type": "code",
   "execution_count": 5,
   "id": "bbacb63c-d809-4c27-97ba-1af5dbf76742",
   "metadata": {},
   "outputs": [],
   "source": [
    "@timer_test\n",
    "def test2():\n",
    "    for i in range(102):\n",
    "        pass"
   ]
  },
  {
   "cell_type": "code",
   "execution_count": 6,
   "id": "5ddad79a-6b94-4f7b-a1f0-edeb8903684c",
   "metadata": {},
   "outputs": [
    {
     "name": "stdout",
     "output_type": "stream",
     "text": [
      "3.337860107421875e-06\n"
     ]
    }
   ],
   "source": [
    "test2()"
   ]
  },
  {
   "cell_type": "code",
   "execution_count": null,
   "id": "148e503b-f2e9-440f-bdd7-b5b97b7ee643",
   "metadata": {},
   "outputs": [],
   "source": []
  },
  {
   "cell_type": "code",
   "execution_count": null,
   "id": "468d69c0-1646-4477-8955-3d996cbf398c",
   "metadata": {},
   "outputs": [],
   "source": []
  }
 ],
 "metadata": {
  "kernelspec": {
   "display_name": "Python 3 (ipykernel)",
   "language": "python",
   "name": "python3"
  },
  "language_info": {
   "codemirror_mode": {
    "name": "ipython",
    "version": 3
   },
   "file_extension": ".py",
   "mimetype": "text/x-python",
   "name": "python",
   "nbconvert_exporter": "python",
   "pygments_lexer": "ipython3",
   "version": "3.10.8"
  }
 },
 "nbformat": 4,
 "nbformat_minor": 5
}
