{
 "cells": [
  {
   "cell_type": "markdown",
   "id": "b29312d8-9950-4e8b-bc93-e96c0c0f21ed",
   "metadata": {},
   "source": [
    "'Oops' stand for Object-Oriented Programming System"
   ]
  },
  {
   "cell_type": "code",
   "execution_count": 1,
   "id": "7ea842fe-2b8c-481d-9ffe-0109e1d33423",
   "metadata": {},
   "outputs": [],
   "source": [
    "a = 1"
   ]
  },
  {
   "cell_type": "code",
   "execution_count": 2,
   "id": "ea144583-8418-4d4c-8746-d2035fa014e1",
   "metadata": {},
   "outputs": [
    {
     "name": "stdout",
     "output_type": "stream",
     "text": [
      "<class 'int'>\n"
     ]
    }
   ],
   "source": [
    "print(type(a))"
   ]
  },
  {
   "cell_type": "code",
   "execution_count": 3,
   "id": "a0e526a4-284b-426e-b43d-5ecea13e09b8",
   "metadata": {},
   "outputs": [
    {
     "name": "stdout",
     "output_type": "stream",
     "text": [
      "<class 'str'>\n"
     ]
    }
   ],
   "source": [
    "print(type('ujju'))"
   ]
  },
  {
   "cell_type": "code",
   "execution_count": 4,
   "id": "627f3b00-2985-4ab8-b217-906e2f5be287",
   "metadata": {},
   "outputs": [],
   "source": [
    "class test :\n",
    "    pass"
   ]
  },
  {
   "cell_type": "code",
   "execution_count": 5,
   "id": "b2f43373-1ea5-436f-9bc6-04fed9b4a20b",
   "metadata": {},
   "outputs": [],
   "source": [
    "a = test()"
   ]
  },
  {
   "cell_type": "code",
   "execution_count": 6,
   "id": "b1553e2d-8ea7-4bc3-9c67-530607625864",
   "metadata": {},
   "outputs": [
    {
     "data": {
      "text/plain": [
       "__main__.test"
      ]
     },
     "execution_count": 6,
     "metadata": {},
     "output_type": "execute_result"
    }
   ],
   "source": [
    "type(a)"
   ]
  },
  {
   "cell_type": "code",
   "execution_count": 7,
   "id": "e9f2a2e0-da50-492a-89f4-74d9d26c8136",
   "metadata": {},
   "outputs": [
    {
     "name": "stdout",
     "output_type": "stream",
     "text": [
      "<class '__main__.test'>\n"
     ]
    }
   ],
   "source": [
    "print(type(a))"
   ]
  },
  {
   "cell_type": "code",
   "execution_count": 3,
   "id": "0b511bd4-7c6c-4a9a-b409-7819cae0858f",
   "metadata": {},
   "outputs": [],
   "source": [
    "class pwskills :\n",
    "    \n",
    "    def welcome_msg(self):\n",
    "        print('Welcome To PW skills')"
   ]
  },
  {
   "cell_type": "code",
   "execution_count": 4,
   "id": "76541501-2d79-4a9f-bd52-d5b042d6433e",
   "metadata": {},
   "outputs": [],
   "source": [
    "rohan = pwskills()"
   ]
  },
  {
   "cell_type": "code",
   "execution_count": 5,
   "id": "38b7097d-10ff-48db-8d67-d4c15174af60",
   "metadata": {},
   "outputs": [
    {
     "name": "stdout",
     "output_type": "stream",
     "text": [
      "<class '__main__.pwskills'>\n"
     ]
    }
   ],
   "source": [
    "print(type(rohan))"
   ]
  },
  {
   "cell_type": "code",
   "execution_count": 6,
   "id": "f129c4d1-9023-4fca-a743-e50ab4e0e4cd",
   "metadata": {},
   "outputs": [
    {
     "name": "stdout",
     "output_type": "stream",
     "text": [
      "Welcome To PW skills\n"
     ]
    }
   ],
   "source": [
    "rohan.welcome_msg()"
   ]
  },
  {
   "cell_type": "code",
   "execution_count": 7,
   "id": "ad68fdac-7a89-4c8f-a6c5-6b0b1bcba63d",
   "metadata": {},
   "outputs": [],
   "source": [
    "gaurav = pwskills()"
   ]
  },
  {
   "cell_type": "code",
   "execution_count": 9,
   "id": "a81b54bb-6301-4fa2-8c2a-5cf3928e04d4",
   "metadata": {},
   "outputs": [
    {
     "name": "stdout",
     "output_type": "stream",
     "text": [
      "<class '__main__.pwskills'>\n"
     ]
    }
   ],
   "source": [
    "print(type(gaurav))"
   ]
  },
  {
   "cell_type": "code",
   "execution_count": 8,
   "id": "2e02e686-6ead-40af-be35-70efc817a2a5",
   "metadata": {},
   "outputs": [
    {
     "name": "stdout",
     "output_type": "stream",
     "text": [
      "Welcome To PW skills\n"
     ]
    }
   ],
   "source": [
    "gaurav.welcome_msg()"
   ]
  },
  {
   "cell_type": "code",
   "execution_count": 12,
   "id": "f4b72e22-e3d0-43e4-82c1-4a6c267cda5a",
   "metadata": {},
   "outputs": [],
   "source": [
    "class pwskills1 :\n",
    "    \n",
    "    def __init__(self, phone_no, email_id, student_id) :\n",
    "        self.phone_no = phone_no\n",
    "        self.email_id = email_id\n",
    "        self.student_id = student_id\n",
    "        \n",
    "    def return_details(self):\n",
    "        return self.student_id, self.email_id, self.phone_no "
   ]
  },
  {
   "cell_type": "code",
   "execution_count": 15,
   "id": "280abf0e-5270-4444-a655-b4b05d80f350",
   "metadata": {},
   "outputs": [],
   "source": [
    "shree_ram = pwskills1(9876543210, 'ujjwaljaiswal@gmail.com', 369)"
   ]
  },
  {
   "cell_type": "code",
   "execution_count": 20,
   "id": "41687613-85e9-41ae-a427-42f3c72c2c9f",
   "metadata": {},
   "outputs": [
    {
     "data": {
      "text/plain": [
       "9876543210"
      ]
     },
     "execution_count": 20,
     "metadata": {},
     "output_type": "execute_result"
    }
   ],
   "source": [
    "shree_ram.phone_no"
   ]
  },
  {
   "cell_type": "code",
   "execution_count": 21,
   "id": "821b960f-09bb-4514-92dd-68a0d9153072",
   "metadata": {},
   "outputs": [
    {
     "data": {
      "text/plain": [
       "'ujjwaljaiswal@gmail.com'"
      ]
     },
     "execution_count": 21,
     "metadata": {},
     "output_type": "execute_result"
    }
   ],
   "source": [
    "shree_ram.email_id"
   ]
  },
  {
   "cell_type": "code",
   "execution_count": 16,
   "id": "20a0f60c-cb1a-4ec3-a4b9-26803f2802e7",
   "metadata": {},
   "outputs": [
    {
     "data": {
      "text/plain": [
       "(369, 'ujjwaljaiswal@gmail.com', 9876543210)"
      ]
     },
     "execution_count": 16,
     "metadata": {},
     "output_type": "execute_result"
    }
   ],
   "source": [
    "shree_ram.return_details()"
   ]
  },
  {
   "cell_type": "code",
   "execution_count": 18,
   "id": "c9beafd8-dfdc-4573-9b22-e5eba41cc97b",
   "metadata": {},
   "outputs": [],
   "source": [
    "hari_vishnu = pwskills1(9876543201, 'jaiswalv950@gmail.com', 369)"
   ]
  },
  {
   "cell_type": "code",
   "execution_count": 19,
   "id": "c53a0fc1-dd88-4510-839c-0f2445dd65ec",
   "metadata": {},
   "outputs": [
    {
     "data": {
      "text/plain": [
       "(369, 'jaiswalv950@gmail.com', 9876543201)"
      ]
     },
     "execution_count": 19,
     "metadata": {},
     "output_type": "execute_result"
    }
   ],
   "source": [
    "hari_vishnu.return_details()"
   ]
  },
  {
   "cell_type": "code",
   "execution_count": 29,
   "id": "ba3d3e6f-3428-4a09-b50d-88322ae51df3",
   "metadata": {},
   "outputs": [],
   "source": [
    "class pwskills2 :\n",
    "    \n",
    "    def __init__(self, phone_no, email_id, student_id) :\n",
    "        self.phone_no1 = phone_no\n",
    "        self.email_id1 = email_id\n",
    "        self.student_id1 = student_id\n",
    "        \n",
    "    def return_details(self):\n",
    "        return self.student_id1, self.email_id1, self.phone_no1"
   ]
  },
  {
   "cell_type": "code",
   "execution_count": 31,
   "id": "0494b82d-8a8d-4d89-a5c9-4c933e5247c1",
   "metadata": {},
   "outputs": [],
   "source": [
    "ram = pwskills2(98754, 'ujj@gmail.com', 99)"
   ]
  },
  {
   "cell_type": "code",
   "execution_count": 32,
   "id": "20b4664c-1c89-4f97-b30e-44641ba5d97c",
   "metadata": {},
   "outputs": [
    {
     "data": {
      "text/plain": [
       "98754"
      ]
     },
     "execution_count": 32,
     "metadata": {},
     "output_type": "execute_result"
    }
   ],
   "source": [
    "ram.phone_no1"
   ]
  },
  {
   "cell_type": "code",
   "execution_count": 33,
   "id": "2dd64e89-3caa-4b7f-bf54-221fabd6b363",
   "metadata": {},
   "outputs": [
    {
     "data": {
      "text/plain": [
       "'ujj@gmail.com'"
      ]
     },
     "execution_count": 33,
     "metadata": {},
     "output_type": "execute_result"
    }
   ],
   "source": [
    "ram.email_id1"
   ]
  },
  {
   "cell_type": "code",
   "execution_count": 34,
   "id": "93f99ee4-b143-4a61-ac42-2da61a1dadeb",
   "metadata": {},
   "outputs": [
    {
     "data": {
      "text/plain": [
       "(99, 'ujj@gmail.com', 98754)"
      ]
     },
     "execution_count": 34,
     "metadata": {},
     "output_type": "execute_result"
    }
   ],
   "source": [
    "ram.return_details()"
   ]
  },
  {
   "cell_type": "code",
   "execution_count": 1,
   "id": "ced9818a-ff44-4808-aea3-e813756186bb",
   "metadata": {},
   "outputs": [],
   "source": [
    "class pwskills2 :\n",
    "    \n",
    "    def __init__(shreeram, phone_no, email_id, student_id) :\n",
    "        shreeram.phone_no1 = phone_no\n",
    "        shreeram.email_id1 = email_id\n",
    "        shreeram.student_id1 = student_id\n",
    "        \n",
    "    def return_details(shreeram):\n",
    "        return shreeram.student_id1, shreeram.email_id1, shreeram.phone_no1"
   ]
  },
  {
   "cell_type": "code",
   "execution_count": 5,
   "id": "51be879a-a14c-4260-ac06-d3a3dd5fcfb0",
   "metadata": {},
   "outputs": [],
   "source": [
    "vishnu_ji = pwskills2(6666666666, 'vishnuji@gmail.com', 666)"
   ]
  },
  {
   "cell_type": "code",
   "execution_count": 6,
   "id": "f779a317-3d5f-44ec-bd43-24e9154a047d",
   "metadata": {},
   "outputs": [
    {
     "data": {
      "text/plain": [
       "6666666666"
      ]
     },
     "execution_count": 6,
     "metadata": {},
     "output_type": "execute_result"
    }
   ],
   "source": [
    "vishnu_ji.phone_no1"
   ]
  },
  {
   "cell_type": "code",
   "execution_count": 7,
   "id": "530e757a-56e1-4aba-864f-50e830da2189",
   "metadata": {},
   "outputs": [
    {
     "data": {
      "text/plain": [
       "'vishnuji@gmail.com'"
      ]
     },
     "execution_count": 7,
     "metadata": {},
     "output_type": "execute_result"
    }
   ],
   "source": [
    "vishnu_ji.email_id1"
   ]
  },
  {
   "cell_type": "code",
   "execution_count": null,
   "id": "babf3f5d-fc72-476a-8536-c1e4cf0305fd",
   "metadata": {},
   "outputs": [],
   "source": []
  }
 ],
 "metadata": {
  "kernelspec": {
   "display_name": "Python 3 (ipykernel)",
   "language": "python",
   "name": "python3"
  },
  "language_info": {
   "codemirror_mode": {
    "name": "ipython",
    "version": 3
   },
   "file_extension": ".py",
   "mimetype": "text/x-python",
   "name": "python",
   "nbconvert_exporter": "python",
   "pygments_lexer": "ipython3",
   "version": "3.10.8"
  }
 },
 "nbformat": 4,
 "nbformat_minor": 5
}
