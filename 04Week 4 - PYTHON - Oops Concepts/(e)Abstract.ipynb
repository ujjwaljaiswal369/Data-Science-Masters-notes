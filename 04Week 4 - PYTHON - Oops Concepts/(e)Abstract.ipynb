{
 "cells": [
  {
   "cell_type": "code",
   "execution_count": 15,
   "id": "5344522e-9377-45eb-b96f-91edd12511dc",
   "metadata": {},
   "outputs": [],
   "source": [
    "import abc\n",
    "class pwskills :\n",
    "    \n",
    "    @abc.abstractmethod\n",
    "    def student_details(self):\n",
    "        pass\n",
    "    \n",
    "    @abc.abstractmethod\n",
    "    def student_assignment(self):\n",
    "        pass\n",
    "    \n",
    "    @abc.abstractmethod\n",
    "    def student_marks(self):\n",
    "        pass"
   ]
  },
  {
   "cell_type": "code",
   "execution_count": 16,
   "id": "b45bb510-ec92-4f53-a957-f165486d5fa8",
   "metadata": {},
   "outputs": [],
   "source": [
    "class student_details(pwskills):\n",
    "    \n",
    "    def student_assignment(self):\n",
    "        return 'This is assignment for student'\n",
    "    \n",
    "    def student_marks(self):\n",
    "        return 'this is marks of students'"
   ]
  },
  {
   "cell_type": "code",
   "execution_count": 17,
   "id": "e7a7b652-aef2-4136-990e-060b4edf7a0e",
   "metadata": {},
   "outputs": [],
   "source": [
    "class data_science(pwskills):\n",
    "    \n",
    "    def student_details(self):\n",
    "        return 'here is course of student'\n",
    "    \n",
    "    def student_assignment(self):\n",
    "        return 'Completing the assignment'"
   ]
  },
  {
   "cell_type": "code",
   "execution_count": 18,
   "id": "69f2ece8-e3c8-4cc8-aa63-e141365862e4",
   "metadata": {},
   "outputs": [],
   "source": [
    "dsm = data_science()"
   ]
  },
  {
   "cell_type": "code",
   "execution_count": 21,
   "id": "a0689446-1046-4438-ba75-93262a283786",
   "metadata": {},
   "outputs": [
    {
     "data": {
      "text/plain": [
       "'Completing the assignment'"
      ]
     },
     "execution_count": 21,
     "metadata": {},
     "output_type": "execute_result"
    }
   ],
   "source": [
    "dsm.student_assignment()"
   ]
  },
  {
   "cell_type": "code",
   "execution_count": 9,
   "id": "02e08bef-e9b1-41ff-8161-d4a9992c8b43",
   "metadata": {},
   "outputs": [
    {
     "data": {
      "text/plain": [
       "'here is course of student'"
      ]
     },
     "execution_count": 9,
     "metadata": {},
     "output_type": "execute_result"
    }
   ],
   "source": [
    "dsm.student_details()"
   ]
  },
  {
   "cell_type": "code",
   "execution_count": 10,
   "id": "8c12040a-33ed-43bc-a81a-d74a7ff11a4d",
   "metadata": {},
   "outputs": [],
   "source": [
    "sd = student_details()"
   ]
  },
  {
   "cell_type": "code",
   "execution_count": 11,
   "id": "86d9efa7-bdc3-438e-a7c9-94cd1e234f9b",
   "metadata": {},
   "outputs": [
    {
     "data": {
      "text/plain": [
       "'this is marks of students'"
      ]
     },
     "execution_count": 11,
     "metadata": {},
     "output_type": "execute_result"
    }
   ],
   "source": [
    "sd.student_marks()"
   ]
  },
  {
   "cell_type": "code",
   "execution_count": 12,
   "id": "0bddb692-6177-4708-9780-d5db87eeb61d",
   "metadata": {},
   "outputs": [
    {
     "data": {
      "text/plain": [
       "'This is assignment for student'"
      ]
     },
     "execution_count": 12,
     "metadata": {},
     "output_type": "execute_result"
    }
   ],
   "source": [
    "sd.student_assignment()"
   ]
  },
  {
   "cell_type": "code",
   "execution_count": null,
   "id": "3d7be4e1-5b70-497b-b015-7c1e6fb03d8e",
   "metadata": {},
   "outputs": [],
   "source": []
  }
 ],
 "metadata": {
  "kernelspec": {
   "display_name": "Python 3 (ipykernel)",
   "language": "python",
   "name": "python3"
  },
  "language_info": {
   "codemirror_mode": {
    "name": "ipython",
    "version": 3
   },
   "file_extension": ".py",
   "mimetype": "text/x-python",
   "name": "python",
   "nbconvert_exporter": "python",
   "pygments_lexer": "ipython3",
   "version": "3.10.8"
  }
 },
 "nbformat": 4,
 "nbformat_minor": 5
}
