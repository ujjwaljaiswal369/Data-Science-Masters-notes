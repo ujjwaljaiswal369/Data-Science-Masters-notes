{
 "cells": [
  {
   "cell_type": "code",
   "execution_count": 3,
   "id": "b456c8bd-0cdc-44ec-a6ce-58f6f01b0cc9",
   "metadata": {},
   "outputs": [],
   "source": [
    "class pwskills :\n",
    "    \n",
    "    def __init__(self, name, email):\n",
    "        self.name = name \n",
    "        self.email = email\n",
    "        \n",
    "    def students_details(self):\n",
    "        print(self.name, self.email)"
   ]
  },
  {
   "cell_type": "code",
   "execution_count": 4,
   "id": "c003a7c4-34fd-4e6a-9714-b29bc19bc70e",
   "metadata": {},
   "outputs": [],
   "source": [
    "pw = pwskills('shree_ram', 'ramji@gmail.com')"
   ]
  },
  {
   "cell_type": "code",
   "execution_count": 9,
   "id": "f9726e49-4e84-47d4-a168-2441f102dae8",
   "metadata": {},
   "outputs": [
    {
     "data": {
      "text/plain": [
       "'shree_ram'"
      ]
     },
     "execution_count": 9,
     "metadata": {},
     "output_type": "execute_result"
    }
   ],
   "source": [
    "pw.name"
   ]
  },
  {
   "cell_type": "code",
   "execution_count": 8,
   "id": "3e8eeffa-c791-4689-a6cc-b2d8e38031e8",
   "metadata": {},
   "outputs": [
    {
     "data": {
      "text/plain": [
       "'ramji@gmail.com'"
      ]
     },
     "execution_count": 8,
     "metadata": {},
     "output_type": "execute_result"
    }
   ],
   "source": [
    "pw.email"
   ]
  },
  {
   "cell_type": "code",
   "execution_count": 10,
   "id": "e7f2a9ff-66a9-44e7-8d7f-ef3b1bd6a017",
   "metadata": {},
   "outputs": [],
   "source": [
    "#class method"
   ]
  },
  {
   "cell_type": "code",
   "execution_count": 1,
   "id": "d66e24bf-c570-4ead-8667-50aa641f1695",
   "metadata": {},
   "outputs": [],
   "source": [
    "class pwskills1 :\n",
    "    \n",
    "    def __init__(self, name, email):\n",
    "        self.name = name \n",
    "        self.email = email\n",
    "     \n",
    "    @classmethod\n",
    "    def details(cls, name , email):\n",
    "        return cls(name, email)\n",
    "        \n",
    "    def students_details(self):\n",
    "        print(self.name, self.email)"
   ]
  },
  {
   "cell_type": "code",
   "execution_count": 4,
   "id": "e2c021d6-3c7f-47d7-a660-96a292790a91",
   "metadata": {},
   "outputs": [],
   "source": [
    "pw1 =  pwskills1.details('ujjwal', 'ujjwal491@gmail.com')"
   ]
  },
  {
   "cell_type": "code",
   "execution_count": 5,
   "id": "e922e7c7-b371-4ce8-b09d-fd700a30b2fb",
   "metadata": {},
   "outputs": [
    {
     "data": {
      "text/plain": [
       "'ujjwal'"
      ]
     },
     "execution_count": 5,
     "metadata": {},
     "output_type": "execute_result"
    }
   ],
   "source": [
    "pw1.name"
   ]
  },
  {
   "cell_type": "code",
   "execution_count": 6,
   "id": "e2db9ec0-71cc-4d5b-b514-0310f938762b",
   "metadata": {},
   "outputs": [
    {
     "data": {
      "text/plain": [
       "'ujjwal491@gmail.com'"
      ]
     },
     "execution_count": 6,
     "metadata": {},
     "output_type": "execute_result"
    }
   ],
   "source": [
    "pw1.email"
   ]
  },
  {
   "cell_type": "code",
   "execution_count": 7,
   "id": "40671242-55de-43bd-8a46-43ca2a0154b4",
   "metadata": {},
   "outputs": [
    {
     "name": "stdout",
     "output_type": "stream",
     "text": [
      "ujjwal ujjwal491@gmail.com\n"
     ]
    }
   ],
   "source": [
    "pw1.students_details()"
   ]
  },
  {
   "cell_type": "code",
   "execution_count": null,
   "id": "2b6d3137-c063-4cd8-804f-7ace5c5515c7",
   "metadata": {},
   "outputs": [],
   "source": []
  },
  {
   "cell_type": "code",
   "execution_count": 22,
   "id": "ab801c88-ca40-482e-a34c-99c2f853cce6",
   "metadata": {},
   "outputs": [],
   "source": [
    "class pwskills2 :\n",
    "    \n",
    "    mobile_num = 6378112666\n",
    "    \n",
    "    def __init__(self, name, email):\n",
    "        self.name = name \n",
    "        self.email = email\n",
    "    \n",
    "    @classmethod\n",
    "    def change_num(cls, mobile):\n",
    "        pwskills2.mobile_num = mobile\n",
    "     \n",
    "    @classmethod\n",
    "    def details(cls, name , email):\n",
    "        return cls(name, email)\n",
    "        \n",
    "    def students_details(self):\n",
    "        print(self.name, self.email, pwskills2.mobile_num)"
   ]
  },
  {
   "cell_type": "code",
   "execution_count": 23,
   "id": "8401a6bf-505f-41e8-af8d-b09929af8c00",
   "metadata": {},
   "outputs": [],
   "source": [
    "pw2 = pwskills2('shree ram', 'shreeram@gmail.com')"
   ]
  },
  {
   "cell_type": "code",
   "execution_count": 25,
   "id": "a070a3b3-4450-48ad-b75c-06a81fc1ad18",
   "metadata": {},
   "outputs": [
    {
     "name": "stdout",
     "output_type": "stream",
     "text": [
      "shree ram shreeram@gmail.com 6378112666\n"
     ]
    }
   ],
   "source": [
    "pw2.students_details()"
   ]
  },
  {
   "cell_type": "code",
   "execution_count": 26,
   "id": "e769feab-1202-4cdd-a06a-f115a57fec07",
   "metadata": {},
   "outputs": [],
   "source": [
    "pw1 = pwskills2.details('ujju', 'ujju@gmail.com')"
   ]
  },
  {
   "cell_type": "code",
   "execution_count": 29,
   "id": "b32b794b-b745-46c3-b080-593298f4fbe7",
   "metadata": {},
   "outputs": [
    {
     "name": "stdout",
     "output_type": "stream",
     "text": [
      "ujju ujju@gmail.com 6378112666\n"
     ]
    }
   ],
   "source": [
    "pw1.students_details()"
   ]
  },
  {
   "cell_type": "code",
   "execution_count": 12,
   "id": "5119dc75-99a2-400f-b83a-9d35eeccc8ae",
   "metadata": {},
   "outputs": [
    {
     "data": {
      "text/plain": [
       "9116035836"
      ]
     },
     "execution_count": 12,
     "metadata": {},
     "output_type": "execute_result"
    }
   ],
   "source": [
    "pwskills2.mobile_num"
   ]
  },
  {
   "cell_type": "code",
   "execution_count": 30,
   "id": "e24185b5-b8c9-47ea-b151-77b9cd1cf8aa",
   "metadata": {},
   "outputs": [],
   "source": [
    "pwskills2.change_num(9116035836)"
   ]
  },
  {
   "cell_type": "code",
   "execution_count": 31,
   "id": "a1979764-04ba-443d-980c-1cbd47b04df6",
   "metadata": {},
   "outputs": [],
   "source": [
    "class pwskills3 :\n",
    "    \n",
    "    mobile_num = 6378112666\n",
    "    \n",
    "    def __init__(self, name, email):\n",
    "        self.name = name \n",
    "        self.email = email\n",
    "    \n",
    "    @classmethod\n",
    "    def change_num(cls, mobile):\n",
    "        pwskills2.mobile_num = mobile\n",
    "     \n",
    "    @classmethod\n",
    "    def details(cls, name , email):\n",
    "        return cls(name, email)\n",
    "        \n",
    "    def students_details(self):\n",
    "        print(self.name, self.email, pwskills2.mobile_num)"
   ]
  },
  {
   "cell_type": "code",
   "execution_count": 35,
   "id": "a7887df4-66ca-4e5f-9fae-8413f1e46389",
   "metadata": {},
   "outputs": [],
   "source": [
    "def course_details(cls, course_name):\n",
    "    print('Course name is', course_name)"
   ]
  },
  {
   "cell_type": "code",
   "execution_count": 36,
   "id": "1fd0063b-3062-40cb-84ce-cf9b6b17886f",
   "metadata": {},
   "outputs": [],
   "source": [
    "pwskills3.course_details = classmethod(course_details)"
   ]
  },
  {
   "cell_type": "code",
   "execution_count": 37,
   "id": "ed2aef93-c6ba-4048-b19a-0a7b43b0d0b6",
   "metadata": {},
   "outputs": [
    {
     "name": "stdout",
     "output_type": "stream",
     "text": [
      "Course name is Data Science Masters\n"
     ]
    }
   ],
   "source": [
    "pwskills3.course_details('Data Science Masters')"
   ]
  },
  {
   "cell_type": "code",
   "execution_count": 38,
   "id": "73a00346-89fd-4a60-933c-fcc6db6a5b34",
   "metadata": {},
   "outputs": [],
   "source": [
    "def mentor(cls, list_of_mentor):\n",
    "    print(list_of_mentor)"
   ]
  },
  {
   "cell_type": "code",
   "execution_count": 39,
   "id": "e308c0cc-ab14-4355-ac46-3ffecbe8f373",
   "metadata": {},
   "outputs": [],
   "source": [
    "pwskills3.mentor = classmethod(mentor)"
   ]
  },
  {
   "cell_type": "code",
   "execution_count": 40,
   "id": "c4647a63-5462-409b-9865-04cdc6c6b6b7",
   "metadata": {},
   "outputs": [
    {
     "name": "stdout",
     "output_type": "stream",
     "text": [
      "['sudhanshu', 'krish naik', 'shree ram']\n"
     ]
    }
   ],
   "source": [
    "pwskills3.mentor(['sudhanshu', 'krish naik', 'shree ram'])"
   ]
  },
  {
   "cell_type": "code",
   "execution_count": 41,
   "id": "bee44686-d79b-4b62-a62d-25ea79925097",
   "metadata": {},
   "outputs": [],
   "source": [
    "class pwskills3 :\n",
    "    \n",
    "    mobile_num = 6378112666\n",
    "    \n",
    "    def __init__(self, name, email):\n",
    "        self.name = name \n",
    "        self.email = email\n",
    "    \n",
    "    @classmethod\n",
    "    def change_num(cls, mobile):\n",
    "        pwskills2.mobile_num = mobile\n",
    "     \n",
    "    @classmethod\n",
    "    def details(cls, name , email):\n",
    "        return cls(name, email)\n",
    "        \n",
    "    def students_details(self):\n",
    "        print(self.name, self.email, pwskills2.mobile_num)"
   ]
  },
  {
   "cell_type": "code",
   "execution_count": 42,
   "id": "c2c5b31e-af15-4aed-9487-0b8d884cdf8d",
   "metadata": {},
   "outputs": [],
   "source": [
    "del pwskills3.change_num"
   ]
  },
  {
   "cell_type": "code",
   "execution_count": 44,
   "id": "0d7eea1e-36cb-4547-96c8-917d5e0231dd",
   "metadata": {},
   "outputs": [],
   "source": [
    "delattr(pwskills3, 'students_details')"
   ]
  },
  {
   "cell_type": "code",
   "execution_count": null,
   "id": "9036c3bb-69c6-43ae-bae3-ca2e1cf538ee",
   "metadata": {},
   "outputs": [],
   "source": []
  }
 ],
 "metadata": {
  "kernelspec": {
   "display_name": "Python 3 (ipykernel)",
   "language": "python",
   "name": "python3"
  },
  "language_info": {
   "codemirror_mode": {
    "name": "ipython",
    "version": 3
   },
   "file_extension": ".py",
   "mimetype": "text/x-python",
   "name": "python",
   "nbconvert_exporter": "python",
   "pygments_lexer": "ipython3",
   "version": "3.10.8"
  }
 },
 "nbformat": 4,
 "nbformat_minor": 5
}
