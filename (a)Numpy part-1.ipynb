{
 "cells": [
  {
   "cell_type": "code",
   "execution_count": 1,
   "id": "1b6ea0f4-27c6-4103-a794-f1827eb1d17a",
   "metadata": {},
   "outputs": [],
   "source": [
    "import numpy as np"
   ]
  },
  {
   "cell_type": "code",
   "execution_count": 2,
   "id": "81beec44-fb6d-4ba3-a8a6-1107886962a9",
   "metadata": {},
   "outputs": [],
   "source": [
    "l = [1,2,3,4]"
   ]
  },
  {
   "cell_type": "code",
   "execution_count": 3,
   "id": "66cc4863-bf43-427a-a920-cb50a71fa743",
   "metadata": {},
   "outputs": [],
   "source": [
    "ar = np.array(l)"
   ]
  },
  {
   "cell_type": "code",
   "execution_count": 4,
   "id": "ace7ef93-4d97-4c74-8cf9-9165dfa3f32e",
   "metadata": {},
   "outputs": [
    {
     "data": {
      "text/plain": [
       "array([1, 2, 3, 4])"
      ]
     },
     "execution_count": 4,
     "metadata": {},
     "output_type": "execute_result"
    }
   ],
   "source": [
    "ar"
   ]
  },
  {
   "cell_type": "code",
   "execution_count": 5,
   "id": "81431704-3886-498e-b12a-ec846f997ed1",
   "metadata": {},
   "outputs": [
    {
     "data": {
      "text/plain": [
       "numpy.ndarray"
      ]
     },
     "execution_count": 5,
     "metadata": {},
     "output_type": "execute_result"
    }
   ],
   "source": [
    "type(ar)"
   ]
  },
  {
   "cell_type": "code",
   "execution_count": 6,
   "id": "7c83f772-bc3a-481b-b6d4-2244440c7c37",
   "metadata": {},
   "outputs": [
    {
     "data": {
      "text/plain": [
       "array([[1, 2],\n",
       "       [4, 5]])"
      ]
     },
     "execution_count": 6,
     "metadata": {},
     "output_type": "execute_result"
    }
   ],
   "source": [
    "np.array([[1,2],[4,5]])"
   ]
  },
  {
   "cell_type": "code",
   "execution_count": 7,
   "id": "094f413a-43ab-470c-9c5b-080d056c7ca8",
   "metadata": {},
   "outputs": [
    {
     "data": {
      "text/plain": [
       "array([1, 2, 3, 4])"
      ]
     },
     "execution_count": 7,
     "metadata": {},
     "output_type": "execute_result"
    }
   ],
   "source": [
    "np.asarray(l)"
   ]
  },
  {
   "cell_type": "code",
   "execution_count": 8,
   "id": "d66deb6d-6245-41b9-b549-30cc6abbd877",
   "metadata": {},
   "outputs": [
    {
     "data": {
      "text/plain": [
       "array([2, 3, 4])"
      ]
     },
     "execution_count": 8,
     "metadata": {},
     "output_type": "execute_result"
    }
   ],
   "source": [
    "np.asanyarray([2,3,4])"
   ]
  },
  {
   "cell_type": "code",
   "execution_count": 9,
   "id": "4eebee9c-7b0b-4d87-9d5f-55348b353cb2",
   "metadata": {},
   "outputs": [],
   "source": [
    "b = np.matrix(l)"
   ]
  },
  {
   "cell_type": "code",
   "execution_count": 10,
   "id": "ca8ae098-caee-4389-9998-1d7ebf7a7641",
   "metadata": {},
   "outputs": [
    {
     "data": {
      "text/plain": [
       "matrix([[1, 2, 3, 4]])"
      ]
     },
     "execution_count": 10,
     "metadata": {},
     "output_type": "execute_result"
    }
   ],
   "source": [
    "b"
   ]
  },
  {
   "cell_type": "code",
   "execution_count": 11,
   "id": "d8a5ab8a-f0c7-4c1c-af51-5b0e3518f89f",
   "metadata": {},
   "outputs": [
    {
     "data": {
      "text/plain": [
       "matrix([[1, 2, 3, 4]])"
      ]
     },
     "execution_count": 11,
     "metadata": {},
     "output_type": "execute_result"
    }
   ],
   "source": [
    "np.asanyarray(b)"
   ]
  },
  {
   "cell_type": "code",
   "execution_count": 12,
   "id": "4a9d09cf-53fb-442d-bb5e-704523b94e7c",
   "metadata": {},
   "outputs": [],
   "source": [
    "a = np.array(l)"
   ]
  },
  {
   "cell_type": "code",
   "execution_count": 13,
   "id": "f71724e5-4408-483a-b8f5-d9bfbafcb0a2",
   "metadata": {},
   "outputs": [
    {
     "data": {
      "text/plain": [
       "array([1, 2, 3, 4])"
      ]
     },
     "execution_count": 13,
     "metadata": {},
     "output_type": "execute_result"
    }
   ],
   "source": [
    "a"
   ]
  },
  {
   "cell_type": "code",
   "execution_count": 14,
   "id": "c1bce0d3-afc8-4127-b801-98826b0afd6f",
   "metadata": {},
   "outputs": [],
   "source": [
    "c = a"
   ]
  },
  {
   "cell_type": "code",
   "execution_count": 15,
   "id": "22c30910-f8eb-4c71-a717-dc2a5a32fe06",
   "metadata": {},
   "outputs": [
    {
     "data": {
      "text/plain": [
       "array([1, 2, 3, 4])"
      ]
     },
     "execution_count": 15,
     "metadata": {},
     "output_type": "execute_result"
    }
   ],
   "source": [
    "c"
   ]
  },
  {
   "cell_type": "code",
   "execution_count": 16,
   "id": "3a555fb1-d57a-48ed-9815-c914db8ab0f1",
   "metadata": {},
   "outputs": [
    {
     "data": {
      "text/plain": [
       "array([1, 2, 3, 4])"
      ]
     },
     "execution_count": 16,
     "metadata": {},
     "output_type": "execute_result"
    }
   ],
   "source": [
    "a"
   ]
  },
  {
   "cell_type": "code",
   "execution_count": 17,
   "id": "670bdda8-6303-437c-a720-5253fb735435",
   "metadata": {},
   "outputs": [],
   "source": [
    "c[0] = 100"
   ]
  },
  {
   "cell_type": "code",
   "execution_count": 18,
   "id": "56157c83-632a-4ab7-b0fc-f6e3dc012125",
   "metadata": {},
   "outputs": [
    {
     "data": {
      "text/plain": [
       "array([100,   2,   3,   4])"
      ]
     },
     "execution_count": 18,
     "metadata": {},
     "output_type": "execute_result"
    }
   ],
   "source": [
    "c"
   ]
  },
  {
   "cell_type": "code",
   "execution_count": 19,
   "id": "00572133-df69-4936-aa21-845fc0cd7c64",
   "metadata": {},
   "outputs": [
    {
     "data": {
      "text/plain": [
       "array([100,   2,   3,   4])"
      ]
     },
     "execution_count": 19,
     "metadata": {},
     "output_type": "execute_result"
    }
   ],
   "source": [
    "a"
   ]
  },
  {
   "cell_type": "code",
   "execution_count": 20,
   "id": "5fa69995-0dca-4ddb-857d-bccb1d6de0a1",
   "metadata": {},
   "outputs": [],
   "source": [
    "d = np.copy(a)"
   ]
  },
  {
   "cell_type": "code",
   "execution_count": 21,
   "id": "710495c1-a7c0-400c-ba22-3be053da8d65",
   "metadata": {},
   "outputs": [
    {
     "data": {
      "text/plain": [
       "array([100,   2,   3,   4])"
      ]
     },
     "execution_count": 21,
     "metadata": {},
     "output_type": "execute_result"
    }
   ],
   "source": [
    "d"
   ]
  },
  {
   "cell_type": "code",
   "execution_count": 22,
   "id": "6b38c1c1-797b-40e2-a2a5-d43f96a21d45",
   "metadata": {},
   "outputs": [
    {
     "data": {
      "text/plain": [
       "array([100,   2,   3,   4])"
      ]
     },
     "execution_count": 22,
     "metadata": {},
     "output_type": "execute_result"
    }
   ],
   "source": [
    "a"
   ]
  },
  {
   "cell_type": "code",
   "execution_count": 23,
   "id": "6138bc94-0f93-4ae9-b3ac-cff3554fb27e",
   "metadata": {},
   "outputs": [],
   "source": [
    "d[0] = 200"
   ]
  },
  {
   "cell_type": "code",
   "execution_count": 24,
   "id": "0a4454b6-8edf-469c-89bc-535b93377725",
   "metadata": {},
   "outputs": [
    {
     "data": {
      "text/plain": [
       "array([200,   2,   3,   4])"
      ]
     },
     "execution_count": 24,
     "metadata": {},
     "output_type": "execute_result"
    }
   ],
   "source": [
    "d"
   ]
  },
  {
   "cell_type": "code",
   "execution_count": 25,
   "id": "ffa553ed-f4e8-48bc-9648-35684546d51c",
   "metadata": {},
   "outputs": [
    {
     "data": {
      "text/plain": [
       "array([100,   2,   3,   4])"
      ]
     },
     "execution_count": 25,
     "metadata": {},
     "output_type": "execute_result"
    }
   ],
   "source": [
    "a"
   ]
  },
  {
   "cell_type": "code",
   "execution_count": 26,
   "id": "875e405c-8752-409c-a34b-432a048c741c",
   "metadata": {},
   "outputs": [],
   "source": [
    "a[0] = 300"
   ]
  },
  {
   "cell_type": "code",
   "execution_count": 27,
   "id": "7040279b-b629-49d4-a82a-d9897291e3a8",
   "metadata": {},
   "outputs": [
    {
     "data": {
      "text/plain": [
       "array([300,   2,   3,   4])"
      ]
     },
     "execution_count": 27,
     "metadata": {},
     "output_type": "execute_result"
    }
   ],
   "source": [
    "a"
   ]
  },
  {
   "cell_type": "code",
   "execution_count": 28,
   "id": "2549a1c8-1ace-4b63-abab-345a88475b6e",
   "metadata": {},
   "outputs": [
    {
     "data": {
      "text/plain": [
       "array([200,   2,   3,   4])"
      ]
     },
     "execution_count": 28,
     "metadata": {},
     "output_type": "execute_result"
    }
   ],
   "source": [
    "d"
   ]
  },
  {
   "cell_type": "code",
   "execution_count": 29,
   "id": "72c8e4e1-81fc-47bf-bc63-fb1ae80d6b19",
   "metadata": {},
   "outputs": [
    {
     "data": {
      "text/plain": [
       "array([[ True, False, False],\n",
       "       [False,  True, False],\n",
       "       [False, False,  True]])"
      ]
     },
     "execution_count": 29,
     "metadata": {},
     "output_type": "execute_result"
    }
   ],
   "source": [
    "np.fromfunction(lambda i,j : i==j , (3,3))"
   ]
  },
  {
   "cell_type": "code",
   "execution_count": 30,
   "id": "3f86e633-35a2-4dce-b29b-9d20220d198e",
   "metadata": {},
   "outputs": [
    {
     "data": {
      "text/plain": [
       "array([[0., 0., 0.],\n",
       "       [0., 1., 2.],\n",
       "       [0., 2., 4.]])"
      ]
     },
     "execution_count": 30,
     "metadata": {},
     "output_type": "execute_result"
    }
   ],
   "source": [
    "np.fromfunction(lambda i,j : i*j, (3,3))"
   ]
  },
  {
   "cell_type": "code",
   "execution_count": 31,
   "id": "f6cf1bb2-62ac-4bf2-a0fe-42cdb5c31ce2",
   "metadata": {},
   "outputs": [
    {
     "data": {
      "text/plain": [
       "array([[0., 1., 2.],\n",
       "       [1., 2., 3.],\n",
       "       [2., 3., 4.]])"
      ]
     },
     "execution_count": 31,
     "metadata": {},
     "output_type": "execute_result"
    }
   ],
   "source": [
    "np.fromfunction(lambda i,j : i+j, (3,3))"
   ]
  },
  {
   "cell_type": "code",
   "execution_count": 133,
   "id": "3b5874f8-8c8a-4aa1-90ab-1c60c273cf0a",
   "metadata": {},
   "outputs": [],
   "source": [
    "iterable = (i*i for i in range(5))"
   ]
  },
  {
   "cell_type": "code",
   "execution_count": 135,
   "id": "8df68a44-ac9a-48b9-84f4-fdda358faf37",
   "metadata": {},
   "outputs": [
    {
     "data": {
      "text/plain": [
       "<generator object <genexpr> at 0x7f4dd5400900>"
      ]
     },
     "execution_count": 135,
     "metadata": {},
     "output_type": "execute_result"
    }
   ],
   "source": [
    "iterable"
   ]
  },
  {
   "cell_type": "code",
   "execution_count": 33,
   "id": "c00a5c81-92b7-404d-b0c7-d2148618b6ed",
   "metadata": {},
   "outputs": [
    {
     "data": {
      "text/plain": [
       "array([ 0.,  1.,  4.,  9., 16.])"
      ]
     },
     "execution_count": 33,
     "metadata": {},
     "output_type": "execute_result"
    }
   ],
   "source": [
    "np.fromiter(iterable, float)"
   ]
  },
  {
   "cell_type": "code",
   "execution_count": 139,
   "id": "8dcda995-75dc-4b7c-889f-900a451a5bbf",
   "metadata": {},
   "outputs": [
    {
     "data": {
      "text/plain": [
       "array([234., 234.])"
      ]
     },
     "execution_count": 139,
     "metadata": {},
     "output_type": "execute_result"
    }
   ],
   "source": [
    "np.fromstring('234 234', sep = ' ')"
   ]
  },
  {
   "cell_type": "code",
   "execution_count": 138,
   "id": "36b66f6b-48ff-4c11-83d3-046a02f5b745",
   "metadata": {},
   "outputs": [
    {
     "data": {
      "text/plain": [
       "array([4., 3.])"
      ]
     },
     "execution_count": 138,
     "metadata": {},
     "output_type": "execute_result"
    }
   ],
   "source": [
    "np.fromstring('4,3', sep = ',')"
   ]
  },
  {
   "cell_type": "code",
   "execution_count": 140,
   "id": "a62400f8-692b-4b75-806a-1ae36afd72bd",
   "metadata": {},
   "outputs": [
    {
     "data": {
      "text/plain": [
       "array([3., 6., 9.])"
      ]
     },
     "execution_count": 140,
     "metadata": {},
     "output_type": "execute_result"
    }
   ],
   "source": [
    "np.fromstring('3,6,9' , sep = ',')"
   ]
  },
  {
   "cell_type": "code",
   "execution_count": 36,
   "id": "201cf7e1-891c-4fed-8464-5666dc1bc912",
   "metadata": {},
   "outputs": [],
   "source": [
    "#Numpy - Data Types."
   ]
  },
  {
   "cell_type": "code",
   "execution_count": 37,
   "id": "014d02d3-601e-4348-b68e-cc6cc47204da",
   "metadata": {},
   "outputs": [],
   "source": [
    "l = [1,2,3,4]"
   ]
  },
  {
   "cell_type": "code",
   "execution_count": 38,
   "id": "a6c81398-d073-4485-a7d3-0e51e2a0ef43",
   "metadata": {},
   "outputs": [],
   "source": [
    "ar = np.array(l)"
   ]
  },
  {
   "cell_type": "code",
   "execution_count": 39,
   "id": "f0653c95-e01b-4703-b968-682a1c7644b5",
   "metadata": {},
   "outputs": [
    {
     "data": {
      "text/plain": [
       "array([1, 2, 3, 4])"
      ]
     },
     "execution_count": 39,
     "metadata": {},
     "output_type": "execute_result"
    }
   ],
   "source": [
    "ar"
   ]
  },
  {
   "cell_type": "code",
   "execution_count": 40,
   "id": "b3b61a0e-52cf-4dc2-9edf-f34ca6117873",
   "metadata": {},
   "outputs": [
    {
     "data": {
      "text/plain": [
       "1"
      ]
     },
     "execution_count": 40,
     "metadata": {},
     "output_type": "execute_result"
    }
   ],
   "source": [
    "ar.ndim"
   ]
  },
  {
   "cell_type": "code",
   "execution_count": 41,
   "id": "ccd45abe-126a-4aca-836e-f67381ab671d",
   "metadata": {},
   "outputs": [],
   "source": [
    "ar2 = np.array([[1,2,3,4], [4,5,6,7]])"
   ]
  },
  {
   "cell_type": "code",
   "execution_count": 42,
   "id": "99f283d7-26f1-4687-a50b-9aa5ec6be62b",
   "metadata": {},
   "outputs": [
    {
     "data": {
      "text/plain": [
       "array([[1, 2, 3, 4],\n",
       "       [4, 5, 6, 7]])"
      ]
     },
     "execution_count": 42,
     "metadata": {},
     "output_type": "execute_result"
    }
   ],
   "source": [
    "ar2"
   ]
  },
  {
   "cell_type": "code",
   "execution_count": 43,
   "id": "deea5f9a-48a1-4e48-a58f-5c1ccfb4791c",
   "metadata": {},
   "outputs": [
    {
     "data": {
      "text/plain": [
       "2"
      ]
     },
     "execution_count": 43,
     "metadata": {},
     "output_type": "execute_result"
    }
   ],
   "source": [
    "ar2.ndim"
   ]
  },
  {
   "cell_type": "code",
   "execution_count": 44,
   "id": "fd07ca42-ce13-44e8-89a9-0351fd0a42a0",
   "metadata": {},
   "outputs": [
    {
     "data": {
      "text/plain": [
       "dtype('int64')"
      ]
     },
     "execution_count": 44,
     "metadata": {},
     "output_type": "execute_result"
    }
   ],
   "source": [
    "ar2.dtype"
   ]
  },
  {
   "cell_type": "code",
   "execution_count": 45,
   "id": "3aa86929-d80b-4e07-8674-5562547b64cc",
   "metadata": {},
   "outputs": [
    {
     "data": {
      "text/plain": [
       "dtype('int64')"
      ]
     },
     "execution_count": 45,
     "metadata": {},
     "output_type": "execute_result"
    }
   ],
   "source": [
    "ar.dtype"
   ]
  },
  {
   "cell_type": "code",
   "execution_count": 46,
   "id": "203676ad-2d19-433a-b3c2-c59af4439ef5",
   "metadata": {},
   "outputs": [
    {
     "data": {
      "text/plain": [
       "array([1, 2, 3, 4])"
      ]
     },
     "execution_count": 46,
     "metadata": {},
     "output_type": "execute_result"
    }
   ],
   "source": [
    "ar"
   ]
  },
  {
   "cell_type": "code",
   "execution_count": 47,
   "id": "d90ab0a1-837e-4268-9426-4a344e915167",
   "metadata": {},
   "outputs": [
    {
     "data": {
      "text/plain": [
       "4"
      ]
     },
     "execution_count": 47,
     "metadata": {},
     "output_type": "execute_result"
    }
   ],
   "source": [
    "ar.size"
   ]
  },
  {
   "cell_type": "code",
   "execution_count": 48,
   "id": "3b8b0707-af85-43dd-93c2-d377db5699ff",
   "metadata": {},
   "outputs": [
    {
     "data": {
      "text/plain": [
       "array([[1, 2, 3, 4],\n",
       "       [4, 5, 6, 7]])"
      ]
     },
     "execution_count": 48,
     "metadata": {},
     "output_type": "execute_result"
    }
   ],
   "source": [
    "ar2"
   ]
  },
  {
   "cell_type": "code",
   "execution_count": 49,
   "id": "e1720033-f7e3-4fcb-8b17-5720d7388187",
   "metadata": {},
   "outputs": [
    {
     "data": {
      "text/plain": [
       "8"
      ]
     },
     "execution_count": 49,
     "metadata": {},
     "output_type": "execute_result"
    }
   ],
   "source": [
    "ar2.size"
   ]
  },
  {
   "cell_type": "code",
   "execution_count": 50,
   "id": "34064ced-ffb2-458d-86ae-93f147863e58",
   "metadata": {},
   "outputs": [
    {
     "data": {
      "text/plain": [
       "(4,)"
      ]
     },
     "execution_count": 50,
     "metadata": {},
     "output_type": "execute_result"
    }
   ],
   "source": [
    "ar.shape"
   ]
  },
  {
   "cell_type": "code",
   "execution_count": 51,
   "id": "907352db-4c72-44a9-8e66-15fcfba97f78",
   "metadata": {},
   "outputs": [
    {
     "data": {
      "text/plain": [
       "(2, 4)"
      ]
     },
     "execution_count": 51,
     "metadata": {},
     "output_type": "execute_result"
    }
   ],
   "source": [
    "ar2.shape"
   ]
  },
  {
   "cell_type": "code",
   "execution_count": 52,
   "id": "177f7316-10f4-4e5a-8adb-a154d4611dad",
   "metadata": {},
   "outputs": [
    {
     "data": {
      "text/plain": [
       "dtype('int64')"
      ]
     },
     "execution_count": 52,
     "metadata": {},
     "output_type": "execute_result"
    }
   ],
   "source": [
    "ar2.dtype"
   ]
  },
  {
   "cell_type": "code",
   "execution_count": 53,
   "id": "c1455c0d-308d-436a-a471-65d5a887fb59",
   "metadata": {},
   "outputs": [],
   "source": [
    "ar22 = np.array([(1,2,3,4.2), (5,6,7,2.1)])"
   ]
  },
  {
   "cell_type": "code",
   "execution_count": 141,
   "id": "653b7bd3-9b27-44c1-b9d3-1f6302875dce",
   "metadata": {},
   "outputs": [
    {
     "data": {
      "text/plain": [
       "2"
      ]
     },
     "execution_count": 141,
     "metadata": {},
     "output_type": "execute_result"
    }
   ],
   "source": [
    "ar22.ndim"
   ]
  },
  {
   "cell_type": "code",
   "execution_count": 54,
   "id": "8fcc2a0c-c734-4288-86e9-68bdb1669433",
   "metadata": {},
   "outputs": [
    {
     "data": {
      "text/plain": [
       "array([[1. , 2. , 3. , 4.2],\n",
       "       [5. , 6. , 7. , 2.1]])"
      ]
     },
     "execution_count": 54,
     "metadata": {},
     "output_type": "execute_result"
    }
   ],
   "source": [
    "ar22"
   ]
  },
  {
   "cell_type": "code",
   "execution_count": 55,
   "id": "c1cd14b1-4b25-4136-b17d-91f69ef22cc7",
   "metadata": {},
   "outputs": [
    {
     "data": {
      "text/plain": [
       "dtype('float64')"
      ]
     },
     "execution_count": 55,
     "metadata": {},
     "output_type": "execute_result"
    }
   ],
   "source": [
    "ar22.dtype"
   ]
  },
  {
   "cell_type": "code",
   "execution_count": 56,
   "id": "33d595bd-227f-4950-9b34-186c7bdf9268",
   "metadata": {},
   "outputs": [
    {
     "data": {
      "text/plain": [
       "[0, 1, 2, 3, 4]"
      ]
     },
     "execution_count": 56,
     "metadata": {},
     "output_type": "execute_result"
    }
   ],
   "source": [
    "list(range(5))"
   ]
  },
  {
   "cell_type": "code",
   "execution_count": 57,
   "id": "880446b1-6257-4ed7-9c7a-618d7c9f5d3a",
   "metadata": {},
   "outputs": [
    {
     "name": "stdout",
     "output_type": "stream",
     "text": [
      "'float' object cannot be interpreted as an integer\n"
     ]
    }
   ],
   "source": [
    "try : \n",
    "    list(range(1.1, 5))\n",
    "except Exception as e : \n",
    "    print(e)"
   ]
  },
  {
   "cell_type": "code",
   "execution_count": 58,
   "id": "2c915e95-c3c2-4263-bbdb-5f1f362a6353",
   "metadata": {},
   "outputs": [],
   "source": [
    "a = np.arange(2.3, 5)"
   ]
  },
  {
   "cell_type": "code",
   "execution_count": 59,
   "id": "879c2b77-2902-4b9a-bc8f-ae1d4a77d9fe",
   "metadata": {},
   "outputs": [
    {
     "data": {
      "text/plain": [
       "array([2.3, 3.3, 4.3])"
      ]
     },
     "execution_count": 59,
     "metadata": {},
     "output_type": "execute_result"
    }
   ],
   "source": [
    "a"
   ]
  },
  {
   "cell_type": "code",
   "execution_count": 60,
   "id": "b74ef4a0-4903-4427-875c-f31c853ed821",
   "metadata": {},
   "outputs": [
    {
     "data": {
      "text/plain": [
       "dtype('float64')"
      ]
     },
     "execution_count": 60,
     "metadata": {},
     "output_type": "execute_result"
    }
   ],
   "source": [
    "a.dtype"
   ]
  },
  {
   "cell_type": "code",
   "execution_count": 61,
   "id": "1a726ae2-ba19-43fc-becf-573c5f684330",
   "metadata": {},
   "outputs": [],
   "source": [
    "b = np.arange(2.3, 5.6, .3)"
   ]
  },
  {
   "cell_type": "code",
   "execution_count": 62,
   "id": "d959334b-9d1e-4f37-adea-225b5b652214",
   "metadata": {},
   "outputs": [
    {
     "data": {
      "text/plain": [
       "array([2.3, 2.6, 2.9, 3.2, 3.5, 3.8, 4.1, 4.4, 4.7, 5. , 5.3])"
      ]
     },
     "execution_count": 62,
     "metadata": {},
     "output_type": "execute_result"
    }
   ],
   "source": [
    "b"
   ]
  },
  {
   "cell_type": "code",
   "execution_count": 63,
   "id": "94b40577-eb12-4a0f-b861-0c6ea221d569",
   "metadata": {},
   "outputs": [
    {
     "data": {
      "text/plain": [
       "[2.3,\n",
       " 2.5999999999999996,\n",
       " 2.8999999999999995,\n",
       " 3.1999999999999993,\n",
       " 3.499999999999999,\n",
       " 3.799999999999999,\n",
       " 4.099999999999999,\n",
       " 4.399999999999999,\n",
       " 4.699999999999998,\n",
       " 4.999999999999998,\n",
       " 5.299999999999998]"
      ]
     },
     "execution_count": 63,
     "metadata": {},
     "output_type": "execute_result"
    }
   ],
   "source": [
    "list(b)"
   ]
  },
  {
   "cell_type": "code",
   "execution_count": 64,
   "id": "a7496b65-fae2-4b80-bd8d-5f5c2e94e282",
   "metadata": {},
   "outputs": [
    {
     "data": {
      "text/plain": [
       "array([2.        , 2.33333333, 2.66666667, 3.        , 3.33333333,\n",
       "       3.66666667, 4.        , 4.33333333, 4.66666667, 5.        ])"
      ]
     },
     "execution_count": 64,
     "metadata": {},
     "output_type": "execute_result"
    }
   ],
   "source": [
    "np.linspace(2,5,10)"
   ]
  },
  {
   "cell_type": "code",
   "execution_count": 65,
   "id": "77c4e38d-9bf8-49dd-808d-0f46c6333cea",
   "metadata": {},
   "outputs": [
    {
     "data": {
      "text/plain": [
       "numpy.ndarray"
      ]
     },
     "execution_count": 65,
     "metadata": {},
     "output_type": "execute_result"
    }
   ],
   "source": [
    "type(np.linspace(2,5,10))"
   ]
  },
  {
   "cell_type": "code",
   "execution_count": 66,
   "id": "de3ef05e-64b1-431c-b85e-fd598d9e3dfb",
   "metadata": {},
   "outputs": [
    {
     "data": {
      "text/plain": [
       "array([0., 0., 0., 0., 0.])"
      ]
     },
     "execution_count": 66,
     "metadata": {},
     "output_type": "execute_result"
    }
   ],
   "source": [
    "np.zeros(5)"
   ]
  },
  {
   "cell_type": "code",
   "execution_count": 67,
   "id": "0974ad00-f7f7-44e5-ab37-23ff3f934b6e",
   "metadata": {},
   "outputs": [
    {
     "data": {
      "text/plain": [
       "array([[0., 0., 0., 0.],\n",
       "       [0., 0., 0., 0.],\n",
       "       [0., 0., 0., 0.]])"
      ]
     },
     "execution_count": 67,
     "metadata": {},
     "output_type": "execute_result"
    }
   ],
   "source": [
    "np.zeros((3,4))"
   ]
  },
  {
   "cell_type": "code",
   "execution_count": 68,
   "id": "9ef96155-535e-499f-95e6-7aededd8471a",
   "metadata": {},
   "outputs": [
    {
     "data": {
      "text/plain": [
       "array([[[0., 0.],\n",
       "        [0., 0.],\n",
       "        [0., 0.],\n",
       "        [0., 0.]],\n",
       "\n",
       "       [[0., 0.],\n",
       "        [0., 0.],\n",
       "        [0., 0.],\n",
       "        [0., 0.]],\n",
       "\n",
       "       [[0., 0.],\n",
       "        [0., 0.],\n",
       "        [0., 0.],\n",
       "        [0., 0.]]])"
      ]
     },
     "execution_count": 68,
     "metadata": {},
     "output_type": "execute_result"
    }
   ],
   "source": [
    "np.zeros((3,4,2))"
   ]
  },
  {
   "cell_type": "code",
   "execution_count": 69,
   "id": "26e033a9-5fa7-4b6a-8ec7-ca696c91467c",
   "metadata": {},
   "outputs": [],
   "source": [
    "ar4 = np.zeros((3,4,2,3))"
   ]
  },
  {
   "cell_type": "code",
   "execution_count": 70,
   "id": "e7c0fd1b-da7b-4e86-bcc3-457f48ddf39b",
   "metadata": {},
   "outputs": [
    {
     "data": {
      "text/plain": [
       "array([[[[0., 0., 0.],\n",
       "         [0., 0., 0.]],\n",
       "\n",
       "        [[0., 0., 0.],\n",
       "         [0., 0., 0.]],\n",
       "\n",
       "        [[0., 0., 0.],\n",
       "         [0., 0., 0.]],\n",
       "\n",
       "        [[0., 0., 0.],\n",
       "         [0., 0., 0.]]],\n",
       "\n",
       "\n",
       "       [[[0., 0., 0.],\n",
       "         [0., 0., 0.]],\n",
       "\n",
       "        [[0., 0., 0.],\n",
       "         [0., 0., 0.]],\n",
       "\n",
       "        [[0., 0., 0.],\n",
       "         [0., 0., 0.]],\n",
       "\n",
       "        [[0., 0., 0.],\n",
       "         [0., 0., 0.]]],\n",
       "\n",
       "\n",
       "       [[[0., 0., 0.],\n",
       "         [0., 0., 0.]],\n",
       "\n",
       "        [[0., 0., 0.],\n",
       "         [0., 0., 0.]],\n",
       "\n",
       "        [[0., 0., 0.],\n",
       "         [0., 0., 0.]],\n",
       "\n",
       "        [[0., 0., 0.],\n",
       "         [0., 0., 0.]]]])"
      ]
     },
     "execution_count": 70,
     "metadata": {},
     "output_type": "execute_result"
    }
   ],
   "source": [
    "ar4"
   ]
  },
  {
   "cell_type": "code",
   "execution_count": 71,
   "id": "42d71cdc-7a99-4847-902b-65e09174b732",
   "metadata": {},
   "outputs": [
    {
     "data": {
      "text/plain": [
       "4"
      ]
     },
     "execution_count": 71,
     "metadata": {},
     "output_type": "execute_result"
    }
   ],
   "source": [
    "ar4.ndim"
   ]
  },
  {
   "cell_type": "code",
   "execution_count": 72,
   "id": "8a9468a8-077d-45ce-b4d6-fb26bae6bb26",
   "metadata": {},
   "outputs": [
    {
     "data": {
      "text/plain": [
       "numpy.ndarray"
      ]
     },
     "execution_count": 72,
     "metadata": {},
     "output_type": "execute_result"
    }
   ],
   "source": [
    "type(ar4)"
   ]
  },
  {
   "cell_type": "code",
   "execution_count": 73,
   "id": "a990eb50-e833-4e27-846a-fae4ae7fc6aa",
   "metadata": {},
   "outputs": [
    {
     "data": {
      "text/plain": [
       "array([1., 1., 1., 1.])"
      ]
     },
     "execution_count": 73,
     "metadata": {},
     "output_type": "execute_result"
    }
   ],
   "source": [
    "np.ones(4)"
   ]
  },
  {
   "cell_type": "code",
   "execution_count": 74,
   "id": "485ccba0-8dc7-45ff-a7a2-74895c2da1bc",
   "metadata": {},
   "outputs": [
    {
     "data": {
      "text/plain": [
       "array([[1., 1., 1.],\n",
       "       [1., 1., 1.],\n",
       "       [1., 1., 1.],\n",
       "       [1., 1., 1.]])"
      ]
     },
     "execution_count": 74,
     "metadata": {},
     "output_type": "execute_result"
    }
   ],
   "source": [
    "np.ones((4,3))"
   ]
  },
  {
   "cell_type": "code",
   "execution_count": 75,
   "id": "7b9a3b9f-dce6-4649-b745-4e2b7b009be9",
   "metadata": {},
   "outputs": [
    {
     "data": {
      "text/plain": [
       "numpy.ndarray"
      ]
     },
     "execution_count": 75,
     "metadata": {},
     "output_type": "execute_result"
    }
   ],
   "source": [
    "type(np.ones((4,3)))"
   ]
  },
  {
   "cell_type": "code",
   "execution_count": 76,
   "id": "288710da-a18e-4e5a-9781-37a98888d369",
   "metadata": {},
   "outputs": [],
   "source": [
    "on = np.ones((2,3,2))"
   ]
  },
  {
   "cell_type": "code",
   "execution_count": 77,
   "id": "cefe25e3-e3b6-47bb-94fa-6b27d9b80934",
   "metadata": {},
   "outputs": [
    {
     "data": {
      "text/plain": [
       "array([[[6., 6.],\n",
       "        [6., 6.],\n",
       "        [6., 6.]],\n",
       "\n",
       "       [[6., 6.],\n",
       "        [6., 6.],\n",
       "        [6., 6.]]])"
      ]
     },
     "execution_count": 77,
     "metadata": {},
     "output_type": "execute_result"
    }
   ],
   "source": [
    "on + 5\n"
   ]
  },
  {
   "cell_type": "code",
   "execution_count": 78,
   "id": "894137ae-feed-4747-8e32-8e366a6cff29",
   "metadata": {},
   "outputs": [
    {
     "data": {
      "text/plain": [
       "3"
      ]
     },
     "execution_count": 78,
     "metadata": {},
     "output_type": "execute_result"
    }
   ],
   "source": [
    "on.ndim"
   ]
  },
  {
   "cell_type": "code",
   "execution_count": 79,
   "id": "9ff4321f-a504-482e-b2f4-1cf7e91db093",
   "metadata": {},
   "outputs": [
    {
     "data": {
      "text/plain": [
       "array([[[4., 4.],\n",
       "        [4., 4.],\n",
       "        [4., 4.]],\n",
       "\n",
       "       [[4., 4.],\n",
       "        [4., 4.],\n",
       "        [4., 4.]]])"
      ]
     },
     "execution_count": 79,
     "metadata": {},
     "output_type": "execute_result"
    }
   ],
   "source": [
    "on * 4"
   ]
  },
  {
   "cell_type": "code",
   "execution_count": 80,
   "id": "aa8f377c-a442-4095-8dbe-4e25292c8fd4",
   "metadata": {},
   "outputs": [
    {
     "data": {
      "text/plain": [
       "array([[0., 0., 0., 1., 1., 1.],\n",
       "       [2., 2., 2., 0., 1., 2.],\n",
       "       [0., 1., 2., 0., 1., 2.]])"
      ]
     },
     "execution_count": 80,
     "metadata": {},
     "output_type": "execute_result"
    }
   ],
   "source": [
    "np.empty((3,6))"
   ]
  },
  {
   "cell_type": "code",
   "execution_count": 81,
   "id": "4cf816e7-1766-4fec-97f8-cde757d56122",
   "metadata": {},
   "outputs": [
    {
     "data": {
      "text/plain": [
       "array([2.        , 2.10526316, 2.21052632, 2.31578947, 2.42105263,\n",
       "       2.52631579, 2.63157895, 2.73684211, 2.84210526, 2.94736842,\n",
       "       3.05263158, 3.15789474, 3.26315789, 3.36842105, 3.47368421,\n",
       "       3.57894737, 3.68421053, 3.78947368, 3.89473684, 4.        ])"
      ]
     },
     "execution_count": 81,
     "metadata": {},
     "output_type": "execute_result"
    }
   ],
   "source": [
    "np.linspace(2,4, 20)"
   ]
  },
  {
   "cell_type": "code",
   "execution_count": 82,
   "id": "e406add3-060f-4cbd-a0aa-b0974e373a23",
   "metadata": {},
   "outputs": [
    {
     "data": {
      "text/plain": [
       "array([ 8.        ,  8.64047791,  9.33223232, 10.0793684 , 10.88632   ,\n",
       "       11.75787594, 12.69920842, 13.71590373, 14.8139954 , 16.        ])"
      ]
     },
     "execution_count": 82,
     "metadata": {},
     "output_type": "execute_result"
    }
   ],
   "source": [
    "np.logspace(3,4, 10, base = 2)"
   ]
  },
  {
   "cell_type": "code",
   "execution_count": 83,
   "id": "458013ec-56f3-4f1d-b65c-02ad5fadad3f",
   "metadata": {},
   "outputs": [],
   "source": [
    "arr = np.random.randn(3,4)"
   ]
  },
  {
   "cell_type": "code",
   "execution_count": 84,
   "id": "4c3b79a6-ea93-49dd-b5a6-ebd6543b42be",
   "metadata": {},
   "outputs": [
    {
     "data": {
      "text/plain": [
       "array([[-0.45362203,  1.52603073,  0.39734115, -2.28320413],\n",
       "       [-0.38102773,  0.8018746 ,  1.26332516, -0.45568452],\n",
       "       [ 0.11138062,  1.24486936, -0.56013719, -0.04330546]])"
      ]
     },
     "execution_count": 84,
     "metadata": {},
     "output_type": "execute_result"
    }
   ],
   "source": [
    "arr"
   ]
  },
  {
   "cell_type": "code",
   "execution_count": 85,
   "id": "2912a7ff-234b-4023-960a-be283108323e",
   "metadata": {},
   "outputs": [],
   "source": [
    "import pandas as pd"
   ]
  },
  {
   "cell_type": "code",
   "execution_count": 86,
   "id": "60c23ccc-bd0f-4086-b3af-9b3f02344af4",
   "metadata": {},
   "outputs": [
    {
     "data": {
      "text/html": [
       "<div>\n",
       "<style scoped>\n",
       "    .dataframe tbody tr th:only-of-type {\n",
       "        vertical-align: middle;\n",
       "    }\n",
       "\n",
       "    .dataframe tbody tr th {\n",
       "        vertical-align: top;\n",
       "    }\n",
       "\n",
       "    .dataframe thead th {\n",
       "        text-align: right;\n",
       "    }\n",
       "</style>\n",
       "<table border=\"1\" class=\"dataframe\">\n",
       "  <thead>\n",
       "    <tr style=\"text-align: right;\">\n",
       "      <th></th>\n",
       "      <th>0</th>\n",
       "      <th>1</th>\n",
       "      <th>2</th>\n",
       "      <th>3</th>\n",
       "    </tr>\n",
       "  </thead>\n",
       "  <tbody>\n",
       "    <tr>\n",
       "      <th>0</th>\n",
       "      <td>-0.453622</td>\n",
       "      <td>1.526031</td>\n",
       "      <td>0.397341</td>\n",
       "      <td>-2.283204</td>\n",
       "    </tr>\n",
       "    <tr>\n",
       "      <th>1</th>\n",
       "      <td>-0.381028</td>\n",
       "      <td>0.801875</td>\n",
       "      <td>1.263325</td>\n",
       "      <td>-0.455685</td>\n",
       "    </tr>\n",
       "    <tr>\n",
       "      <th>2</th>\n",
       "      <td>0.111381</td>\n",
       "      <td>1.244869</td>\n",
       "      <td>-0.560137</td>\n",
       "      <td>-0.043305</td>\n",
       "    </tr>\n",
       "  </tbody>\n",
       "</table>\n",
       "</div>"
      ],
      "text/plain": [
       "          0         1         2         3\n",
       "0 -0.453622  1.526031  0.397341 -2.283204\n",
       "1 -0.381028  0.801875  1.263325 -0.455685\n",
       "2  0.111381  1.244869 -0.560137 -0.043305"
      ]
     },
     "execution_count": 86,
     "metadata": {},
     "output_type": "execute_result"
    }
   ],
   "source": [
    "pd.DataFrame(arr)"
   ]
  },
  {
   "cell_type": "code",
   "execution_count": 87,
   "id": "db69ec5d-f35c-4204-b8d5-4460bbbd8994",
   "metadata": {},
   "outputs": [],
   "source": [
    "ar = np.random.rand(3,4)"
   ]
  },
  {
   "cell_type": "code",
   "execution_count": 88,
   "id": "0999c245-66d6-4461-87c5-fa40def4bee6",
   "metadata": {},
   "outputs": [
    {
     "data": {
      "text/html": [
       "<div>\n",
       "<style scoped>\n",
       "    .dataframe tbody tr th:only-of-type {\n",
       "        vertical-align: middle;\n",
       "    }\n",
       "\n",
       "    .dataframe tbody tr th {\n",
       "        vertical-align: top;\n",
       "    }\n",
       "\n",
       "    .dataframe thead th {\n",
       "        text-align: right;\n",
       "    }\n",
       "</style>\n",
       "<table border=\"1\" class=\"dataframe\">\n",
       "  <thead>\n",
       "    <tr style=\"text-align: right;\">\n",
       "      <th></th>\n",
       "      <th>0</th>\n",
       "      <th>1</th>\n",
       "      <th>2</th>\n",
       "      <th>3</th>\n",
       "    </tr>\n",
       "  </thead>\n",
       "  <tbody>\n",
       "    <tr>\n",
       "      <th>0</th>\n",
       "      <td>0.943737</td>\n",
       "      <td>0.261361</td>\n",
       "      <td>0.124112</td>\n",
       "      <td>0.422896</td>\n",
       "    </tr>\n",
       "    <tr>\n",
       "      <th>1</th>\n",
       "      <td>0.718838</td>\n",
       "      <td>0.158327</td>\n",
       "      <td>0.267764</td>\n",
       "      <td>0.824246</td>\n",
       "    </tr>\n",
       "    <tr>\n",
       "      <th>2</th>\n",
       "      <td>0.337466</td>\n",
       "      <td>0.982403</td>\n",
       "      <td>0.721658</td>\n",
       "      <td>0.776727</td>\n",
       "    </tr>\n",
       "  </tbody>\n",
       "</table>\n",
       "</div>"
      ],
      "text/plain": [
       "          0         1         2         3\n",
       "0  0.943737  0.261361  0.124112  0.422896\n",
       "1  0.718838  0.158327  0.267764  0.824246\n",
       "2  0.337466  0.982403  0.721658  0.776727"
      ]
     },
     "execution_count": 88,
     "metadata": {},
     "output_type": "execute_result"
    }
   ],
   "source": [
    "pd.DataFrame(ar)"
   ]
  },
  {
   "cell_type": "code",
   "execution_count": 89,
   "id": "43cb5098-7f01-4358-bf14-3a8d8f1ba363",
   "metadata": {},
   "outputs": [],
   "source": [
    "pd.DataFrame(np.random.randint(1,110,  (100,200))).to_csv('test.csv')"
   ]
  },
  {
   "cell_type": "code",
   "execution_count": 90,
   "id": "c4711753-501e-4300-90a5-2c4cdb145457",
   "metadata": {},
   "outputs": [],
   "source": [
    "arr = np.random.rand(3,4)"
   ]
  },
  {
   "cell_type": "code",
   "execution_count": 91,
   "id": "8301728e-487f-4b57-b3a2-ea991f20ae1a",
   "metadata": {},
   "outputs": [
    {
     "data": {
      "text/plain": [
       "array([[0.31237407, 0.58523745, 0.62549792, 0.44056782],\n",
       "       [0.39339529, 0.906626  , 0.23924108, 0.33598712],\n",
       "       [0.71655876, 0.4199583 , 0.46811777, 0.40283072]])"
      ]
     },
     "execution_count": 91,
     "metadata": {},
     "output_type": "execute_result"
    }
   ],
   "source": [
    "arr"
   ]
  },
  {
   "cell_type": "code",
   "execution_count": 92,
   "id": "3e594d09-289e-45d1-815b-730cfa0d255d",
   "metadata": {},
   "outputs": [
    {
     "data": {
      "text/plain": [
       "array([[0.31237407, 0.58523745],\n",
       "       [0.62549792, 0.44056782],\n",
       "       [0.39339529, 0.906626  ],\n",
       "       [0.23924108, 0.33598712],\n",
       "       [0.71655876, 0.4199583 ],\n",
       "       [0.46811777, 0.40283072]])"
      ]
     },
     "execution_count": 92,
     "metadata": {},
     "output_type": "execute_result"
    }
   ],
   "source": [
    "arr.reshape(6,2)"
   ]
  },
  {
   "cell_type": "code",
   "execution_count": 93,
   "id": "f3f9c738-94fd-4de3-92c3-f82d7a4a7566",
   "metadata": {},
   "outputs": [
    {
     "data": {
      "text/plain": [
       "array([[0.31237407, 0.58523745],\n",
       "       [0.62549792, 0.44056782],\n",
       "       [0.39339529, 0.906626  ],\n",
       "       [0.23924108, 0.33598712],\n",
       "       [0.71655876, 0.4199583 ],\n",
       "       [0.46811777, 0.40283072]])"
      ]
     },
     "execution_count": 93,
     "metadata": {},
     "output_type": "execute_result"
    }
   ],
   "source": [
    "arr.reshape(6,-1)"
   ]
  },
  {
   "cell_type": "code",
   "execution_count": 94,
   "id": "177120e2-f3a4-44fa-ac5c-b63056ae5fcd",
   "metadata": {},
   "outputs": [],
   "source": [
    "arr = arr.reshape(6,-14134234234)"
   ]
  },
  {
   "cell_type": "code",
   "execution_count": 95,
   "id": "c35d57db-dd30-4dd5-ad53-66cef273a37d",
   "metadata": {},
   "outputs": [
    {
     "data": {
      "text/plain": [
       "array([[0.31237407, 0.58523745],\n",
       "       [0.62549792, 0.44056782],\n",
       "       [0.39339529, 0.906626  ],\n",
       "       [0.23924108, 0.33598712],\n",
       "       [0.71655876, 0.4199583 ],\n",
       "       [0.46811777, 0.40283072]])"
      ]
     },
     "execution_count": 95,
     "metadata": {},
     "output_type": "execute_result"
    }
   ],
   "source": [
    "arr"
   ]
  },
  {
   "cell_type": "code",
   "execution_count": 96,
   "id": "fef40f6c-7db6-4332-8293-adab544178a7",
   "metadata": {},
   "outputs": [
    {
     "data": {
      "text/plain": [
       "0.9066259970219193"
      ]
     },
     "execution_count": 96,
     "metadata": {},
     "output_type": "execute_result"
    }
   ],
   "source": [
    "arr[2][1]"
   ]
  },
  {
   "cell_type": "code",
   "execution_count": 97,
   "id": "48a00dab-e4ce-41f3-b691-2d51facefe03",
   "metadata": {},
   "outputs": [
    {
     "data": {
      "text/plain": [
       "0.9066259970219193"
      ]
     },
     "execution_count": 97,
     "metadata": {},
     "output_type": "execute_result"
    }
   ],
   "source": [
    "arr[2,1]"
   ]
  },
  {
   "cell_type": "code",
   "execution_count": 98,
   "id": "011987b6-14a3-417f-9fbe-3a1e6a690c3c",
   "metadata": {},
   "outputs": [
    {
     "data": {
      "text/plain": [
       "array([0.906626  , 0.33598712, 0.4199583 ])"
      ]
     },
     "execution_count": 98,
     "metadata": {},
     "output_type": "execute_result"
    }
   ],
   "source": [
    "arr[2:5 , 1]"
   ]
  },
  {
   "cell_type": "code",
   "execution_count": 99,
   "id": "0bc7f114-58bf-4e8d-9405-0596a0335ab9",
   "metadata": {},
   "outputs": [],
   "source": [
    "arr = np.random.randint(1,100 , (5,5))"
   ]
  },
  {
   "cell_type": "code",
   "execution_count": 100,
   "id": "18bb7200-2d8d-493d-9298-14fb02bc8cd1",
   "metadata": {},
   "outputs": [
    {
     "data": {
      "text/plain": [
       "array([[38, 22, 44, 64, 91],\n",
       "       [92, 51, 86,  7, 83],\n",
       "       [78,  1, 67, 24, 70],\n",
       "       [10, 63,  3, 42, 54],\n",
       "       [ 6, 66, 22, 12, 60]])"
      ]
     },
     "execution_count": 100,
     "metadata": {},
     "output_type": "execute_result"
    }
   ],
   "source": [
    "arr"
   ]
  },
  {
   "cell_type": "code",
   "execution_count": 101,
   "id": "02482004-a930-4e37-acd0-e2a34ea5ea6e",
   "metadata": {},
   "outputs": [
    {
     "data": {
      "text/plain": [
       "array([64, 91, 92, 51, 86, 83, 78, 67, 70, 63, 54, 66, 60])"
      ]
     },
     "execution_count": 101,
     "metadata": {},
     "output_type": "execute_result"
    }
   ],
   "source": [
    "arr[arr>50]"
   ]
  },
  {
   "cell_type": "code",
   "execution_count": 102,
   "id": "e5524279-3807-495c-a0d8-09857ab0e3b8",
   "metadata": {},
   "outputs": [
    {
     "data": {
      "text/plain": [
       "array([[92, 51, 86],\n",
       "       [78,  1, 67]])"
      ]
     },
     "execution_count": 102,
     "metadata": {},
     "output_type": "execute_result"
    }
   ],
   "source": [
    "arr[1:3, [0,1,2]]"
   ]
  },
  {
   "cell_type": "code",
   "execution_count": 103,
   "id": "ab9508d2-2515-462e-b658-dde9be82e393",
   "metadata": {},
   "outputs": [],
   "source": [
    "arr[0,0] = 5000"
   ]
  },
  {
   "cell_type": "code",
   "execution_count": 104,
   "id": "3861e631-0518-4bda-b7c1-f27dcf69ea36",
   "metadata": {},
   "outputs": [
    {
     "data": {
      "text/plain": [
       "array([[5000,   22,   44,   64,   91],\n",
       "       [  92,   51,   86,    7,   83],\n",
       "       [  78,    1,   67,   24,   70],\n",
       "       [  10,   63,    3,   42,   54],\n",
       "       [   6,   66,   22,   12,   60]])"
      ]
     },
     "execution_count": 104,
     "metadata": {},
     "output_type": "execute_result"
    }
   ],
   "source": [
    "arr"
   ]
  },
  {
   "cell_type": "code",
   "execution_count": 105,
   "id": "6f200986-9147-4186-b3e4-eddc3d58d4d5",
   "metadata": {},
   "outputs": [],
   "source": [
    "ar1 = np.random.randint(1,10, (4,4))"
   ]
  },
  {
   "cell_type": "code",
   "execution_count": 106,
   "id": "3c3b7579-417b-45ea-b00f-9c0f30ab76e6",
   "metadata": {},
   "outputs": [],
   "source": [
    "ar2 = np.random.randint(1,10, (4,4))"
   ]
  },
  {
   "cell_type": "code",
   "execution_count": 107,
   "id": "569d425e-b171-4f83-9788-19c36a6f1b01",
   "metadata": {},
   "outputs": [
    {
     "data": {
      "text/plain": [
       "(array([[8, 7, 6, 5],\n",
       "        [6, 2, 2, 2],\n",
       "        [2, 9, 1, 8],\n",
       "        [5, 8, 4, 4]]),\n",
       " array([[1, 8, 5, 7],\n",
       "        [3, 5, 3, 6],\n",
       "        [8, 4, 6, 1],\n",
       "        [2, 4, 5, 6]]))"
      ]
     },
     "execution_count": 107,
     "metadata": {},
     "output_type": "execute_result"
    }
   ],
   "source": [
    "ar1,ar2"
   ]
  },
  {
   "cell_type": "code",
   "execution_count": 108,
   "id": "cebc0a9e-21be-4f65-b61b-b85bac19466b",
   "metadata": {},
   "outputs": [
    {
     "data": {
      "text/plain": [
       "array([[ 9, 15, 11, 12],\n",
       "       [ 9,  7,  5,  8],\n",
       "       [10, 13,  7,  9],\n",
       "       [ 7, 12,  9, 10]])"
      ]
     },
     "execution_count": 108,
     "metadata": {},
     "output_type": "execute_result"
    }
   ],
   "source": [
    "ar1+ar2"
   ]
  },
  {
   "cell_type": "code",
   "execution_count": 109,
   "id": "8d5a1285-cc35-414f-ac77-a334a8fea220",
   "metadata": {},
   "outputs": [
    {
     "data": {
      "text/plain": [
       "array([[ 7, -1,  1, -2],\n",
       "       [ 3, -3, -1, -4],\n",
       "       [-6,  5, -5,  7],\n",
       "       [ 3,  4, -1, -2]])"
      ]
     },
     "execution_count": 109,
     "metadata": {},
     "output_type": "execute_result"
    }
   ],
   "source": [
    "ar1 - ar2"
   ]
  },
  {
   "cell_type": "code",
   "execution_count": 110,
   "id": "5a8ca12b-c166-4e86-8c1a-ed658ba38b07",
   "metadata": {},
   "outputs": [
    {
     "data": {
      "text/plain": [
       "array([[ 8, 56, 30, 35],\n",
       "       [18, 10,  6, 12],\n",
       "       [16, 36,  6,  8],\n",
       "       [10, 32, 20, 24]])"
      ]
     },
     "execution_count": 110,
     "metadata": {},
     "output_type": "execute_result"
    }
   ],
   "source": [
    "ar1 *ar2"
   ]
  },
  {
   "cell_type": "code",
   "execution_count": 111,
   "id": "b117cd8c-0941-4bf2-952e-4eca5d4d79e0",
   "metadata": {},
   "outputs": [
    {
     "data": {
      "text/plain": [
       "array([[8.        , 0.875     , 1.2       , 0.71428571],\n",
       "       [2.        , 0.4       , 0.66666667, 0.33333333],\n",
       "       [0.25      , 2.25      , 0.16666667, 8.        ],\n",
       "       [2.5       , 2.        , 0.8       , 0.66666667]])"
      ]
     },
     "execution_count": 111,
     "metadata": {},
     "output_type": "execute_result"
    }
   ],
   "source": [
    "ar1/ar2"
   ]
  },
  {
   "cell_type": "code",
   "execution_count": 112,
   "id": "45d6a0c1-9088-4b52-8d24-86a8d12141a7",
   "metadata": {},
   "outputs": [
    {
     "data": {
      "text/plain": [
       "array([[ 87, 143, 122, 134],\n",
       "       [ 32,  74,  58,  68],\n",
       "       [ 53,  97,  83, 117],\n",
       "       [ 69, 112,  93, 111]])"
      ]
     },
     "execution_count": 112,
     "metadata": {},
     "output_type": "execute_result"
    }
   ],
   "source": [
    "ar1@ar2"
   ]
  },
  {
   "cell_type": "code",
   "execution_count": 113,
   "id": "a0aa869f-3599-4db7-87d9-9c0294d09036",
   "metadata": {},
   "outputs": [
    {
     "name": "stderr",
     "output_type": "stream",
     "text": [
      "/tmp/ipykernel_116/3042774750.py:1: RuntimeWarning: divide by zero encountered in divide\n",
      "  ar1/0\n"
     ]
    },
    {
     "data": {
      "text/plain": [
       "array([[inf, inf, inf, inf],\n",
       "       [inf, inf, inf, inf],\n",
       "       [inf, inf, inf, inf],\n",
       "       [inf, inf, inf, inf]])"
      ]
     },
     "execution_count": 113,
     "metadata": {},
     "output_type": "execute_result"
    }
   ],
   "source": [
    "ar1/0"
   ]
  },
  {
   "cell_type": "code",
   "execution_count": 114,
   "id": "69500050-9597-47a8-a0b9-084e6a4b5d16",
   "metadata": {},
   "outputs": [
    {
     "data": {
      "text/plain": [
       "array([[108, 107, 106, 105],\n",
       "       [106, 102, 102, 102],\n",
       "       [102, 109, 101, 108],\n",
       "       [105, 108, 104, 104]])"
      ]
     },
     "execution_count": 114,
     "metadata": {},
     "output_type": "execute_result"
    }
   ],
   "source": [
    "ar1 + 100"
   ]
  },
  {
   "cell_type": "code",
   "execution_count": 115,
   "id": "b3298400-7467-4f5a-b66f-21ba9d68c55d",
   "metadata": {},
   "outputs": [
    {
     "data": {
      "text/plain": [
       "array([[64, 49, 36, 25],\n",
       "       [36,  4,  4,  4],\n",
       "       [ 4, 81,  1, 64],\n",
       "       [25, 64, 16, 16]])"
      ]
     },
     "execution_count": 115,
     "metadata": {},
     "output_type": "execute_result"
    }
   ],
   "source": [
    "ar1 ** 2"
   ]
  },
  {
   "cell_type": "code",
   "execution_count": 116,
   "id": "d831e288-2f95-4070-910c-9840780d21c7",
   "metadata": {},
   "outputs": [],
   "source": [
    "#Numpy - Broadcasting"
   ]
  },
  {
   "cell_type": "code",
   "execution_count": 117,
   "id": "89d3d628-dd4c-476e-b946-173aae687b77",
   "metadata": {},
   "outputs": [],
   "source": [
    "ar = np.zeros((4,4))"
   ]
  },
  {
   "cell_type": "code",
   "execution_count": 118,
   "id": "8445024d-5e7d-4342-a342-2229bbbe9f6f",
   "metadata": {},
   "outputs": [
    {
     "data": {
      "text/plain": [
       "array([[0., 0., 0., 0.],\n",
       "       [0., 0., 0., 0.],\n",
       "       [0., 0., 0., 0.],\n",
       "       [0., 0., 0., 0.]])"
      ]
     },
     "execution_count": 118,
     "metadata": {},
     "output_type": "execute_result"
    }
   ],
   "source": [
    "ar"
   ]
  },
  {
   "cell_type": "code",
   "execution_count": 119,
   "id": "14f0f8db-fa4e-4e53-a589-07d723e6f3b4",
   "metadata": {},
   "outputs": [],
   "source": [
    "ar1 = np.array([[1,2,3,4]])"
   ]
  },
  {
   "cell_type": "code",
   "execution_count": 120,
   "id": "20397352-fa91-4c80-a4b0-5424fc77071d",
   "metadata": {},
   "outputs": [
    {
     "data": {
      "text/plain": [
       "array([[1, 2, 3, 4]])"
      ]
     },
     "execution_count": 120,
     "metadata": {},
     "output_type": "execute_result"
    }
   ],
   "source": [
    "ar1"
   ]
  },
  {
   "cell_type": "code",
   "execution_count": 121,
   "id": "211c97da-0561-43e3-a7df-3aea0443d929",
   "metadata": {},
   "outputs": [
    {
     "data": {
      "text/plain": [
       "array([[1., 2., 3., 4.],\n",
       "       [1., 2., 3., 4.],\n",
       "       [1., 2., 3., 4.],\n",
       "       [1., 2., 3., 4.]])"
      ]
     },
     "execution_count": 121,
     "metadata": {},
     "output_type": "execute_result"
    }
   ],
   "source": [
    "ar1 + ar"
   ]
  },
  {
   "cell_type": "code",
   "execution_count": 122,
   "id": "3d7f372e-6595-42b8-9e05-93cdc7ebd6f0",
   "metadata": {},
   "outputs": [
    {
     "data": {
      "text/plain": [
       "array([[1],\n",
       "       [2],\n",
       "       [3],\n",
       "       [4]])"
      ]
     },
     "execution_count": 122,
     "metadata": {},
     "output_type": "execute_result"
    }
   ],
   "source": [
    "ar1.T "
   ]
  },
  {
   "cell_type": "code",
   "execution_count": 123,
   "id": "e5fcd014-2921-4cf0-8121-2a3b81c184d5",
   "metadata": {},
   "outputs": [
    {
     "data": {
      "text/plain": [
       "array([[1., 1., 1., 1.],\n",
       "       [2., 2., 2., 2.],\n",
       "       [3., 3., 3., 3.],\n",
       "       [4., 4., 4., 4.]])"
      ]
     },
     "execution_count": 123,
     "metadata": {},
     "output_type": "execute_result"
    }
   ],
   "source": [
    "ar1.T + ar"
   ]
  },
  {
   "cell_type": "code",
   "execution_count": 124,
   "id": "d30b6a25-bc34-4df0-ac96-7b97b9eeeea4",
   "metadata": {},
   "outputs": [
    {
     "data": {
      "text/plain": [
       "array([[0., 0., 0., 0.],\n",
       "       [0., 0., 0., 0.],\n",
       "       [0., 0., 0., 0.],\n",
       "       [0., 0., 0., 0.]])"
      ]
     },
     "execution_count": 124,
     "metadata": {},
     "output_type": "execute_result"
    }
   ],
   "source": [
    "ar"
   ]
  },
  {
   "cell_type": "code",
   "execution_count": 125,
   "id": "dbeb973d-eddd-4176-a406-d95ef48beab7",
   "metadata": {},
   "outputs": [
    {
     "data": {
      "text/plain": [
       "array([[1, 2, 3, 4]])"
      ]
     },
     "execution_count": 125,
     "metadata": {},
     "output_type": "execute_result"
    }
   ],
   "source": [
    "ar1"
   ]
  },
  {
   "cell_type": "code",
   "execution_count": 126,
   "id": "f9d96ea7-0986-4d51-b8c4-cac01a6f8600",
   "metadata": {},
   "outputs": [],
   "source": [
    "ar2 = np.random.randint(2,5, (3,4))"
   ]
  },
  {
   "cell_type": "code",
   "execution_count": 127,
   "id": "f695fc04-0858-44e4-a41b-c03d51d060fb",
   "metadata": {},
   "outputs": [
    {
     "data": {
      "text/plain": [
       "array([[3, 3, 4, 3],\n",
       "       [4, 3, 2, 2],\n",
       "       [4, 3, 4, 4]])"
      ]
     },
     "execution_count": 127,
     "metadata": {},
     "output_type": "execute_result"
    }
   ],
   "source": [
    "ar2"
   ]
  },
  {
   "cell_type": "code",
   "execution_count": 128,
   "id": "029c725d-80ad-4d03-9c83-c893ae9201ce",
   "metadata": {},
   "outputs": [
    {
     "data": {
      "text/plain": [
       "array([[1.5849625, 1.5849625, 2.       , 1.5849625],\n",
       "       [2.       , 1.5849625, 1.       , 1.       ],\n",
       "       [2.       , 1.5849625, 2.       , 2.       ]])"
      ]
     },
     "execution_count": 128,
     "metadata": {},
     "output_type": "execute_result"
    }
   ],
   "source": [
    "np.log2(ar2)"
   ]
  },
  {
   "cell_type": "code",
   "execution_count": 129,
   "id": "f5a4693f-46e9-4870-ba60-0c2dee9f6075",
   "metadata": {},
   "outputs": [
    {
     "data": {
      "text/plain": [
       "array([[0.47712125, 0.47712125, 0.60205999, 0.47712125],\n",
       "       [0.60205999, 0.47712125, 0.30103   , 0.30103   ],\n",
       "       [0.60205999, 0.47712125, 0.60205999, 0.60205999]])"
      ]
     },
     "execution_count": 129,
     "metadata": {},
     "output_type": "execute_result"
    }
   ],
   "source": [
    "np.log10(ar2)"
   ]
  },
  {
   "cell_type": "code",
   "execution_count": 130,
   "id": "353ac8ff-16b2-41a3-b9bc-11055bf20a6b",
   "metadata": {},
   "outputs": [
    {
     "data": {
      "text/plain": [
       "array([[20.08553692, 20.08553692, 54.59815003, 20.08553692],\n",
       "       [54.59815003, 20.08553692,  7.3890561 ,  7.3890561 ],\n",
       "       [54.59815003, 20.08553692, 54.59815003, 54.59815003]])"
      ]
     },
     "execution_count": 130,
     "metadata": {},
     "output_type": "execute_result"
    }
   ],
   "source": [
    "np.exp(ar2)"
   ]
  },
  {
   "cell_type": "code",
   "execution_count": 131,
   "id": "870f7c45-126c-4aa7-936d-f27910d02228",
   "metadata": {},
   "outputs": [
    {
     "data": {
      "text/plain": [
       "array([[1.73205081, 1.73205081, 2.        , 1.73205081],\n",
       "       [2.        , 1.73205081, 1.41421356, 1.41421356],\n",
       "       [2.        , 1.73205081, 2.        , 2.        ]])"
      ]
     },
     "execution_count": 131,
     "metadata": {},
     "output_type": "execute_result"
    }
   ],
   "source": [
    "np.sqrt(ar2)"
   ]
  },
  {
   "cell_type": "code",
   "execution_count": 132,
   "id": "ba6c8917-0129-4e62-a78d-ef07679752f1",
   "metadata": {},
   "outputs": [
    {
     "data": {
      "text/plain": [
       "array([[3, 3, 4, 3],\n",
       "       [4, 3, 2, 2],\n",
       "       [4, 3, 4, 4]])"
      ]
     },
     "execution_count": 132,
     "metadata": {},
     "output_type": "execute_result"
    }
   ],
   "source": [
    "np.conjugate(ar2)"
   ]
  },
  {
   "cell_type": "code",
   "execution_count": null,
   "id": "a0aa96d4-c921-46b1-839f-71570b11f25d",
   "metadata": {},
   "outputs": [],
   "source": []
  }
 ],
 "metadata": {
  "kernelspec": {
   "display_name": "Python 3 (ipykernel)",
   "language": "python",
   "name": "python3"
  },
  "language_info": {
   "codemirror_mode": {
    "name": "ipython",
    "version": 3
   },
   "file_extension": ".py",
   "mimetype": "text/x-python",
   "name": "python",
   "nbconvert_exporter": "python",
   "pygments_lexer": "ipython3",
   "version": "3.10.8"
  }
 },
 "nbformat": 4,
 "nbformat_minor": 5
}
