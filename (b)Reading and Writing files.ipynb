{
 "cells": [
  {
   "cell_type": "code",
   "execution_count": 10,
   "id": "12ff9177-56a8-4b09-8a58-ad94c83c5547",
   "metadata": {},
   "outputs": [],
   "source": [
    "data = {'name' : 'ujjwal jaiswal',\n",
    "       'email' : 'ujjwaljaiswal491@gmail.com',\n",
    "       'phone_no.' : 6378112666,\n",
    "       'subject' : ['data science', 'data analytics', 'big data']\n",
    "       }"
   ]
  },
  {
   "cell_type": "code",
   "execution_count": 11,
   "id": "86ccf8f2-ff8e-4d1b-bac1-d51f3aa8e39e",
   "metadata": {},
   "outputs": [],
   "source": [
    "import json"
   ]
  },
  {
   "cell_type": "code",
   "execution_count": 12,
   "id": "87138320-817f-41ff-a40c-b4a7e15e5aaa",
   "metadata": {},
   "outputs": [],
   "source": [
    "with open('data.json' , 'w') as f :\n",
    "    json.dump(data, f)"
   ]
  },
  {
   "cell_type": "code",
   "execution_count": 13,
   "id": "18a476c6-de6c-4f18-9c2b-ec04c01eba25",
   "metadata": {},
   "outputs": [],
   "source": [
    "with open('data.json', 'r') as f :\n",
    "    data1 = json.load(f)"
   ]
  },
  {
   "cell_type": "code",
   "execution_count": 14,
   "id": "5a4863ea-fb53-4bc4-aa74-24418b75fb6b",
   "metadata": {},
   "outputs": [
    {
     "data": {
      "text/plain": [
       "{'name': 'ujjwal jaiswal',\n",
       " 'email': 'ujjwaljaiswal491@gmail.com',\n",
       " 'phone_no.': 6378112666,\n",
       " 'subject': ['data science', 'data analytics', 'big data']}"
      ]
     },
     "execution_count": 14,
     "metadata": {},
     "output_type": "execute_result"
    }
   ],
   "source": [
    "data1"
   ]
  },
  {
   "cell_type": "code",
   "execution_count": 16,
   "id": "686664e8-5557-43c5-8b7f-65173d423d72",
   "metadata": {},
   "outputs": [
    {
     "data": {
      "text/plain": [
       "'data science'"
      ]
     },
     "execution_count": 16,
     "metadata": {},
     "output_type": "execute_result"
    }
   ],
   "source": [
    "data1['subject'][0]"
   ]
  },
  {
   "cell_type": "code",
   "execution_count": 17,
   "id": "3128794b-738e-4059-af87-7ca1c7d206d8",
   "metadata": {},
   "outputs": [],
   "source": [
    "import csv"
   ]
  },
  {
   "cell_type": "code",
   "execution_count": 20,
   "id": "c71a1775-7701-4fc7-9081-6beef876024c",
   "metadata": {},
   "outputs": [],
   "source": [
    "data1 = [['Name', 'E-mail', 'Phone_no.'],\n",
    "        ['Ujjwal', 'ujju@gmail.com', 987654321],\n",
    "        ['Shree_Ram', 'ram_ji@gmail.com', 87654321]]"
   ]
  },
  {
   "cell_type": "code",
   "execution_count": 21,
   "id": "a03f1053-56b7-4d51-b3dd-f1e1e2201b06",
   "metadata": {},
   "outputs": [],
   "source": [
    "with open('data1.csv', 'w') as f :\n",
    "    writer = csv.writer(f)\n",
    "    \n",
    "    for i in data1:\n",
    "        writer.writerow(i)  "
   ]
  },
  {
   "cell_type": "code",
   "execution_count": 22,
   "id": "eb437440-b3c4-4ee9-89ab-639b92419478",
   "metadata": {},
   "outputs": [
    {
     "name": "stdout",
     "output_type": "stream",
     "text": [
      "['Name', 'E-mail', 'Phone_no.']\n",
      "['Ujjwal', 'ujju@gmail.com', '987654321']\n",
      "['Shree_Ram', 'ram_ji@gmail.com', '87654321']\n"
     ]
    }
   ],
   "source": [
    "with open('data1.csv', 'r') as f :\n",
    "    read = csv.reader(f)\n",
    "    \n",
    "    for i in read :\n",
    "        print(i)"
   ]
  },
  {
   "cell_type": "code",
   "execution_count": 24,
   "id": "adf9a7a4-16dc-420f-baef-9dae7804b9a5",
   "metadata": {},
   "outputs": [],
   "source": [
    "with open('data2.bin', 'wb') as f :\n",
    "    f.write(b'\\x01\\x02\\x03\\x04\\x05')"
   ]
  },
  {
   "cell_type": "code",
   "execution_count": 26,
   "id": "960ccabf-32c1-4ed2-9bbd-24724ee4d699",
   "metadata": {},
   "outputs": [
    {
     "name": "stdout",
     "output_type": "stream",
     "text": [
      "b'\\x01\\x02\\x03\\x04\\x05'\n"
     ]
    }
   ],
   "source": [
    "with open('data2.bin', 'rb') as f :\n",
    "    print(f.read())"
   ]
  },
  {
   "cell_type": "code",
   "execution_count": null,
   "id": "d027f7a8-dca1-4e54-aa34-2fde017655f4",
   "metadata": {},
   "outputs": [],
   "source": []
  }
 ],
 "metadata": {
  "kernelspec": {
   "display_name": "Python 3 (ipykernel)",
   "language": "python",
   "name": "python3"
  },
  "language_info": {
   "codemirror_mode": {
    "name": "ipython",
    "version": 3
   },
   "file_extension": ".py",
   "mimetype": "text/x-python",
   "name": "python",
   "nbconvert_exporter": "python",
   "pygments_lexer": "ipython3",
   "version": "3.10.8"
  }
 },
 "nbformat": 4,
 "nbformat_minor": 5
}
