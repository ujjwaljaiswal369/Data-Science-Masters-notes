{
 "cells": [
  {
   "cell_type": "code",
   "execution_count": 1,
   "id": "31c9ec9d-946a-4043-804b-17ca714d4455",
   "metadata": {},
   "outputs": [],
   "source": [
    "d1 = {}"
   ]
  },
  {
   "cell_type": "code",
   "execution_count": 2,
   "id": "bd83d740-ca15-4fd7-b916-5636e04163ef",
   "metadata": {},
   "outputs": [
    {
     "data": {
      "text/plain": [
       "dict"
      ]
     },
     "execution_count": 2,
     "metadata": {},
     "output_type": "execute_result"
    }
   ],
   "source": [
    "type(d1)"
   ]
  },
  {
   "cell_type": "code",
   "execution_count": 3,
   "id": "cd565fbe-ff95-4a73-b6fc-b47e1c2e05c3",
   "metadata": {},
   "outputs": [
    {
     "data": {
      "text/plain": [
       "{}"
      ]
     },
     "execution_count": 3,
     "metadata": {},
     "output_type": "execute_result"
    }
   ],
   "source": [
    "d1"
   ]
  },
  {
   "cell_type": "code",
   "execution_count": 4,
   "id": "e9e132b3-6d91-401a-8621-e680e8b833fa",
   "metadata": {},
   "outputs": [],
   "source": [
    "d2 = {'key':'value'}"
   ]
  },
  {
   "cell_type": "code",
   "execution_count": 5,
   "id": "976fcb46-4669-4d9f-9c21-661f03d94826",
   "metadata": {},
   "outputs": [
    {
     "data": {
      "text/plain": [
       "'value'"
      ]
     },
     "execution_count": 5,
     "metadata": {},
     "output_type": "execute_result"
    }
   ],
   "source": [
    "d2['key']"
   ]
  },
  {
   "cell_type": "code",
   "execution_count": 7,
   "id": "f86374fe-1f92-4a7c-a02f-95ad7cae0fc1",
   "metadata": {},
   "outputs": [],
   "source": [
    "d3 = {'name':'ujjwal', 'email':'ujjwaljaiswal491@gmail.com', 'm.no' : 6378112666}"
   ]
  },
  {
   "cell_type": "code",
   "execution_count": 8,
   "id": "2d3dc8a8-aef8-4779-85cb-38299c81c15b",
   "metadata": {},
   "outputs": [],
   "source": [
    "d4 = {'name': 'hari', True : 'narayan'}"
   ]
  },
  {
   "cell_type": "code",
   "execution_count": 9,
   "id": "bae3fcda-2898-4883-aeba-24c3f6ee8b66",
   "metadata": {},
   "outputs": [
    {
     "data": {
      "text/plain": [
       "'narayan'"
      ]
     },
     "execution_count": 9,
     "metadata": {},
     "output_type": "execute_result"
    }
   ],
   "source": [
    "d4[True]"
   ]
  },
  {
   "cell_type": "code",
   "execution_count": 10,
   "id": "fa713030-206c-4131-b8d1-d4ca864e7860",
   "metadata": {},
   "outputs": [
    {
     "data": {
      "text/plain": [
       "'narayan'"
      ]
     },
     "execution_count": 10,
     "metadata": {},
     "output_type": "execute_result"
    }
   ],
   "source": [
    "d4[1]"
   ]
  },
  {
   "cell_type": "code",
   "execution_count": 17,
   "id": "20b39710-93dd-47ee-8391-d6b80ca78abf",
   "metadata": {},
   "outputs": [],
   "source": [
    "d5 = {'name' : 'ujjwal', 'email': 'ujju@', \"name\":'Hari narayan'}"
   ]
  },
  {
   "cell_type": "code",
   "execution_count": 18,
   "id": "bc150900-bd20-4723-96c3-ff635c786a21",
   "metadata": {},
   "outputs": [
    {
     "data": {
      "text/plain": [
       "'Hari narayan'"
      ]
     },
     "execution_count": 18,
     "metadata": {},
     "output_type": "execute_result"
    }
   ],
   "source": [
    "d5['name']"
   ]
  },
  {
   "cell_type": "code",
   "execution_count": 19,
   "id": "1c53955c-4c45-4201-9b5b-c27edd75ad20",
   "metadata": {},
   "outputs": [],
   "source": [
    "d6 = {'name': 'ujjwal', 'courses': ['Web design', 'data science', 'java with dsa']}"
   ]
  },
  {
   "cell_type": "code",
   "execution_count": 20,
   "id": "d12dc580-3f1a-4c61-a78d-da2b76fb1ae4",
   "metadata": {},
   "outputs": [
    {
     "data": {
      "text/plain": [
       "{'name': 'ujjwal', 'courses': ['Web design', 'data science', 'java with dsa']}"
      ]
     },
     "execution_count": 20,
     "metadata": {},
     "output_type": "execute_result"
    }
   ],
   "source": [
    "d6"
   ]
  },
  {
   "cell_type": "code",
   "execution_count": 22,
   "id": "6781fe27-ea84-43b2-9cd5-4526ebe14974",
   "metadata": {},
   "outputs": [
    {
     "data": {
      "text/plain": [
       "['Web design', 'data science', 'java with dsa']"
      ]
     },
     "execution_count": 22,
     "metadata": {},
     "output_type": "execute_result"
    }
   ],
   "source": [
    "d6['courses']"
   ]
  },
  {
   "cell_type": "code",
   "execution_count": 23,
   "id": "867d3b53-905b-4a2b-a331-1d9d21d99eb0",
   "metadata": {},
   "outputs": [
    {
     "data": {
      "text/plain": [
       "'data science'"
      ]
     },
     "execution_count": 23,
     "metadata": {},
     "output_type": "execute_result"
    }
   ],
   "source": [
    "d6['courses'][1]"
   ]
  },
  {
   "cell_type": "code",
   "execution_count": 26,
   "id": "fe177d99-1f93-447f-b08d-ef050fd81f30",
   "metadata": {},
   "outputs": [],
   "source": [
    "d7 = {'name': [1,2,4,5,], 'assignment': (1,24,2,3,), 'launch date': {3,34,1},\n",
    "      'class time': {'data science': 8, 'java and dsa': 7, 'full stack': 6} }"
   ]
  },
  {
   "cell_type": "code",
   "execution_count": 27,
   "id": "becf7631-8977-483a-a2ff-27c5090947e2",
   "metadata": {},
   "outputs": [
    {
     "data": {
      "text/plain": [
       "{'name': [1, 2, 4, 5],\n",
       " 'assignment': (1, 24, 2, 3),\n",
       " 'launch date': {1, 3, 34},\n",
       " 'class time': {'data science': 8, 'java and dsa': 7, 'full stack': 6}}"
      ]
     },
     "execution_count": 27,
     "metadata": {},
     "output_type": "execute_result"
    }
   ],
   "source": [
    "d7"
   ]
  },
  {
   "cell_type": "code",
   "execution_count": 29,
   "id": "10322710-a601-4da9-8ebe-6dfc08b852c3",
   "metadata": {},
   "outputs": [
    {
     "data": {
      "text/plain": [
       "8"
      ]
     },
     "execution_count": 29,
     "metadata": {},
     "output_type": "execute_result"
    }
   ],
   "source": [
    "d7['class time']['data science']"
   ]
  },
  {
   "cell_type": "code",
   "execution_count": 30,
   "id": "5616654d-24f1-41c3-8355-ec742ed54d39",
   "metadata": {},
   "outputs": [],
   "source": [
    "d7['mentor'] = ['sudhanshu', 'krish', 'anurag', 'hayder']"
   ]
  },
  {
   "cell_type": "code",
   "execution_count": 31,
   "id": "7c6ee563-e3bb-4268-a425-d6da7f3f3252",
   "metadata": {},
   "outputs": [
    {
     "data": {
      "text/plain": [
       "{'name': [1, 2, 4, 5],\n",
       " 'assignment': (1, 24, 2, 3),\n",
       " 'launch date': {1, 3, 34},\n",
       " 'class time': {'data science': 8, 'java and dsa': 7, 'full stack': 6},\n",
       " 'mentor': ['sudhanshu', 'krish', 'anurag', 'hayder']}"
      ]
     },
     "execution_count": 31,
     "metadata": {},
     "output_type": "execute_result"
    }
   ],
   "source": [
    "d7"
   ]
  },
  {
   "cell_type": "code",
   "execution_count": 33,
   "id": "0dfc3e8b-084f-4f9c-83a0-c3dc42c4d2fd",
   "metadata": {},
   "outputs": [
    {
     "data": {
      "text/plain": [
       "['sudhanshu', 'krish', 'anurag', 'hayder']"
      ]
     },
     "execution_count": 33,
     "metadata": {},
     "output_type": "execute_result"
    }
   ],
   "source": [
    "d7['mentor']"
   ]
  },
  {
   "cell_type": "code",
   "execution_count": 34,
   "id": "86edce2d-88ca-415d-b50d-8dae7bfff511",
   "metadata": {},
   "outputs": [],
   "source": [
    "del d7['name']"
   ]
  },
  {
   "cell_type": "code",
   "execution_count": 35,
   "id": "07cdc835-4073-42ce-8365-8625bf611795",
   "metadata": {},
   "outputs": [
    {
     "data": {
      "text/plain": [
       "{'assignment': (1, 24, 2, 3),\n",
       " 'launch date': {1, 3, 34},\n",
       " 'class time': {'data science': 8, 'java and dsa': 7, 'full stack': 6},\n",
       " 'mentor': ['sudhanshu', 'krish', 'anurag', 'hayder']}"
      ]
     },
     "execution_count": 35,
     "metadata": {},
     "output_type": "execute_result"
    }
   ],
   "source": [
    "d7"
   ]
  },
  {
   "cell_type": "code",
   "execution_count": 38,
   "id": "b4e158c5-8aa0-4df4-942a-973acadd53e1",
   "metadata": {},
   "outputs": [
    {
     "data": {
      "text/plain": [
       "['assignment', 'launch date', 'class time', 'mentor']"
      ]
     },
     "execution_count": 38,
     "metadata": {},
     "output_type": "execute_result"
    }
   ],
   "source": [
    "list(d7.keys())"
   ]
  },
  {
   "cell_type": "code",
   "execution_count": 39,
   "id": "b58581d5-fca3-41f0-bb62-9e90f3f5e82d",
   "metadata": {},
   "outputs": [
    {
     "data": {
      "text/plain": [
       "dict_values([(1, 24, 2, 3), {1, 34, 3}, {'data science': 8, 'java and dsa': 7, 'full stack': 6}, ['sudhanshu', 'krish', 'anurag', 'hayder']])"
      ]
     },
     "execution_count": 39,
     "metadata": {},
     "output_type": "execute_result"
    }
   ],
   "source": [
    "d7.values()"
   ]
  },
  {
   "cell_type": "code",
   "execution_count": 41,
   "id": "b6901f3a-f0f4-4f11-b613-8de4c39733c4",
   "metadata": {},
   "outputs": [
    {
     "data": {
      "text/plain": [
       "[('assignment', (1, 24, 2, 3)),\n",
       " ('launch date', {1, 3, 34}),\n",
       " ('class time', {'data science': 8, 'java and dsa': 7, 'full stack': 6}),\n",
       " ('mentor', ['sudhanshu', 'krish', 'anurag', 'hayder'])]"
      ]
     },
     "execution_count": 41,
     "metadata": {},
     "output_type": "execute_result"
    }
   ],
   "source": [
    "list(d7.items())"
   ]
  },
  {
   "cell_type": "code",
   "execution_count": 42,
   "id": "93bb1866-6dba-46e2-9702-973eb3990013",
   "metadata": {},
   "outputs": [
    {
     "data": {
      "text/plain": [
       "{'assignment': (1, 24, 2, 3),\n",
       " 'launch date': {1, 3, 34},\n",
       " 'class time': {'data science': 8, 'java and dsa': 7, 'full stack': 6},\n",
       " 'mentor': ['sudhanshu', 'krish', 'anurag', 'hayder']}"
      ]
     },
     "execution_count": 42,
     "metadata": {},
     "output_type": "execute_result"
    }
   ],
   "source": [
    "d7"
   ]
  },
  {
   "cell_type": "code",
   "execution_count": 43,
   "id": "2c0010c7-a52c-440d-87ed-28839da0b8ae",
   "metadata": {},
   "outputs": [
    {
     "data": {
      "text/plain": [
       "(1, 24, 2, 3)"
      ]
     },
     "execution_count": 43,
     "metadata": {},
     "output_type": "execute_result"
    }
   ],
   "source": [
    "d7.pop('assignment')"
   ]
  },
  {
   "cell_type": "code",
   "execution_count": 47,
   "id": "83355ebf-71c4-4154-8f11-6686e1d9b659",
   "metadata": {},
   "outputs": [
    {
     "data": {
      "text/plain": [
       "{'launch date': {1, 3, 34},\n",
       " 'class time': {'data science': 8, 'java and dsa': 7, 'full stack': 6},\n",
       " 'mentor': ['sudhanshu', 'krish', 'anurag', 'hayder']}"
      ]
     },
     "execution_count": 47,
     "metadata": {},
     "output_type": "execute_result"
    }
   ],
   "source": [
    "d7"
   ]
  },
  {
   "cell_type": "code",
   "execution_count": 48,
   "id": "f38937a5-c4b7-4545-95b6-3a8b9157f5f1",
   "metadata": {},
   "outputs": [
    {
     "data": {
      "text/plain": [
       "{1, 3, 34}"
      ]
     },
     "execution_count": 48,
     "metadata": {},
     "output_type": "execute_result"
    }
   ],
   "source": [
    "d7.pop('launch date')"
   ]
  },
  {
   "cell_type": "code",
   "execution_count": 1,
   "id": "f8634c59-2757-4a6a-9713-9c3baf6c57da",
   "metadata": {},
   "outputs": [],
   "source": [
    "#if,else,elif"
   ]
  },
  {
   "cell_type": "code",
   "execution_count": 7,
   "id": "e6077a49-5d6d-42b2-8df6-861ffbc2d1b5",
   "metadata": {},
   "outputs": [
    {
     "name": "stdin",
     "output_type": "stream",
     "text": [
      "Enter your marks 97\n"
     ]
    },
    {
     "name": "stdout",
     "output_type": "stream",
     "text": [
      "You are the part of A0 batch\n"
     ]
    }
   ],
   "source": [
    "marks = int(input('Enter your marks'))\n",
    "\n",
    "if marks > 100:\n",
    "    print('Error')\n",
    "elif marks >= 80:\n",
    "    print('You are the part of A0 batch')\n",
    "elif marks >= 60 and marks < 80:\n",
    "    print('You are the part of A1 batch')\n",
    "elif marks >= 40 and marks < 60:\n",
    "    print('You are the part of A2 batch')\n",
    "else:\n",
    "    print('You are losser, part of A3 batch')"
   ]
  },
  {
   "cell_type": "code",
   "execution_count": 17,
   "id": "3c8ca10d-4365-42a6-b663-706f1e837aa7",
   "metadata": {},
   "outputs": [
    {
     "name": "stdin",
     "output_type": "stream",
     "text": [
      "Enter the price 999\n"
     ]
    },
    {
     "name": "stdout",
     "output_type": "stream",
     "text": [
      "its buyable\n"
     ]
    }
   ],
   "source": [
    "price = int(input('Enter the price'))\n",
    "\n",
    "if price > 1000:\n",
    "    print('i will not purchase')\n",
    "    if price > 5000:\n",
    "        print('this is too much')\n",
    "    elif price <2000:\n",
    "        print('its ok')\n",
    "elif  price <= 1000:\n",
    "    print('its buyable')\n",
    "else:\n",
    "    print('not interested')"
   ]
  },
  {
   "cell_type": "code",
   "execution_count": 23,
   "id": "2283039f-3664-46b4-aa4e-8ec551679cbb",
   "metadata": {},
   "outputs": [],
   "source": [
    "l = [1,2,3,3,4,5,6,7,8]"
   ]
  },
  {
   "cell_type": "code",
   "execution_count": 30,
   "id": "f7102f04-9102-4e9b-a90d-77429b6dfb8d",
   "metadata": {},
   "outputs": [
    {
     "name": "stdout",
     "output_type": "stream",
     "text": [
      "2\n",
      "3\n",
      "4\n",
      "4\n",
      "5\n",
      "6\n",
      "7\n",
      "8\n",
      "9\n"
     ]
    }
   ],
   "source": [
    "l1 = []\n",
    "\n",
    "for i in l:\n",
    "    print(i+1)\n",
    "    l1.append(i+1)"
   ]
  },
  {
   "cell_type": "code",
   "execution_count": 27,
   "id": "5e1a0343-0f6c-497d-ad62-c4eec6fde659",
   "metadata": {},
   "outputs": [
    {
     "data": {
      "text/plain": [
       "[1, 2, 3, 3, 4, 5, 6, 7, 8]"
      ]
     },
     "execution_count": 27,
     "metadata": {},
     "output_type": "execute_result"
    }
   ],
   "source": [
    "l"
   ]
  },
  {
   "cell_type": "code",
   "execution_count": 28,
   "id": "9fb7da04-a7cb-4df3-a02d-12a23337e080",
   "metadata": {},
   "outputs": [
    {
     "data": {
      "text/plain": [
       "[2, 3, 4, 4, 5, 6, 7, 8, 9]"
      ]
     },
     "execution_count": 28,
     "metadata": {},
     "output_type": "execute_result"
    }
   ],
   "source": [
    "l1"
   ]
  },
  {
   "cell_type": "code",
   "execution_count": 31,
   "id": "d449ff1a-0f8c-480f-aa09-85ad6810f1cf",
   "metadata": {},
   "outputs": [],
   "source": [
    "l = [\"ujjwal\" , \"hari narayan\" , \"ram\" , \"hare krishna\" , \"bajrang bali\"]"
   ]
  },
  {
   "cell_type": "code",
   "execution_count": 43,
   "id": "1980f1a0-fd24-4fa5-bd96-52d0582a7e20",
   "metadata": {},
   "outputs": [
    {
     "name": "stdout",
     "output_type": "stream",
     "text": [
      "ujjwal\n",
      "hari narayan\n",
      "ram\n",
      "hare krishna\n",
      "bajrang bali\n"
     ]
    }
   ],
   "source": [
    "l1 = []\n",
    "for i in l :\n",
    "    print(i)\n",
    "    l1.append(i.upper())"
   ]
  },
  {
   "cell_type": "code",
   "execution_count": 44,
   "id": "87d66256-c748-4487-ab1b-f3df27531942",
   "metadata": {},
   "outputs": [
    {
     "data": {
      "text/plain": [
       "['UJJWAL', 'HARI NARAYAN', 'RAM', 'HARE KRISHNA', 'BAJRANG BALI']"
      ]
     },
     "execution_count": 44,
     "metadata": {},
     "output_type": "execute_result"
    }
   ],
   "source": [
    "l1"
   ]
  },
  {
   "cell_type": "code",
   "execution_count": 45,
   "id": "651f73d8-9386-4458-86e2-95a04c873fec",
   "metadata": {},
   "outputs": [],
   "source": [
    "l = [3,6,9, 'ujjwal', 23.2424, 'narayan', 'hanuman']"
   ]
  },
  {
   "cell_type": "code",
   "execution_count": 48,
   "id": "2edf04ef-9d3f-4d4d-9cf9-a1b85bd19dc4",
   "metadata": {},
   "outputs": [],
   "source": [
    "l1_num = []\n",
    "l2_str = []\n",
    "\n",
    "for i in l:\n",
    "    if type(i) == int or type(i)== float:\n",
    "        l1_num.append(i)\n",
    "    else:\n",
    "        l2_str.append(i)"
   ]
  },
  {
   "cell_type": "code",
   "execution_count": 49,
   "id": "81d30197-931e-4a78-b0eb-519724a0d6c5",
   "metadata": {},
   "outputs": [
    {
     "data": {
      "text/plain": [
       "[3, 6, 9, 23.2424]"
      ]
     },
     "execution_count": 49,
     "metadata": {},
     "output_type": "execute_result"
    }
   ],
   "source": [
    "l1_num"
   ]
  },
  {
   "cell_type": "code",
   "execution_count": 50,
   "id": "381bd0a3-cd3b-4932-bde6-b6bd6b36025b",
   "metadata": {},
   "outputs": [
    {
     "data": {
      "text/plain": [
       "['ujjwal', 'narayan', 'hanuman']"
      ]
     },
     "execution_count": 50,
     "metadata": {},
     "output_type": "execute_result"
    }
   ],
   "source": [
    "l2_str"
   ]
  },
  {
   "cell_type": "code",
   "execution_count": null,
   "id": "62277e89-5175-4928-9ab9-ab00f7300cc8",
   "metadata": {},
   "outputs": [],
   "source": []
  }
 ],
 "metadata": {
  "kernelspec": {
   "display_name": "Python 3 (ipykernel)",
   "language": "python",
   "name": "python3"
  },
  "language_info": {
   "codemirror_mode": {
    "name": "ipython",
    "version": 3
   },
   "file_extension": ".py",
   "mimetype": "text/x-python",
   "name": "python",
   "nbconvert_exporter": "python",
   "pygments_lexer": "ipython3",
   "version": "3.10.8"
  }
 },
 "nbformat": 4,
 "nbformat_minor": 5
}
