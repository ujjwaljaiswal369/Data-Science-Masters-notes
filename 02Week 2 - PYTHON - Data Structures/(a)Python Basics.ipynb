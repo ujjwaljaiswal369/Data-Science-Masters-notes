{
 "cells": [
  {
   "cell_type": "code",
   "execution_count": 2,
   "id": "fb91d3fa-de0e-4b78-811b-6b1904a01466",
   "metadata": {},
   "outputs": [
    {
     "data": {
      "text/plain": [
       "2"
      ]
     },
     "execution_count": 2,
     "metadata": {},
     "output_type": "execute_result"
    }
   ],
   "source": [
    "1+1"
   ]
  },
  {
   "cell_type": "code",
   "execution_count": 3,
   "id": "f92d8623-c3ba-4086-aeef-8d27cf314fb3",
   "metadata": {},
   "outputs": [
    {
     "data": {
      "text/plain": [
       "25"
      ]
     },
     "execution_count": 3,
     "metadata": {},
     "output_type": "execute_result"
    }
   ],
   "source": [
    "5*5"
   ]
  },
  {
   "cell_type": "code",
   "execution_count": 4,
   "id": "23d0f3c8-08cd-454a-b6d9-7bbeffa2ca1a",
   "metadata": {},
   "outputs": [],
   "source": [
    "a = 10"
   ]
  },
  {
   "cell_type": "code",
   "execution_count": 5,
   "id": "9459a6ef-f6c0-4932-a8c0-6f4c9d39cb8b",
   "metadata": {},
   "outputs": [
    {
     "data": {
      "text/plain": [
       "10"
      ]
     },
     "execution_count": 5,
     "metadata": {},
     "output_type": "execute_result"
    }
   ],
   "source": [
    "a"
   ]
  },
  {
   "cell_type": "code",
   "execution_count": 6,
   "id": "56c6147d-ca5f-4893-ad07-32eca5d80404",
   "metadata": {},
   "outputs": [],
   "source": [
    "ujjwal = 20"
   ]
  },
  {
   "cell_type": "code",
   "execution_count": 7,
   "id": "8ce648b3-34a9-4a57-8164-ebc3c13fa013",
   "metadata": {},
   "outputs": [
    {
     "data": {
      "text/plain": [
       "20"
      ]
     },
     "execution_count": 7,
     "metadata": {},
     "output_type": "execute_result"
    }
   ],
   "source": [
    "ujjwal"
   ]
  },
  {
   "cell_type": "code",
   "execution_count": 8,
   "id": "53041f17-6abc-41fa-9b22-f498cf726c8d",
   "metadata": {},
   "outputs": [
    {
     "data": {
      "text/plain": [
       "30"
      ]
     },
     "execution_count": 8,
     "metadata": {},
     "output_type": "execute_result"
    }
   ],
   "source": [
    "a + ujjwal"
   ]
  },
  {
   "cell_type": "code",
   "execution_count": 9,
   "id": "218a1d1f-5705-4da7-a5de-822c3f157850",
   "metadata": {},
   "outputs": [
    {
     "data": {
      "text/plain": [
       "int"
      ]
     },
     "execution_count": 9,
     "metadata": {},
     "output_type": "execute_result"
    }
   ],
   "source": [
    "type(a)"
   ]
  },
  {
   "cell_type": "code",
   "execution_count": 10,
   "id": "cdce5cfb-20f1-43ef-99ae-9e918d76078b",
   "metadata": {},
   "outputs": [
    {
     "data": {
      "text/plain": [
       "int"
      ]
     },
     "execution_count": 10,
     "metadata": {},
     "output_type": "execute_result"
    }
   ],
   "source": [
    "type(ujjwal)"
   ]
  },
  {
   "cell_type": "code",
   "execution_count": 11,
   "id": "ef920ca1-6513-499b-ade4-4c32ede16bf4",
   "metadata": {},
   "outputs": [],
   "source": [
    "b = 213.1234"
   ]
  },
  {
   "cell_type": "code",
   "execution_count": 12,
   "id": "87ffa219-58b9-4f04-a6a9-1dc5f7909ffb",
   "metadata": {},
   "outputs": [
    {
     "data": {
      "text/plain": [
       "213.1234"
      ]
     },
     "execution_count": 12,
     "metadata": {},
     "output_type": "execute_result"
    }
   ],
   "source": [
    "b"
   ]
  },
  {
   "cell_type": "code",
   "execution_count": 13,
   "id": "2a603a58-256d-489c-a378-af5b03ef0868",
   "metadata": {},
   "outputs": [
    {
     "data": {
      "text/plain": [
       "float"
      ]
     },
     "execution_count": 13,
     "metadata": {},
     "output_type": "execute_result"
    }
   ],
   "source": [
    "type(b)"
   ]
  },
  {
   "cell_type": "code",
   "execution_count": 14,
   "id": "bbcb485e-94a3-4a37-9e0d-162822fd57b0",
   "metadata": {},
   "outputs": [],
   "source": [
    "c = 31.24j"
   ]
  },
  {
   "cell_type": "code",
   "execution_count": 15,
   "id": "b2eaef24-b75f-440c-9a96-0508e8e885fd",
   "metadata": {},
   "outputs": [
    {
     "data": {
      "text/plain": [
       "complex"
      ]
     },
     "execution_count": 15,
     "metadata": {},
     "output_type": "execute_result"
    }
   ],
   "source": [
    "type(c)"
   ]
  },
  {
   "cell_type": "code",
   "execution_count": 16,
   "id": "2a29deef-d244-4a6d-8d9a-47014eef22f7",
   "metadata": {},
   "outputs": [],
   "source": [
    "d = 'jai shree ram'"
   ]
  },
  {
   "cell_type": "code",
   "execution_count": 17,
   "id": "f57c0a07-acf6-4168-8ec1-6cda6a1d2a84",
   "metadata": {},
   "outputs": [
    {
     "data": {
      "text/plain": [
       "'jai shree ram'"
      ]
     },
     "execution_count": 17,
     "metadata": {},
     "output_type": "execute_result"
    }
   ],
   "source": [
    "d"
   ]
  },
  {
   "cell_type": "code",
   "execution_count": 18,
   "id": "d1642742-0d63-4bf3-a3a5-5aa34678ce81",
   "metadata": {},
   "outputs": [
    {
     "data": {
      "text/plain": [
       "str"
      ]
     },
     "execution_count": 18,
     "metadata": {},
     "output_type": "execute_result"
    }
   ],
   "source": [
    "type(d)"
   ]
  },
  {
   "cell_type": "code",
   "execution_count": 19,
   "id": "b7d470f4-3488-4d58-b377-dea263a2deec",
   "metadata": {},
   "outputs": [],
   "source": [
    "e = \"Data science is my first job\""
   ]
  },
  {
   "cell_type": "code",
   "execution_count": 20,
   "id": "fe91ff7e-c15f-4366-ba87-bbe08fdd80a9",
   "metadata": {},
   "outputs": [
    {
     "data": {
      "text/plain": [
       "'Data science is my first job'"
      ]
     },
     "execution_count": 20,
     "metadata": {},
     "output_type": "execute_result"
    }
   ],
   "source": [
    "e"
   ]
  },
  {
   "cell_type": "code",
   "execution_count": 21,
   "id": "5dcf1fb5-f199-47e1-b333-e18cf0477145",
   "metadata": {},
   "outputs": [
    {
     "data": {
      "text/plain": [
       "str"
      ]
     },
     "execution_count": 21,
     "metadata": {},
     "output_type": "execute_result"
    }
   ],
   "source": [
    "type(e)"
   ]
  },
  {
   "cell_type": "code",
   "execution_count": 22,
   "id": "1c4df213-7907-48a7-8a51-43e17b3ce1c1",
   "metadata": {},
   "outputs": [],
   "source": [
    "n =True"
   ]
  },
  {
   "cell_type": "code",
   "execution_count": 23,
   "id": "fbf1c839-e623-4ed4-95fc-e03d1ce221d7",
   "metadata": {},
   "outputs": [
    {
     "data": {
      "text/plain": [
       "bool"
      ]
     },
     "execution_count": 23,
     "metadata": {},
     "output_type": "execute_result"
    }
   ],
   "source": [
    "type(n)"
   ]
  },
  {
   "cell_type": "code",
   "execution_count": 24,
   "id": "e9e29d7f-c34c-421d-a051-345bf9f4595b",
   "metadata": {},
   "outputs": [],
   "source": [
    "m = False"
   ]
  },
  {
   "cell_type": "code",
   "execution_count": 25,
   "id": "be27da36-dd12-4244-be3f-b3397072a62f",
   "metadata": {},
   "outputs": [
    {
     "data": {
      "text/plain": [
       "bool"
      ]
     },
     "execution_count": 25,
     "metadata": {},
     "output_type": "execute_result"
    }
   ],
   "source": [
    "type(m)"
   ]
  },
  {
   "cell_type": "code",
   "execution_count": 26,
   "id": "31a73de9-24e4-4cb3-809d-ae0d0a910ef0",
   "metadata": {},
   "outputs": [
    {
     "data": {
      "text/plain": [
       "1"
      ]
     },
     "execution_count": 26,
     "metadata": {},
     "output_type": "execute_result"
    }
   ],
   "source": [
    "n+m"
   ]
  },
  {
   "cell_type": "code",
   "execution_count": 27,
   "id": "34123f8b-6b5e-42bd-aefc-c30febb5fdb1",
   "metadata": {},
   "outputs": [
    {
     "data": {
      "text/plain": [
       "0"
      ]
     },
     "execution_count": 27,
     "metadata": {},
     "output_type": "execute_result"
    }
   ],
   "source": [
    "True*False"
   ]
  },
  {
   "cell_type": "code",
   "execution_count": 28,
   "id": "1d985f5c-ef7a-4fb1-a96a-a01542f58cce",
   "metadata": {},
   "outputs": [
    {
     "data": {
      "text/plain": [
       "1"
      ]
     },
     "execution_count": 28,
     "metadata": {},
     "output_type": "execute_result"
    }
   ],
   "source": [
    "True*True"
   ]
  },
  {
   "cell_type": "code",
   "execution_count": 29,
   "id": "2139beae-d8da-4f5c-bc05-615f3a1c015f",
   "metadata": {},
   "outputs": [
    {
     "data": {
      "text/plain": [
       "1"
      ]
     },
     "execution_count": 29,
     "metadata": {},
     "output_type": "execute_result"
    }
   ],
   "source": [
    "True+False"
   ]
  },
  {
   "cell_type": "code",
   "execution_count": 30,
   "id": "ec44d6d6-6dfd-4f33-879f-fa763c8a71a2",
   "metadata": {},
   "outputs": [
    {
     "data": {
      "text/plain": [
       "2"
      ]
     },
     "execution_count": 30,
     "metadata": {},
     "output_type": "execute_result"
    }
   ],
   "source": [
    "True+True"
   ]
  },
  {
   "cell_type": "code",
   "execution_count": 31,
   "id": "b8ac9e57-04ae-4a13-8b9d-dfd22af6a1fd",
   "metadata": {},
   "outputs": [
    {
     "data": {
      "text/plain": [
       "0"
      ]
     },
     "execution_count": 31,
     "metadata": {},
     "output_type": "execute_result"
    }
   ],
   "source": [
    "False+False"
   ]
  },
  {
   "cell_type": "code",
   "execution_count": 32,
   "id": "d4fa9a55-7eb0-4200-bd67-443dcce039e0",
   "metadata": {},
   "outputs": [
    {
     "ename": "ZeroDivisionError",
     "evalue": "division by zero",
     "output_type": "error",
     "traceback": [
      "\u001b[0;31m---------------------------------------------------------------------------\u001b[0m",
      "\u001b[0;31mZeroDivisionError\u001b[0m                         Traceback (most recent call last)",
      "Cell \u001b[0;32mIn[32], line 1\u001b[0m\n\u001b[0;32m----> 1\u001b[0m \u001b[38;5;241;43m1\u001b[39;49m\u001b[38;5;241;43m/\u001b[39;49m\u001b[38;5;241;43m0\u001b[39;49m\n",
      "\u001b[0;31mZeroDivisionError\u001b[0m: division by zero"
     ]
    }
   ],
   "source": [
    "1/0"
   ]
  },
  {
   "cell_type": "code",
   "execution_count": 33,
   "id": "a2564311-6693-4b4e-89c2-8076820364c9",
   "metadata": {},
   "outputs": [],
   "source": [
    "ram = 5 +8j"
   ]
  },
  {
   "cell_type": "code",
   "execution_count": 34,
   "id": "6bcc7cde-9725-48bc-8050-3509dc14681f",
   "metadata": {},
   "outputs": [
    {
     "data": {
      "text/plain": [
       "(5+8j)"
      ]
     },
     "execution_count": 34,
     "metadata": {},
     "output_type": "execute_result"
    }
   ],
   "source": [
    "ram"
   ]
  },
  {
   "cell_type": "code",
   "execution_count": 35,
   "id": "5799a1a4-d47d-4334-9d3a-49ad5e4b9b5a",
   "metadata": {},
   "outputs": [
    {
     "data": {
      "text/plain": [
       "complex"
      ]
     },
     "execution_count": 35,
     "metadata": {},
     "output_type": "execute_result"
    }
   ],
   "source": [
    "type(ram)"
   ]
  },
  {
   "cell_type": "code",
   "execution_count": 36,
   "id": "8a359a6b-cec6-4a35-a0b3-19ad8bfb6688",
   "metadata": {},
   "outputs": [
    {
     "data": {
      "text/plain": [
       "5.0"
      ]
     },
     "execution_count": 36,
     "metadata": {},
     "output_type": "execute_result"
    }
   ],
   "source": [
    "ram.real"
   ]
  },
  {
   "cell_type": "code",
   "execution_count": 37,
   "id": "194e711c-71b5-49e6-a002-30a5956ee465",
   "metadata": {},
   "outputs": [
    {
     "data": {
      "text/plain": [
       "8.0"
      ]
     },
     "execution_count": 37,
     "metadata": {},
     "output_type": "execute_result"
    }
   ],
   "source": [
    "ram.imag"
   ]
  },
  {
   "cell_type": "code",
   "execution_count": 38,
   "id": "21ec66ef-81b9-46da-ba33-c83d545d0c24",
   "metadata": {},
   "outputs": [
    {
     "data": {
      "text/plain": [
       "<function complex.conjugate()>"
      ]
     },
     "execution_count": 38,
     "metadata": {},
     "output_type": "execute_result"
    }
   ],
   "source": [
    "ram.conjugate"
   ]
  },
  {
   "cell_type": "code",
   "execution_count": 48,
   "id": "25774ed9-96bd-4c72-afe5-10d45cd4fee3",
   "metadata": {},
   "outputs": [],
   "source": [
    "s = 'Hari Narayan'"
   ]
  },
  {
   "cell_type": "code",
   "execution_count": 40,
   "id": "c87ef953-a98a-4ab2-a2bd-67d88392c97f",
   "metadata": {},
   "outputs": [
    {
     "data": {
      "text/plain": [
       "'Hari narayan'"
      ]
     },
     "execution_count": 40,
     "metadata": {},
     "output_type": "execute_result"
    }
   ],
   "source": [
    "s"
   ]
  },
  {
   "cell_type": "code",
   "execution_count": 41,
   "id": "52f85653-3ba8-401a-93c5-700063538816",
   "metadata": {},
   "outputs": [
    {
     "data": {
      "text/plain": [
       "str"
      ]
     },
     "execution_count": 41,
     "metadata": {},
     "output_type": "execute_result"
    }
   ],
   "source": [
    "type(s)"
   ]
  },
  {
   "cell_type": "code",
   "execution_count": 42,
   "id": "bb132309-2154-48ca-b40e-ca6d5ea9e933",
   "metadata": {},
   "outputs": [
    {
     "data": {
      "text/plain": [
       "'H'"
      ]
     },
     "execution_count": 42,
     "metadata": {},
     "output_type": "execute_result"
    }
   ],
   "source": [
    "s[0]"
   ]
  },
  {
   "cell_type": "code",
   "execution_count": 43,
   "id": "03ac9350-c910-4d85-bc59-636ba8dd7d0d",
   "metadata": {},
   "outputs": [
    {
     "data": {
      "text/plain": [
       "' '"
      ]
     },
     "execution_count": 43,
     "metadata": {},
     "output_type": "execute_result"
    }
   ],
   "source": [
    "s[4]"
   ]
  },
  {
   "cell_type": "code",
   "execution_count": 45,
   "id": "da97dd91-3a00-4ff3-85df-6db438293541",
   "metadata": {},
   "outputs": [
    {
     "data": {
      "text/plain": [
       "'n'"
      ]
     },
     "execution_count": 45,
     "metadata": {},
     "output_type": "execute_result"
    }
   ],
   "source": [
    "s[5]"
   ]
  },
  {
   "cell_type": "code",
   "execution_count": 46,
   "id": "f16dd616-4d9e-4171-8889-3ad2170d5ad5",
   "metadata": {},
   "outputs": [
    {
     "data": {
      "text/plain": [
       "'n'"
      ]
     },
     "execution_count": 46,
     "metadata": {},
     "output_type": "execute_result"
    }
   ],
   "source": [
    "s[5]"
   ]
  },
  {
   "cell_type": "code",
   "execution_count": 47,
   "id": "4859da08-867f-42c3-af6f-e2559a20c607",
   "metadata": {},
   "outputs": [
    {
     "data": {
      "text/plain": [
       "'Hari narayan'"
      ]
     },
     "execution_count": 47,
     "metadata": {},
     "output_type": "execute_result"
    }
   ],
   "source": [
    "s"
   ]
  },
  {
   "cell_type": "code",
   "execution_count": 49,
   "id": "c35a84dc-58ac-4d7b-8129-97840879af07",
   "metadata": {},
   "outputs": [
    {
     "data": {
      "text/plain": [
       "'Hari Narayan'"
      ]
     },
     "execution_count": 49,
     "metadata": {},
     "output_type": "execute_result"
    }
   ],
   "source": [
    "s"
   ]
  },
  {
   "cell_type": "code",
   "execution_count": 50,
   "id": "4594451f-e46a-4a99-8905-c4edcb36cdef",
   "metadata": {},
   "outputs": [
    {
     "data": {
      "text/plain": [
       "'N'"
      ]
     },
     "execution_count": 50,
     "metadata": {},
     "output_type": "execute_result"
    }
   ],
   "source": [
    "s[5]"
   ]
  },
  {
   "cell_type": "code",
   "execution_count": 51,
   "id": "b979ee0d-e783-4baa-aefd-96493ef287a4",
   "metadata": {},
   "outputs": [
    {
     "data": {
      "text/plain": [
       "'Hari '"
      ]
     },
     "execution_count": 51,
     "metadata": {},
     "output_type": "execute_result"
    }
   ],
   "source": [
    "s[0:5]"
   ]
  },
  {
   "cell_type": "code",
   "execution_count": 52,
   "id": "8eeb1da0-47d6-4a19-baa6-89db2d575f67",
   "metadata": {},
   "outputs": [
    {
     "data": {
      "text/plain": [
       "'Hari'"
      ]
     },
     "execution_count": 52,
     "metadata": {},
     "output_type": "execute_result"
    }
   ],
   "source": [
    "s[0:4]"
   ]
  },
  {
   "cell_type": "code",
   "execution_count": 53,
   "id": "0ab7959c-b68e-4fc7-8e06-0e87d1c81c47",
   "metadata": {},
   "outputs": [
    {
     "data": {
      "text/plain": [
       "'Hari N'"
      ]
     },
     "execution_count": 53,
     "metadata": {},
     "output_type": "execute_result"
    }
   ],
   "source": [
    "s[0:6]"
   ]
  },
  {
   "cell_type": "code",
   "execution_count": 54,
   "id": "55e7f84f-baf2-443c-a66c-200570ddaafc",
   "metadata": {},
   "outputs": [
    {
     "data": {
      "text/plain": [
       "'Hr '"
      ]
     },
     "execution_count": 54,
     "metadata": {},
     "output_type": "execute_result"
    }
   ],
   "source": [
    "s[0:5:2]"
   ]
  },
  {
   "cell_type": "code",
   "execution_count": 55,
   "id": "abab8c97-1ecd-4288-8f94-346a69a04093",
   "metadata": {},
   "outputs": [
    {
     "data": {
      "text/plain": [
       "'i Nara'"
      ]
     },
     "execution_count": 55,
     "metadata": {},
     "output_type": "execute_result"
    }
   ],
   "source": [
    "s[3:9]"
   ]
  },
  {
   "cell_type": "code",
   "execution_count": 56,
   "id": "155819e9-2702-4f7f-aaed-508bdbddf2af",
   "metadata": {},
   "outputs": [
    {
     "data": {
      "text/plain": [
       "'Hari Naraya'"
      ]
     },
     "execution_count": 56,
     "metadata": {},
     "output_type": "execute_result"
    }
   ],
   "source": [
    "s[0:11]"
   ]
  },
  {
   "cell_type": "code",
   "execution_count": 57,
   "id": "3ec4b43d-91a6-40cd-852a-7132707455b5",
   "metadata": {},
   "outputs": [
    {
     "data": {
      "text/plain": [
       "'Hari Narayan'"
      ]
     },
     "execution_count": 57,
     "metadata": {},
     "output_type": "execute_result"
    }
   ],
   "source": [
    "s[0:12]"
   ]
  },
  {
   "cell_type": "code",
   "execution_count": 58,
   "id": "880829d4-bd09-4a69-87bb-68d57186bc9e",
   "metadata": {},
   "outputs": [
    {
     "data": {
      "text/plain": [
       "'Hr aaa'"
      ]
     },
     "execution_count": 58,
     "metadata": {},
     "output_type": "execute_result"
    }
   ],
   "source": [
    "s[0:12:2]"
   ]
  },
  {
   "cell_type": "code",
   "execution_count": 59,
   "id": "39ac60fe-cbb8-4105-a818-45fc1f1a70a1",
   "metadata": {},
   "outputs": [
    {
     "data": {
      "text/plain": [
       "''"
      ]
     },
     "execution_count": 59,
     "metadata": {},
     "output_type": "execute_result"
    }
   ],
   "source": [
    "s[0:12:-1]"
   ]
  },
  {
   "cell_type": "code",
   "execution_count": 60,
   "id": "541414d1-6387-4ca9-bcae-263a93316385",
   "metadata": {},
   "outputs": [
    {
     "data": {
      "text/plain": [
       "'nayaraN ira'"
      ]
     },
     "execution_count": 60,
     "metadata": {},
     "output_type": "execute_result"
    }
   ],
   "source": [
    "s[12:0:-1]"
   ]
  },
  {
   "cell_type": "code",
   "execution_count": 61,
   "id": "15507309-4777-4887-8d94-8c0f0ed0f7fe",
   "metadata": {},
   "outputs": [],
   "source": [
    "s = 'Hari Narayan'"
   ]
  },
  {
   "cell_type": "code",
   "execution_count": 62,
   "id": "5ea7cb37-4f67-4b8e-ba16-04563c68d43c",
   "metadata": {},
   "outputs": [
    {
     "data": {
      "text/plain": [
       "'Hari Narayan'"
      ]
     },
     "execution_count": 62,
     "metadata": {},
     "output_type": "execute_result"
    }
   ],
   "source": [
    "s"
   ]
  },
  {
   "cell_type": "code",
   "execution_count": 63,
   "id": "353bbc6b-0b7c-419b-9070-24afddf07887",
   "metadata": {},
   "outputs": [
    {
     "data": {
      "text/plain": [
       "12"
      ]
     },
     "execution_count": 63,
     "metadata": {},
     "output_type": "execute_result"
    }
   ],
   "source": [
    "len(s)"
   ]
  },
  {
   "cell_type": "code",
   "execution_count": 64,
   "id": "4dba6508-efcf-4284-90f1-89d9ca453a2d",
   "metadata": {},
   "outputs": [
    {
     "data": {
      "text/plain": [
       "<function str.find>"
      ]
     },
     "execution_count": 64,
     "metadata": {},
     "output_type": "execute_result"
    }
   ],
   "source": [
    "s.find"
   ]
  },
  {
   "cell_type": "code",
   "execution_count": 66,
   "id": "83711f4d-b006-4b08-b5c8-628bcbeb60c4",
   "metadata": {},
   "outputs": [
    {
     "data": {
      "text/plain": [
       "3"
      ]
     },
     "execution_count": 66,
     "metadata": {},
     "output_type": "execute_result"
    }
   ],
   "source": [
    "s.find('i')"
   ]
  },
  {
   "cell_type": "code",
   "execution_count": 67,
   "id": "9346ee40-c533-4608-9f9f-5c1c4c4d5f14",
   "metadata": {},
   "outputs": [
    {
     "data": {
      "text/plain": [
       "1"
      ]
     },
     "execution_count": 67,
     "metadata": {},
     "output_type": "execute_result"
    }
   ],
   "source": [
    "s.find('a')"
   ]
  },
  {
   "cell_type": "code",
   "execution_count": 69,
   "id": "fc603ecc-7aa5-4371-8718-3dc7c2da9ad5",
   "metadata": {},
   "outputs": [
    {
     "data": {
      "text/plain": [
       "1"
      ]
     },
     "execution_count": 69,
     "metadata": {},
     "output_type": "execute_result"
    }
   ],
   "source": [
    "s.count('i')"
   ]
  },
  {
   "cell_type": "code",
   "execution_count": 71,
   "id": "457578ad-3398-485e-8f4b-8e016b5b8722",
   "metadata": {},
   "outputs": [
    {
     "data": {
      "text/plain": [
       "4"
      ]
     },
     "execution_count": 71,
     "metadata": {},
     "output_type": "execute_result"
    }
   ],
   "source": [
    "s.count('a')"
   ]
  },
  {
   "cell_type": "code",
   "execution_count": 4,
   "id": "6ceaf757-3df0-4e78-8e2c-3446b9de9033",
   "metadata": {},
   "outputs": [],
   "source": [
    "s = 'Hari Narayan'"
   ]
  },
  {
   "cell_type": "code",
   "execution_count": 5,
   "id": "1b387f52-57e0-495d-9f3c-651e9a729689",
   "metadata": {},
   "outputs": [
    {
     "data": {
      "text/plain": [
       "'Hari Narayan'"
      ]
     },
     "execution_count": 5,
     "metadata": {},
     "output_type": "execute_result"
    }
   ],
   "source": [
    "s"
   ]
  },
  {
   "cell_type": "code",
   "execution_count": 6,
   "id": "3d02b06e-ea8d-47cc-a385-a5eceef254ec",
   "metadata": {},
   "outputs": [
    {
     "data": {
      "text/plain": [
       "2"
      ]
     },
     "execution_count": 6,
     "metadata": {},
     "output_type": "execute_result"
    }
   ],
   "source": [
    "s.count('r')"
   ]
  },
  {
   "cell_type": "code",
   "execution_count": 9,
   "id": "cad798f5-3343-4fce-bfce-27209dea79bf",
   "metadata": {},
   "outputs": [
    {
     "data": {
      "text/plain": [
       "'Hari Narayan'"
      ]
     },
     "execution_count": 9,
     "metadata": {},
     "output_type": "execute_result"
    }
   ],
   "source": [
    "s"
   ]
  },
  {
   "cell_type": "code",
   "execution_count": 11,
   "id": "47bdcdf5-081c-400e-a63d-68f8f16060be",
   "metadata": {},
   "outputs": [
    {
     "data": {
      "text/plain": [
       "'HARI NARAYAN'"
      ]
     },
     "execution_count": 11,
     "metadata": {},
     "output_type": "execute_result"
    }
   ],
   "source": [
    "s.upper()"
   ]
  },
  {
   "cell_type": "code",
   "execution_count": 12,
   "id": "62e16b78-29bc-4f01-a85f-af73794934b9",
   "metadata": {},
   "outputs": [
    {
     "data": {
      "text/plain": [
       "'hari narayan'"
      ]
     },
     "execution_count": 12,
     "metadata": {},
     "output_type": "execute_result"
    }
   ],
   "source": [
    "s.lower()"
   ]
  },
  {
   "cell_type": "code",
   "execution_count": 13,
   "id": "560a8c69-7363-4675-a10f-10c7827b8106",
   "metadata": {},
   "outputs": [
    {
     "data": {
      "text/plain": [
       "'Hari narayan'"
      ]
     },
     "execution_count": 13,
     "metadata": {},
     "output_type": "execute_result"
    }
   ],
   "source": [
    "s.capitalize()"
   ]
  },
  {
   "cell_type": "code",
   "execution_count": 14,
   "id": "cf93a35f-4e53-4265-ac9e-d67b3028875d",
   "metadata": {},
   "outputs": [
    {
     "data": {
      "text/plain": [
       "'Hari Narayan'"
      ]
     },
     "execution_count": 14,
     "metadata": {},
     "output_type": "execute_result"
    }
   ],
   "source": [
    "s.title()"
   ]
  },
  {
   "cell_type": "code",
   "execution_count": 15,
   "id": "1ccf9d28-9e3d-48b1-a5ea-3827eb775ea6",
   "metadata": {},
   "outputs": [
    {
     "data": {
      "text/plain": [
       "'Hari Narayan'"
      ]
     },
     "execution_count": 15,
     "metadata": {},
     "output_type": "execute_result"
    }
   ],
   "source": [
    "s"
   ]
  },
  {
   "cell_type": "code",
   "execution_count": 16,
   "id": "84d0f145-e77f-4bab-8279-0c1bce0e39fd",
   "metadata": {},
   "outputs": [
    {
     "ename": "TypeError",
     "evalue": "can only concatenate str (not \"int\") to str",
     "output_type": "error",
     "traceback": [
      "\u001b[0;31m---------------------------------------------------------------------------\u001b[0m",
      "\u001b[0;31mTypeError\u001b[0m                                 Traceback (most recent call last)",
      "Cell \u001b[0;32mIn[16], line 1\u001b[0m\n\u001b[0;32m----> 1\u001b[0m \u001b[43ms\u001b[49m\u001b[43m \u001b[49m\u001b[38;5;241;43m+\u001b[39;49m\u001b[43m \u001b[49m\u001b[38;5;241;43m1\u001b[39;49m\n",
      "\u001b[0;31mTypeError\u001b[0m: can only concatenate str (not \"int\") to str"
     ]
    }
   ],
   "source": [
    "s + 1"
   ]
  },
  {
   "cell_type": "code",
   "execution_count": 17,
   "id": "d72dd4f2-9ce3-42d2-80fc-056673d02a1e",
   "metadata": {},
   "outputs": [
    {
     "data": {
      "text/plain": [
       "'Hari Narayan1'"
      ]
     },
     "execution_count": 17,
     "metadata": {},
     "output_type": "execute_result"
    }
   ],
   "source": [
    "s + '1'"
   ]
  },
  {
   "cell_type": "code",
   "execution_count": 18,
   "id": "c563b494-8372-4e9b-8f0f-0d800a72f465",
   "metadata": {},
   "outputs": [
    {
     "data": {
      "text/plain": [
       "'Hari Narayan1'"
      ]
     },
     "execution_count": 18,
     "metadata": {},
     "output_type": "execute_result"
    }
   ],
   "source": [
    "s + str(1)"
   ]
  },
  {
   "cell_type": "code",
   "execution_count": 20,
   "id": "0b2e670c-5c04-4420-9d29-bb1ecf96771f",
   "metadata": {},
   "outputs": [
    {
     "data": {
      "text/plain": [
       "'Hari NarayanHari NarayanHari Narayan'"
      ]
     },
     "execution_count": 20,
     "metadata": {},
     "output_type": "execute_result"
    }
   ],
   "source": [
    "s*3"
   ]
  },
  {
   "cell_type": "code",
   "execution_count": 38,
   "id": "40e89150-ed24-47e4-8a40-909c147ec485",
   "metadata": {},
   "outputs": [],
   "source": [
    "h = \"Ram_\""
   ]
  },
  {
   "cell_type": "code",
   "execution_count": 24,
   "id": "0ef881e4-1112-4cbf-b44e-4b9816d39672",
   "metadata": {},
   "outputs": [
    {
     "data": {
      "text/plain": [
       "'Ram'"
      ]
     },
     "execution_count": 24,
     "metadata": {},
     "output_type": "execute_result"
    }
   ],
   "source": [
    "H"
   ]
  },
  {
   "cell_type": "code",
   "execution_count": 26,
   "id": "20bf99f1-bca1-4eff-9600-0742268a24fe",
   "metadata": {},
   "outputs": [
    {
     "data": {
      "text/plain": [
       "'Ram'"
      ]
     },
     "execution_count": 26,
     "metadata": {},
     "output_type": "execute_result"
    }
   ],
   "source": [
    "h"
   ]
  },
  {
   "cell_type": "code",
   "execution_count": 29,
   "id": "6c54859d-4cec-4a95-8de9-98e351bec96f",
   "metadata": {},
   "outputs": [
    {
     "data": {
      "text/plain": [
       "'Ram_Ram_Ram_Ram_Ram_Ram_Ram_Ram_Ram_Ram_Ram_'"
      ]
     },
     "execution_count": 29,
     "metadata": {},
     "output_type": "execute_result"
    }
   ],
   "source": [
    "h*11"
   ]
  },
  {
   "cell_type": "code",
   "execution_count": 30,
   "id": "bec47189-4966-4d3f-a99f-8cc42c3368b3",
   "metadata": {},
   "outputs": [
    {
     "data": {
      "text/plain": [
       "'Ram_Ram_Ram_Ram_Ram_Ram_Ram_Ram_Ram_Ram_Ram_Ram_Ram_Ram_Ram_Ram_Ram_Ram_Ram_Ram_Ram_Ram_Ram_Ram_Ram_Ram_Ram_Ram_Ram_Ram_Ram_Ram_Ram_Ram_Ram_Ram_Ram_Ram_Ram_Ram_Ram_Ram_Ram_Ram_Ram_Ram_Ram_Ram_Ram_Ram_'"
      ]
     },
     "execution_count": 30,
     "metadata": {},
     "output_type": "execute_result"
    }
   ],
   "source": [
    "h*50"
   ]
  },
  {
   "cell_type": "code",
   "execution_count": 39,
   "id": "c44ead43-7fc2-4b89-adb8-d6f903be78f4",
   "metadata": {},
   "outputs": [
    {
     "data": {
      "text/plain": [
       "'Ram_'"
      ]
     },
     "execution_count": 39,
     "metadata": {},
     "output_type": "execute_result"
    }
   ],
   "source": [
    "h"
   ]
  },
  {
   "cell_type": "code",
   "execution_count": 40,
   "id": "d63dd367-8ac8-4a23-a82b-de12159eeb9f",
   "metadata": {},
   "outputs": [
    {
     "data": {
      "text/plain": [
       "'Ram_'"
      ]
     },
     "execution_count": 40,
     "metadata": {},
     "output_type": "execute_result"
    }
   ],
   "source": [
    "h"
   ]
  },
  {
   "cell_type": "code",
   "execution_count": 41,
   "id": "64457656-90ee-4d48-ac0f-b47d276f3413",
   "metadata": {},
   "outputs": [
    {
     "data": {
      "text/plain": [
       "'Ram_Ram_Ram_Ram_Ram_Ram_Ram_Ram_Ram_Ram_Ram_Ram_Ram_Ram_Ram_Ram_Ram_Ram_Ram_Ram_Ram_Ram_Ram_Ram_Ram_Ram_Ram_Ram_Ram_Ram_Ram_Ram_Ram_Ram_Ram_Ram_Ram_Ram_Ram_Ram_Ram_Ram_Ram_Ram_Ram_Ram_Ram_Ram_Ram_Ram_Ram_Ram_Ram_Ram_Ram_Ram_Ram_Ram_Ram_Ram_Ram_Ram_Ram_Ram_Ram_Ram_Ram_Ram_Ram_Ram_Ram_Ram_Ram_Ram_Ram_Ram_Ram_Ram_Ram_Ram_Ram_Ram_Ram_Ram_Ram_Ram_Ram_Ram_Ram_Ram_Ram_Ram_Ram_Ram_Ram_Ram_Ram_Ram_Ram_Ram_'"
      ]
     },
     "execution_count": 41,
     "metadata": {},
     "output_type": "execute_result"
    }
   ],
   "source": [
    "h*100"
   ]
  },
  {
   "cell_type": "code",
   "execution_count": 46,
   "id": "efe146bc-3f83-4416-9366-08ac2c8330d5",
   "metadata": {},
   "outputs": [
    {
     "data": {
      "text/plain": [
       "'Ram_Ram_Ram_Ram_Ram_Ram_Ram_Ram_Ram_Ram_Ram_Ram_Ram_Ram_Ram_Ram_Ram_Ram_Ram_Ram_Ram_Ram_Ram_Ram_Ram_Ram_Ram_Ram_Ram_Ram_Ram_Ram_Ram_Ram_Ram_Ram_Ram_Ram_Ram_Ram_Ram_Ram_Ram_Ram_Ram_Ram_Ram_Ram_Ram_Ram_Ram_Ram_Ram_Ram_Ram_Ram_Ram_Ram_Ram_Ram_Ram_Ram_Ram_Ram_Ram_Ram_Ram_Ram_Ram_Ram_Ram_Ram_Ram_Ram_Ram_Ram_Ram_Ram_Ram_Ram_Ram_Ram_Ram_Ram_Ram_Ram_Ram_Ram_Ram_Ram_Ram_Ram_Ram_Ram_Ram_Ram_Ram_Ram_Ram_Ram_'"
      ]
     },
     "execution_count": 46,
     "metadata": {},
     "output_type": "execute_result"
    }
   ],
   "source": [
    "h*100"
   ]
  },
  {
   "cell_type": "code",
   "execution_count": 53,
   "id": "f2ced62b-0f8e-4b0d-a2fa-f284d1a5394f",
   "metadata": {},
   "outputs": [],
   "source": [
    "l = 'SitaRam Hanuman | '"
   ]
  },
  {
   "cell_type": "code",
   "execution_count": 49,
   "id": "3608daad-2db2-4430-9daa-44d3eef62211",
   "metadata": {},
   "outputs": [
    {
     "data": {
      "text/plain": [
       "'SitaRam Hanuman '"
      ]
     },
     "execution_count": 49,
     "metadata": {},
     "output_type": "execute_result"
    }
   ],
   "source": [
    "l"
   ]
  },
  {
   "cell_type": "code",
   "execution_count": 54,
   "id": "4b08f33f-18a5-4aec-a147-6e3c7db52926",
   "metadata": {},
   "outputs": [
    {
     "data": {
      "text/plain": [
       "'SitaRam Hanuman | SitaRam Hanuman | SitaRam Hanuman | SitaRam Hanuman | SitaRam Hanuman | SitaRam Hanuman | SitaRam Hanuman | SitaRam Hanuman | SitaRam Hanuman | SitaRam Hanuman | SitaRam Hanuman | SitaRam Hanuman | SitaRam Hanuman | SitaRam Hanuman | SitaRam Hanuman | SitaRam Hanuman | SitaRam Hanuman | SitaRam Hanuman | SitaRam Hanuman | SitaRam Hanuman | SitaRam Hanuman | SitaRam Hanuman | SitaRam Hanuman | SitaRam Hanuman | SitaRam Hanuman | SitaRam Hanuman | SitaRam Hanuman | SitaRam Hanuman | SitaRam Hanuman | SitaRam Hanuman | SitaRam Hanuman | SitaRam Hanuman | SitaRam Hanuman | SitaRam Hanuman | SitaRam Hanuman | SitaRam Hanuman | SitaRam Hanuman | SitaRam Hanuman | SitaRam Hanuman | SitaRam Hanuman | SitaRam Hanuman | SitaRam Hanuman | SitaRam Hanuman | SitaRam Hanuman | SitaRam Hanuman | SitaRam Hanuman | SitaRam Hanuman | SitaRam Hanuman | SitaRam Hanuman | SitaRam Hanuman | SitaRam Hanuman | SitaRam Hanuman | SitaRam Hanuman | SitaRam Hanuman | SitaRam Hanuman | SitaRam Hanuman | SitaRam Hanuman | SitaRam Hanuman | SitaRam Hanuman | SitaRam Hanuman | SitaRam Hanuman | SitaRam Hanuman | SitaRam Hanuman | SitaRam Hanuman | SitaRam Hanuman | SitaRam Hanuman | SitaRam Hanuman | SitaRam Hanuman | SitaRam Hanuman | SitaRam Hanuman | SitaRam Hanuman | SitaRam Hanuman | SitaRam Hanuman | SitaRam Hanuman | SitaRam Hanuman | SitaRam Hanuman | SitaRam Hanuman | SitaRam Hanuman | SitaRam Hanuman | SitaRam Hanuman | SitaRam Hanuman | SitaRam Hanuman | SitaRam Hanuman | SitaRam Hanuman | SitaRam Hanuman | SitaRam Hanuman | SitaRam Hanuman | SitaRam Hanuman | SitaRam Hanuman | SitaRam Hanuman | SitaRam Hanuman | SitaRam Hanuman | SitaRam Hanuman | SitaRam Hanuman | SitaRam Hanuman | SitaRam Hanuman | SitaRam Hanuman | SitaRam Hanuman | SitaRam Hanuman | SitaRam Hanuman | SitaRam Hanuman | SitaRam Hanuman | SitaRam Hanuman | SitaRam Hanuman | SitaRam Hanuman | SitaRam Hanuman | SitaRam Hanuman | SitaRam Hanuman | SitaRam Hanuman | SitaRam Hanuman | SitaRam Hanuman | SitaRam Hanuman | SitaRam Hanuman | SitaRam Hanuman | SitaRam Hanuman | SitaRam Hanuman | SitaRam Hanuman | SitaRam Hanuman | SitaRam Hanuman | SitaRam Hanuman | SitaRam Hanuman | SitaRam Hanuman | SitaRam Hanuman | SitaRam Hanuman | SitaRam Hanuman | SitaRam Hanuman | SitaRam Hanuman | SitaRam Hanuman | SitaRam Hanuman | SitaRam Hanuman | SitaRam Hanuman | SitaRam Hanuman | SitaRam Hanuman | SitaRam Hanuman | SitaRam Hanuman | SitaRam Hanuman | SitaRam Hanuman | SitaRam Hanuman | SitaRam Hanuman | SitaRam Hanuman | SitaRam Hanuman | SitaRam Hanuman | SitaRam Hanuman | SitaRam Hanuman | SitaRam Hanuman | SitaRam Hanuman | SitaRam Hanuman | SitaRam Hanuman | SitaRam Hanuman | SitaRam Hanuman | SitaRam Hanuman | SitaRam Hanuman | SitaRam Hanuman | SitaRam Hanuman | SitaRam Hanuman | SitaRam Hanuman | SitaRam Hanuman | SitaRam Hanuman | SitaRam Hanuman | SitaRam Hanuman | SitaRam Hanuman | SitaRam Hanuman | SitaRam Hanuman | SitaRam Hanuman | SitaRam Hanuman | SitaRam Hanuman | SitaRam Hanuman | SitaRam Hanuman | SitaRam Hanuman | SitaRam Hanuman | SitaRam Hanuman | SitaRam Hanuman | SitaRam Hanuman | SitaRam Hanuman | SitaRam Hanuman | SitaRam Hanuman | SitaRam Hanuman | SitaRam Hanuman | SitaRam Hanuman | SitaRam Hanuman | SitaRam Hanuman | SitaRam Hanuman | SitaRam Hanuman | SitaRam Hanuman | SitaRam Hanuman | SitaRam Hanuman | SitaRam Hanuman | SitaRam Hanuman | SitaRam Hanuman | SitaRam Hanuman | SitaRam Hanuman | SitaRam Hanuman | SitaRam Hanuman | SitaRam Hanuman | SitaRam Hanuman | SitaRam Hanuman | SitaRam Hanuman | SitaRam Hanuman | SitaRam Hanuman | SitaRam Hanuman | SitaRam Hanuman | SitaRam Hanuman | SitaRam Hanuman | SitaRam Hanuman | SitaRam Hanuman | SitaRam Hanuman | SitaRam Hanuman | SitaRam Hanuman | SitaRam Hanuman | SitaRam Hanuman | SitaRam Hanuman | SitaRam Hanuman | SitaRam Hanuman | SitaRam Hanuman | SitaRam Hanuman | SitaRam Hanuman | SitaRam Hanuman | SitaRam Hanuman | SitaRam Hanuman | SitaRam Hanuman | SitaRam Hanuman | SitaRam Hanuman | SitaRam Hanuman | SitaRam Hanuman | SitaRam Hanuman | SitaRam Hanuman | SitaRam Hanuman | SitaRam Hanuman | SitaRam Hanuman | SitaRam Hanuman | SitaRam Hanuman | SitaRam Hanuman | SitaRam Hanuman | SitaRam Hanuman | SitaRam Hanuman | SitaRam Hanuman | SitaRam Hanuman | SitaRam Hanuman | SitaRam Hanuman | SitaRam Hanuman | SitaRam Hanuman | SitaRam Hanuman | SitaRam Hanuman | SitaRam Hanuman | SitaRam Hanuman | SitaRam Hanuman | SitaRam Hanuman | SitaRam Hanuman | SitaRam Hanuman | SitaRam Hanuman | SitaRam Hanuman | SitaRam Hanuman | SitaRam Hanuman | SitaRam Hanuman | SitaRam Hanuman | SitaRam Hanuman | SitaRam Hanuman | SitaRam Hanuman | SitaRam Hanuman | SitaRam Hanuman | SitaRam Hanuman | SitaRam Hanuman | SitaRam Hanuman | SitaRam Hanuman | SitaRam Hanuman | SitaRam Hanuman | SitaRam Hanuman | SitaRam Hanuman | SitaRam Hanuman | SitaRam Hanuman | SitaRam Hanuman | SitaRam Hanuman | SitaRam Hanuman | SitaRam Hanuman | SitaRam Hanuman | SitaRam Hanuman | SitaRam Hanuman | SitaRam Hanuman | SitaRam Hanuman | SitaRam Hanuman | SitaRam Hanuman | SitaRam Hanuman | SitaRam Hanuman | SitaRam Hanuman | SitaRam Hanuman | SitaRam Hanuman | SitaRam Hanuman | SitaRam Hanuman | SitaRam Hanuman | SitaRam Hanuman | SitaRam Hanuman | SitaRam Hanuman | SitaRam Hanuman | SitaRam Hanuman | SitaRam Hanuman | SitaRam Hanuman | SitaRam Hanuman | SitaRam Hanuman | SitaRam Hanuman | SitaRam Hanuman | SitaRam Hanuman | SitaRam Hanuman | SitaRam Hanuman | SitaRam Hanuman | SitaRam Hanuman | SitaRam Hanuman | SitaRam Hanuman | SitaRam Hanuman | SitaRam Hanuman | SitaRam Hanuman | SitaRam Hanuman | SitaRam Hanuman | SitaRam Hanuman | SitaRam Hanuman | SitaRam Hanuman | SitaRam Hanuman | SitaRam Hanuman | SitaRam Hanuman | SitaRam Hanuman | SitaRam Hanuman | SitaRam Hanuman | SitaRam Hanuman | SitaRam Hanuman | SitaRam Hanuman | SitaRam Hanuman | SitaRam Hanuman | SitaRam Hanuman | SitaRam Hanuman | SitaRam Hanuman | SitaRam Hanuman | SitaRam Hanuman | SitaRam Hanuman | SitaRam Hanuman | SitaRam Hanuman | SitaRam Hanuman | SitaRam Hanuman | SitaRam Hanuman | SitaRam Hanuman | SitaRam Hanuman | SitaRam Hanuman | SitaRam Hanuman | SitaRam Hanuman | SitaRam Hanuman | SitaRam Hanuman | SitaRam Hanuman | SitaRam Hanuman | SitaRam Hanuman | SitaRam Hanuman | SitaRam Hanuman | SitaRam Hanuman | SitaRam Hanuman | SitaRam Hanuman | SitaRam Hanuman | SitaRam Hanuman | SitaRam Hanuman | SitaRam Hanuman | SitaRam Hanuman | SitaRam Hanuman | SitaRam Hanuman | SitaRam Hanuman | SitaRam Hanuman | SitaRam Hanuman | SitaRam Hanuman | SitaRam Hanuman | SitaRam Hanuman | SitaRam Hanuman | SitaRam Hanuman | SitaRam Hanuman | SitaRam Hanuman | SitaRam Hanuman | SitaRam Hanuman | SitaRam Hanuman | SitaRam Hanuman | SitaRam Hanuman | SitaRam Hanuman | SitaRam Hanuman | SitaRam Hanuman | SitaRam Hanuman | SitaRam Hanuman | SitaRam Hanuman | SitaRam Hanuman | SitaRam Hanuman | SitaRam Hanuman | SitaRam Hanuman | SitaRam Hanuman | SitaRam Hanuman | SitaRam Hanuman | SitaRam Hanuman | SitaRam Hanuman | SitaRam Hanuman | SitaRam Hanuman | SitaRam Hanuman | SitaRam Hanuman | SitaRam Hanuman | SitaRam Hanuman | SitaRam Hanuman | SitaRam Hanuman | SitaRam Hanuman | SitaRam Hanuman | SitaRam Hanuman | SitaRam Hanuman | SitaRam Hanuman | SitaRam Hanuman | SitaRam Hanuman | SitaRam Hanuman | SitaRam Hanuman | SitaRam Hanuman | SitaRam Hanuman | SitaRam Hanuman | SitaRam Hanuman | SitaRam Hanuman | SitaRam Hanuman | SitaRam Hanuman | SitaRam Hanuman | SitaRam Hanuman | SitaRam Hanuman | SitaRam Hanuman | SitaRam Hanuman | SitaRam Hanuman | SitaRam Hanuman | SitaRam Hanuman | SitaRam Hanuman | SitaRam Hanuman | SitaRam Hanuman | SitaRam Hanuman | SitaRam Hanuman | SitaRam Hanuman | SitaRam Hanuman | SitaRam Hanuman | SitaRam Hanuman | SitaRam Hanuman | SitaRam Hanuman | SitaRam Hanuman | SitaRam Hanuman | SitaRam Hanuman | SitaRam Hanuman | SitaRam Hanuman | SitaRam Hanuman | SitaRam Hanuman | SitaRam Hanuman | SitaRam Hanuman | SitaRam Hanuman | SitaRam Hanuman | SitaRam Hanuman | SitaRam Hanuman | SitaRam Hanuman | SitaRam Hanuman | SitaRam Hanuman | SitaRam Hanuman | SitaRam Hanuman | SitaRam Hanuman | SitaRam Hanuman | SitaRam Hanuman | SitaRam Hanuman | SitaRam Hanuman | SitaRam Hanuman | SitaRam Hanuman | SitaRam Hanuman | SitaRam Hanuman | SitaRam Hanuman | SitaRam Hanuman | SitaRam Hanuman | SitaRam Hanuman | SitaRam Hanuman | SitaRam Hanuman | SitaRam Hanuman | SitaRam Hanuman | SitaRam Hanuman | SitaRam Hanuman | SitaRam Hanuman | SitaRam Hanuman | SitaRam Hanuman | SitaRam Hanuman | SitaRam Hanuman | SitaRam Hanuman | SitaRam Hanuman | SitaRam Hanuman | SitaRam Hanuman | SitaRam Hanuman | SitaRam Hanuman | SitaRam Hanuman | SitaRam Hanuman | SitaRam Hanuman | SitaRam Hanuman | SitaRam Hanuman | SitaRam Hanuman | SitaRam Hanuman | SitaRam Hanuman | SitaRam Hanuman | SitaRam Hanuman | SitaRam Hanuman | SitaRam Hanuman | SitaRam Hanuman | SitaRam Hanuman | SitaRam Hanuman | SitaRam Hanuman | SitaRam Hanuman | SitaRam Hanuman | SitaRam Hanuman | SitaRam Hanuman | SitaRam Hanuman | SitaRam Hanuman | SitaRam Hanuman | SitaRam Hanuman | SitaRam Hanuman | SitaRam Hanuman | SitaRam Hanuman | SitaRam Hanuman | SitaRam Hanuman | SitaRam Hanuman | SitaRam Hanuman | SitaRam Hanuman | SitaRam Hanuman | SitaRam Hanuman | SitaRam Hanuman | SitaRam Hanuman | SitaRam Hanuman | SitaRam Hanuman | SitaRam Hanuman | SitaRam Hanuman | SitaRam Hanuman | SitaRam Hanuman | SitaRam Hanuman | SitaRam Hanuman | SitaRam Hanuman | SitaRam Hanuman | SitaRam Hanuman | SitaRam Hanuman | SitaRam Hanuman | SitaRam Hanuman | SitaRam Hanuman | SitaRam Hanuman | SitaRam Hanuman | SitaRam Hanuman | SitaRam Hanuman | SitaRam Hanuman | SitaRam Hanuman | SitaRam Hanuman | SitaRam Hanuman | SitaRam Hanuman | SitaRam Hanuman | SitaRam Hanuman | SitaRam Hanuman | SitaRam Hanuman | SitaRam Hanuman | SitaRam Hanuman | SitaRam Hanuman | SitaRam Hanuman | SitaRam Hanuman | SitaRam Hanuman | SitaRam Hanuman | SitaRam Hanuman | SitaRam Hanuman | SitaRam Hanuman | SitaRam Hanuman | SitaRam Hanuman | SitaRam Hanuman | SitaRam Hanuman | SitaRam Hanuman | SitaRam Hanuman | SitaRam Hanuman | SitaRam Hanuman | SitaRam Hanuman | SitaRam Hanuman | SitaRam Hanuman | SitaRam Hanuman | SitaRam Hanuman | SitaRam Hanuman | SitaRam Hanuman | SitaRam Hanuman | SitaRam Hanuman | SitaRam Hanuman | SitaRam Hanuman | SitaRam Hanuman | SitaRam Hanuman | SitaRam Hanuman | SitaRam Hanuman | SitaRam Hanuman | SitaRam Hanuman | SitaRam Hanuman | SitaRam Hanuman | SitaRam Hanuman | SitaRam Hanuman | SitaRam Hanuman | SitaRam Hanuman | SitaRam Hanuman | SitaRam Hanuman | SitaRam Hanuman | SitaRam Hanuman | SitaRam Hanuman | SitaRam Hanuman | SitaRam Hanuman | SitaRam Hanuman | SitaRam Hanuman | SitaRam Hanuman | SitaRam Hanuman | SitaRam Hanuman | SitaRam Hanuman | SitaRam Hanuman | SitaRam Hanuman | SitaRam Hanuman | SitaRam Hanuman | SitaRam Hanuman | SitaRam Hanuman | SitaRam Hanuman | SitaRam Hanuman | SitaRam Hanuman | SitaRam Hanuman | SitaRam Hanuman | SitaRam Hanuman | SitaRam Hanuman | SitaRam Hanuman | SitaRam Hanuman | SitaRam Hanuman | SitaRam Hanuman | SitaRam Hanuman | SitaRam Hanuman | SitaRam Hanuman | SitaRam Hanuman | SitaRam Hanuman | SitaRam Hanuman | SitaRam Hanuman | SitaRam Hanuman | SitaRam Hanuman | SitaRam Hanuman | SitaRam Hanuman | SitaRam Hanuman | SitaRam Hanuman | SitaRam Hanuman | SitaRam Hanuman | SitaRam Hanuman | SitaRam Hanuman | SitaRam Hanuman | SitaRam Hanuman | SitaRam Hanuman | SitaRam Hanuman | SitaRam Hanuman | SitaRam Hanuman | SitaRam Hanuman | SitaRam Hanuman | SitaRam Hanuman | SitaRam Hanuman | SitaRam Hanuman | SitaRam Hanuman | SitaRam Hanuman | SitaRam Hanuman | SitaRam Hanuman | SitaRam Hanuman | SitaRam Hanuman | SitaRam Hanuman | SitaRam Hanuman | SitaRam Hanuman | SitaRam Hanuman | SitaRam Hanuman | SitaRam Hanuman | SitaRam Hanuman | SitaRam Hanuman | SitaRam Hanuman | SitaRam Hanuman | SitaRam Hanuman | SitaRam Hanuman | SitaRam Hanuman | SitaRam Hanuman | SitaRam Hanuman | SitaRam Hanuman | SitaRam Hanuman | SitaRam Hanuman | SitaRam Hanuman | SitaRam Hanuman | SitaRam Hanuman | SitaRam Hanuman | SitaRam Hanuman | SitaRam Hanuman | SitaRam Hanuman | SitaRam Hanuman | SitaRam Hanuman | SitaRam Hanuman | SitaRam Hanuman | SitaRam Hanuman | SitaRam Hanuman | SitaRam Hanuman | SitaRam Hanuman | SitaRam Hanuman | SitaRam Hanuman | SitaRam Hanuman | SitaRam Hanuman | SitaRam Hanuman | SitaRam Hanuman | SitaRam Hanuman | SitaRam Hanuman | SitaRam Hanuman | SitaRam Hanuman | SitaRam Hanuman | SitaRam Hanuman | SitaRam Hanuman | SitaRam Hanuman | SitaRam Hanuman | SitaRam Hanuman | SitaRam Hanuman | SitaRam Hanuman | SitaRam Hanuman | SitaRam Hanuman | SitaRam Hanuman | SitaRam Hanuman | SitaRam Hanuman | SitaRam Hanuman | SitaRam Hanuman | SitaRam Hanuman | SitaRam Hanuman | SitaRam Hanuman | SitaRam Hanuman | SitaRam Hanuman | SitaRam Hanuman | SitaRam Hanuman | SitaRam Hanuman | SitaRam Hanuman | SitaRam Hanuman | SitaRam Hanuman | SitaRam Hanuman | SitaRam Hanuman | SitaRam Hanuman | SitaRam Hanuman | SitaRam Hanuman | SitaRam Hanuman | SitaRam Hanuman | SitaRam Hanuman | SitaRam Hanuman | SitaRam Hanuman | SitaRam Hanuman | SitaRam Hanuman | SitaRam Hanuman | SitaRam Hanuman | SitaRam Hanuman | SitaRam Hanuman | SitaRam Hanuman | SitaRam Hanuman | SitaRam Hanuman | SitaRam Hanuman | SitaRam Hanuman | SitaRam Hanuman | SitaRam Hanuman | SitaRam Hanuman | SitaRam Hanuman | SitaRam Hanuman | SitaRam Hanuman | SitaRam Hanuman | SitaRam Hanuman | SitaRam Hanuman | SitaRam Hanuman | SitaRam Hanuman | SitaRam Hanuman | SitaRam Hanuman | SitaRam Hanuman | SitaRam Hanuman | SitaRam Hanuman | SitaRam Hanuman | SitaRam Hanuman | SitaRam Hanuman | SitaRam Hanuman | SitaRam Hanuman | SitaRam Hanuman | SitaRam Hanuman | SitaRam Hanuman | SitaRam Hanuman | SitaRam Hanuman | SitaRam Hanuman | SitaRam Hanuman | SitaRam Hanuman | SitaRam Hanuman | SitaRam Hanuman | SitaRam Hanuman | SitaRam Hanuman | SitaRam Hanuman | SitaRam Hanuman | SitaRam Hanuman | SitaRam Hanuman | SitaRam Hanuman | SitaRam Hanuman | SitaRam Hanuman | SitaRam Hanuman | SitaRam Hanuman | SitaRam Hanuman | SitaRam Hanuman | SitaRam Hanuman | SitaRam Hanuman | SitaRam Hanuman | SitaRam Hanuman | SitaRam Hanuman | SitaRam Hanuman | SitaRam Hanuman | SitaRam Hanuman | SitaRam Hanuman | SitaRam Hanuman | SitaRam Hanuman | SitaRam Hanuman | SitaRam Hanuman | SitaRam Hanuman | SitaRam Hanuman | SitaRam Hanuman | SitaRam Hanuman | SitaRam Hanuman | SitaRam Hanuman | SitaRam Hanuman | SitaRam Hanuman | SitaRam Hanuman | SitaRam Hanuman | SitaRam Hanuman | SitaRam Hanuman | SitaRam Hanuman | SitaRam Hanuman | SitaRam Hanuman | SitaRam Hanuman | SitaRam Hanuman | SitaRam Hanuman | SitaRam Hanuman | SitaRam Hanuman | SitaRam Hanuman | SitaRam Hanuman | SitaRam Hanuman | SitaRam Hanuman | SitaRam Hanuman | SitaRam Hanuman | SitaRam Hanuman | SitaRam Hanuman | SitaRam Hanuman | SitaRam Hanuman | SitaRam Hanuman | SitaRam Hanuman | SitaRam Hanuman | SitaRam Hanuman | SitaRam Hanuman | SitaRam Hanuman | SitaRam Hanuman | SitaRam Hanuman | SitaRam Hanuman | SitaRam Hanuman | SitaRam Hanuman | SitaRam Hanuman | SitaRam Hanuman | SitaRam Hanuman | SitaRam Hanuman | SitaRam Hanuman | SitaRam Hanuman | SitaRam Hanuman | SitaRam Hanuman | SitaRam Hanuman | SitaRam Hanuman | SitaRam Hanuman | SitaRam Hanuman | SitaRam Hanuman | SitaRam Hanuman | SitaRam Hanuman | SitaRam Hanuman | SitaRam Hanuman | SitaRam Hanuman | SitaRam Hanuman | SitaRam Hanuman | SitaRam Hanuman | SitaRam Hanuman | SitaRam Hanuman | SitaRam Hanuman | SitaRam Hanuman | SitaRam Hanuman | SitaRam Hanuman | SitaRam Hanuman | SitaRam Hanuman | SitaRam Hanuman | SitaRam Hanuman | SitaRam Hanuman | SitaRam Hanuman | SitaRam Hanuman | SitaRam Hanuman | SitaRam Hanuman | SitaRam Hanuman | SitaRam Hanuman | SitaRam Hanuman | SitaRam Hanuman | SitaRam Hanuman | SitaRam Hanuman | SitaRam Hanuman | SitaRam Hanuman | SitaRam Hanuman | SitaRam Hanuman | SitaRam Hanuman | SitaRam Hanuman | SitaRam Hanuman | SitaRam Hanuman | SitaRam Hanuman | SitaRam Hanuman | SitaRam Hanuman | SitaRam Hanuman | SitaRam Hanuman | SitaRam Hanuman | SitaRam Hanuman | SitaRam Hanuman | SitaRam Hanuman | SitaRam Hanuman | SitaRam Hanuman | SitaRam Hanuman | SitaRam Hanuman | SitaRam Hanuman | SitaRam Hanuman | SitaRam Hanuman | SitaRam Hanuman | SitaRam Hanuman | SitaRam Hanuman | SitaRam Hanuman | SitaRam Hanuman | SitaRam Hanuman | SitaRam Hanuman | SitaRam Hanuman | SitaRam Hanuman | SitaRam Hanuman | SitaRam Hanuman | SitaRam Hanuman | SitaRam Hanuman | SitaRam Hanuman | SitaRam Hanuman | SitaRam Hanuman | SitaRam Hanuman | SitaRam Hanuman | SitaRam Hanuman | SitaRam Hanuman | SitaRam Hanuman | SitaRam Hanuman | SitaRam Hanuman | SitaRam Hanuman | SitaRam Hanuman | SitaRam Hanuman | SitaRam Hanuman | SitaRam Hanuman | SitaRam Hanuman | SitaRam Hanuman | SitaRam Hanuman | SitaRam Hanuman | SitaRam Hanuman | SitaRam Hanuman | SitaRam Hanuman | SitaRam Hanuman | SitaRam Hanuman | SitaRam Hanuman | SitaRam Hanuman | SitaRam Hanuman | SitaRam Hanuman | SitaRam Hanuman | SitaRam Hanuman | SitaRam Hanuman | SitaRam Hanuman | SitaRam Hanuman | SitaRam Hanuman | SitaRam Hanuman | SitaRam Hanuman | SitaRam Hanuman | SitaRam Hanuman | SitaRam Hanuman | SitaRam Hanuman | SitaRam Hanuman | SitaRam Hanuman | SitaRam Hanuman | SitaRam Hanuman | SitaRam Hanuman | SitaRam Hanuman | SitaRam Hanuman | SitaRam Hanuman | SitaRam Hanuman | SitaRam Hanuman | SitaRam Hanuman | SitaRam Hanuman | SitaRam Hanuman | SitaRam Hanuman | SitaRam Hanuman | SitaRam Hanuman | SitaRam Hanuman | SitaRam Hanuman | SitaRam Hanuman | SitaRam Hanuman | SitaRam Hanuman | SitaRam Hanuman | SitaRam Hanuman | SitaRam Hanuman | SitaRam Hanuman | SitaRam Hanuman | SitaRam Hanuman | SitaRam Hanuman | SitaRam Hanuman | SitaRam Hanuman | SitaRam Hanuman | SitaRam Hanuman | SitaRam Hanuman | SitaRam Hanuman | SitaRam Hanuman | SitaRam Hanuman | SitaRam Hanuman | SitaRam Hanuman | SitaRam Hanuman | SitaRam Hanuman | SitaRam Hanuman | SitaRam Hanuman | SitaRam Hanuman | SitaRam Hanuman | SitaRam Hanuman | SitaRam Hanuman | SitaRam Hanuman | SitaRam Hanuman | SitaRam Hanuman | SitaRam Hanuman | SitaRam Hanuman | SitaRam Hanuman | '"
      ]
     },
     "execution_count": 54,
     "metadata": {},
     "output_type": "execute_result"
    }
   ],
   "source": [
    "l*1008"
   ]
  },
  {
   "cell_type": "code",
   "execution_count": null,
   "id": "5d3aeb79-046b-4675-89dc-06575254ec96",
   "metadata": {},
   "outputs": [],
   "source": []
  }
 ],
 "metadata": {
  "kernelspec": {
   "display_name": "Python 3 (ipykernel)",
   "language": "python",
   "name": "python3"
  },
  "language_info": {
   "codemirror_mode": {
    "name": "ipython",
    "version": 3
   },
   "file_extension": ".py",
   "mimetype": "text/x-python",
   "name": "python",
   "nbconvert_exporter": "python",
   "pygments_lexer": "ipython3",
   "version": "3.10.8"
  }
 },
 "nbformat": 4,
 "nbformat_minor": 5
}
