{
 "cells": [
  {
   "cell_type": "code",
   "execution_count": 1,
   "id": "46b4d9b0-c5b0-486a-87b2-8e0a91c35a92",
   "metadata": {},
   "outputs": [],
   "source": [
    "l = [1,2,3, 'ujjwal', True, 23.2, 4 +5j]"
   ]
  },
  {
   "cell_type": "code",
   "execution_count": 2,
   "id": "4f57826d-bdf4-4616-9fd5-ceefe0744ea1",
   "metadata": {},
   "outputs": [
    {
     "data": {
      "text/plain": [
       "[1, 2, 3, 'ujjwal', True, 23.2, (4+5j)]"
      ]
     },
     "execution_count": 2,
     "metadata": {},
     "output_type": "execute_result"
    }
   ],
   "source": [
    "l"
   ]
  },
  {
   "cell_type": "code",
   "execution_count": 3,
   "id": "7c42cda3-a176-4560-9b05-ce3b4aa56f62",
   "metadata": {},
   "outputs": [
    {
     "data": {
      "text/plain": [
       "'ujjwal'"
      ]
     },
     "execution_count": 3,
     "metadata": {},
     "output_type": "execute_result"
    }
   ],
   "source": [
    "l[3]"
   ]
  },
  {
   "cell_type": "code",
   "execution_count": 7,
   "id": "2081ed91-98b4-42ea-a66f-b0cffa3f9766",
   "metadata": {},
   "outputs": [
    {
     "data": {
      "text/plain": [
       "4.0"
      ]
     },
     "execution_count": 7,
     "metadata": {},
     "output_type": "execute_result"
    }
   ],
   "source": [
    "l[6].real"
   ]
  },
  {
   "cell_type": "code",
   "execution_count": 9,
   "id": "7a01be08-465b-436e-8428-5f87ac6faa14",
   "metadata": {},
   "outputs": [
    {
     "data": {
      "text/plain": [
       "<function complex.conjugate()>"
      ]
     },
     "execution_count": 9,
     "metadata": {},
     "output_type": "execute_result"
    }
   ],
   "source": [
    "l[6].conjugate"
   ]
  },
  {
   "cell_type": "code",
   "execution_count": 10,
   "id": "b3618a08-6312-46ff-8b35-916fcce58434",
   "metadata": {},
   "outputs": [
    {
     "data": {
      "text/plain": [
       "[1, 2, 3, 'ujjwal', True, 23.2, (4+5j)]"
      ]
     },
     "execution_count": 10,
     "metadata": {},
     "output_type": "execute_result"
    }
   ],
   "source": [
    "l"
   ]
  },
  {
   "cell_type": "code",
   "execution_count": 11,
   "id": "35212908-9050-4e68-ae5a-694637d1da1e",
   "metadata": {},
   "outputs": [
    {
     "data": {
      "text/plain": [
       "[1, 2, 3]"
      ]
     },
     "execution_count": 11,
     "metadata": {},
     "output_type": "execute_result"
    }
   ],
   "source": [
    "l[0:3]"
   ]
  },
  {
   "cell_type": "code",
   "execution_count": 12,
   "id": "ad266d66-fd5e-40fd-953d-0264a78be319",
   "metadata": {},
   "outputs": [
    {
     "data": {
      "text/plain": [
       "[1, 2, 3, 'ujjwal', True]"
      ]
     },
     "execution_count": 12,
     "metadata": {},
     "output_type": "execute_result"
    }
   ],
   "source": [
    "l[0:5]"
   ]
  },
  {
   "cell_type": "code",
   "execution_count": 13,
   "id": "561ccf00-bef1-4f95-ad5e-6c628ad8d7ec",
   "metadata": {},
   "outputs": [
    {
     "data": {
      "text/plain": [
       "(4+5j)"
      ]
     },
     "execution_count": 13,
     "metadata": {},
     "output_type": "execute_result"
    }
   ],
   "source": [
    "l[-1]"
   ]
  },
  {
   "cell_type": "code",
   "execution_count": 14,
   "id": "adf9f075-53f9-4d35-8a42-b63ca14dbf3f",
   "metadata": {},
   "outputs": [
    {
     "data": {
      "text/plain": [
       "[1, 2, 3, 'ujjwal', True, 23.2, (4+5j)]"
      ]
     },
     "execution_count": 14,
     "metadata": {},
     "output_type": "execute_result"
    }
   ],
   "source": [
    "l"
   ]
  },
  {
   "cell_type": "code",
   "execution_count": 15,
   "id": "a001d378-8df2-4564-b84d-e49b3ad0f6b6",
   "metadata": {},
   "outputs": [
    {
     "data": {
      "text/plain": [
       "[(4+5j), 23.2, True, 'ujjwal', 3, 2, 1]"
      ]
     },
     "execution_count": 15,
     "metadata": {},
     "output_type": "execute_result"
    }
   ],
   "source": [
    "l[::-1]"
   ]
  },
  {
   "cell_type": "code",
   "execution_count": 16,
   "id": "68a06fe1-6e0b-4f60-8286-c504d90338ee",
   "metadata": {},
   "outputs": [
    {
     "data": {
      "text/plain": [
       "[1, 3, True, (4+5j)]"
      ]
     },
     "execution_count": 16,
     "metadata": {},
     "output_type": "execute_result"
    }
   ],
   "source": [
    "l[::2]"
   ]
  },
  {
   "cell_type": "code",
   "execution_count": 17,
   "id": "beae38d0-4435-4cfa-a7fc-f05647a81a10",
   "metadata": {},
   "outputs": [
    {
     "data": {
      "text/plain": [
       "[1, 'ujjwal', (4+5j)]"
      ]
     },
     "execution_count": 17,
     "metadata": {},
     "output_type": "execute_result"
    }
   ],
   "source": [
    "l[::3]"
   ]
  },
  {
   "cell_type": "code",
   "execution_count": 18,
   "id": "82feeafd-5a0a-4ce7-81fd-e332c6b73c4f",
   "metadata": {},
   "outputs": [
    {
     "data": {
      "text/plain": [
       "[1, True]"
      ]
     },
     "execution_count": 18,
     "metadata": {},
     "output_type": "execute_result"
    }
   ],
   "source": [
    "l[::4]"
   ]
  },
  {
   "cell_type": "code",
   "execution_count": 19,
   "id": "1e3c778d-143c-4832-9c5d-a3d6a49f96b3",
   "metadata": {},
   "outputs": [
    {
     "data": {
      "text/plain": [
       "[1, 23.2]"
      ]
     },
     "execution_count": 19,
     "metadata": {},
     "output_type": "execute_result"
    }
   ],
   "source": [
    "l[::5]"
   ]
  },
  {
   "cell_type": "code",
   "execution_count": 20,
   "id": "99491bac-47ab-4f8a-9741-1e0d4a18f63d",
   "metadata": {},
   "outputs": [
    {
     "data": {
      "text/plain": [
       "[1, (4+5j)]"
      ]
     },
     "execution_count": 20,
     "metadata": {},
     "output_type": "execute_result"
    }
   ],
   "source": [
    "l[::6]"
   ]
  },
  {
   "cell_type": "code",
   "execution_count": 21,
   "id": "58241ede-f88c-403e-a231-fac8f2c632fb",
   "metadata": {},
   "outputs": [
    {
     "data": {
      "text/plain": [
       "[1]"
      ]
     },
     "execution_count": 21,
     "metadata": {},
     "output_type": "execute_result"
    }
   ],
   "source": [
    "l[::7]"
   ]
  },
  {
   "cell_type": "code",
   "execution_count": 22,
   "id": "96abed7b-8c91-4197-9cc8-677994454fbc",
   "metadata": {},
   "outputs": [
    {
     "data": {
      "text/plain": [
       "[(4+5j), 1]"
      ]
     },
     "execution_count": 22,
     "metadata": {},
     "output_type": "execute_result"
    }
   ],
   "source": [
    "l[::-6]"
   ]
  },
  {
   "cell_type": "code",
   "execution_count": 23,
   "id": "e3c1369b-b8c5-430f-bd4c-fdb3efe354e5",
   "metadata": {},
   "outputs": [],
   "source": [
    "s = 'hari narayan'"
   ]
  },
  {
   "cell_type": "code",
   "execution_count": 24,
   "id": "545b967e-8b1f-469b-ba29-9fc295326089",
   "metadata": {},
   "outputs": [
    {
     "ename": "TypeError",
     "evalue": "can only concatenate list (not \"str\") to list",
     "output_type": "error",
     "traceback": [
      "\u001b[0;31m---------------------------------------------------------------------------\u001b[0m",
      "\u001b[0;31mTypeError\u001b[0m                                 Traceback (most recent call last)",
      "Cell \u001b[0;32mIn[24], line 1\u001b[0m\n\u001b[0;32m----> 1\u001b[0m \u001b[43ml\u001b[49m\u001b[43m \u001b[49m\u001b[38;5;241;43m+\u001b[39;49m\u001b[43m \u001b[49m\u001b[43ms\u001b[49m\n",
      "\u001b[0;31mTypeError\u001b[0m: can only concatenate list (not \"str\") to list"
     ]
    }
   ],
   "source": [
    "l + s"
   ]
  },
  {
   "cell_type": "code",
   "execution_count": 12,
   "id": "b071b8ed-bf9f-4d72-9eef-1865a7e3c535",
   "metadata": {},
   "outputs": [
    {
     "ename": "NameError",
     "evalue": "name 'l' is not defined",
     "output_type": "error",
     "traceback": [
      "\u001b[0;31m---------------------------------------------------------------------------\u001b[0m",
      "\u001b[0;31mNameError\u001b[0m                                 Traceback (most recent call last)",
      "Cell \u001b[0;32mIn[12], line 1\u001b[0m\n\u001b[0;32m----> 1\u001b[0m \u001b[43ml\u001b[49m \u001b[38;5;241m+\u001b[39m \u001b[38;5;28mlist\u001b[39m(s)\n",
      "\u001b[0;31mNameError\u001b[0m: name 'l' is not defined"
     ]
    }
   ],
   "source": [
    "l + list(s)"
   ]
  },
  {
   "cell_type": "code",
   "execution_count": 26,
   "id": "f1c7eec0-a7d0-4d65-a8d0-3a16585092e6",
   "metadata": {},
   "outputs": [
    {
     "data": {
      "text/plain": [
       "[1, 2, 3, 'ujjwal', True, 23.2, (4+5j)]"
      ]
     },
     "execution_count": 26,
     "metadata": {},
     "output_type": "execute_result"
    }
   ],
   "source": [
    "l"
   ]
  },
  {
   "cell_type": "code",
   "execution_count": 28,
   "id": "d0978f71-ac36-40bf-9af6-22d66f15be1f",
   "metadata": {},
   "outputs": [
    {
     "data": {
      "text/plain": [
       "'j'"
      ]
     },
     "execution_count": 28,
     "metadata": {},
     "output_type": "execute_result"
    }
   ],
   "source": [
    "l[3][2]"
   ]
  },
  {
   "cell_type": "code",
   "execution_count": 29,
   "id": "2e25acf9-a9ef-4824-8783-9816cf57807e",
   "metadata": {},
   "outputs": [
    {
     "data": {
      "text/plain": [
       "True"
      ]
     },
     "execution_count": 29,
     "metadata": {},
     "output_type": "execute_result"
    }
   ],
   "source": [
    "l[4]"
   ]
  },
  {
   "cell_type": "code",
   "execution_count": 30,
   "id": "b3337615-d5e9-4c4b-b000-81ab0ac2d713",
   "metadata": {},
   "outputs": [
    {
     "data": {
      "text/plain": [
       "True"
      ]
     },
     "execution_count": 30,
     "metadata": {},
     "output_type": "execute_result"
    }
   ],
   "source": [
    "l[4]"
   ]
  },
  {
   "cell_type": "code",
   "execution_count": 32,
   "id": "37cef3fe-24c4-48b1-8e7e-745cf7b0ea4a",
   "metadata": {},
   "outputs": [
    {
     "data": {
      "text/plain": [
       "'True'"
      ]
     },
     "execution_count": 32,
     "metadata": {},
     "output_type": "execute_result"
    }
   ],
   "source": [
    "str(l[4])"
   ]
  },
  {
   "cell_type": "code",
   "execution_count": 33,
   "id": "258c7904-5fd1-4e2e-856c-75b306eadf5b",
   "metadata": {},
   "outputs": [
    {
     "data": {
      "text/plain": [
       "'Tr'"
      ]
     },
     "execution_count": 33,
     "metadata": {},
     "output_type": "execute_result"
    }
   ],
   "source": [
    "str(l[4])[0:2]"
   ]
  },
  {
   "cell_type": "code",
   "execution_count": 34,
   "id": "f2aa9d8c-0288-4dca-8b5d-4cc1d4d7bbdf",
   "metadata": {},
   "outputs": [
    {
     "data": {
      "text/plain": [
       "[1, 2, 3, 'ujjwal', True, 23.2, (4+5j)]"
      ]
     },
     "execution_count": 34,
     "metadata": {},
     "output_type": "execute_result"
    }
   ],
   "source": [
    "l"
   ]
  },
  {
   "cell_type": "code",
   "execution_count": 35,
   "id": "900903e3-1cf2-42df-919d-5379838b9edd",
   "metadata": {},
   "outputs": [
    {
     "ename": "TypeError",
     "evalue": "can only concatenate list (not \"int\") to list",
     "output_type": "error",
     "traceback": [
      "\u001b[0;31m---------------------------------------------------------------------------\u001b[0m",
      "\u001b[0;31mTypeError\u001b[0m                                 Traceback (most recent call last)",
      "Cell \u001b[0;32mIn[35], line 1\u001b[0m\n\u001b[0;32m----> 1\u001b[0m \u001b[43ml\u001b[49m\u001b[43m \u001b[49m\u001b[38;5;241;43m+\u001b[39;49m\u001b[43m \u001b[49m\u001b[38;5;241;43m5\u001b[39;49m\n",
      "\u001b[0;31mTypeError\u001b[0m: can only concatenate list (not \"int\") to list"
     ]
    }
   ],
   "source": [
    "l + 5"
   ]
  },
  {
   "cell_type": "code",
   "execution_count": 36,
   "id": "eb0bca26-2902-49bf-bbf4-8c12eeb1c607",
   "metadata": {},
   "outputs": [],
   "source": [
    "l1 = [3,4,5]"
   ]
  },
  {
   "cell_type": "code",
   "execution_count": 37,
   "id": "54ebc5d7-9120-4e91-b906-ac276587aabf",
   "metadata": {},
   "outputs": [
    {
     "data": {
      "text/plain": [
       "[1, 2, 3, 'ujjwal', True, 23.2, (4+5j), 3, 4, 5]"
      ]
     },
     "execution_count": 37,
     "metadata": {},
     "output_type": "execute_result"
    }
   ],
   "source": [
    "l + l1"
   ]
  },
  {
   "cell_type": "code",
   "execution_count": 38,
   "id": "a8ce8f98-81be-4656-be79-ee9058fd8dac",
   "metadata": {},
   "outputs": [
    {
     "data": {
      "text/plain": [
       "list"
      ]
     },
     "execution_count": 38,
     "metadata": {},
     "output_type": "execute_result"
    }
   ],
   "source": [
    "type(l+l1)"
   ]
  },
  {
   "cell_type": "code",
   "execution_count": 40,
   "id": "5db42c34-6e3c-4628-870c-4e99423b001e",
   "metadata": {},
   "outputs": [
    {
     "data": {
      "text/plain": [
       "[1,\n",
       " 2,\n",
       " 3,\n",
       " 'ujjwal',\n",
       " True,\n",
       " 23.2,\n",
       " (4+5j),\n",
       " 3,\n",
       " 4,\n",
       " 5,\n",
       " 1,\n",
       " 2,\n",
       " 3,\n",
       " 'ujjwal',\n",
       " True,\n",
       " 23.2,\n",
       " (4+5j),\n",
       " 3,\n",
       " 4,\n",
       " 5,\n",
       " 1,\n",
       " 2,\n",
       " 3,\n",
       " 'ujjwal',\n",
       " True,\n",
       " 23.2,\n",
       " (4+5j),\n",
       " 3,\n",
       " 4,\n",
       " 5]"
      ]
     },
     "execution_count": 40,
     "metadata": {},
     "output_type": "execute_result"
    }
   ],
   "source": [
    "(l+l1) *3"
   ]
  },
  {
   "cell_type": "code",
   "execution_count": 41,
   "id": "039f8c73-10ff-40b4-b4aa-c004f7c9ca15",
   "metadata": {},
   "outputs": [
    {
     "data": {
      "text/plain": [
       "[1, 2, 3, 'ujjwal', True, 23.2, (4+5j)]"
      ]
     },
     "execution_count": 41,
     "metadata": {},
     "output_type": "execute_result"
    }
   ],
   "source": [
    "l"
   ]
  },
  {
   "cell_type": "code",
   "execution_count": 42,
   "id": "3e4b7aba-258b-46e8-86d3-bdbc26571a17",
   "metadata": {},
   "outputs": [
    {
     "data": {
      "text/plain": [
       "7"
      ]
     },
     "execution_count": 42,
     "metadata": {},
     "output_type": "execute_result"
    }
   ],
   "source": [
    "len(l)"
   ]
  },
  {
   "cell_type": "code",
   "execution_count": 45,
   "id": "aaf16b44-cfc1-4c63-a9d6-b3da19c1464f",
   "metadata": {},
   "outputs": [
    {
     "ename": "TypeError",
     "evalue": "'NoneType' object is not subscriptable",
     "output_type": "error",
     "traceback": [
      "\u001b[0;31m---------------------------------------------------------------------------\u001b[0m",
      "\u001b[0;31mTypeError\u001b[0m                                 Traceback (most recent call last)",
      "Cell \u001b[0;32mIn[45], line 1\u001b[0m\n\u001b[0;32m----> 1\u001b[0m \u001b[43ml\u001b[49m\u001b[38;5;241;43m.\u001b[39;49m\u001b[43mappend\u001b[49m\u001b[43m(\u001b[49m\u001b[38;5;241;43m369\u001b[39;49m\u001b[43m)\u001b[49m\u001b[43m[\u001b[49m\u001b[38;5;241;43m0\u001b[39;49m\u001b[43m]\u001b[49m\n",
      "\u001b[0;31mTypeError\u001b[0m: 'NoneType' object is not subscriptable"
     ]
    }
   ],
   "source": [
    "l.append(369)[0]"
   ]
  },
  {
   "cell_type": "code",
   "execution_count": 44,
   "id": "3abb6fc8-d3b4-4949-a11a-c1b17880f03d",
   "metadata": {},
   "outputs": [
    {
     "data": {
      "text/plain": [
       "[1, 2, 3, 'ujjwal', True, 23.2, (4+5j), 369]"
      ]
     },
     "execution_count": 44,
     "metadata": {},
     "output_type": "execute_result"
    }
   ],
   "source": [
    "l"
   ]
  },
  {
   "cell_type": "code",
   "execution_count": 46,
   "id": "5cd640ec-6162-41bf-b162-7b3ab2e61332",
   "metadata": {},
   "outputs": [
    {
     "data": {
      "text/plain": [
       "[3, 4, 5]"
      ]
     },
     "execution_count": 46,
     "metadata": {},
     "output_type": "execute_result"
    }
   ],
   "source": [
    "l1"
   ]
  },
  {
   "cell_type": "code",
   "execution_count": 47,
   "id": "f1d132ee-c9c1-4e69-89d0-b618b1363f4b",
   "metadata": {},
   "outputs": [],
   "source": [
    "l1.append('narayan')"
   ]
  },
  {
   "cell_type": "code",
   "execution_count": 48,
   "id": "175523b7-d373-4bfe-a44d-cc81e258fd9b",
   "metadata": {},
   "outputs": [
    {
     "data": {
      "text/plain": [
       "[3, 4, 5, 'narayan']"
      ]
     },
     "execution_count": 48,
     "metadata": {},
     "output_type": "execute_result"
    }
   ],
   "source": [
    "l1"
   ]
  },
  {
   "cell_type": "code",
   "execution_count": 49,
   "id": "b827ee2e-25d5-4d10-9755-33f62335201e",
   "metadata": {},
   "outputs": [
    {
     "data": {
      "text/plain": [
       "[1, 2, 3, 'ujjwal', True, 23.2, (4+5j), 369, 369]"
      ]
     },
     "execution_count": 49,
     "metadata": {},
     "output_type": "execute_result"
    }
   ],
   "source": [
    "l"
   ]
  },
  {
   "cell_type": "code",
   "execution_count": 51,
   "id": "d12c1c3a-b300-4a26-9225-4bee8563a934",
   "metadata": {},
   "outputs": [
    {
     "data": {
      "text/plain": [
       "369"
      ]
     },
     "execution_count": 51,
     "metadata": {},
     "output_type": "execute_result"
    }
   ],
   "source": [
    "l[-1]"
   ]
  },
  {
   "cell_type": "code",
   "execution_count": 52,
   "id": "f94c1b10-16fa-46a7-9f2f-0a7d113dd523",
   "metadata": {},
   "outputs": [
    {
     "data": {
      "text/plain": [
       "[1, 2, 3, 'ujjwal', True, 23.2, (4+5j), 369, 369]"
      ]
     },
     "execution_count": 52,
     "metadata": {},
     "output_type": "execute_result"
    }
   ],
   "source": [
    "l"
   ]
  },
  {
   "cell_type": "code",
   "execution_count": 53,
   "id": "581fb9e3-992f-46a7-a441-89deae8eab38",
   "metadata": {},
   "outputs": [
    {
     "ename": "TypeError",
     "evalue": "'int' object is not iterable",
     "output_type": "error",
     "traceback": [
      "\u001b[0;31m---------------------------------------------------------------------------\u001b[0m",
      "\u001b[0;31mTypeError\u001b[0m                                 Traceback (most recent call last)",
      "Cell \u001b[0;32mIn[53], line 1\u001b[0m\n\u001b[0;32m----> 1\u001b[0m \u001b[43ml\u001b[49m\u001b[38;5;241;43m.\u001b[39;49m\u001b[43mextend\u001b[49m\u001b[43m(\u001b[49m\u001b[38;5;241;43m12\u001b[39;49m\u001b[43m)\u001b[49m\n",
      "\u001b[0;31mTypeError\u001b[0m: 'int' object is not iterable"
     ]
    }
   ],
   "source": [
    "l.extend(12)"
   ]
  },
  {
   "cell_type": "code",
   "execution_count": 54,
   "id": "c11399b4-5680-4e77-b207-38da0d7c9437",
   "metadata": {},
   "outputs": [],
   "source": [
    "l.extend('RAM')"
   ]
  },
  {
   "cell_type": "code",
   "execution_count": 55,
   "id": "c66ffebe-da99-4f9a-9075-d16faccbf0f9",
   "metadata": {},
   "outputs": [
    {
     "data": {
      "text/plain": [
       "[1, 2, 3, 'ujjwal', True, 23.2, (4+5j), 369, 369, 'R', 'A', 'M']"
      ]
     },
     "execution_count": 55,
     "metadata": {},
     "output_type": "execute_result"
    }
   ],
   "source": [
    "l"
   ]
  },
  {
   "cell_type": "code",
   "execution_count": 56,
   "id": "d6865a9f-9e11-4a40-9ed7-f8765432e15f",
   "metadata": {},
   "outputs": [
    {
     "ename": "NameError",
     "evalue": "name 'RAM' is not defined",
     "output_type": "error",
     "traceback": [
      "\u001b[0;31m---------------------------------------------------------------------------\u001b[0m",
      "\u001b[0;31mNameError\u001b[0m                                 Traceback (most recent call last)",
      "Cell \u001b[0;32mIn[56], line 1\u001b[0m\n\u001b[0;32m----> 1\u001b[0m l\u001b[38;5;241m.\u001b[39mappend(\u001b[43mRAM\u001b[49m)\n",
      "\u001b[0;31mNameError\u001b[0m: name 'RAM' is not defined"
     ]
    }
   ],
   "source": [
    "l.append(RAM)"
   ]
  },
  {
   "cell_type": "code",
   "execution_count": 57,
   "id": "73722dde-9415-4b62-86de-0ec007493299",
   "metadata": {},
   "outputs": [],
   "source": [
    "l.append('RAM')"
   ]
  },
  {
   "cell_type": "code",
   "execution_count": 58,
   "id": "b5da2075-ec14-4ecb-95df-f2b1bbee3cca",
   "metadata": {},
   "outputs": [
    {
     "data": {
      "text/plain": [
       "[1, 2, 3, 'ujjwal', True, 23.2, (4+5j), 369, 369, 'R', 'A', 'M', 'RAM']"
      ]
     },
     "execution_count": 58,
     "metadata": {},
     "output_type": "execute_result"
    }
   ],
   "source": [
    "l"
   ]
  },
  {
   "cell_type": "code",
   "execution_count": 59,
   "id": "7cc41275-7890-4c6e-ab5e-7ebff9292461",
   "metadata": {},
   "outputs": [
    {
     "data": {
      "text/plain": [
       "[3, 4, 5, 'narayan']"
      ]
     },
     "execution_count": 59,
     "metadata": {},
     "output_type": "execute_result"
    }
   ],
   "source": [
    "l1"
   ]
  },
  {
   "cell_type": "code",
   "execution_count": 60,
   "id": "d7bd7100-893a-4ef2-b1b6-e4bf1c0c8d6d",
   "metadata": {},
   "outputs": [],
   "source": [
    "l1.extend('ujjwal')"
   ]
  },
  {
   "cell_type": "code",
   "execution_count": 61,
   "id": "d8ed05d6-fada-4c66-a8f1-836dc9ff7d70",
   "metadata": {},
   "outputs": [
    {
     "data": {
      "text/plain": [
       "[3, 4, 5, 'narayan', 'u', 'j', 'j', 'w', 'a', 'l']"
      ]
     },
     "execution_count": 61,
     "metadata": {},
     "output_type": "execute_result"
    }
   ],
   "source": [
    "l1"
   ]
  },
  {
   "cell_type": "code",
   "execution_count": 62,
   "id": "90919133-a8d1-4b6a-a839-7b4d50aa56bd",
   "metadata": {},
   "outputs": [],
   "source": [
    "l1.append('ujjwal')"
   ]
  },
  {
   "cell_type": "code",
   "execution_count": 63,
   "id": "062f8f8b-442c-46e5-9417-598e6ac65d70",
   "metadata": {},
   "outputs": [
    {
     "data": {
      "text/plain": [
       "[3, 4, 5, 'narayan', 'u', 'j', 'j', 'w', 'a', 'l', 'ujjwal']"
      ]
     },
     "execution_count": 63,
     "metadata": {},
     "output_type": "execute_result"
    }
   ],
   "source": [
    "l1"
   ]
  },
  {
   "cell_type": "code",
   "execution_count": 64,
   "id": "0520915a-c420-4d6f-b21f-d904203a17c5",
   "metadata": {},
   "outputs": [
    {
     "data": {
      "text/plain": [
       "[1, 2, 3, 'ujjwal', True, 23.2, (4+5j), 369, 369, 'R', 'A', 'M', 'RAM']"
      ]
     },
     "execution_count": 64,
     "metadata": {},
     "output_type": "execute_result"
    }
   ],
   "source": [
    "l"
   ]
  },
  {
   "cell_type": "code",
   "execution_count": 65,
   "id": "53f64309-49e6-4af6-a8ec-a3f48e59c018",
   "metadata": {},
   "outputs": [
    {
     "data": {
      "text/plain": [
       "[3, 4, 5, 'narayan', 'u', 'j', 'j', 'w', 'a', 'l', 'ujjwal']"
      ]
     },
     "execution_count": 65,
     "metadata": {},
     "output_type": "execute_result"
    }
   ],
   "source": [
    "l1"
   ]
  },
  {
   "cell_type": "code",
   "execution_count": 1,
   "id": "4eef6a75-44e2-4fa7-917d-4c1fe27a27d9",
   "metadata": {},
   "outputs": [
    {
     "ename": "NameError",
     "evalue": "name 'l1' is not defined",
     "output_type": "error",
     "traceback": [
      "\u001b[0;31m---------------------------------------------------------------------------\u001b[0m",
      "\u001b[0;31mNameError\u001b[0m                                 Traceback (most recent call last)",
      "Cell \u001b[0;32mIn[1], line 1\u001b[0m\n\u001b[0;32m----> 1\u001b[0m \u001b[43ml1\u001b[49m\n",
      "\u001b[0;31mNameError\u001b[0m: name 'l1' is not defined"
     ]
    }
   ],
   "source": [
    "l1"
   ]
  },
  {
   "cell_type": "code",
   "execution_count": 1,
   "id": "e27ce943-e457-407b-aca6-edce45051ebd",
   "metadata": {},
   "outputs": [],
   "source": [
    "l1 = [3,6,9, 'ujjwal', True]"
   ]
  },
  {
   "cell_type": "code",
   "execution_count": 2,
   "id": "cd5fdf94-cdb6-44ea-a1c9-5f06030a1a6a",
   "metadata": {},
   "outputs": [
    {
     "data": {
      "text/plain": [
       "[3, 6, 9, 'ujjwal', True]"
      ]
     },
     "execution_count": 2,
     "metadata": {},
     "output_type": "execute_result"
    }
   ],
   "source": [
    "l1"
   ]
  },
  {
   "cell_type": "code",
   "execution_count": 4,
   "id": "57668d1e-0421-455c-be69-4e72b2def410",
   "metadata": {},
   "outputs": [],
   "source": [
    "l1.insert(0, 'Ram')"
   ]
  },
  {
   "cell_type": "code",
   "execution_count": 5,
   "id": "d234c8ce-933e-41d4-8e9d-a720607fb9f0",
   "metadata": {},
   "outputs": [
    {
     "data": {
      "text/plain": [
       "['Ram', 3, 6, 9, 'ujjwal', True]"
      ]
     },
     "execution_count": 5,
     "metadata": {},
     "output_type": "execute_result"
    }
   ],
   "source": [
    "l1"
   ]
  },
  {
   "cell_type": "code",
   "execution_count": 7,
   "id": "4d893f1a-07de-4a70-9e40-4a6457f1f4b9",
   "metadata": {},
   "outputs": [],
   "source": [
    "l1.insert(-1, False)"
   ]
  },
  {
   "cell_type": "code",
   "execution_count": 8,
   "id": "2f8f19c6-4733-4b2f-ae99-1ff7fb4f4ab3",
   "metadata": {},
   "outputs": [
    {
     "data": {
      "text/plain": [
       "['Ram', 3, 6, 9, 'ujjwal', False, True]"
      ]
     },
     "execution_count": 8,
     "metadata": {},
     "output_type": "execute_result"
    }
   ],
   "source": [
    "l1"
   ]
  },
  {
   "cell_type": "code",
   "execution_count": 9,
   "id": "a8e332a5-f638-4eb8-b986-32ffd1c23342",
   "metadata": {},
   "outputs": [],
   "source": [
    "l1.insert(4,12)"
   ]
  },
  {
   "cell_type": "code",
   "execution_count": 10,
   "id": "392128ad-e782-4d5d-8151-7835387e28bd",
   "metadata": {},
   "outputs": [
    {
     "data": {
      "text/plain": [
       "['Ram', 3, 6, 9, 12, 'ujjwal', False, True]"
      ]
     },
     "execution_count": 10,
     "metadata": {},
     "output_type": "execute_result"
    }
   ],
   "source": [
    "l1"
   ]
  },
  {
   "cell_type": "code",
   "execution_count": 11,
   "id": "842638e4-4a4f-473c-8c03-282194070ad7",
   "metadata": {},
   "outputs": [
    {
     "data": {
      "text/plain": [
       "['Ram', 3, 6, 9, 12, 'ujjwal', False, True]"
      ]
     },
     "execution_count": 11,
     "metadata": {},
     "output_type": "execute_result"
    }
   ],
   "source": [
    "l1"
   ]
  },
  {
   "cell_type": "code",
   "execution_count": 13,
   "id": "d63add62-b6f8-46c0-8f50-869718158774",
   "metadata": {},
   "outputs": [
    {
     "data": {
      "text/plain": [
       "True"
      ]
     },
     "execution_count": 13,
     "metadata": {},
     "output_type": "execute_result"
    }
   ],
   "source": [
    "l1.pop()"
   ]
  },
  {
   "cell_type": "code",
   "execution_count": 14,
   "id": "f493d0d7-55c8-418c-93c1-4b052ad6a82a",
   "metadata": {},
   "outputs": [
    {
     "data": {
      "text/plain": [
       "['Ram', 3, 6, 9, 12, 'ujjwal', False]"
      ]
     },
     "execution_count": 14,
     "metadata": {},
     "output_type": "execute_result"
    }
   ],
   "source": [
    "l1"
   ]
  },
  {
   "cell_type": "code",
   "execution_count": 15,
   "id": "39a755ce-f1a7-4c05-a455-853209f7a965",
   "metadata": {},
   "outputs": [
    {
     "data": {
      "text/plain": [
       "False"
      ]
     },
     "execution_count": 15,
     "metadata": {},
     "output_type": "execute_result"
    }
   ],
   "source": [
    "l1.pop()"
   ]
  },
  {
   "cell_type": "code",
   "execution_count": 16,
   "id": "87a574ab-91b7-49ac-8438-71796bcc3199",
   "metadata": {},
   "outputs": [
    {
     "data": {
      "text/plain": [
       "['Ram', 3, 6, 9, 12, 'ujjwal']"
      ]
     },
     "execution_count": 16,
     "metadata": {},
     "output_type": "execute_result"
    }
   ],
   "source": [
    "l1"
   ]
  },
  {
   "cell_type": "code",
   "execution_count": 17,
   "id": "3faf1c4f-7e2a-4aa3-a506-7d26cc2da3f1",
   "metadata": {},
   "outputs": [
    {
     "data": {
      "text/plain": [
       "12"
      ]
     },
     "execution_count": 17,
     "metadata": {},
     "output_type": "execute_result"
    }
   ],
   "source": [
    "l1.pop(4)"
   ]
  },
  {
   "cell_type": "code",
   "execution_count": 18,
   "id": "c9f143b1-05ab-47ad-8f85-28bfb7a862b7",
   "metadata": {},
   "outputs": [
    {
     "data": {
      "text/plain": [
       "['Ram', 3, 6, 9, 'ujjwal']"
      ]
     },
     "execution_count": 18,
     "metadata": {},
     "output_type": "execute_result"
    }
   ],
   "source": [
    "l1"
   ]
  },
  {
   "cell_type": "code",
   "execution_count": 19,
   "id": "6aafcb15-aa9b-474e-a25e-6fcbf0c42419",
   "metadata": {},
   "outputs": [
    {
     "data": {
      "text/plain": [
       "['Ram', 3, 6, 9, 'ujjwal']"
      ]
     },
     "execution_count": 19,
     "metadata": {},
     "output_type": "execute_result"
    }
   ],
   "source": [
    "l1"
   ]
  },
  {
   "cell_type": "code",
   "execution_count": 20,
   "id": "5738d271-57fb-4f74-a016-adbdbaa13100",
   "metadata": {},
   "outputs": [],
   "source": [
    "l1.append(23.4524)"
   ]
  },
  {
   "cell_type": "code",
   "execution_count": 21,
   "id": "035901e0-8345-46cc-a71c-2878bb9872f5",
   "metadata": {},
   "outputs": [
    {
     "data": {
      "text/plain": [
       "['Ram', 3, 6, 9, 'ujjwal', 23.4524]"
      ]
     },
     "execution_count": 21,
     "metadata": {},
     "output_type": "execute_result"
    }
   ],
   "source": [
    "l1"
   ]
  },
  {
   "cell_type": "code",
   "execution_count": 22,
   "id": "218d16bc-63e7-4f78-9443-505540891a75",
   "metadata": {},
   "outputs": [],
   "source": [
    "l1.append('sankat')"
   ]
  },
  {
   "cell_type": "code",
   "execution_count": 23,
   "id": "b4b338d5-efbb-427d-8be7-56d2af7382b7",
   "metadata": {},
   "outputs": [
    {
     "data": {
      "text/plain": [
       "['Ram', 3, 6, 9, 'ujjwal', 23.4524, 'sankat']"
      ]
     },
     "execution_count": 23,
     "metadata": {},
     "output_type": "execute_result"
    }
   ],
   "source": [
    "l1"
   ]
  },
  {
   "cell_type": "code",
   "execution_count": 24,
   "id": "c4fb3a9a-f295-4575-bad0-05db4a5c6aca",
   "metadata": {},
   "outputs": [],
   "source": [
    "l1.remove('sankat')"
   ]
  },
  {
   "cell_type": "code",
   "execution_count": 25,
   "id": "e26ed3b6-f085-4fbe-b0a5-5422620cef4f",
   "metadata": {},
   "outputs": [
    {
     "data": {
      "text/plain": [
       "['Ram', 3, 6, 9, 'ujjwal', 23.4524]"
      ]
     },
     "execution_count": 25,
     "metadata": {},
     "output_type": "execute_result"
    }
   ],
   "source": [
    "l1"
   ]
  },
  {
   "cell_type": "code",
   "execution_count": 26,
   "id": "b2fd95d4-fba1-46e3-9fe6-569a556eefc7",
   "metadata": {},
   "outputs": [],
   "source": [
    "l1.remove(9)"
   ]
  },
  {
   "cell_type": "code",
   "execution_count": 27,
   "id": "310cc151-efd5-4eb5-9229-df552463f765",
   "metadata": {},
   "outputs": [
    {
     "data": {
      "text/plain": [
       "['Ram', 3, 6, 'ujjwal', 23.4524]"
      ]
     },
     "execution_count": 27,
     "metadata": {},
     "output_type": "execute_result"
    }
   ],
   "source": [
    "l1"
   ]
  },
  {
   "cell_type": "code",
   "execution_count": 28,
   "id": "c63f44f9-e111-4978-832b-ea287cdc9106",
   "metadata": {},
   "outputs": [],
   "source": [
    "l1.remove(23.4524)"
   ]
  },
  {
   "cell_type": "code",
   "execution_count": 29,
   "id": "562c4399-ce9c-4359-9b0c-1c1ac7d7ec1a",
   "metadata": {},
   "outputs": [
    {
     "data": {
      "text/plain": [
       "['Ram', 3, 6, 'ujjwal']"
      ]
     },
     "execution_count": 29,
     "metadata": {},
     "output_type": "execute_result"
    }
   ],
   "source": [
    "l1"
   ]
  },
  {
   "cell_type": "code",
   "execution_count": 30,
   "id": "7d5ec076-2d49-4264-8c7c-0d10ef8039ab",
   "metadata": {},
   "outputs": [],
   "source": [
    "l1.append([3, 6, 9])"
   ]
  },
  {
   "cell_type": "code",
   "execution_count": 31,
   "id": "1aa4f529-549e-4915-bf0e-b117942091e5",
   "metadata": {},
   "outputs": [
    {
     "data": {
      "text/plain": [
       "['Ram', 3, 6, 'ujjwal', [3, 6, 9]]"
      ]
     },
     "execution_count": 31,
     "metadata": {},
     "output_type": "execute_result"
    }
   ],
   "source": [
    "l1"
   ]
  },
  {
   "cell_type": "code",
   "execution_count": 32,
   "id": "4d0eb0ac-8e16-45c9-88b0-c165f5917c5b",
   "metadata": {},
   "outputs": [],
   "source": [
    "l1[4].remove(9)"
   ]
  },
  {
   "cell_type": "code",
   "execution_count": 33,
   "id": "f1c0086b-45f8-4a87-9cac-2e7e05815f7e",
   "metadata": {},
   "outputs": [
    {
     "data": {
      "text/plain": [
       "['Ram', 3, 6, 'ujjwal', [3, 6]]"
      ]
     },
     "execution_count": 33,
     "metadata": {},
     "output_type": "execute_result"
    }
   ],
   "source": [
    "l1"
   ]
  },
  {
   "cell_type": "code",
   "execution_count": 34,
   "id": "f1493184-bafd-4c46-9bce-abc71631c91d",
   "metadata": {},
   "outputs": [],
   "source": [
    "l1.reverse()"
   ]
  },
  {
   "cell_type": "code",
   "execution_count": 35,
   "id": "ced0d279-5445-42b4-b93d-cfbbccc47dd1",
   "metadata": {},
   "outputs": [
    {
     "data": {
      "text/plain": [
       "[[3, 6], 'ujjwal', 6, 3, 'Ram']"
      ]
     },
     "execution_count": 35,
     "metadata": {},
     "output_type": "execute_result"
    }
   ],
   "source": [
    "l1"
   ]
  },
  {
   "cell_type": "code",
   "execution_count": 40,
   "id": "f32b71cb-dbf5-4a7f-85f7-af144f63cbb9",
   "metadata": {},
   "outputs": [
    {
     "ename": "SyntaxError",
     "evalue": "invalid syntax (2842270198.py, line 1)",
     "output_type": "error",
     "traceback": [
      "\u001b[0;36m  Cell \u001b[0;32mIn[40], line 1\u001b[0;36m\u001b[0m\n\u001b[0;31m    l1.reverse(::1)\u001b[0m\n\u001b[0m               ^\u001b[0m\n\u001b[0;31mSyntaxError\u001b[0m\u001b[0;31m:\u001b[0m invalid syntax\n"
     ]
    }
   ],
   "source": [
    "l1.reverse(::1)"
   ]
  },
  {
   "cell_type": "code",
   "execution_count": 41,
   "id": "5867daf8-422e-4e1e-941e-6fc49f780fac",
   "metadata": {},
   "outputs": [],
   "source": [
    "l1 = l1[::-1]"
   ]
  },
  {
   "cell_type": "code",
   "execution_count": 42,
   "id": "ec36d351-fd78-4d38-b40c-ac1e143ffa22",
   "metadata": {},
   "outputs": [
    {
     "data": {
      "text/plain": [
       "['Ram', 3, 6, 'ujjwal', [3, 6]]"
      ]
     },
     "execution_count": 42,
     "metadata": {},
     "output_type": "execute_result"
    }
   ],
   "source": [
    "l1"
   ]
  },
  {
   "cell_type": "code",
   "execution_count": 46,
   "id": "1515642e-3887-4c56-8927-537758e9eb73",
   "metadata": {},
   "outputs": [],
   "source": [
    "l2 = [3,60,9.2,21,15,18,2111]"
   ]
  },
  {
   "cell_type": "code",
   "execution_count": 47,
   "id": "89883733-8f17-4c8d-a3f2-2da914f434e2",
   "metadata": {},
   "outputs": [
    {
     "data": {
      "text/plain": [
       "[3, 60, 9.2, 21, 15, 18, 2111]"
      ]
     },
     "execution_count": 47,
     "metadata": {},
     "output_type": "execute_result"
    }
   ],
   "source": [
    "l2"
   ]
  },
  {
   "cell_type": "code",
   "execution_count": 48,
   "id": "a204f171-718c-4194-bfa8-24d5b208c22e",
   "metadata": {},
   "outputs": [],
   "source": [
    "l2.sort()"
   ]
  },
  {
   "cell_type": "code",
   "execution_count": 49,
   "id": "350355ea-3dd8-4266-ac09-c7eeb093b7f3",
   "metadata": {},
   "outputs": [
    {
     "data": {
      "text/plain": [
       "[3, 9.2, 15, 18, 21, 60, 2111]"
      ]
     },
     "execution_count": 49,
     "metadata": {},
     "output_type": "execute_result"
    }
   ],
   "source": [
    "l2"
   ]
  },
  {
   "cell_type": "code",
   "execution_count": 50,
   "id": "c1ec7732-2d16-4db9-855f-d2de263c419a",
   "metadata": {},
   "outputs": [],
   "source": [
    "l3 = ['Vishnu', 'Mahavishnu', 'Ram', 'Krishna', 'Ujjwal']"
   ]
  },
  {
   "cell_type": "code",
   "execution_count": 51,
   "id": "c95cb56a-518a-4f0f-9c10-932f5d7e1854",
   "metadata": {},
   "outputs": [
    {
     "data": {
      "text/plain": [
       "['Vishnu', 'Mahavishnu', 'Ram', 'Krishna', 'Ujjwal']"
      ]
     },
     "execution_count": 51,
     "metadata": {},
     "output_type": "execute_result"
    }
   ],
   "source": [
    "l3"
   ]
  },
  {
   "cell_type": "code",
   "execution_count": 52,
   "id": "9e384d23-0af1-465b-9fd6-23c64890cd2b",
   "metadata": {},
   "outputs": [],
   "source": [
    "l3.sort()"
   ]
  },
  {
   "cell_type": "code",
   "execution_count": 53,
   "id": "94141bcc-098e-4b3f-ab3e-f65a8d7cf5fd",
   "metadata": {},
   "outputs": [
    {
     "data": {
      "text/plain": [
       "['Krishna', 'Mahavishnu', 'Ram', 'Ujjwal', 'Vishnu']"
      ]
     },
     "execution_count": 53,
     "metadata": {},
     "output_type": "execute_result"
    }
   ],
   "source": [
    "l3"
   ]
  },
  {
   "cell_type": "code",
   "execution_count": 54,
   "id": "15ea326c-1136-4a7e-8abd-f08fe9a395a8",
   "metadata": {},
   "outputs": [],
   "source": [
    "l3.sort(reverse=True)"
   ]
  },
  {
   "cell_type": "code",
   "execution_count": 55,
   "id": "eeae8a2c-66f8-4a48-9948-ae923e6d35cd",
   "metadata": {},
   "outputs": [
    {
     "data": {
      "text/plain": [
       "['Vishnu', 'Ujjwal', 'Ram', 'Mahavishnu', 'Krishna']"
      ]
     },
     "execution_count": 55,
     "metadata": {},
     "output_type": "execute_result"
    }
   ],
   "source": [
    "l3"
   ]
  },
  {
   "cell_type": "code",
   "execution_count": 56,
   "id": "2c0f40ae-bc9c-4cc7-8859-1865a7905d12",
   "metadata": {},
   "outputs": [],
   "source": [
    "l5 = [3,4,5,6]"
   ]
  },
  {
   "cell_type": "code",
   "execution_count": 57,
   "id": "3414f53f-5b23-4618-917e-8d440b863ac2",
   "metadata": {},
   "outputs": [
    {
     "data": {
      "text/plain": [
       "[3, 4, 5, 6]"
      ]
     },
     "execution_count": 57,
     "metadata": {},
     "output_type": "execute_result"
    }
   ],
   "source": [
    "l5"
   ]
  },
  {
   "cell_type": "code",
   "execution_count": 58,
   "id": "96e8f898-0c05-4eb3-902e-dc85116da92f",
   "metadata": {},
   "outputs": [
    {
     "data": {
      "text/plain": [
       "3"
      ]
     },
     "execution_count": 58,
     "metadata": {},
     "output_type": "execute_result"
    }
   ],
   "source": [
    "l5[0]"
   ]
  },
  {
   "cell_type": "code",
   "execution_count": 59,
   "id": "55ab43ef-da18-48c5-bff3-9144d4bec1c4",
   "metadata": {},
   "outputs": [],
   "source": [
    "s = 'ujjwaljcn'"
   ]
  },
  {
   "cell_type": "code",
   "execution_count": 60,
   "id": "a6a2f9f6-0603-4091-ad7c-fc6ed491bef0",
   "metadata": {},
   "outputs": [
    {
     "data": {
      "text/plain": [
       "'ujjwaljcn'"
      ]
     },
     "execution_count": 60,
     "metadata": {},
     "output_type": "execute_result"
    }
   ],
   "source": [
    "s"
   ]
  },
  {
   "cell_type": "code",
   "execution_count": 65,
   "id": "931d3e0e-bb1b-4853-8ade-b1a7b9e8ced0",
   "metadata": {},
   "outputs": [
    {
     "data": {
      "text/plain": [
       "'jjjwaljcn'"
      ]
     },
     "execution_count": 65,
     "metadata": {},
     "output_type": "execute_result"
    }
   ],
   "source": [
    "s.replace('u', 'j')"
   ]
  },
  {
   "cell_type": "code",
   "execution_count": 3,
   "id": "d72054a7-245b-4001-9a62-22d9a97633e1",
   "metadata": {},
   "outputs": [],
   "source": [
    "t = (3,6,9, 'ujjwal', 23.525, True, \"Ram\")"
   ]
  },
  {
   "cell_type": "code",
   "execution_count": 67,
   "id": "ee4befa5-4eaa-4269-bb46-77f59fd75123",
   "metadata": {},
   "outputs": [
    {
     "data": {
      "text/plain": [
       "(3, 6, 9, 'ujjwal', 23.525, True, 'Ram')"
      ]
     },
     "execution_count": 67,
     "metadata": {},
     "output_type": "execute_result"
    }
   ],
   "source": [
    "t"
   ]
  },
  {
   "cell_type": "code",
   "execution_count": 70,
   "id": "f0f73182-a52b-4246-9ce6-d4e059f37aa5",
   "metadata": {},
   "outputs": [
    {
     "data": {
      "text/plain": [
       "1"
      ]
     },
     "execution_count": 70,
     "metadata": {},
     "output_type": "execute_result"
    }
   ],
   "source": [
    "t.count(6)"
   ]
  },
  {
   "cell_type": "code",
   "execution_count": 71,
   "id": "aedb1f32-fe2b-45bd-b6a6-a95c69513060",
   "metadata": {},
   "outputs": [
    {
     "data": {
      "text/plain": [
       "1"
      ]
     },
     "execution_count": 71,
     "metadata": {},
     "output_type": "execute_result"
    }
   ],
   "source": [
    "t.index(6)"
   ]
  },
  {
   "cell_type": "code",
   "execution_count": 76,
   "id": "59cbc011-4f43-46f0-8f03-e503a1bd89a3",
   "metadata": {},
   "outputs": [
    {
     "data": {
      "text/plain": [
       "(3, 6, 9, 'ujjwal', 23.525, True, 'Ram')"
      ]
     },
     "execution_count": 76,
     "metadata": {},
     "output_type": "execute_result"
    }
   ],
   "source": [
    " t[::-1]"
   ]
  },
  {
   "cell_type": "code",
   "execution_count": 4,
   "id": "77acef60-a2c6-4fe6-81b9-b6d8d4f9e7e8",
   "metadata": {},
   "outputs": [
    {
     "data": {
      "text/plain": [
       "(3, 6, 9, 'ujjwal', 23.525, True, 'Ram')"
      ]
     },
     "execution_count": 4,
     "metadata": {},
     "output_type": "execute_result"
    }
   ],
   "source": [
    "t"
   ]
  },
  {
   "cell_type": "code",
   "execution_count": 78,
   "id": "e33442a3-994d-400b-9211-0e01eac1ef1f",
   "metadata": {},
   "outputs": [
    {
     "data": {
      "text/plain": [
       "('Ram', True, 23.525)"
      ]
     },
     "execution_count": 78,
     "metadata": {},
     "output_type": "execute_result"
    }
   ],
   "source": [
    "t[0:3]"
   ]
  },
  {
   "cell_type": "code",
   "execution_count": 79,
   "id": "4f32b1b8-5b13-4a90-8768-6efd2fac0398",
   "metadata": {},
   "outputs": [
    {
     "data": {
      "text/plain": [
       "('Ram', 23.525)"
      ]
     },
     "execution_count": 79,
     "metadata": {},
     "output_type": "execute_result"
    }
   ],
   "source": [
    "t[0:3:2]"
   ]
  },
  {
   "cell_type": "code",
   "execution_count": 5,
   "id": "c7e9684d-8c7f-4c35-8646-012567f6c2fb",
   "metadata": {},
   "outputs": [
    {
     "data": {
      "text/plain": [
       "(3, 6, 9, 'ujjwal', 23.525, True, 'Ram')"
      ]
     },
     "execution_count": 5,
     "metadata": {},
     "output_type": "execute_result"
    }
   ],
   "source": [
    "t"
   ]
  },
  {
   "cell_type": "code",
   "execution_count": 6,
   "id": "f55def88-90e6-4c55-bb90-c60907104016",
   "metadata": {},
   "outputs": [],
   "source": [
    "#Sets"
   ]
  },
  {
   "cell_type": "code",
   "execution_count": 8,
   "id": "f5205d04-4878-407a-8808-af3619928a5a",
   "metadata": {},
   "outputs": [],
   "source": [
    "s1 = {}"
   ]
  },
  {
   "cell_type": "code",
   "execution_count": 9,
   "id": "9e07e3f3-18a8-4e04-94ae-06e38978cda5",
   "metadata": {},
   "outputs": [
    {
     "data": {
      "text/plain": [
       "dict"
      ]
     },
     "execution_count": 9,
     "metadata": {},
     "output_type": "execute_result"
    }
   ],
   "source": [
    "type(s1)"
   ]
  },
  {
   "cell_type": "code",
   "execution_count": 17,
   "id": "8f256f4c-b252-4d78-b3ce-181f680668a6",
   "metadata": {},
   "outputs": [],
   "source": [
    "s2 = {1,2,3, 'ujjwal', 'python', }"
   ]
  },
  {
   "cell_type": "code",
   "execution_count": 18,
   "id": "82dad276-c4c2-4d07-922d-4fefae345e15",
   "metadata": {},
   "outputs": [
    {
     "data": {
      "text/plain": [
       "{1, 2, 3, 'python', 'ujjwal'}"
      ]
     },
     "execution_count": 18,
     "metadata": {},
     "output_type": "execute_result"
    }
   ],
   "source": [
    "s2"
   ]
  },
  {
   "cell_type": "code",
   "execution_count": 19,
   "id": "5e5ef583-6815-429d-8a3d-cdaa07208126",
   "metadata": {},
   "outputs": [
    {
     "data": {
      "text/plain": [
       "set"
      ]
     },
     "execution_count": 19,
     "metadata": {},
     "output_type": "execute_result"
    }
   ],
   "source": [
    "type(s2)"
   ]
  },
  {
   "cell_type": "code",
   "execution_count": 20,
   "id": "b8268da0-da34-48aa-ac57-3daff94da6b1",
   "metadata": {},
   "outputs": [],
   "source": [
    "s3 = {1,2,5,2,7,8,2,3,4,6,7,9,0,4,2,4,'ujjwal', 'RAM'}"
   ]
  },
  {
   "cell_type": "code",
   "execution_count": 21,
   "id": "a1fa9357-9918-4473-9368-9adacf92c987",
   "metadata": {},
   "outputs": [
    {
     "data": {
      "text/plain": [
       "{0, 1, 2, 3, 4, 5, 6, 7, 8, 9, 'RAM', 'ujjwal'}"
      ]
     },
     "execution_count": 21,
     "metadata": {},
     "output_type": "execute_result"
    }
   ],
   "source": [
    "s3"
   ]
  },
  {
   "cell_type": "code",
   "execution_count": 1,
   "id": "98a798d1-e985-4d10-bd7b-7a08793b0154",
   "metadata": {},
   "outputs": [],
   "source": [
    "m = [1,2,3,2,1,2,3,4,5,6,544,3,7,8,9,5]"
   ]
  },
  {
   "cell_type": "code",
   "execution_count": 2,
   "id": "27be0262-f287-437e-a94f-6bc5fa743dac",
   "metadata": {},
   "outputs": [
    {
     "data": {
      "text/plain": [
       "[1, 2, 3, 2, 1, 2, 3, 4, 5, 6, 544, 3, 7, 8, 9, 5]"
      ]
     },
     "execution_count": 2,
     "metadata": {},
     "output_type": "execute_result"
    }
   ],
   "source": [
    "m"
   ]
  },
  {
   "cell_type": "code",
   "execution_count": 6,
   "id": "2bc81c04-2f83-420c-aca9-e8a45b001473",
   "metadata": {},
   "outputs": [],
   "source": [
    "m = list(set(m))"
   ]
  },
  {
   "cell_type": "code",
   "execution_count": 7,
   "id": "d3c9074c-be84-4187-9987-378b3a985cd7",
   "metadata": {},
   "outputs": [
    {
     "data": {
      "text/plain": [
       "[544, 1, 2, 3, 4, 5, 6, 7, 8, 9]"
      ]
     },
     "execution_count": 7,
     "metadata": {},
     "output_type": "execute_result"
    }
   ],
   "source": [
    "m"
   ]
  },
  {
   "cell_type": "code",
   "execution_count": 8,
   "id": "96f8bb76-93a9-43a0-931b-1fa9ea12936f",
   "metadata": {},
   "outputs": [],
   "source": [
    "s5 = {12,34,23,78,23,89,90,'ujju', 'vishnu'}"
   ]
  },
  {
   "cell_type": "code",
   "execution_count": 9,
   "id": "c7b9c87f-00bc-4825-9e36-b858e105e8c2",
   "metadata": {},
   "outputs": [
    {
     "data": {
      "text/plain": [
       "{12, 23, 34, 78, 89, 90, 'ujju', 'vishnu'}"
      ]
     },
     "execution_count": 9,
     "metadata": {},
     "output_type": "execute_result"
    }
   ],
   "source": [
    "s5"
   ]
  },
  {
   "cell_type": "code",
   "execution_count": 10,
   "id": "4dec8436-3076-4f64-8ce9-b667b097783d",
   "metadata": {},
   "outputs": [
    {
     "ename": "SyntaxError",
     "evalue": "invalid syntax (1795072793.py, line 1)",
     "output_type": "error",
     "traceback": [
      "\u001b[0;36m  Cell \u001b[0;32mIn[10], line 1\u001b[0;36m\u001b[0m\n\u001b[0;31m    s5{0}\u001b[0m\n\u001b[0m      ^\u001b[0m\n\u001b[0;31mSyntaxError\u001b[0m\u001b[0;31m:\u001b[0m invalid syntax\n"
     ]
    }
   ],
   "source": [
    "s5{0}"
   ]
  },
  {
   "cell_type": "code",
   "execution_count": 11,
   "id": "22638dd4-8c3f-4092-a995-e78955c9da9a",
   "metadata": {},
   "outputs": [
    {
     "ename": "TypeError",
     "evalue": "'set' object is not subscriptable",
     "output_type": "error",
     "traceback": [
      "\u001b[0;31m---------------------------------------------------------------------------\u001b[0m",
      "\u001b[0;31mTypeError\u001b[0m                                 Traceback (most recent call last)",
      "Cell \u001b[0;32mIn[11], line 1\u001b[0m\n\u001b[0;32m----> 1\u001b[0m \u001b[43ms5\u001b[49m\u001b[43m[\u001b[49m\u001b[43m:\u001b[49m\u001b[43m:\u001b[49m\u001b[38;5;241;43m-\u001b[39;49m\u001b[38;5;241;43m1\u001b[39;49m\u001b[43m]\u001b[49m\n",
      "\u001b[0;31mTypeError\u001b[0m: 'set' object is not subscriptable"
     ]
    }
   ],
   "source": [
    "s5[::-1]"
   ]
  },
  {
   "cell_type": "code",
   "execution_count": 12,
   "id": "a93b1d5a-c3a6-4119-b809-fdeadad75b48",
   "metadata": {},
   "outputs": [
    {
     "data": {
      "text/plain": [
       "{12, 23, 34, 78, 89, 90, 'ujju', 'vishnu'}"
      ]
     },
     "execution_count": 12,
     "metadata": {},
     "output_type": "execute_result"
    }
   ],
   "source": [
    "s5"
   ]
  },
  {
   "cell_type": "code",
   "execution_count": 14,
   "id": "c9dae03f-39e3-4edf-88bf-596788508bb6",
   "metadata": {},
   "outputs": [],
   "source": [
    "s5.update('ram')"
   ]
  },
  {
   "cell_type": "code",
   "execution_count": 15,
   "id": "8462c210-a72f-4b85-ae1b-3dde9b821ae2",
   "metadata": {},
   "outputs": [
    {
     "data": {
      "text/plain": [
       "{12, 23, 34, 78, 89, 90, 'a', 'm', 'r', 'ujju', 'vishnu'}"
      ]
     },
     "execution_count": 15,
     "metadata": {},
     "output_type": "execute_result"
    }
   ],
   "source": [
    "s5"
   ]
  },
  {
   "cell_type": "code",
   "execution_count": 16,
   "id": "a16fbd7e-a6b8-4569-96c8-fee238921c68",
   "metadata": {},
   "outputs": [],
   "source": [
    "s5.add('ram')"
   ]
  },
  {
   "cell_type": "code",
   "execution_count": 17,
   "id": "b03b96e4-b094-42f7-8c21-221f68613235",
   "metadata": {},
   "outputs": [
    {
     "data": {
      "text/plain": [
       "{12, 23, 34, 78, 89, 90, 'a', 'm', 'r', 'ram', 'ujju', 'vishnu'}"
      ]
     },
     "execution_count": 17,
     "metadata": {},
     "output_type": "execute_result"
    }
   ],
   "source": [
    "s5"
   ]
  },
  {
   "cell_type": "code",
   "execution_count": null,
   "id": "d3f8c97f-c198-4971-86e3-c660b985f79c",
   "metadata": {},
   "outputs": [],
   "source": []
  }
 ],
 "metadata": {
  "kernelspec": {
   "display_name": "Python 3 (ipykernel)",
   "language": "python",
   "name": "python3"
  },
  "language_info": {
   "codemirror_mode": {
    "name": "ipython",
    "version": 3
   },
   "file_extension": ".py",
   "mimetype": "text/x-python",
   "name": "python",
   "nbconvert_exporter": "python",
   "pygments_lexer": "ipython3",
   "version": "3.10.8"
  }
 },
 "nbformat": 4,
 "nbformat_minor": 5
}
