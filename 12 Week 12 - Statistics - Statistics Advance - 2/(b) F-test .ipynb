{
 "cells": [
  {
   "cell_type": "markdown",
   "id": "5008620b-36ea-4d17-9b07-2f873b38fbb7",
   "metadata": {},
   "source": [
    "F-Test with Python"
   ]
  },
  {
   "cell_type": "code",
   "execution_count": 1,
   "id": "0e8ee04c-5207-4832-8fb1-733dd4665772",
   "metadata": {},
   "outputs": [],
   "source": [
    "import numpy as np\n",
    "import scipy.stats as stat"
   ]
  },
  {
   "cell_type": "code",
   "execution_count": 2,
   "id": "1a9905ed-14e3-4799-befe-1796fb18631d",
   "metadata": {},
   "outputs": [],
   "source": [
    "# Evidence to say that two population variance is not equal\n",
    "\n",
    "worker1= [18, 19, 22, 25, 27, 28, 41, 45, 51, 55]\n",
    "worker2= [14, 15, 15, 17, 18, 22, 25, 25, 27, 34]"
   ]
  },
  {
   "cell_type": "code",
   "execution_count": 9,
   "id": "0f2d3763-8884-4b35-8aba-60a37a948241",
   "metadata": {},
   "outputs": [],
   "source": [
    "#calculating f-test\n",
    "F_test = np.var(worker1)/np.var(worker2)"
   ]
  },
  {
   "cell_type": "code",
   "execution_count": 10,
   "id": "85dbd817-4886-427b-b176-682d515f6e39",
   "metadata": {},
   "outputs": [
    {
     "data": {
      "text/plain": [
       "4.387122002085506"
      ]
     },
     "execution_count": 10,
     "metadata": {},
     "output_type": "execute_result"
    }
   ],
   "source": [
    "F_test"
   ]
  },
  {
   "cell_type": "code",
   "execution_count": 11,
   "id": "a594386b-2502-4407-9eb3-63b975539de9",
   "metadata": {},
   "outputs": [],
   "source": [
    "# Degree of freedom\n",
    "df1 = len(worker1) - 1\n",
    "df2 = len(worker2) -1\n",
    "significance_value = 0.05"
   ]
  },
  {
   "cell_type": "code",
   "execution_count": 12,
   "id": "4d0d8df2-077c-4015-8cc7-b5e7ba00cf7b",
   "metadata": {},
   "outputs": [],
   "source": [
    "critical_value = stat.f.ppf(q = 1-significance_value, dfn=df1, dfd=df2)"
   ]
  },
  {
   "cell_type": "code",
   "execution_count": 13,
   "id": "1466f2a3-d1bd-4e05-bdbb-ce4eb82b830d",
   "metadata": {},
   "outputs": [
    {
     "data": {
      "text/plain": [
       "3.178893104458269"
      ]
     },
     "execution_count": 13,
     "metadata": {},
     "output_type": "execute_result"
    }
   ],
   "source": [
    "critical_value\n"
   ]
  },
  {
   "cell_type": "code",
   "execution_count": 14,
   "id": "f3e4ac24-cec2-49fc-8214-33f9a2859893",
   "metadata": {},
   "outputs": [
    {
     "name": "stdout",
     "output_type": "stream",
     "text": [
      "We reject the null hypothesis\n"
     ]
    }
   ],
   "source": [
    "if F_test> critical_value :\n",
    "    print('We reject the null hypothesis')\n",
    "    \n",
    "else :\n",
    "    print('We fail to reject the null hypothesis')"
   ]
  },
  {
   "cell_type": "code",
   "execution_count": null,
   "id": "4376970b-ccb7-4745-a3bd-e4873d16299a",
   "metadata": {},
   "outputs": [],
   "source": []
  }
 ],
 "metadata": {
  "kernelspec": {
   "display_name": "Python 3 (ipykernel)",
   "language": "python",
   "name": "python3"
  },
  "language_info": {
   "codemirror_mode": {
    "name": "ipython",
    "version": 3
   },
   "file_extension": ".py",
   "mimetype": "text/x-python",
   "name": "python",
   "nbconvert_exporter": "python",
   "pygments_lexer": "ipython3",
   "version": "3.10.8"
  }
 },
 "nbformat": 4,
 "nbformat_minor": 5
}
