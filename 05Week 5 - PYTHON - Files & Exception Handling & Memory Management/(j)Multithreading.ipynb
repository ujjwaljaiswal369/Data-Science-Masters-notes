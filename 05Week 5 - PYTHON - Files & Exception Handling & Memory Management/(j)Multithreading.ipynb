{
 "cells": [
  {
   "cell_type": "code",
   "execution_count": 32,
   "id": "9c353537-eb41-4f19-b5c7-4968f1878c00",
   "metadata": {},
   "outputs": [],
   "source": [
    "import threading"
   ]
  },
  {
   "cell_type": "code",
   "execution_count": 33,
   "id": "5941b061-7bc7-4531-9741-db031d74e792",
   "metadata": {},
   "outputs": [],
   "source": [
    "def test(id):\n",
    "    print('programs stat at %d'% id)"
   ]
  },
  {
   "cell_type": "code",
   "execution_count": 34,
   "id": "060d5a7d-4f6d-47e3-830b-ebab03e2c356",
   "metadata": {},
   "outputs": [
    {
     "name": "stdout",
     "output_type": "stream",
     "text": [
      "programs stat at 45\n"
     ]
    }
   ],
   "source": [
    "test(45)"
   ]
  },
  {
   "cell_type": "code",
   "execution_count": 35,
   "id": "054729a1-71a6-401f-94c9-e2c4efe37122",
   "metadata": {},
   "outputs": [],
   "source": [
    "thread = [threading.Thread(target = test, args=(i,)) for i in range(10)]"
   ]
  },
  {
   "cell_type": "code",
   "execution_count": 36,
   "id": "d3190fc0-08ec-420c-b79c-4473faff40d2",
   "metadata": {},
   "outputs": [
    {
     "name": "stdout",
     "output_type": "stream",
     "text": [
      "programs stat at 0\n",
      "programs stat at 1\n",
      "programs stat at 2\n",
      "programs stat at 3\n",
      "programs stat at 4\n",
      "programs stat at 5\n",
      "programs stat at 6\n",
      "programs stat at 7\n",
      "programs stat at 8\n",
      "programs stat at 9\n"
     ]
    }
   ],
   "source": [
    "for t in thread:\n",
    "    t.start()"
   ]
  },
  {
   "cell_type": "code",
   "execution_count": 44,
   "id": "3056c8f8-72a9-4609-9501-cc6a511911b7",
   "metadata": {},
   "outputs": [
    {
     "data": {
      "text/plain": [
       "[<Thread(Thread-65 (test), stopped 139885969122880)>,\n",
       " <Thread(Thread-66 (test), stopped 139885969122880)>,\n",
       " <Thread(Thread-67 (test), stopped 139885969122880)>,\n",
       " <Thread(Thread-68 (test), stopped 139885969122880)>,\n",
       " <Thread(Thread-69 (test), stopped 139885969122880)>,\n",
       " <Thread(Thread-70 (test), stopped 139885969122880)>,\n",
       " <Thread(Thread-71 (test), stopped 139885969122880)>,\n",
       " <Thread(Thread-72 (test), stopped 139885969122880)>,\n",
       " <Thread(Thread-73 (test), stopped 139885969122880)>,\n",
       " <Thread(Thread-74 (test), stopped 139885969122880)>]"
      ]
     },
     "execution_count": 44,
     "metadata": {},
     "output_type": "execute_result"
    }
   ],
   "source": [
    "thread"
   ]
  },
  {
   "cell_type": "code",
   "execution_count": 3,
   "id": "9f59eb9d-cac2-486d-9e6f-70e312fd67d7",
   "metadata": {},
   "outputs": [],
   "source": [
    "import threading\n",
    "import urllib.request\n",
    "\n",
    "def file_download(url , filename):\n",
    "    urllib.request.urlretrieve(url, filename)"
   ]
  },
  {
   "cell_type": "code",
   "execution_count": 4,
   "id": "4be627f3-4403-4577-b144-52ee94866029",
   "metadata": {},
   "outputs": [],
   "source": [
    "url_list = ['https://raw.githubusercontent.com/itsfoss/text-files/master/sherlock.txt',\n",
    "           'https://raw.githubusercontent.com/itsfoss/text-files/master/agatha.txt',\n",
    "            'https://raw.githubusercontent.com/itsfoss/text-files/master/sample_log_file.txt']"
   ]
  },
  {
   "cell_type": "code",
   "execution_count": 5,
   "id": "586f8380-f418-42e8-a48c-5524b6dadce7",
   "metadata": {},
   "outputs": [
    {
     "data": {
      "text/plain": [
       "['https://raw.githubusercontent.com/itsfoss/text-files/master/sherlock.txt',\n",
       " 'https://raw.githubusercontent.com/itsfoss/text-files/master/agatha.txt',\n",
       " 'https://raw.githubusercontent.com/itsfoss/text-files/master/sample_log_file.txt']"
      ]
     },
     "execution_count": 5,
     "metadata": {},
     "output_type": "execute_result"
    }
   ],
   "source": [
    "url_list"
   ]
  },
  {
   "cell_type": "code",
   "execution_count": 6,
   "id": "bf2e4e1b-ee25-49e6-91d9-cc12564b99fa",
   "metadata": {},
   "outputs": [],
   "source": [
    "filename_list = ['data1.txt', 'data2.txt', 'data3.txt']"
   ]
  },
  {
   "cell_type": "code",
   "execution_count": 7,
   "id": "4f79877c-f036-4aa7-b1e1-67c2a4aac40d",
   "metadata": {},
   "outputs": [],
   "source": [
    "ther = [threading.Thread(target = file_download, args = (url_list[i], filename_list[i])) for i in range(len(url_list))]"
   ]
  },
  {
   "cell_type": "code",
   "execution_count": 8,
   "id": "275fc439-930e-4305-b0a2-be91ea459ba4",
   "metadata": {},
   "outputs": [
    {
     "data": {
      "text/plain": [
       "[<Thread(Thread-5 (file_download), initial)>,\n",
       " <Thread(Thread-6 (file_download), initial)>,\n",
       " <Thread(Thread-7 (file_download), initial)>]"
      ]
     },
     "execution_count": 8,
     "metadata": {},
     "output_type": "execute_result"
    }
   ],
   "source": [
    "ther"
   ]
  },
  {
   "cell_type": "code",
   "execution_count": 9,
   "id": "6806653b-48af-4737-9108-21b76f211a95",
   "metadata": {},
   "outputs": [],
   "source": [
    "for t in ther:\n",
    "    t.start()"
   ]
  },
  {
   "cell_type": "code",
   "execution_count": 10,
   "id": "1ca5b4e6-edc5-4529-a679-10430bb5cabf",
   "metadata": {},
   "outputs": [
    {
     "data": {
      "text/plain": [
       "[<Thread(Thread-5 (file_download), stopped 140071021831744)>,\n",
       " <Thread(Thread-6 (file_download), started 140071013439040)>,\n",
       " <Thread(Thread-7 (file_download), stopped 140071005046336)>]"
      ]
     },
     "execution_count": 10,
     "metadata": {},
     "output_type": "execute_result"
    }
   ],
   "source": [
    "ther"
   ]
  },
  {
   "cell_type": "code",
   "execution_count": 11,
   "id": "81386c9a-c1f3-44ca-b161-1ca83fafa9e4",
   "metadata": {},
   "outputs": [],
   "source": [
    "import time"
   ]
  },
  {
   "cell_type": "code",
   "execution_count": 21,
   "id": "b8ba3526-aade-4411-a6b1-77cab0f2ad3b",
   "metadata": {},
   "outputs": [],
   "source": [
    "def test1(id):\n",
    "    for i in range(10):\n",
    "        print('test1 %d  printing %d %s'%(id,i,time.ctime()))\n",
    "        time.sleep(1)"
   ]
  },
  {
   "cell_type": "code",
   "execution_count": 22,
   "id": "ac59f2c2-c7f3-4e56-8707-5da1937107f5",
   "metadata": {},
   "outputs": [
    {
     "name": "stdout",
     "output_type": "stream",
     "text": [
      "test1 1  printing 0 Mon Jun 19 12:14:52 2023\n",
      "test1 1  printing 1 Mon Jun 19 12:14:53 2023\n",
      "test1 1  printing 2 Mon Jun 19 12:14:54 2023\n",
      "test1 1  printing 3 Mon Jun 19 12:14:55 2023\n",
      "test1 1  printing 4 Mon Jun 19 12:14:56 2023\n",
      "test1 1  printing 5 Mon Jun 19 12:14:57 2023\n",
      "test1 1  printing 6 Mon Jun 19 12:14:58 2023\n",
      "test1 1  printing 7 Mon Jun 19 12:14:59 2023\n",
      "test1 1  printing 8 Mon Jun 19 12:15:00 2023\n",
      "test1 1  printing 9 Mon Jun 19 12:15:01 2023\n"
     ]
    }
   ],
   "source": [
    "test1(1)"
   ]
  },
  {
   "cell_type": "code",
   "execution_count": 23,
   "id": "94a6c334-41f1-41cc-bfd6-09442aa55922",
   "metadata": {},
   "outputs": [],
   "source": [
    "thread1 =  [threading.Thread(target = test1 , args = (i,))for i in range(3)]"
   ]
  },
  {
   "cell_type": "code",
   "execution_count": 24,
   "id": "9460384d-205b-48e9-94c6-bb5a2ae13d55",
   "metadata": {},
   "outputs": [
    {
     "name": "stdout",
     "output_type": "stream",
     "text": [
      "test1 0  printing 0 Mon Jun 19 12:15:39 2023\n",
      "test1 1  printing 0 Mon Jun 19 12:15:39 2023\n",
      "test1 2  printing 0 Mon Jun 19 12:15:39 2023\n",
      "test1 0  printing 1 Mon Jun 19 12:15:40 2023\n",
      "test1 1  printing 1 Mon Jun 19 12:15:40 2023\n",
      "test1 2  printing 1 Mon Jun 19 12:15:40 2023\n",
      "test1 0  printing 2 Mon Jun 19 12:15:41 2023\n",
      "test1 1  printing 2 Mon Jun 19 12:15:41 2023\n",
      "test1 2  printing 2 Mon Jun 19 12:15:41 2023\n",
      "test1 0  printing 3 Mon Jun 19 12:15:42 2023\n",
      "test1 1  printing 3 Mon Jun 19 12:15:42 2023\n",
      "test1 2  printing 3 Mon Jun 19 12:15:42 2023\n",
      "test1 0  printing 4 Mon Jun 19 12:15:43 2023\n",
      "test1 1  printing 4 Mon Jun 19 12:15:43 2023\n",
      "test1 2  printing 4 Mon Jun 19 12:15:43 2023\n",
      "test1 0  printing 5 Mon Jun 19 12:15:44 2023\n",
      "test1 1  printing 5 Mon Jun 19 12:15:44 2023\n",
      "test1 2  printing 5 Mon Jun 19 12:15:44 2023\n",
      "test1 0  printing 6 Mon Jun 19 12:15:45 2023\n",
      "test1 1  printing 6 Mon Jun 19 12:15:45 2023\n",
      "test1 2  printing 6 Mon Jun 19 12:15:45 2023\n",
      "test1 0  printing 7 Mon Jun 19 12:15:46 2023\n",
      "test1 1  printing 7 Mon Jun 19 12:15:46 2023\n",
      "test1 2  printing 7 Mon Jun 19 12:15:46 2023\n",
      "test1 0  printing 8 Mon Jun 19 12:15:47 2023\n",
      "test1 1  printing 8 Mon Jun 19 12:15:47 2023\n",
      "test1 2  printing 8 Mon Jun 19 12:15:47 2023\n",
      "test1 0  printing 9 Mon Jun 19 12:15:48 2023\n",
      "test1 1  printing 9 Mon Jun 19 12:15:48 2023\n",
      "test1 2  printing 9 Mon Jun 19 12:15:48 2023\n"
     ]
    }
   ],
   "source": [
    "for t in thread1:\n",
    "    t.start()"
   ]
  },
  {
   "cell_type": "code",
   "execution_count": null,
   "id": "fbc4d8c5-5fcc-4143-802c-30cd60e961ce",
   "metadata": {},
   "outputs": [],
   "source": []
  },
  {
   "cell_type": "code",
   "execution_count": 35,
   "id": "e1f236d2-3a6e-4a38-8294-5a9c8b7a1fcc",
   "metadata": {},
   "outputs": [],
   "source": [
    "import threading\n",
    "import time"
   ]
  },
  {
   "cell_type": "code",
   "execution_count": 38,
   "id": "dee0cebd-c0ad-4613-b541-49bc8c9ea901",
   "metadata": {},
   "outputs": [],
   "source": [
    "def test2(id):\n",
    "    for i in range(10):\n",
    "        print('test2 %d printing %d %s'%(id,i,time.ctime()))\n",
    "        time.sleep(1)"
   ]
  },
  {
   "cell_type": "code",
   "execution_count": 39,
   "id": "b2ac45e5-003d-4534-912c-6ba2c5770d80",
   "metadata": {},
   "outputs": [
    {
     "name": "stdout",
     "output_type": "stream",
     "text": [
      "test2 0 printing 0 Mon Jun 19 12:25:47 2023\n",
      "test2 0 printing 1 Mon Jun 19 12:25:48 2023\n",
      "test2 0 printing 2 Mon Jun 19 12:25:49 2023\n",
      "test2 0 printing 3 Mon Jun 19 12:25:50 2023\n",
      "test2 0 printing 4 Mon Jun 19 12:25:51 2023\n",
      "test2 0 printing 5 Mon Jun 19 12:25:52 2023\n",
      "test2 0 printing 6 Mon Jun 19 12:25:53 2023\n",
      "test2 0 printing 7 Mon Jun 19 12:25:54 2023\n",
      "test2 0 printing 8 Mon Jun 19 12:25:55 2023\n",
      "test2 0 printing 9 Mon Jun 19 12:25:56 2023\n"
     ]
    }
   ],
   "source": [
    "test2(0)"
   ]
  },
  {
   "cell_type": "code",
   "execution_count": 40,
   "id": "81877cc7-9078-4bb8-bd88-15b6c9b55317",
   "metadata": {},
   "outputs": [],
   "source": [
    "thread2 = [threading.Thread(target = test2, args=(i,)) for i in range(3)]"
   ]
  },
  {
   "cell_type": "code",
   "execution_count": 41,
   "id": "1e12aec3-b3f6-45ad-a741-120cd1926106",
   "metadata": {},
   "outputs": [
    {
     "name": "stdout",
     "output_type": "stream",
     "text": [
      "test2 0 printing 0 Mon Jun 19 12:27:26 2023\n",
      "test2 1 printing 0 Mon Jun 19 12:27:26 2023\n",
      "test2 2 printing 0 Mon Jun 19 12:27:26 2023\n",
      "test2 0 printing 1 Mon Jun 19 12:27:27 2023\n",
      "test2 1 printing 1 Mon Jun 19 12:27:27 2023\n",
      "test2 2 printing 1 Mon Jun 19 12:27:27 2023\n",
      "test2 0 printing 2 Mon Jun 19 12:27:28 2023\n",
      "test2 1 printing 2 Mon Jun 19 12:27:28 2023\n",
      "test2 2 printing 2 Mon Jun 19 12:27:28 2023\n",
      "test2 0 printing 3 Mon Jun 19 12:27:29 2023\n",
      "test2 2 printing 3 Mon Jun 19 12:27:29 2023\n",
      "test2 1 printing 3 Mon Jun 19 12:27:29 2023\n",
      "test2 0 printing 4 Mon Jun 19 12:27:30 2023\n",
      "test2 2 printing 4 Mon Jun 19 12:27:30 2023\n",
      "test2 1 printing 4 Mon Jun 19 12:27:30 2023\n",
      "test2 0 printing 5 Mon Jun 19 12:27:31 2023\n",
      "test2 2 printing 5 Mon Jun 19 12:27:31 2023\n",
      "test2 1 printing 5 Mon Jun 19 12:27:31 2023\n",
      "test2 0 printing 6 Mon Jun 19 12:27:32 2023\n",
      "test2 1 printing 6 Mon Jun 19 12:27:32 2023\n",
      "test2 2 printing 6 Mon Jun 19 12:27:32 2023\n",
      "test2 0 printing 7 Mon Jun 19 12:27:33 2023\n",
      "test2 1 printing 7 Mon Jun 19 12:27:33 2023\n",
      "test2 2 printing 7 Mon Jun 19 12:27:33 2023\n",
      "test2 0 printing 8 Mon Jun 19 12:27:34 2023\n",
      "test2 1 printing 8 Mon Jun 19 12:27:34 2023\n",
      "test2 2 printing 8 Mon Jun 19 12:27:34 2023\n",
      "test2 0 printing 9 Mon Jun 19 12:27:35 2023\n",
      "test2 1 printing 9 Mon Jun 19 12:27:35 2023\n",
      "test2 2 printing 9 Mon Jun 19 12:27:35 2023\n"
     ]
    }
   ],
   "source": [
    "for t in thread2 :\n",
    "    t.start()\n",
    "    "
   ]
  },
  {
   "cell_type": "code",
   "execution_count": null,
   "id": "81ede521-31d4-4b5b-abff-f3026ab86142",
   "metadata": {},
   "outputs": [],
   "source": []
  },
  {
   "cell_type": "code",
   "execution_count": 42,
   "id": "de86f795-7888-4bba-9e51-638d79c496e3",
   "metadata": {},
   "outputs": [],
   "source": [
    "shared_var = 0\n",
    "lock_var = threading.Lock()"
   ]
  },
  {
   "cell_type": "code",
   "execution_count": 43,
   "id": "69b921e5-5b1c-41c3-9b58-3a86ffcf2428",
   "metadata": {},
   "outputs": [],
   "source": [
    "def test3(id):\n",
    "    global shared_var\n",
    "    with lock_var:\n",
    "        shared_var = shared_var+1\n",
    "        print('test3 %d has increased the shared_var by %d'%(id,shared_var))\n",
    "        time.sleep(1)"
   ]
  },
  {
   "cell_type": "code",
   "execution_count": 44,
   "id": "7edcc1d6-7393-48ce-b4c4-c08288c39fae",
   "metadata": {},
   "outputs": [
    {
     "name": "stdout",
     "output_type": "stream",
     "text": [
      "test3 0 has increased the shared_var by 1\n"
     ]
    }
   ],
   "source": [
    "test3(0)"
   ]
  },
  {
   "cell_type": "code",
   "execution_count": 45,
   "id": "06524a08-e94a-4849-86f0-72ea3a3999cf",
   "metadata": {},
   "outputs": [],
   "source": [
    "ther3 = [threading.Thread(target = test3, args = (i,)) for i in range(3)]"
   ]
  },
  {
   "cell_type": "code",
   "execution_count": 46,
   "id": "4f9a3d5a-1889-444c-8cb0-5b77748408ab",
   "metadata": {},
   "outputs": [
    {
     "name": "stdout",
     "output_type": "stream",
     "text": [
      "test3 0 has increased the shared_var by 2\n",
      "test3 1 has increased the shared_var by 3\n",
      "test3 2 has increased the shared_var by 4\n"
     ]
    }
   ],
   "source": [
    "for t in ther3:\n",
    "    t.start()"
   ]
  },
  {
   "cell_type": "code",
   "execution_count": null,
   "id": "18fcdb6e-6446-4146-adb3-8a4e72be2e8d",
   "metadata": {},
   "outputs": [],
   "source": []
  }
 ],
 "metadata": {
  "kernelspec": {
   "display_name": "Python 3 (ipykernel)",
   "language": "python",
   "name": "python3"
  },
  "language_info": {
   "codemirror_mode": {
    "name": "ipython",
    "version": 3
   },
   "file_extension": ".py",
   "mimetype": "text/x-python",
   "name": "python",
   "nbconvert_exporter": "python",
   "pygments_lexer": "ipython3",
   "version": "3.10.8"
  }
 },
 "nbformat": 4,
 "nbformat_minor": 5
}
