{
 "cells": [
  {
   "cell_type": "code",
   "execution_count": 1,
   "id": "19f2faaf-01b3-433e-b032-58758e2eb38d",
   "metadata": {},
   "outputs": [
    {
     "name": "stdout",
     "output_type": "stream",
     "text": [
      "division by zero\n"
     ]
    }
   ],
   "source": [
    "#use always specific exception\n",
    "try:\n",
    "    10/0\n",
    "except ZeroDivisionError as e :\n",
    "    print(e)"
   ]
  },
  {
   "cell_type": "code",
   "execution_count": 2,
   "id": "2567d67a-9429-451b-b01d-a8d167ef5394",
   "metadata": {},
   "outputs": [
    {
     "name": "stdout",
     "output_type": "stream",
     "text": [
      "this is error of zerodivisionerror  division by zero\n"
     ]
    }
   ],
   "source": [
    "#give write mesage\n",
    "try:\n",
    "    10/0\n",
    "except ZeroDivisionError as e :\n",
    "    print('this is error of zerodivisionerror ' , e)"
   ]
  },
  {
   "cell_type": "code",
   "execution_count": 9,
   "id": "b58814e9-558d-454e-8740-7f7e7baf2392",
   "metadata": {},
   "outputs": [],
   "source": [
    "#always try to log your error\n",
    "import logging\n",
    "logging.basicConfig(filename = 'ram.txt', level = logging.ERROR )\n",
    "\n",
    "try:\n",
    "    10/0\n",
    "except ZeroDivisionError as e :\n",
    "    logging.info('this is error of zerodivisionerror {}' , format(e))"
   ]
  },
  {
   "cell_type": "code",
   "execution_count": null,
   "id": "5a8fc692-3474-4b36-8ce3-8e161bf0b4d3",
   "metadata": {},
   "outputs": [],
   "source": []
  }
 ],
 "metadata": {
  "kernelspec": {
   "display_name": "Python 3 (ipykernel)",
   "language": "python",
   "name": "python3"
  },
  "language_info": {
   "codemirror_mode": {
    "name": "ipython",
    "version": 3
   },
   "file_extension": ".py",
   "mimetype": "text/x-python",
   "name": "python",
   "nbconvert_exporter": "python",
   "pygments_lexer": "ipython3",
   "version": "3.10.8"
  }
 },
 "nbformat": 4,
 "nbformat_minor": 5
}
