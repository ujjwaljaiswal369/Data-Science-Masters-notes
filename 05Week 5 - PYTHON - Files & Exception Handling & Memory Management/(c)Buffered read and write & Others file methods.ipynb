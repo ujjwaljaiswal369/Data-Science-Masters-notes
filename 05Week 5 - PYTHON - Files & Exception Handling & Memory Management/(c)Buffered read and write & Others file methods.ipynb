{
 "cells": [
  {
   "cell_type": "code",
   "execution_count": 3,
   "id": "4226d6a0-a3e3-431d-a193-481702114ca9",
   "metadata": {},
   "outputs": [],
   "source": [
    "import io"
   ]
  },
  {
   "cell_type": "code",
   "execution_count": 7,
   "id": "7a6238c7-c2f7-4294-b398-055788b7e7eb",
   "metadata": {},
   "outputs": [],
   "source": [
    "with open('ujjwal.bin', 'wb') as f :\n",
    "    file = io.BufferedWriter(f)\n",
    "    \n",
    "    file.write(b'Shree_Ram is mine\\n')\n",
    "    file.write(b'Ujjwal is good boy\\n')\n",
    "    file.flush()"
   ]
  },
  {
   "cell_type": "code",
   "execution_count": 8,
   "id": "bbd4b12f-7abe-4f59-9a02-6d86e773e9db",
   "metadata": {},
   "outputs": [
    {
     "name": "stdout",
     "output_type": "stream",
     "text": [
      "b'Shree_Ram is mine\\nUjjwal is good boy\\n'\n"
     ]
    }
   ],
   "source": [
    "with open('ujjwal.bin', 'rb') as f :\n",
    "    file = io.BufferedReader(f)\n",
    "    \n",
    "    print(file.read())"
   ]
  },
  {
   "cell_type": "code",
   "execution_count": null,
   "id": "3f2b50e3-5d66-465c-9bc5-53cada1e2fa7",
   "metadata": {},
   "outputs": [],
   "source": []
  }
 ],
 "metadata": {
  "kernelspec": {
   "display_name": "Python 3 (ipykernel)",
   "language": "python",
   "name": "python3"
  },
  "language_info": {
   "codemirror_mode": {
    "name": "ipython",
    "version": 3
   },
   "file_extension": ".py",
   "mimetype": "text/x-python",
   "name": "python",
   "nbconvert_exporter": "python",
   "pygments_lexer": "ipython3",
   "version": "3.10.8"
  }
 },
 "nbformat": 4,
 "nbformat_minor": 5
}
