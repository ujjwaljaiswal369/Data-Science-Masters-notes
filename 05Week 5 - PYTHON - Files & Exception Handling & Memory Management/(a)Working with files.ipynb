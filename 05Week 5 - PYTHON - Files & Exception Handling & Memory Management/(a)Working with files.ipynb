{
 "cells": [
  {
   "cell_type": "code",
   "execution_count": 1,
   "id": "670f69ad-bd35-4ea4-b47d-906401428617",
   "metadata": {},
   "outputs": [],
   "source": [
    "f = open('test.txt', 'w')"
   ]
  },
  {
   "cell_type": "code",
   "execution_count": 2,
   "id": "e86cf10c-a913-4d34-8314-cd545800c6e0",
   "metadata": {},
   "outputs": [
    {
     "data": {
      "text/plain": [
       "'/home/jovyan/work'"
      ]
     },
     "execution_count": 2,
     "metadata": {},
     "output_type": "execute_result"
    }
   ],
   "source": [
    "pwd"
   ]
  },
  {
   "cell_type": "code",
   "execution_count": 3,
   "id": "80b62f71-e497-4e71-b4ab-02e8925b99d3",
   "metadata": {},
   "outputs": [
    {
     "name": "stdout",
     "output_type": "stream",
     "text": [
      "'01Working with files.ipynb'   test.txt\n",
      " README.md                    'Working With Files Hindi.ipynb'\n",
      " sample-code.ipynb\n"
     ]
    }
   ],
   "source": [
    "ls"
   ]
  },
  {
   "cell_type": "code",
   "execution_count": 4,
   "id": "079524e5-03eb-40db-89dd-28c33aa74b3c",
   "metadata": {},
   "outputs": [
    {
     "name": "stdout",
     "output_type": "stream",
     "text": [
      "[Errno 2] No such file or directory: 'work'\n",
      "/home/jovyan/work\n"
     ]
    }
   ],
   "source": [
    "cd work"
   ]
  },
  {
   "cell_type": "code",
   "execution_count": 6,
   "id": "f367e2b0-a121-4c16-8a8f-f8f6e5dab40d",
   "metadata": {},
   "outputs": [
    {
     "data": {
      "text/plain": [
       "21"
      ]
     },
     "execution_count": 6,
     "metadata": {},
     "output_type": "execute_result"
    }
   ],
   "source": [
    "f.write('This is my first file')"
   ]
  },
  {
   "cell_type": "code",
   "execution_count": 10,
   "id": "fa1b2871-a9b0-4245-9955-822f86652c19",
   "metadata": {},
   "outputs": [],
   "source": [
    "f.close()"
   ]
  },
  {
   "cell_type": "code",
   "execution_count": 63,
   "id": "0ad1f581-e824-408e-84a9-ce9ba7b738b2",
   "metadata": {},
   "outputs": [],
   "source": [
    "f = open('test.txt', 'w')"
   ]
  },
  {
   "cell_type": "code",
   "execution_count": 64,
   "id": "f184b5de-074c-41a6-8604-d96cf0d4351a",
   "metadata": {},
   "outputs": [
    {
     "data": {
      "text/plain": [
       "21"
      ]
     },
     "execution_count": 64,
     "metadata": {},
     "output_type": "execute_result"
    }
   ],
   "source": [
    "f.write('Now here this is file')"
   ]
  },
  {
   "cell_type": "code",
   "execution_count": 65,
   "id": "9ebdd923-1bef-407b-aeb1-b8a83547e0e1",
   "metadata": {},
   "outputs": [],
   "source": [
    "f.close()"
   ]
  },
  {
   "cell_type": "code",
   "execution_count": 66,
   "id": "fe5e91fe-9f82-4574-9737-b3a78641c272",
   "metadata": {},
   "outputs": [],
   "source": [
    "f = open('test.txt', 'a')"
   ]
  },
  {
   "cell_type": "code",
   "execution_count": 67,
   "id": "e0f94614-1a5f-4cd9-8ade-c125801432e8",
   "metadata": {},
   "outputs": [
    {
     "data": {
      "text/plain": [
       "44"
      ]
     },
     "execution_count": 67,
     "metadata": {},
     "output_type": "execute_result"
    }
   ],
   "source": [
    "f.write(' and i am glad to say that i started coding ')"
   ]
  },
  {
   "cell_type": "code",
   "execution_count": 68,
   "id": "f148e42f-5767-4e3a-8863-cf0d711baa32",
   "metadata": {},
   "outputs": [],
   "source": [
    "f.close()"
   ]
  },
  {
   "cell_type": "code",
   "execution_count": 73,
   "id": "d6c32fca-8d91-4968-b540-3ca9fcef6562",
   "metadata": {},
   "outputs": [],
   "source": [
    "f = open('test.txt', 'a')"
   ]
  },
  {
   "cell_type": "code",
   "execution_count": 74,
   "id": "f0444f85-b6b2-437e-9356-a425429c09ba",
   "metadata": {},
   "outputs": [
    {
     "data": {
      "text/plain": [
       "14"
      ]
     },
     "execution_count": 74,
     "metadata": {},
     "output_type": "execute_result"
    }
   ],
   "source": [
    "f.write(' how are you ?')"
   ]
  },
  {
   "cell_type": "code",
   "execution_count": 75,
   "id": "bf691e29-91dd-4ab9-abea-2dba699690be",
   "metadata": {},
   "outputs": [],
   "source": [
    "f.close()"
   ]
  },
  {
   "cell_type": "code",
   "execution_count": 96,
   "id": "a628160e-931c-4cc4-8294-eeea06d014bf",
   "metadata": {},
   "outputs": [],
   "source": [
    "f = open('test.txt', 'w')"
   ]
  },
  {
   "cell_type": "code",
   "execution_count": 97,
   "id": "58d582cd-98ef-4279-9bd8-6d621927c11c",
   "metadata": {},
   "outputs": [
    {
     "data": {
      "text/plain": [
       "188"
      ]
     },
     "execution_count": 97,
     "metadata": {},
     "output_type": "execute_result"
    }
   ],
   "source": [
    "f.write(''' Shri guru charan saroj raj neej manu mukur sudhari Baranu raghubar bimal jasu jo dayaku phal chari Buddhi heen tanu janike sumero pavan kumar Bal buddhi bidya deu mohi harau kales bikar ॥''')"
   ]
  },
  {
   "cell_type": "code",
   "execution_count": 98,
   "id": "d1164d46-c3fb-42f5-9645-a523202e55d0",
   "metadata": {},
   "outputs": [],
   "source": [
    "f.close()"
   ]
  },
  {
   "cell_type": "code",
   "execution_count": 99,
   "id": "85cde100-732f-45e7-b3ec-8f3b11eefd8a",
   "metadata": {},
   "outputs": [],
   "source": [
    "f = open('test.txt', 'r')"
   ]
  },
  {
   "cell_type": "code",
   "execution_count": 100,
   "id": "1fb18b5b-d3b3-450c-adaa-8bf8e0cb9041",
   "metadata": {},
   "outputs": [
    {
     "data": {
      "text/plain": [
       "' Shri guru charan saroj raj neej manu mukur sudhari Baranu raghubar bimal jasu jo dayaku phal chari Buddhi heen tanu janike sumero pavan kumar Bal buddhi bidya deu mohi harau kales bikar ॥'"
      ]
     },
     "execution_count": 100,
     "metadata": {},
     "output_type": "execute_result"
    }
   ],
   "source": [
    "f.read()"
   ]
  },
  {
   "cell_type": "code",
   "execution_count": 101,
   "id": "f8937e38-ac5b-4101-981a-9b0fe73e766a",
   "metadata": {},
   "outputs": [
    {
     "data": {
      "text/plain": [
       "0"
      ]
     },
     "execution_count": 101,
     "metadata": {},
     "output_type": "execute_result"
    }
   ],
   "source": [
    "f.seek(0)"
   ]
  },
  {
   "cell_type": "code",
   "execution_count": 102,
   "id": "5f8420f7-4c3d-4b72-bf5a-75a295377381",
   "metadata": {},
   "outputs": [
    {
     "data": {
      "text/plain": [
       "' Shri guru charan saroj raj neej manu mukur sudhari Baranu raghubar bimal jasu jo dayaku phal chari Buddhi heen tanu janike sumero pavan kumar Bal buddhi bidya deu mohi harau kales bikar ॥'"
      ]
     },
     "execution_count": 102,
     "metadata": {},
     "output_type": "execute_result"
    }
   ],
   "source": [
    "f.readline()"
   ]
  },
  {
   "cell_type": "code",
   "execution_count": 103,
   "id": "b3529b74-f0c1-48fb-99f4-25a77583f6e8",
   "metadata": {},
   "outputs": [],
   "source": [
    "f = open('test.txt', 'r')"
   ]
  },
  {
   "cell_type": "code",
   "execution_count": 104,
   "id": "53103869-eb5d-408f-9919-64928db74cf2",
   "metadata": {},
   "outputs": [
    {
     "name": "stdout",
     "output_type": "stream",
     "text": [
      " Shri guru charan saroj raj neej manu mukur sudhari Baranu raghubar bimal jasu jo dayaku phal chari Buddhi heen tanu janike sumero pavan kumar Bal buddhi bidya deu mohi harau kales bikar ॥\n"
     ]
    }
   ],
   "source": [
    "for i in f :\n",
    "    print(i)"
   ]
  },
  {
   "cell_type": "code",
   "execution_count": 105,
   "id": "e111f284-f13f-4234-b698-320fe4170719",
   "metadata": {},
   "outputs": [],
   "source": [
    "import os "
   ]
  },
  {
   "cell_type": "code",
   "execution_count": 108,
   "id": "a0893a01-defe-446b-81f9-299a855a5587",
   "metadata": {},
   "outputs": [
    {
     "data": {
      "text/plain": [
       "190"
      ]
     },
     "execution_count": 108,
     "metadata": {},
     "output_type": "execute_result"
    }
   ],
   "source": [
    "os.path.getsize('test.txt')"
   ]
  },
  {
   "cell_type": "code",
   "execution_count": 110,
   "id": "6ecb614a-9f6d-4e21-8125-78c7852705af",
   "metadata": {},
   "outputs": [],
   "source": [
    "os.remove('test.txt')"
   ]
  },
  {
   "cell_type": "code",
   "execution_count": 111,
   "id": "f4ca0104-c26b-4f04-9219-2495bfaf1ffd",
   "metadata": {},
   "outputs": [],
   "source": [
    "f = open('test1.txt', 'w')"
   ]
  },
  {
   "cell_type": "code",
   "execution_count": 112,
   "id": "555fc022-bca4-44e7-9015-3ad9762bd26f",
   "metadata": {},
   "outputs": [
    {
     "data": {
      "text/plain": [
       "191"
      ]
     },
     "execution_count": 112,
     "metadata": {},
     "output_type": "execute_result"
    }
   ],
   "source": [
    "f.write('Shri guru charan saroj raj neej manu mukur sudhari । Baranu raghubar bimal jasu jo dayaku phal chari ॥ Buddhi heen tanu janike sumero pavan kumar । Bal buddhi bidya deu mohi harau kales bikar')"
   ]
  },
  {
   "cell_type": "code",
   "execution_count": 113,
   "id": "84978e05-ee9c-46ce-a0b4-c458841103f4",
   "metadata": {},
   "outputs": [],
   "source": [
    "f.close()"
   ]
  },
  {
   "cell_type": "code",
   "execution_count": 114,
   "id": "5f65afab-6915-4c34-bdc1-4412b5b55add",
   "metadata": {},
   "outputs": [],
   "source": [
    "os.rename('test1.txt', 'ujjwal.txt')"
   ]
  },
  {
   "cell_type": "code",
   "execution_count": 115,
   "id": "b3e68885-a56c-49c2-b97d-29b0a63d9b58",
   "metadata": {},
   "outputs": [],
   "source": [
    "import shutil"
   ]
  },
  {
   "cell_type": "code",
   "execution_count": 116,
   "id": "b3cf196f-8688-4438-8fcc-56a303817680",
   "metadata": {},
   "outputs": [
    {
     "data": {
      "text/plain": [
       "'ram_ji.txt'"
      ]
     },
     "execution_count": 116,
     "metadata": {},
     "output_type": "execute_result"
    }
   ],
   "source": [
    "shutil.copy('ujjwal.txt', 'ram_ji.txt')"
   ]
  },
  {
   "cell_type": "code",
   "execution_count": 117,
   "id": "20554b25-3aa9-483a-ab18-78c40240e79a",
   "metadata": {},
   "outputs": [
    {
     "name": "stdout",
     "output_type": "stream",
     "text": [
      "Shri guru charan saroj raj neej manu mukur sudhari । Baranu raghubar bimal jasu jo dayaku phal chari ॥ Buddhi heen tanu janike sumero pavan kumar । Bal buddhi bidya deu mohi harau kales bikar\n"
     ]
    }
   ],
   "source": [
    "with open('ram_ji.txt', 'r') as f :\n",
    "    print(f.read())\n",
    "    "
   ]
  },
  {
   "cell_type": "code",
   "execution_count": null,
   "id": "86b591a8-0a6d-4fa4-a8d6-a278caa696b2",
   "metadata": {},
   "outputs": [],
   "source": []
  }
 ],
 "metadata": {
  "kernelspec": {
   "display_name": "Python 3 (ipykernel)",
   "language": "python",
   "name": "python3"
  },
  "language_info": {
   "codemirror_mode": {
    "name": "ipython",
    "version": 3
   },
   "file_extension": ".py",
   "mimetype": "text/x-python",
   "name": "python",
   "nbconvert_exporter": "python",
   "pygments_lexer": "ipython3",
   "version": "3.10.8"
  }
 },
 "nbformat": 4,
 "nbformat_minor": 5
}
