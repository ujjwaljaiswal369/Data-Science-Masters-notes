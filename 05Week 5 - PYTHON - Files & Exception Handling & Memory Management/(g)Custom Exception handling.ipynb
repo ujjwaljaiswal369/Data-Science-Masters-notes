{
 "cells": [
  {
   "cell_type": "code",
   "execution_count": 16,
   "id": "531c19a5-f5d7-4f9c-9ed7-30f00a5cf509",
   "metadata": {},
   "outputs": [
    {
     "name": "stdin",
     "output_type": "stream",
     "text": [
      "Enter your age 123\n"
     ]
    }
   ],
   "source": [
    "age = int(input('Enter your age'))"
   ]
  },
  {
   "cell_type": "code",
   "execution_count": 22,
   "id": "46dea220-d33a-40b6-b04b-c34aa469c44a",
   "metadata": {},
   "outputs": [],
   "source": [
    "class age(Exception):\n",
    "    \n",
    "    def __init__(self, msg):\n",
    "        self.msg = msg"
   ]
  },
  {
   "cell_type": "code",
   "execution_count": 23,
   "id": "fa8197c7-780c-4388-80cf-61cf22680b47",
   "metadata": {},
   "outputs": [],
   "source": [
    "def age_check(age):\n",
    "    if age < 0 :\n",
    "        raise age('age is negative')\n",
    "    elif age > 200 :\n",
    "        raise age('age is soo greater')\n",
    "    else:\n",
    "        print('age is valid')"
   ]
  },
  {
   "cell_type": "code",
   "execution_count": 24,
   "id": "a8ea8fbb-8de4-4fc9-9b9a-da48ef266099",
   "metadata": {},
   "outputs": [
    {
     "name": "stdin",
     "output_type": "stream",
     "text": [
      "Enter your age 100\n"
     ]
    },
    {
     "name": "stdout",
     "output_type": "stream",
     "text": [
      "age is valid\n"
     ]
    }
   ],
   "source": [
    "try :\n",
    "    age = int(input('Enter your age'))\n",
    "    age_check(age)\n",
    "except age as e :\n",
    "    print(e)"
   ]
  },
  {
   "cell_type": "code",
   "execution_count": null,
   "id": "18aa8a23-c79d-4ea3-a56c-20721b9bf9d5",
   "metadata": {},
   "outputs": [],
   "source": []
  }
 ],
 "metadata": {
  "kernelspec": {
   "display_name": "Python 3 (ipykernel)",
   "language": "python",
   "name": "python3"
  },
  "language_info": {
   "codemirror_mode": {
    "name": "ipython",
    "version": 3
   },
   "file_extension": ".py",
   "mimetype": "text/x-python",
   "name": "python",
   "nbconvert_exporter": "python",
   "pygments_lexer": "ipython3",
   "version": "3.10.8"
  }
 },
 "nbformat": 4,
 "nbformat_minor": 5
}
