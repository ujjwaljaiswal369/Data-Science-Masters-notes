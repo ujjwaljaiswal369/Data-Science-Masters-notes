{
 "cells": [
  {
   "cell_type": "code",
   "execution_count": 2,
   "id": "4f7f3767-a281-4a7e-9831-fced6d757761",
   "metadata": {
    "tags": []
   },
   "outputs": [
    {
     "name": "stdout",
     "output_type": "stream",
     "text": [
      "division by zero\n"
     ]
    }
   ],
   "source": [
    "try:\n",
    "    10/0\n",
    "except ZeroDivisionError as e:\n",
    "    print(e)"
   ]
  },
  {
   "cell_type": "code",
   "execution_count": 3,
   "id": "031d6f1d-8f33-464a-bb75-cdf87c29900c",
   "metadata": {},
   "outputs": [
    {
     "name": "stdout",
     "output_type": "stream",
     "text": [
      "invalid literal for int() with base 10: 'ujjwal'\n"
     ]
    }
   ],
   "source": [
    "try:\n",
    "    int('ujjwal')\n",
    "except (TypeError, ValueError) as e:\n",
    "    print(e)"
   ]
  },
  {
   "cell_type": "code",
   "execution_count": 4,
   "id": "93023c7b-55f3-4884-a261-9973c9b8c572",
   "metadata": {},
   "outputs": [
    {
     "name": "stdout",
     "output_type": "stream",
     "text": [
      "this is error\n"
     ]
    }
   ],
   "source": [
    "try:\n",
    "    int('ujju')\n",
    "except:\n",
    "    print('this is error')"
   ]
  },
  {
   "cell_type": "code",
   "execution_count": 5,
   "id": "b9667f52-a574-40a7-9155-173468be37a4",
   "metadata": {},
   "outputs": [
    {
     "name": "stdout",
     "output_type": "stream",
     "text": [
      "No module named 'ujjwal'\n"
     ]
    }
   ],
   "source": [
    "try:\n",
    "    import ujjwal\n",
    "except ImportError as e:\n",
    "    print(e)"
   ]
  },
  {
   "cell_type": "code",
   "execution_count": 2,
   "id": "049969c4-b1d1-45f7-8b6c-9d3d471f7858",
   "metadata": {},
   "outputs": [
    {
     "name": "stdout",
     "output_type": "stream",
     "text": [
      "'key2'\n"
     ]
    }
   ],
   "source": [
    "try:\n",
    "    d = {'key': 'ujju' , 12 : 666}\n",
    "    print(d['key2'])\n",
    "except KeyError as e:\n",
    "    print(e)\n"
   ]
  },
  {
   "cell_type": "code",
   "execution_count": 3,
   "id": "b98a8e29-efdf-4d75-89b2-d20d49203ddd",
   "metadata": {},
   "outputs": [
    {
     "name": "stdout",
     "output_type": "stream",
     "text": [
      "'str' object has no attribute 'test'\n"
     ]
    }
   ],
   "source": [
    "try:\n",
    "    'sudh'.test()\n",
    "except AttributeError as e:\n",
    "    print(e)"
   ]
  },
  {
   "cell_type": "code",
   "execution_count": 4,
   "id": "265129e2-c66c-4966-b22a-0f49b7b80e32",
   "metadata": {},
   "outputs": [
    {
     "name": "stdout",
     "output_type": "stream",
     "text": [
      "list index out of range\n"
     ]
    }
   ],
   "source": [
    "try:\n",
    "    l = [1,2,3,4,5]\n",
    "    print(l[6])\n",
    "except IndexError as e:\n",
    "    print(e)"
   ]
  },
  {
   "cell_type": "code",
   "execution_count": 16,
   "id": "0bc1b250-4cd3-4fc1-84b1-3a8b4c72a633",
   "metadata": {},
   "outputs": [
    {
     "name": "stdout",
     "output_type": "stream",
     "text": [
      "unsupported operand type(s) for +: 'int' and 'str'\n"
     ]
    }
   ],
   "source": [
    "try:\n",
    "    123 + 'ujju'\n",
    "except TypeError as e:\n",
    "    print(e)"
   ]
  },
  {
   "cell_type": "code",
   "execution_count": 7,
   "id": "f3279df8-9f49-4c89-81a8-5856d69751bf",
   "metadata": {},
   "outputs": [
    {
     "name": "stdout",
     "output_type": "stream",
     "text": [
      "this is error [Errno 2] No such file or directory: 'test.txt'\n"
     ]
    }
   ],
   "source": [
    "try:\n",
    "    with open('test.txt', 'r') as f:\n",
    "        a = f.read()\n",
    "except FileNotFoundError as e :\n",
    "    print('this is error',e)\n",
    "    "
   ]
  },
  {
   "cell_type": "code",
   "execution_count": 10,
   "id": "b76348db-38cf-40ef-8e17-6209ecd6fca6",
   "metadata": {},
   "outputs": [
    {
     "name": "stdout",
     "output_type": "stream",
     "text": [
      "name 'f' is not defined\n"
     ]
    }
   ],
   "source": [
    "try:\n",
    "    with open('test1.txt', 'w') as e :\n",
    "        b = f.write()\n",
    "except Exception as e :\n",
    "    print(e)"
   ]
  },
  {
   "cell_type": "code",
   "execution_count": 1,
   "id": "ca1a4bf7-1bb1-42d9-bd5e-df76ed99f9f5",
   "metadata": {},
   "outputs": [],
   "source": [
    "def test3():\n",
    "    try:\n",
    "        import logging\n",
    "        logging.basicConfig(filename = 'ujjwal')\n",
    "    except ImportError as e:\n",
    "        print(e)"
   ]
  },
  {
   "cell_type": "code",
   "execution_count": null,
   "id": "b4d8c3bd-4e94-4e41-badb-daa5464492bd",
   "metadata": {},
   "outputs": [],
   "source": []
  }
 ],
 "metadata": {
  "kernelspec": {
   "display_name": "Python 3 (ipykernel)",
   "language": "python",
   "name": "python3"
  },
  "language_info": {
   "codemirror_mode": {
    "name": "ipython",
    "version": 3
   },
   "file_extension": ".py",
   "mimetype": "text/x-python",
   "name": "python",
   "nbconvert_exporter": "python",
   "pygments_lexer": "ipython3",
   "version": "3.10.8"
  }
 },
 "nbformat": 4,
 "nbformat_minor": 5
}
