{
 "cells": [
  {
   "cell_type": "code",
   "execution_count": 1,
   "id": "94a3e16f-0e54-45a0-b95b-33dd340d6f04",
   "metadata": {},
   "outputs": [],
   "source": [
    "import logging"
   ]
  },
  {
   "cell_type": "code",
   "execution_count": 2,
   "id": "8893fd9a-7856-4587-8937-9259b154b708",
   "metadata": {},
   "outputs": [],
   "source": [
    "logging.basicConfig(filename = 'Shree_Ram', level = logging.INFO)"
   ]
  },
  {
   "cell_type": "code",
   "execution_count": 3,
   "id": "e57a3b95-0703-4bca-8187-5fd4e120a76e",
   "metadata": {},
   "outputs": [],
   "source": [
    "logging.info('jai shree ram')"
   ]
  },
  {
   "cell_type": "code",
   "execution_count": 4,
   "id": "3cafe50d-172f-4689-a7f7-5c0de6578752",
   "metadata": {},
   "outputs": [],
   "source": [
    "logging.info(' Shree ram is the owner of milkyway')"
   ]
  },
  {
   "cell_type": "code",
   "execution_count": 5,
   "id": "7454c164-1b75-4a23-b7c2-25dc1740a28d",
   "metadata": {},
   "outputs": [],
   "source": [
    "logging.warning(\"Don't do sins\")"
   ]
  },
  {
   "cell_type": "code",
   "execution_count": 6,
   "id": "7667016b-df1c-416c-b4c5-95b0e7e8f242",
   "metadata": {},
   "outputs": [],
   "source": [
    "logging.error('this is error')"
   ]
  },
  {
   "cell_type": "code",
   "execution_count": 7,
   "id": "b3cb08d7-140d-4ae0-a0c4-97aa0104d365",
   "metadata": {},
   "outputs": [],
   "source": [
    "logging.critical('data science is not critical as you think')"
   ]
  },
  {
   "cell_type": "code",
   "execution_count": 8,
   "id": "80a70f93-c39b-48d5-adbc-f40054ecf925",
   "metadata": {},
   "outputs": [],
   "source": [
    "logging.shutdown()"
   ]
  },
  {
   "cell_type": "code",
   "execution_count": 9,
   "id": "c447e46b-9343-41be-992b-8d53e0da9459",
   "metadata": {},
   "outputs": [
    {
     "ename": "SyntaxError",
     "evalue": "invalid decimal literal (4281891514.py, line 2)",
     "output_type": "error",
     "traceback": [
      "\u001b[0;36m  Cell \u001b[0;32mIn[9], line 2\u001b[0;36m\u001b[0m\n\u001b[0;31m    1.NOTSET\u001b[0m\n\u001b[0m     ^\u001b[0m\n\u001b[0;31mSyntaxError\u001b[0m\u001b[0;31m:\u001b[0m invalid decimal literal\n"
     ]
    }
   ],
   "source": [
    "#types of levels\n",
    "1.NOTSET\n",
    "2.DEBUG\n",
    "3.INFO\n",
    "4.WARNING\n",
    "5.ERROR\n",
    "6.CRITICAL"
   ]
  },
  {
   "cell_type": "code",
   "execution_count": 10,
   "id": "3bef576b-7393-4ae7-84d5-db802dc40b17",
   "metadata": {},
   "outputs": [],
   "source": [
    "import logging"
   ]
  },
  {
   "cell_type": "code",
   "execution_count": 15,
   "id": "a0c528d1-9b8d-4a82-b9f8-6c9cd94b8d2f",
   "metadata": {},
   "outputs": [],
   "source": [
    "logging.basicConfig(filename = 'ram1.log', level = logging.DEBUG , format = '%(asctime)s %(message)s')"
   ]
  },
  {
   "cell_type": "code",
   "execution_count": 16,
   "id": "03d99e01-b95d-4767-8562-c1bc5af8dd1e",
   "metadata": {},
   "outputs": [],
   "source": [
    "logging.info('this is info option')"
   ]
  },
  {
   "cell_type": "code",
   "execution_count": 17,
   "id": "491c1f31-fbde-4a06-bf2d-5f1cf4e8ff80",
   "metadata": {},
   "outputs": [],
   "source": [
    "logging.warning('this is last warning')"
   ]
  },
  {
   "cell_type": "code",
   "execution_count": 18,
   "id": "f5ebbbfe-16d0-4bad-83ce-7dabcea1653f",
   "metadata": {},
   "outputs": [],
   "source": [
    "logging.error('this is an basic error')"
   ]
  },
  {
   "cell_type": "code",
   "execution_count": 19,
   "id": "2531372a-8c60-475e-9bc1-8f757405752a",
   "metadata": {},
   "outputs": [],
   "source": [
    "logging.critical('this is an critical')"
   ]
  },
  {
   "cell_type": "code",
   "execution_count": 20,
   "id": "b02bce38-835a-498a-bc76-a410cb33f4b7",
   "metadata": {},
   "outputs": [],
   "source": [
    "logging.shutdown()"
   ]
  },
  {
   "cell_type": "code",
   "execution_count": 9,
   "id": "b395d82f-0889-405d-b009-4b12b6836157",
   "metadata": {},
   "outputs": [],
   "source": [
    "import logging"
   ]
  },
  {
   "cell_type": "code",
   "execution_count": 10,
   "id": "41d0915b-e3c2-41f3-88e6-6cb96f9627f1",
   "metadata": {},
   "outputs": [],
   "source": [
    "logging.basicConfig(filename = 'ujjwal.log', level = logging.DEBUG, format = '%(asctime)s %(name)s %(message)s ')"
   ]
  },
  {
   "cell_type": "code",
   "execution_count": 11,
   "id": "ffcf6b6e-55f8-43a6-aafe-850cafc59ca7",
   "metadata": {},
   "outputs": [],
   "source": [
    "logging.info('today is weather day')"
   ]
  },
  {
   "cell_type": "code",
   "execution_count": 12,
   "id": "25b1ec4d-fdb6-42bc-b7e2-decd9be24d4d",
   "metadata": {},
   "outputs": [],
   "source": [
    "logging.error('i got an error')"
   ]
  },
  {
   "cell_type": "code",
   "execution_count": 13,
   "id": "289a8f5e-257f-40f1-aec6-59492d1b51e6",
   "metadata": {},
   "outputs": [],
   "source": [
    "logging.critical('i am not critical')"
   ]
  },
  {
   "cell_type": "code",
   "execution_count": 14,
   "id": "bdd07bc6-ff44-4701-bab5-8e148fb4c1c4",
   "metadata": {},
   "outputs": [],
   "source": [
    "l = [1,2,3,4,5,[12,23,45], 'ujjwal', 'shree_ram' ]"
   ]
  },
  {
   "cell_type": "code",
   "execution_count": 15,
   "id": "a3d98df9-8f50-4a3e-9409-2aeb8f395aa5",
   "metadata": {},
   "outputs": [
    {
     "data": {
      "text/plain": [
       "[1, 2, 3, 4, 5, [12, 23, 45], 'ujjwal', 'shree_ram']"
      ]
     },
     "execution_count": 15,
     "metadata": {},
     "output_type": "execute_result"
    }
   ],
   "source": [
    "l"
   ]
  },
  {
   "cell_type": "code",
   "execution_count": 22,
   "id": "b011b6b1-98b0-4348-b282-1ab007a64a47",
   "metadata": {},
   "outputs": [],
   "source": [
    "l1_int = []\n",
    "l2_str = []\n",
    "\n",
    "for i in l :\n",
    "    logging.info('this is for loop and eterate through l to i')\n",
    "    if type(i) == list:\n",
    "        logging.info('here inside checking type of element in for loop')\n",
    "        for j in i :\n",
    "            logging.info('eterat through i to j')\n",
    "            if type(j) == int :\n",
    "                logging.info('checking type of j of integer')\n",
    "                l1_int.append(j)\n",
    "    \n",
    "    elif type(i) == int:\n",
    "        l1_int.append(i)\n",
    "        \n",
    "    else:\n",
    "        if type(i) == str :\n",
    "            l2_str.append(i)\n",
    "            \n",
    "    logging.info('this is our result {l1} and {l2}'.format(l1= l1_int , l2 = l2_str))"
   ]
  },
  {
   "cell_type": "code",
   "execution_count": 17,
   "id": "c2bd390a-cdda-4e93-bdba-d15d54ac8ce9",
   "metadata": {},
   "outputs": [
    {
     "data": {
      "text/plain": [
       "[1, 2, 3, 4, 5, 12, 23, 45]"
      ]
     },
     "execution_count": 17,
     "metadata": {},
     "output_type": "execute_result"
    }
   ],
   "source": [
    "l1_int"
   ]
  },
  {
   "cell_type": "code",
   "execution_count": 18,
   "id": "c2d3cbf4-f598-49b9-9634-8d1f140dc939",
   "metadata": {},
   "outputs": [
    {
     "data": {
      "text/plain": [
       "['ujjwal', 'shree_ram']"
      ]
     },
     "execution_count": 18,
     "metadata": {},
     "output_type": "execute_result"
    }
   ],
   "source": [
    "l2_str"
   ]
  },
  {
   "cell_type": "code",
   "execution_count": null,
   "id": "b8962a62-d352-4de6-a9f2-3b191f3fefd3",
   "metadata": {},
   "outputs": [],
   "source": []
  }
 ],
 "metadata": {
  "kernelspec": {
   "display_name": "Python 3 (ipykernel)",
   "language": "python",
   "name": "python3"
  },
  "language_info": {
   "codemirror_mode": {
    "name": "ipython",
    "version": 3
   },
   "file_extension": ".py",
   "mimetype": "text/x-python",
   "name": "python",
   "nbconvert_exporter": "python",
   "pygments_lexer": "ipython3",
   "version": "3.10.8"
  }
 },
 "nbformat": 4,
 "nbformat_minor": 5
}
