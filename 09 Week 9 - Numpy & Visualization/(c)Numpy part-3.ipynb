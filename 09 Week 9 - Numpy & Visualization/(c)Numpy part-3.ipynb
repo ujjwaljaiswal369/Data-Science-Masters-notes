{
 "cells": [
  {
   "cell_type": "code",
   "execution_count": 1,
   "id": "d5dd89a4-c070-4ff8-a90b-9c2bf60b2322",
   "metadata": {},
   "outputs": [],
   "source": [
    "#Sort, Search & Counting Functions."
   ]
  },
  {
   "cell_type": "code",
   "execution_count": 2,
   "id": "f537b150-46cb-4a2f-a7a6-6b3f51dd75e1",
   "metadata": {},
   "outputs": [],
   "source": [
    "import numpy as np"
   ]
  },
  {
   "cell_type": "code",
   "execution_count": 3,
   "id": "299a9323-a76f-4aa3-841b-d4f3bcb2c849",
   "metadata": {},
   "outputs": [],
   "source": [
    "arr = np.array([4,3,4,5,6,72,3,3,455,5,6,6])"
   ]
  },
  {
   "cell_type": "code",
   "execution_count": 4,
   "id": "4be03384-6df7-4758-8b00-7e5bacef4c36",
   "metadata": {},
   "outputs": [
    {
     "data": {
      "text/plain": [
       "array([  4,   3,   4,   5,   6,  72,   3,   3, 455,   5,   6,   6])"
      ]
     },
     "execution_count": 4,
     "metadata": {},
     "output_type": "execute_result"
    }
   ],
   "source": [
    "arr"
   ]
  },
  {
   "cell_type": "code",
   "execution_count": 5,
   "id": "ef206caf-03cb-4a91-b594-e53e0dd3ba2b",
   "metadata": {},
   "outputs": [
    {
     "data": {
      "text/plain": [
       "array([  3,   3,   3,   4,   4,   5,   5,   6,   6,   6,  72, 455])"
      ]
     },
     "execution_count": 5,
     "metadata": {},
     "output_type": "execute_result"
    }
   ],
   "source": [
    "np.sort(arr)"
   ]
  },
  {
   "cell_type": "code",
   "execution_count": 42,
   "id": "5bc21907-d6ea-41dc-b588-c6e6c3abd426",
   "metadata": {},
   "outputs": [
    {
     "data": {
      "text/plain": [
       "8"
      ]
     },
     "execution_count": 42,
     "metadata": {},
     "output_type": "execute_result"
    }
   ],
   "source": [
    "np.searchsorted(arr,5)"
   ]
  },
  {
   "cell_type": "code",
   "execution_count": 7,
   "id": "9b5c10fd-6561-4e69-8b5f-95fecb5fb27f",
   "metadata": {},
   "outputs": [],
   "source": [
    "arr1 = np.array([0,0,24,2412,21,0,0,0,124,0,412])"
   ]
  },
  {
   "cell_type": "code",
   "execution_count": 8,
   "id": "9ec287b8-6281-4e2c-8ffd-ae5056d3f429",
   "metadata": {},
   "outputs": [
    {
     "data": {
      "text/plain": [
       "array([   0,    0,   24, 2412,   21,    0,    0,    0,  124,    0,  412])"
      ]
     },
     "execution_count": 8,
     "metadata": {},
     "output_type": "execute_result"
    }
   ],
   "source": [
    "arr1"
   ]
  },
  {
   "cell_type": "code",
   "execution_count": 9,
   "id": "bf8c66b2-4cd7-4dd2-8719-a1e392ed5a15",
   "metadata": {},
   "outputs": [
    {
     "data": {
      "text/plain": [
       "5"
      ]
     },
     "execution_count": 9,
     "metadata": {},
     "output_type": "execute_result"
    }
   ],
   "source": [
    "np.count_nonzero(arr1)"
   ]
  },
  {
   "cell_type": "code",
   "execution_count": 10,
   "id": "cfea449b-7cfa-42c4-85ff-605cbc06ad42",
   "metadata": {},
   "outputs": [
    {
     "data": {
      "text/plain": [
       "array([  4,   3,   4,   5,   6,  72,   3,   3, 455,   5,   6,   6])"
      ]
     },
     "execution_count": 10,
     "metadata": {},
     "output_type": "execute_result"
    }
   ],
   "source": [
    "arr\n"
   ]
  },
  {
   "cell_type": "code",
   "execution_count": 11,
   "id": "181735ac-b09a-4351-be9d-d5345cd8b6c4",
   "metadata": {},
   "outputs": [
    {
     "data": {
      "text/plain": [
       "(array([ 4,  5,  8, 10, 11]),)"
      ]
     },
     "execution_count": 11,
     "metadata": {},
     "output_type": "execute_result"
    }
   ],
   "source": [
    "np.where(arr > 5)"
   ]
  },
  {
   "cell_type": "code",
   "execution_count": 12,
   "id": "b2bffd96-6471-4004-9e79-5868a7e93827",
   "metadata": {},
   "outputs": [
    {
     "data": {
      "text/plain": [
       "array([  6,  72, 455,   6,   6])"
      ]
     },
     "execution_count": 12,
     "metadata": {},
     "output_type": "execute_result"
    }
   ],
   "source": [
    "np.extract( arr > 5 , arr)"
   ]
  },
  {
   "cell_type": "code",
   "execution_count": 13,
   "id": "66dc07fe-0305-4893-993d-2c178823a827",
   "metadata": {},
   "outputs": [],
   "source": [
    "#Numpy - Byte Swapping."
   ]
  },
  {
   "cell_type": "code",
   "execution_count": 14,
   "id": "589b66a4-3fff-4268-a28c-df75e8aa0da2",
   "metadata": {},
   "outputs": [
    {
     "data": {
      "text/plain": [
       "array([  4,   3,   4,   5,   6,  72,   3,   3, 455,   5,   6,   6])"
      ]
     },
     "execution_count": 14,
     "metadata": {},
     "output_type": "execute_result"
    }
   ],
   "source": [
    "arr"
   ]
  },
  {
   "cell_type": "code",
   "execution_count": 15,
   "id": "3eed85c5-e9e0-4e7c-a86a-b871ebc7eab0",
   "metadata": {},
   "outputs": [
    {
     "data": {
      "text/plain": [
       "array([  288230376151711744,   216172782113783808,   288230376151711744,\n",
       "         360287970189639680,   432345564227567616,  5188146770730811392,\n",
       "         216172782113783808,   216172782113783808, -4107001385185181696,\n",
       "         360287970189639680,   432345564227567616,   432345564227567616])"
      ]
     },
     "execution_count": 15,
     "metadata": {},
     "output_type": "execute_result"
    }
   ],
   "source": [
    "arr.byteswap()"
   ]
  },
  {
   "cell_type": "code",
   "execution_count": 16,
   "id": "43374e51-8fee-4edf-8517-d1c13a602947",
   "metadata": {},
   "outputs": [],
   "source": [
    "#Numpy - Copies &Views."
   ]
  },
  {
   "cell_type": "code",
   "execution_count": 17,
   "id": "731f5f30-b8e8-4aae-b4de-27d898ca45f0",
   "metadata": {},
   "outputs": [
    {
     "data": {
      "text/plain": [
       "array([  4,   3,   4,   5,   6,  72,   3,   3, 455,   5,   6,   6])"
      ]
     },
     "execution_count": 17,
     "metadata": {},
     "output_type": "execute_result"
    }
   ],
   "source": [
    "arr"
   ]
  },
  {
   "cell_type": "code",
   "execution_count": 18,
   "id": "3f6cd09e-b7de-433a-a882-cc3545119989",
   "metadata": {},
   "outputs": [],
   "source": [
    "a = np.copy(arr)"
   ]
  },
  {
   "cell_type": "code",
   "execution_count": 19,
   "id": "22ffaf1e-6142-4cbc-b8a9-49a5700825be",
   "metadata": {},
   "outputs": [
    {
     "data": {
      "text/plain": [
       "array([  4,   3,   4,   5,   6,  72,   3,   3, 455,   5,   6,   6])"
      ]
     },
     "execution_count": 19,
     "metadata": {},
     "output_type": "execute_result"
    }
   ],
   "source": [
    "a"
   ]
  },
  {
   "cell_type": "code",
   "execution_count": 20,
   "id": "424251e8-8660-4c1a-919b-e65c24cf87df",
   "metadata": {},
   "outputs": [],
   "source": [
    "a[0] = 100"
   ]
  },
  {
   "cell_type": "code",
   "execution_count": 21,
   "id": "56f003a7-ec25-4502-afb5-80a8228d254e",
   "metadata": {},
   "outputs": [
    {
     "data": {
      "text/plain": [
       "array([100,   3,   4,   5,   6,  72,   3,   3, 455,   5,   6,   6])"
      ]
     },
     "execution_count": 21,
     "metadata": {},
     "output_type": "execute_result"
    }
   ],
   "source": [
    "a"
   ]
  },
  {
   "cell_type": "code",
   "execution_count": 22,
   "id": "46255cdb-6a48-4685-a3e0-56be3b469d94",
   "metadata": {},
   "outputs": [
    {
     "data": {
      "text/plain": [
       "array([  4,   3,   4,   5,   6,  72,   3,   3, 455,   5,   6,   6])"
      ]
     },
     "execution_count": 22,
     "metadata": {},
     "output_type": "execute_result"
    }
   ],
   "source": [
    "arr"
   ]
  },
  {
   "cell_type": "code",
   "execution_count": 23,
   "id": "c1daa6d7-dcbc-45d7-b711-f5eabb3c6d0e",
   "metadata": {},
   "outputs": [],
   "source": [
    "b = arr.view()"
   ]
  },
  {
   "cell_type": "code",
   "execution_count": 24,
   "id": "02307d48-89f9-4674-bedc-1647106bd34b",
   "metadata": {},
   "outputs": [
    {
     "data": {
      "text/plain": [
       "array([  4,   3,   4,   5,   6,  72,   3,   3, 455,   5,   6,   6])"
      ]
     },
     "execution_count": 24,
     "metadata": {},
     "output_type": "execute_result"
    }
   ],
   "source": [
    "b"
   ]
  },
  {
   "cell_type": "code",
   "execution_count": 25,
   "id": "452ce4c9-2e76-4147-ab65-838e6279fe72",
   "metadata": {},
   "outputs": [
    {
     "data": {
      "text/plain": [
       "array([  4,   3,   4,   5,   6,  72,   3,   3, 455,   5,   6,   6])"
      ]
     },
     "execution_count": 25,
     "metadata": {},
     "output_type": "execute_result"
    }
   ],
   "source": [
    "arr"
   ]
  },
  {
   "cell_type": "code",
   "execution_count": 26,
   "id": "a8db3ac9-ff55-4589-8f5b-6631a856a5ca",
   "metadata": {},
   "outputs": [],
   "source": [
    "b[2] = 200"
   ]
  },
  {
   "cell_type": "code",
   "execution_count": 27,
   "id": "1a627180-98d0-4c98-baef-d54c59cc6389",
   "metadata": {},
   "outputs": [
    {
     "data": {
      "text/plain": [
       "array([  4,   3, 200,   5,   6,  72,   3,   3, 455,   5,   6,   6])"
      ]
     },
     "execution_count": 27,
     "metadata": {},
     "output_type": "execute_result"
    }
   ],
   "source": [
    "b"
   ]
  },
  {
   "cell_type": "code",
   "execution_count": 28,
   "id": "1ea61b55-920d-4149-850b-a338fbc9cb9c",
   "metadata": {},
   "outputs": [
    {
     "data": {
      "text/plain": [
       "array([  4,   3, 200,   5,   6,  72,   3,   3, 455,   5,   6,   6])"
      ]
     },
     "execution_count": 28,
     "metadata": {},
     "output_type": "execute_result"
    }
   ],
   "source": [
    "arr"
   ]
  },
  {
   "cell_type": "code",
   "execution_count": 29,
   "id": "48896f93-8be9-40ac-ba69-356d5a16cfd3",
   "metadata": {},
   "outputs": [],
   "source": [
    "#Numpy - Matrix Library."
   ]
  },
  {
   "cell_type": "code",
   "execution_count": 30,
   "id": "66866c2a-d5fb-4d1a-be31-1c8789264d61",
   "metadata": {},
   "outputs": [],
   "source": [
    "import numpy.matlib as nm"
   ]
  },
  {
   "cell_type": "code",
   "execution_count": 31,
   "id": "fdf06d3d-c41a-48ab-a515-9f2a9ebd0844",
   "metadata": {},
   "outputs": [
    {
     "data": {
      "text/plain": [
       "matrix([[0., 0., 0.]])"
      ]
     },
     "execution_count": 31,
     "metadata": {},
     "output_type": "execute_result"
    }
   ],
   "source": [
    "nm.zeros(3)"
   ]
  },
  {
   "cell_type": "code",
   "execution_count": 32,
   "id": "bcece993-43d6-4843-88ef-628233827321",
   "metadata": {},
   "outputs": [
    {
     "data": {
      "text/plain": [
       "matrix([[1., 1., 1.],\n",
       "        [1., 1., 1.],\n",
       "        [1., 1., 1.],\n",
       "        [1., 1., 1.]])"
      ]
     },
     "execution_count": 32,
     "metadata": {},
     "output_type": "execute_result"
    }
   ],
   "source": [
    "nm.ones((4,3))"
   ]
  },
  {
   "cell_type": "code",
   "execution_count": 33,
   "id": "ee8a81db-9876-40db-b994-d3585144166f",
   "metadata": {},
   "outputs": [
    {
     "data": {
      "text/plain": [
       "matrix([[1., 0., 0.],\n",
       "        [0., 1., 0.],\n",
       "        [0., 0., 1.]])"
      ]
     },
     "execution_count": 33,
     "metadata": {},
     "output_type": "execute_result"
    }
   ],
   "source": [
    "nm.eye(3,3) "
   ]
  },
  {
   "cell_type": "code",
   "execution_count": 34,
   "id": "2925a033-c426-4a2f-a835-f41b29579b76",
   "metadata": {},
   "outputs": [],
   "source": [
    "#Numpy - Linear Algebra"
   ]
  },
  {
   "cell_type": "code",
   "execution_count": 35,
   "id": "6c29a79f-eda9-4b83-9391-ba8ec0a6be31",
   "metadata": {},
   "outputs": [],
   "source": [
    "arr1 = np.random.randint(1,10, (5,5))"
   ]
  },
  {
   "cell_type": "code",
   "execution_count": 36,
   "id": "6a8a85b1-68d9-486e-acd9-3c161e9fed88",
   "metadata": {},
   "outputs": [],
   "source": [
    "arr2 = np.random.randint(1,10, (5,5))"
   ]
  },
  {
   "cell_type": "code",
   "execution_count": 37,
   "id": "e55fe4cf-f018-4c06-a0f3-182f205c5245",
   "metadata": {},
   "outputs": [
    {
     "data": {
      "text/plain": [
       "(array([[9, 3, 4, 4, 7],\n",
       "        [9, 1, 9, 2, 6],\n",
       "        [1, 6, 3, 9, 1],\n",
       "        [8, 3, 5, 9, 4],\n",
       "        [1, 5, 5, 1, 3]]),\n",
       " array([[4, 4, 7, 5, 5],\n",
       "        [7, 8, 5, 2, 5],\n",
       "        [7, 5, 5, 5, 9],\n",
       "        [1, 9, 2, 6, 6],\n",
       "        [7, 5, 8, 7, 7]]))"
      ]
     },
     "execution_count": 37,
     "metadata": {},
     "output_type": "execute_result"
    }
   ],
   "source": [
    "arr1,arr2"
   ]
  },
  {
   "cell_type": "code",
   "execution_count": 38,
   "id": "53cfdfb8-17f1-4f2a-a8a4-0e79b7c16473",
   "metadata": {},
   "outputs": [
    {
     "data": {
      "text/plain": [
       "array([[138, 151, 162, 144, 169],\n",
       "       [150, 137, 165, 146, 185],\n",
       "       [ 83, 153,  78,  93, 123],\n",
       "       [125, 182, 146, 153, 182],\n",
       "       [ 96,  93,  83,  67, 102]])"
      ]
     },
     "execution_count": 38,
     "metadata": {},
     "output_type": "execute_result"
    }
   ],
   "source": [
    "arr1@arr2"
   ]
  },
  {
   "cell_type": "code",
   "execution_count": 39,
   "id": "56e7f9e1-2845-4968-ae9d-e2d48a9dc82f",
   "metadata": {},
   "outputs": [
    {
     "data": {
      "text/plain": [
       "array([[138, 151, 162, 144, 169],\n",
       "       [150, 137, 165, 146, 185],\n",
       "       [ 83, 153,  78,  93, 123],\n",
       "       [125, 182, 146, 153, 182],\n",
       "       [ 96,  93,  83,  67, 102]])"
      ]
     },
     "execution_count": 39,
     "metadata": {},
     "output_type": "execute_result"
    }
   ],
   "source": [
    "np.dot(arr1,arr2)"
   ]
  },
  {
   "cell_type": "code",
   "execution_count": null,
   "id": "8f953bd4-1b65-4f83-837d-fbd43bd5d28d",
   "metadata": {},
   "outputs": [],
   "source": []
  }
 ],
 "metadata": {
  "kernelspec": {
   "display_name": "Python 3 (ipykernel)",
   "language": "python",
   "name": "python3"
  },
  "language_info": {
   "codemirror_mode": {
    "name": "ipython",
    "version": 3
   },
   "file_extension": ".py",
   "mimetype": "text/x-python",
   "name": "python",
   "nbconvert_exporter": "python",
   "pygments_lexer": "ipython3",
   "version": "3.10.8"
  }
 },
 "nbformat": 4,
 "nbformat_minor": 5
}
